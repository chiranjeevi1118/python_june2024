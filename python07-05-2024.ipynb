{
 "cells": [
  {
   "cell_type": "markdown",
   "id": "b306b398-bfbc-4d3e-a2b2-4b75c669b5ff",
   "metadata": {},
   "source": [
    "## loops"
   ]
  },
  {
   "cell_type": "code",
   "execution_count": null,
   "id": "bad6c7c2-569d-44a6-afaa-cf1e70ff8a4a",
   "metadata": {},
   "outputs": [],
   "source": []
  },
  {
   "cell_type": "markdown",
   "id": "3b91957b-40b8-4c8e-bc31-9df6f8749892",
   "metadata": {},
   "source": [
    "- iterate a piece of code until the condition satisfy\n",
    "- we can run a code normally\n",
    "- we can run a code by using function wrapper(functions)\n",
    "- we can run a code multiple times(loops)\n",
    "- we can run a code by using condition(conditions)"
   ]
  },
  {
   "cell_type": "code",
   "execution_count": 1,
   "id": "3b473609-4c00-422b-a156-5617899ece1a",
   "metadata": {},
   "outputs": [
    {
     "name": "stdout",
     "output_type": "stream",
     "text": [
      "30\n"
     ]
    }
   ],
   "source": [
    "a=10\n",
    "b=20\n",
    "c=a+b\n",
    "print(c)"
   ]
  },
  {
   "cell_type": "markdown",
   "id": "610a8cae-6ba9-4e6a-bca5-5ce92a8fba4e",
   "metadata": {},
   "source": [
    "- for loop\n",
    "- while loop\n",
    "- any loop\n",
    "    - initial point to start the loop\n",
    "    - increment or decrement\n",
    "    - condition to stop the loop"
   ]
  },
  {
   "cell_type": "markdown",
   "id": "c53e81cc-4e2f-4561-8a34-ad8bf6bea84c",
   "metadata": {},
   "source": [
    "### for loop\n",
    "- pattern1"
   ]
  },
  {
   "cell_type": "markdown",
   "id": "a588fef8-354a-45a9-b9c7-37589375bd6e",
   "metadata": {},
   "source": [
    "**range(stop)**"
   ]
  },
  {
   "cell_type": "code",
   "execution_count": null,
   "id": "f83fbb4c-f885-4699-aa4a-3c67e989c66c",
   "metadata": {},
   "outputs": [],
   "source": [
    "#synatx\n",
    "for i in range(<value>):\n",
    "    #start write your code"
   ]
  },
  {
   "cell_type": "markdown",
   "id": "9fe6ae45-6635-4dd1-b8ba-6b0f0ef8d04b",
   "metadata": {},
   "source": [
    "- when ever you see the word range it belongs to math family\n",
    "- inside range we need to provide one value ex:range(3)\n",
    "- if you provide only one value\n",
    "    - start value-0\n",
    "    - increment +1\n",
    "    - last=stop-1\n",
    "- range(3)\n",
    "    - start value=0\n",
    "    - increment = +1\n",
    "    - last=3-1=2\n",
    "    - answers are : 0,1,2\n",
    "- **note**:in python the index always start with zero"
   ]
  },
  {
   "cell_type": "code",
   "execution_count": 4,
   "id": "95444d96-891c-4ac0-8e1a-13e5aafd4aa5",
   "metadata": {},
   "outputs": [
    {
     "name": "stdout",
     "output_type": "stream",
     "text": [
      "0\n",
      "1\n",
      "2\n"
     ]
    }
   ],
   "source": [
    "for i in range(3):\n",
    "    print(i)"
   ]
  },
  {
   "cell_type": "code",
   "execution_count": 6,
   "id": "290a2eb4-2713-4710-b5b7-3116b03f1a7d",
   "metadata": {},
   "outputs": [
    {
     "name": "stdout",
     "output_type": "stream",
     "text": [
      "hlo\n",
      "hlo\n",
      "hlo\n",
      "hlo\n",
      "hlo\n"
     ]
    }
   ],
   "source": [
    "# print hello 5 times\n",
    "for i in range(5):\n",
    "    print(\"hlo\")"
   ]
  },
  {
   "cell_type": "code",
   "execution_count": 7,
   "id": "f55d6c55-7a2b-4af3-a3da-4e3a91410904",
   "metadata": {},
   "outputs": [
    {
     "name": "stdout",
     "output_type": "stream",
     "text": [
      "odd no :  61\n",
      "odd no :  9\n",
      "even no :  86\n"
     ]
    }
   ],
   "source": [
    "# for example\n",
    "#take a random number between 1 to 100\n",
    "# peint even or odd\n",
    "# you need to generate three random numbers\n",
    "import random\n",
    "for i in range(3):\n",
    "    n=random.randint(1,100)\n",
    "    if n%2==0:\n",
    "        print(\"even no : \",n)\n",
    "    else:\n",
    "        print(\"odd no : \",n)"
   ]
  },
  {
   "cell_type": "code",
   "execution_count": 10,
   "id": "d942a8db-119c-4ef6-8ffb-95f4f6b181aa",
   "metadata": {},
   "outputs": [
    {
     "name": "stdout",
     "output_type": "stream",
     "text": [
      "0 1 2 3 4 5 6 7 8 9 "
     ]
    }
   ],
   "source": [
    "for i in range(10):\n",
    "    print(i,end=' ')"
   ]
  },
  {
   "cell_type": "markdown",
   "id": "569e4e74-e169-4451-acd8-2c9fcacc72ba",
   "metadata": {},
   "source": [
    "### pattern2\n",
    "**range(start,stop)**\n",
    "- range(10,20)\n",
    "    - start value =10\n",
    "    - increment =1\n",
    "    - last=stop-1=20-1 =19"
   ]
  },
  {
   "cell_type": "code",
   "execution_count": 11,
   "id": "94937ebf-d682-4fb3-83b5-18d32470bcdd",
   "metadata": {},
   "outputs": [
    {
     "name": "stdout",
     "output_type": "stream",
     "text": [
      "10\n",
      "11\n",
      "12\n",
      "13\n",
      "14\n",
      "15\n",
      "16\n",
      "17\n",
      "18\n",
      "19\n"
     ]
    }
   ],
   "source": [
    "for i in range(10,20):\n",
    "    print(i)"
   ]
  },
  {
   "cell_type": "code",
   "execution_count": 13,
   "id": "1f45ed17-e477-4a00-a25f-188a18a710b9",
   "metadata": {},
   "outputs": [
    {
     "name": "stdout",
     "output_type": "stream",
     "text": [
      "square of this number:  20 400\n",
      "square of this number:  21 441\n",
      "square of this number:  22 484\n",
      "square of this number:  23 529\n",
      "square of this number:  24 576\n",
      "square of this number:  25 625\n"
     ]
    }
   ],
   "source": [
    "# wap ask the user print the square of the no's between 20 to 25\n",
    "for i in range(20,26):\n",
    "    print(\"square of this number: \",i,end=' ')\n",
    "    print(i*i)"
   ]
  },
  {
   "cell_type": "code",
   "execution_count": 14,
   "id": "27d39c94-110e-4870-85fb-7e8e0f9c0035",
   "metadata": {},
   "outputs": [
    {
     "name": "stdout",
     "output_type": "stream",
     "text": [
      "10 even\n",
      "11 odd\n",
      "12 even\n",
      "13 odd\n",
      "14 even\n",
      "15 odd\n",
      "16 even\n",
      "17 odd\n",
      "18 even\n",
      "19 odd\n",
      "20 even\n"
     ]
    }
   ],
   "source": [
    "# wap ask the user to print the number is even or odd between 10 to 20\n",
    "for i in range(10,21):\n",
    "    if i%2==0:\n",
    "        print(i,\"even\")\n",
    "    else:\n",
    "        print(i,\"odd\")"
   ]
  },
  {
   "cell_type": "markdown",
   "id": "087e3701-d0ac-46a2-9c8c-f0e45553eb17",
   "metadata": {},
   "source": [
    "### pattern 3\n",
    "**range(start,stop,step)**\n",
    "- start value=start value\n",
    "- step value\n",
    "    - positive step value\n",
    "       - if step value is positive then increment\n",
    "       - last=stop-1\n",
    "     - negative stop value\n",
    "       - if step value is negative : decrement\n",
    "       - last=stop+1"
   ]
  },
  {
   "cell_type": "code",
   "execution_count": 15,
   "id": "1d3bf24c-41c1-4501-b32d-b2b458ebff84",
   "metadata": {},
   "outputs": [
    {
     "name": "stdout",
     "output_type": "stream",
     "text": [
      "2\n",
      "4\n",
      "6\n",
      "8\n",
      "10\n",
      "12\n",
      "14\n",
      "16\n",
      "18\n"
     ]
    }
   ],
   "source": [
    "# case-1:\n",
    "for i in range(2,20,2):\n",
    "    print(i)\n",
    "#start=2\n",
    "#step= +ve 2 \n",
    "# last=stop -1 =19 ans=2,4,6,8,10,12,14,16,18"
   ]
  },
  {
   "cell_type": "code",
   "execution_count": 16,
   "id": "7ab2d9b2-7f13-4f4b-84e4-e195913b3db2",
   "metadata": {},
   "outputs": [],
   "source": [
    "#case -2:\n",
    "for i in range(2,20,-2):\n",
    "    print(i)"
   ]
  },
  {
   "cell_type": "code",
   "execution_count": 17,
   "id": "de61d20f-6ff2-42d8-a219-9a4d07413412",
   "metadata": {},
   "outputs": [
    {
     "name": "stdout",
     "output_type": "stream",
     "text": [
      "20\n",
      "18\n",
      "16\n",
      "14\n",
      "12\n",
      "10\n",
      "8\n",
      "6\n",
      "4\n"
     ]
    }
   ],
   "source": [
    "#case-3:\n",
    "for i in range(20,2,-2):\n",
    "    print(i)"
   ]
  },
  {
   "cell_type": "code",
   "execution_count": 18,
   "id": "8c9e3599-cc0e-4b10-92da-7535ef933f47",
   "metadata": {},
   "outputs": [],
   "source": [
    "#case-4:\n",
    "for i in range(-20,2,-2):\n",
    "    print(i)"
   ]
  },
  {
   "cell_type": "code",
   "execution_count": 1,
   "id": "37156366-fd02-4435-9353-91f0969c281a",
   "metadata": {},
   "outputs": [
    {
     "name": "stdin",
     "output_type": "stream",
     "text": [
      "enter number:  3\n"
     ]
    },
    {
     "name": "stdout",
     "output_type": "stream",
     "text": [
      "the square of given number is :  9\n"
     ]
    },
    {
     "name": "stdin",
     "output_type": "stream",
     "text": [
      "enter number:  4\n"
     ]
    },
    {
     "name": "stdout",
     "output_type": "stream",
     "text": [
      "the square of given number is :  16\n"
     ]
    },
    {
     "name": "stdin",
     "output_type": "stream",
     "text": [
      "enter number:  5\n"
     ]
    },
    {
     "name": "stdout",
     "output_type": "stream",
     "text": [
      "the square of given number is :  25\n"
     ]
    }
   ],
   "source": [
    "# wap ask the user enter a no 3 times find the square of the no\n",
    "for i in range(0,3,1):\n",
    "    n=eval(input(\"enter number: \"))\n",
    "    print(\"the square of given number is : \",n*n)"
   ]
  },
  {
   "cell_type": "code",
   "execution_count": 7,
   "id": "550057fe-0c0e-445e-865d-438daf6f7ffb",
   "metadata": {},
   "outputs": [
    {
     "name": "stdin",
     "output_type": "stream",
     "text": [
      "enter a number:  15\n"
     ]
    },
    {
     "name": "stdout",
     "output_type": "stream",
     "text": [
      "15 x 1 =15\n",
      "15 x 2 =30\n",
      "15 x 3 =45\n",
      "15 x 4 =60\n",
      "15 x 5 =75\n",
      "15 x 6 =90\n",
      "15 x 7 =105\n",
      "15 x 8 =120\n",
      "15 x 9 =135\n",
      "15 x 10 =150\n"
     ]
    }
   ],
   "source": [
    "#print the 14 table \n",
    "#14*1=14\n",
    "n=eval(input(\"enter a number: \"))\n",
    "for i in range(1,11,1):\n",
    "    print(f\"{n} x {i } ={n*i}\")"
   ]
  },
  {
   "cell_type": "code",
   "execution_count": 11,
   "id": "41a12558-9485-40c3-b076-02f5dd0b8c84",
   "metadata": {},
   "outputs": [
    {
     "name": "stdin",
     "output_type": "stream",
     "text": [
      "enter number:  15\n"
     ]
    },
    {
     "name": "stdout",
     "output_type": "stream",
     "text": [
      "the factors of  15\n",
      "1 3 5 15 "
     ]
    }
   ],
   "source": [
    "#find the factors  of a number\n",
    "#step-1:iterate the loop= which numbers factor you want\n",
    "# step-2:apply the if condition\n",
    "#step-3: cond= divide the number with each i\n",
    "n=eval(input(\"enter number: \"))\n",
    "print(\"the factors of \",n)\n",
    "for i in range(1,n+1,1):\n",
    "    if n%i==0:\n",
    "        print(i,end=' ')\n",
    "        "
   ]
  },
  {
   "cell_type": "code",
   "execution_count": 13,
   "id": "d6ee8a0d-17f5-4b15-b6d7-558cd7178244",
   "metadata": {},
   "outputs": [
    {
     "name": "stdin",
     "output_type": "stream",
     "text": [
      "enter a number:  10\n"
     ]
    },
    {
     "name": "stdout",
     "output_type": "stream",
     "text": [
      "55.0\n"
     ]
    }
   ],
   "source": [
    "#write the sum of first ten natural num's\n",
    "n=eval(input(\"enter a number: \"))\n",
    "s=(n*(n+1))/2\n",
    "print(s)"
   ]
  },
  {
   "cell_type": "markdown",
   "id": "d2923c6b-211c-4df8-98b9-5b5091563bce",
   "metadata": {},
   "source": [
    "**summation wrapper**\n",
    "- intially we need to keep summ=0\n",
    "- make sure that do not provide **sum**\n",
    "- because sum is a keyword\n",
    "- inside for loop : sum=sum+1\n"
   ]
  },
  {
   "cell_type": "code",
   "execution_count": 16,
   "id": "e6fc3b88-fae5-4cb9-8089-5c83367c2227",
   "metadata": {},
   "outputs": [
    {
     "name": "stdin",
     "output_type": "stream",
     "text": [
      "enter number :  10\n"
     ]
    },
    {
     "name": "stdout",
     "output_type": "stream",
     "text": [
      "0+1=1\n",
      "1+2=3\n",
      "3+3=6\n",
      "6+4=10\n",
      "10+5=15\n",
      "15+6=21\n",
      "21+7=28\n",
      "28+8=36\n",
      "36+9=45\n",
      "45+10=55\n",
      "the sum of all given number is :  55\n"
     ]
    }
   ],
   "source": [
    "n=eval(input(\"enter number : \"))\n",
    "s=0\n",
    "for i in range(1,n+1):\n",
    "    print(f\"{s}+{i}={s+i}\")\n",
    "    s=s+i\n",
    "print(\"the sum of all given number is : \",s)"
   ]
  },
  {
   "cell_type": "code",
   "execution_count": 17,
   "id": "d899e086-f612-4378-9db8-c63af1d86bce",
   "metadata": {},
   "outputs": [
    {
     "name": "stdin",
     "output_type": "stream",
     "text": [
      "enter number :  10\n"
     ]
    },
    {
     "name": "stdout",
     "output_type": "stream",
     "text": [
      "0+1=1\n",
      "1+2=3\n",
      "3+3=6\n",
      "6+4=10\n",
      "10+5=15\n",
      "15+6=21\n",
      "21+7=28\n",
      "28+8=36\n",
      "36+9=45\n",
      "45+10=55\n",
      "the sum of all given number is :  55\n"
     ]
    }
   ],
   "source": [
    "n=eval(input(\"enter number : \"))\n",
    "s=0\n",
    "for i in range(1,n+1):\n",
    "    val=s\n",
    "    s=s+i\n",
    "    print(f\"{val}+{i}={s}\")\n",
    "print(\"the sum of all given number is : \",s)"
   ]
  },
  {
   "cell_type": "markdown",
   "id": "a18d69c6-7311-4551-b222-3d9e342f0f4c",
   "metadata": {},
   "source": [
    "**note**\n",
    "- if we print answer from out of for lopp,last answer will print"
   ]
  },
  {
   "cell_type": "markdown",
   "id": "f240fe83-61b7-48bb-b82d-17649f011379",
   "metadata": {},
   "source": [
    "**counter program**"
   ]
  },
  {
   "cell_type": "code",
   "execution_count": 19,
   "id": "87bcc4c2-0d03-4601-b677-53ea2cf60e7b",
   "metadata": {},
   "outputs": [
    {
     "name": "stdin",
     "output_type": "stream",
     "text": [
      "enter number :  10\n"
     ]
    },
    {
     "name": "stdout",
     "output_type": "stream",
     "text": [
      "the average is :  5.5\n"
     ]
    }
   ],
   "source": [
    "#average of first ten numbers\n",
    "n=eval(input(\"enter number : \"))\n",
    "s=0\n",
    "for i in range(1,n+1,1):\n",
    "    s=s+i\n",
    "avg=s/n\n",
    "print(\"the average is : \",avg)"
   ]
  },
  {
   "cell_type": "markdown",
   "id": "8cf8e062-62a7-4d81-bf6e-3d5f78283fba",
   "metadata": {},
   "source": [
    "**counter wrapper**\n",
    "- before the loop initilaise the count=0\n",
    "- under for loop count=count+1\n",
    "- counter always increase by 1 only"
   ]
  },
  {
   "cell_type": "code",
   "execution_count": 20,
   "id": "fcfa5e43-7bbe-486a-ba20-e2ef417eb3c7",
   "metadata": {},
   "outputs": [
    {
     "name": "stdin",
     "output_type": "stream",
     "text": [
      "enter number :  75\n"
     ]
    },
    {
     "name": "stdout",
     "output_type": "stream",
     "text": [
      "the total factors of given 75 is 6\n"
     ]
    }
   ],
   "source": [
    "# find the number of divisors\n",
    "n=eval(input(\"enter number : \"))\n",
    "s=0\n",
    "for i in range(1,n+1,1):\n",
    "    if n%i==0:\n",
    "        s=s+1\n",
    "print(f\"the total factors of given {n} is {s}\")"
   ]
  },
  {
   "cell_type": "code",
   "execution_count": 29,
   "id": "b37cb244-4891-45d5-833e-1225cdc92fd8",
   "metadata": {},
   "outputs": [
    {
     "name": "stdin",
     "output_type": "stream",
     "text": [
      "enter a number :  12\n"
     ]
    },
    {
     "name": "stdout",
     "output_type": "stream",
     "text": [
      "won\n"
     ]
    }
   ],
   "source": [
    "#enter the user get a random number between 1 to 10 :num1\n",
    "#ask the user enter a number : num2\n",
    "#if num1 ==num2 then print won\n",
    "#else print fail\n",
    "import random\n",
    "for i in range(3):\n",
    "    ra=random.randint(1,20)\n",
    "    n=eval(input(\"enter a number : \"))\n",
    "    if ra==n:\n",
    "        print(\"won\")\n",
    "        break\n",
    "    else:\n",
    "        print(\"lose\")"
   ]
  },
  {
   "cell_type": "code",
   "execution_count": null,
   "id": "40be1ffb-f1da-40d6-83f4-32160c7662ba",
   "metadata": {},
   "outputs": [],
   "source": [
    "#suppose i want to give 4 chances\n",
    "#every time you fail i want to display no of chances left\n",
    "#if all the chances you are used\n",
    "#   try again after 24 hours\n",
    "#if you are win\n",
    "import random\n",
    "for i in range(3):\n",
    "    ra=random.randint(1,20)\n",
    "    n=eval(input(\"enter a number : \"))\n",
    "    if ra==n:\n",
    "        print(\"won\")\n",
    "        break\n",
    "    else:\n",
    "        print(\"lose\")"
   ]
  },
  {
   "cell_type": "code",
   "execution_count": 5,
   "id": "0c7277c3-f4d4-44e8-b2ac-a3710a4ab4ca",
   "metadata": {},
   "outputs": [
    {
     "name": "stdout",
     "output_type": "stream",
     "text": [
      "total even no's are :  3\n",
      "total odd no's are :  2\n",
      "even sum:  110\n",
      "odd sum :  142\n"
     ]
    }
   ],
   "source": [
    "import random\n",
    "e,o=0,0\n",
    "es,os=0,0\n",
    "for i in range(5):\n",
    "    n=random.randint(1,100)\n",
    "    if n%2==0:\n",
    "        e+=1\n",
    "        es+=n\n",
    "    else:\n",
    "        o+=1\n",
    "        os+=n\n",
    "print(\"total even no's are : \",e)\n",
    "print(\"total odd no's are : \",o)\n",
    "print(\"even sum: \",es)\n",
    "print(\"odd sum : \",os)"
   ]
  },
  {
   "cell_type": "code",
   "execution_count": 7,
   "id": "149fdb7d-1468-40ad-a1e3-73e4583346fc",
   "metadata": {},
   "outputs": [
    {
     "name": "stdout",
     "output_type": "stream",
     "text": [
      "the even no :  2\n",
      "odd no :  2\n",
      "even sum :  74\n",
      "odd sum:  135\n"
     ]
    }
   ],
   "source": [
    "import random\n",
    "def sum():\n",
    "    e,o=0,0\n",
    "    es,os=0,0\n",
    "    for i in range(5):\n",
    "        n=random.randint(1,100)\n",
    "        if n%2==0:\n",
    "            e+=1\n",
    "            es+=n\n",
    "        else:\n",
    "            o+=1\n",
    "            os+=n\n",
    "    return e,o,es,os\n",
    "a,b,c,d=sum()\n",
    "print(\"the even no : \",a)\n",
    "print(\"odd no : \",o)\n",
    "print(\"even sum : \",c)\n",
    "print(\"odd sum: \",d)"
   ]
  },
  {
   "cell_type": "markdown",
   "id": "28cc722c-d273-4c4b-a0db-6f237a6bb9ac",
   "metadata": {},
   "source": [
    "**in operator**"
   ]
  },
  {
   "cell_type": "code",
   "execution_count": 9,
   "id": "e627d7af-d79c-447a-b0e1-b5dee2682253",
   "metadata": {},
   "outputs": [
    {
     "name": "stdout",
     "output_type": "stream",
     "text": [
      "p\n",
      "y\n",
      "t\n",
      "h\n",
      "o\n",
      "n\n"
     ]
    }
   ],
   "source": [
    "s1='python'\n",
    "for i in s1:\n",
    "    print(i)"
   ]
  },
  {
   "cell_type": "code",
   "execution_count": 10,
   "id": "83f42962-9a4b-41e7-8557-0fa5b8a527ad",
   "metadata": {},
   "outputs": [
    {
     "data": {
      "text/plain": [
       "True"
      ]
     },
     "execution_count": 10,
     "metadata": {},
     "output_type": "execute_result"
    }
   ],
   "source": [
    "'p' in s1"
   ]
  },
  {
   "cell_type": "code",
   "execution_count": 11,
   "id": "37ecf3a0-269c-40bb-ac93-8a2df67821bf",
   "metadata": {},
   "outputs": [
    {
     "data": {
      "text/plain": [
       "True"
      ]
     },
     "execution_count": 11,
     "metadata": {},
     "output_type": "execute_result"
    }
   ],
   "source": [
    "'y' in s1"
   ]
  },
  {
   "cell_type": "code",
   "execution_count": 12,
   "id": "15ea5659-eee6-4f27-82ca-1c14ee5c322e",
   "metadata": {},
   "outputs": [
    {
     "data": {
      "text/plain": [
       "False"
      ]
     },
     "execution_count": 12,
     "metadata": {},
     "output_type": "execute_result"
    }
   ],
   "source": [
    "'a' in s1"
   ]
  },
  {
   "cell_type": "markdown",
   "id": "7c4e5ae1-69e6-4cf0-ad51-096146e00bad",
   "metadata": {},
   "source": [
    "### difference between in and range operator"
   ]
  },
  {
   "cell_type": "markdown",
   "id": "6af839a1-4547-4cd2-8149-b3c41035ecbc",
   "metadata": {},
   "source": [
    "- range belongs to math family,inside range we need to keep integers only\n",
    "- whenever we need to iterate string we use in opertor"
   ]
  },
  {
   "cell_type": "markdown",
   "id": "b2a0a429-6e15-439c-9166-b86ce7c123a1",
   "metadata": {},
   "source": [
    "**ascii**"
   ]
  },
  {
   "cell_type": "code",
   "execution_count": 14,
   "id": "a650f558-79da-41ed-8e67-811f01f79e33",
   "metadata": {},
   "outputs": [
    {
     "data": {
      "text/plain": [
       "65"
      ]
     },
     "execution_count": 14,
     "metadata": {},
     "output_type": "execute_result"
    }
   ],
   "source": [
    "ord('A')"
   ]
  },
  {
   "cell_type": "code",
   "execution_count": 15,
   "id": "e500b793-6d01-45ec-afc1-6ad6bdcd4fa0",
   "metadata": {},
   "outputs": [
    {
     "data": {
      "text/plain": [
       "'0b1000001'"
      ]
     },
     "execution_count": 15,
     "metadata": {},
     "output_type": "execute_result"
    }
   ],
   "source": [
    "bin(65)"
   ]
  },
  {
   "cell_type": "code",
   "execution_count": 16,
   "id": "3617a31f-1636-45f2-a23c-52986c9a78d3",
   "metadata": {},
   "outputs": [
    {
     "data": {
      "text/plain": [
       "'A'"
      ]
     },
     "execution_count": 16,
     "metadata": {},
     "output_type": "execute_result"
    }
   ],
   "source": [
    "chr(65)"
   ]
  },
  {
   "cell_type": "code",
   "execution_count": 20,
   "id": "ffa6850b-c00f-4232-b675-1d662653e567",
   "metadata": {},
   "outputs": [
    {
     "name": "stdout",
     "output_type": "stream",
     "text": [
      "112\n",
      "121\n",
      "116\n",
      "104\n",
      "111\n",
      "110\n",
      "674\n"
     ]
    }
   ],
   "source": [
    "s=0\n",
    "for i in s1:\n",
    "    print(ord(i))\n",
    "    s+=ord(i)\n",
    "print(s)"
   ]
  },
  {
   "cell_type": "code",
   "execution_count": 22,
   "id": "a4537796-d1f0-4f9b-8808-29880e2f597e",
   "metadata": {},
   "outputs": [
    {
     "name": "stdout",
     "output_type": "stream",
     "text": [
      "65 A\n",
      "66 B\n",
      "67 C\n",
      "68 D\n",
      "69 E\n",
      "70 F\n",
      "71 G\n",
      "72 H\n",
      "73 I\n",
      "74 J\n",
      "75 K\n",
      "76 L\n",
      "77 M\n",
      "78 N\n",
      "79 O\n",
      "80 P\n",
      "81 Q\n",
      "82 R\n",
      "83 S\n",
      "84 T\n",
      "85 U\n",
      "86 V\n",
      "87 W\n",
      "88 X\n",
      "89 Y\n",
      "90 Z\n",
      "91 [\n"
     ]
    }
   ],
   "source": [
    "for i in range(65,92,1):\n",
    "    print(i,chr(i))"
   ]
  },
  {
   "cell_type": "code",
   "execution_count": 23,
   "id": "34f55718-7704-4729-85dc-03608b67c58f",
   "metadata": {},
   "outputs": [],
   "source": [
    "import string"
   ]
  },
  {
   "cell_type": "code",
   "execution_count": 24,
   "id": "02fb6847-d454-45f4-bd8c-d177540ccae5",
   "metadata": {},
   "outputs": [
    {
     "data": {
      "text/plain": [
       "['__add__',\n",
       " '__class__',\n",
       " '__contains__',\n",
       " '__delattr__',\n",
       " '__dir__',\n",
       " '__doc__',\n",
       " '__eq__',\n",
       " '__format__',\n",
       " '__ge__',\n",
       " '__getattribute__',\n",
       " '__getitem__',\n",
       " '__getnewargs__',\n",
       " '__getstate__',\n",
       " '__gt__',\n",
       " '__hash__',\n",
       " '__init__',\n",
       " '__init_subclass__',\n",
       " '__iter__',\n",
       " '__le__',\n",
       " '__len__',\n",
       " '__lt__',\n",
       " '__mod__',\n",
       " '__mul__',\n",
       " '__ne__',\n",
       " '__new__',\n",
       " '__reduce__',\n",
       " '__reduce_ex__',\n",
       " '__repr__',\n",
       " '__rmod__',\n",
       " '__rmul__',\n",
       " '__setattr__',\n",
       " '__sizeof__',\n",
       " '__str__',\n",
       " '__subclasshook__',\n",
       " 'capitalize',\n",
       " 'casefold',\n",
       " 'center',\n",
       " 'count',\n",
       " 'encode',\n",
       " 'endswith',\n",
       " 'expandtabs',\n",
       " 'find',\n",
       " 'format',\n",
       " 'format_map',\n",
       " 'index',\n",
       " 'isalnum',\n",
       " 'isalpha',\n",
       " 'isascii',\n",
       " 'isdecimal',\n",
       " 'isdigit',\n",
       " 'isidentifier',\n",
       " 'islower',\n",
       " 'isnumeric',\n",
       " 'isprintable',\n",
       " 'isspace',\n",
       " 'istitle',\n",
       " 'isupper',\n",
       " 'join',\n",
       " 'ljust',\n",
       " 'lower',\n",
       " 'lstrip',\n",
       " 'maketrans',\n",
       " 'partition',\n",
       " 'removeprefix',\n",
       " 'removesuffix',\n",
       " 'replace',\n",
       " 'rfind',\n",
       " 'rindex',\n",
       " 'rjust',\n",
       " 'rpartition',\n",
       " 'rsplit',\n",
       " 'rstrip',\n",
       " 'split',\n",
       " 'splitlines',\n",
       " 'startswith',\n",
       " 'strip',\n",
       " 'swapcase',\n",
       " 'title',\n",
       " 'translate',\n",
       " 'upper',\n",
       " 'zfill']"
      ]
     },
     "execution_count": 24,
     "metadata": {},
     "output_type": "execute_result"
    }
   ],
   "source": [
    "dir('string')"
   ]
  },
  {
   "cell_type": "code",
   "execution_count": 25,
   "id": "be67ed75-565f-4128-8803-e9e9b9320abb",
   "metadata": {},
   "outputs": [
    {
     "name": "stdout",
     "output_type": "stream",
     "text": [
      "No Python documentation found for 'upper'.\n",
      "Use help() to get the interactive help utility.\n",
      "Use help(str) for help on the str class.\n",
      "\n"
     ]
    }
   ],
   "source": [
    "help('upper')"
   ]
  },
  {
   "cell_type": "code",
   "execution_count": 31,
   "id": "cd89f7e4-9447-4fb0-94a3-8b6aba70a3f0",
   "metadata": {},
   "outputs": [
    {
     "name": "stdout",
     "output_type": "stream",
     "text": [
      "No Python documentation found for 'upper'.\n",
      "Use help() to get the interactive help utility.\n",
      "Use help(str) for help on the str class.\n",
      "\n"
     ]
    }
   ],
   "source": [
    "help('upper')"
   ]
  },
  {
   "cell_type": "code",
   "execution_count": 32,
   "id": "f18e561e-1072-42c7-9ce7-bdc2468c8b0b",
   "metadata": {},
   "outputs": [
    {
     "ename": "AttributeError",
     "evalue": "module 'string' has no attribute 'upper'",
     "output_type": "error",
     "traceback": [
      "\u001b[1;31m---------------------------------------------------------------------------\u001b[0m",
      "\u001b[1;31mAttributeError\u001b[0m                            Traceback (most recent call last)",
      "Cell \u001b[1;32mIn[32], line 1\u001b[0m\n\u001b[1;32m----> 1\u001b[0m string\u001b[38;5;241m.\u001b[39mupper\n",
      "\u001b[1;31mAttributeError\u001b[0m: module 'string' has no attribute 'upper'"
     ]
    }
   ],
   "source": [
    "string.upper"
   ]
  },
  {
   "cell_type": "code",
   "execution_count": 33,
   "id": "5a23259f-24e0-429f-84e7-6179b6cf8ec8",
   "metadata": {},
   "outputs": [
    {
     "data": {
      "text/plain": [
       "'ABCDEFGHIJKLMNOPQRSTUVWXYZ'"
      ]
     },
     "execution_count": 33,
     "metadata": {},
     "output_type": "execute_result"
    }
   ],
   "source": [
    "string.ascii_uppercase"
   ]
  },
  {
   "cell_type": "code",
   "execution_count": 35,
   "id": "10acd29c-eeb3-4a84-9310-31b41f8ac2c3",
   "metadata": {},
   "outputs": [
    {
     "name": "stdout",
     "output_type": "stream",
     "text": [
      "A 65\n",
      "B 66\n",
      "C 67\n",
      "D 68\n",
      "E 69\n",
      "F 70\n",
      "G 71\n",
      "H 72\n",
      "I 73\n",
      "J 74\n",
      "K 75\n",
      "L 76\n",
      "M 77\n",
      "N 78\n",
      "O 79\n",
      "P 80\n",
      "Q 81\n",
      "R 82\n",
      "S 83\n",
      "T 84\n",
      "U 85\n",
      "V 86\n",
      "W 87\n",
      "X 88\n",
      "Y 89\n",
      "Z 90\n"
     ]
    }
   ],
   "source": [
    "let=string.ascii_uppercase\n",
    "for i in let:\n",
    "    print(i,ord(i))\n",
    "    "
   ]
  },
  {
   "cell_type": "code",
   "execution_count": 37,
   "id": "aa75acb7-20ae-4478-86dc-e4817f521cd3",
   "metadata": {},
   "outputs": [
    {
     "name": "stdout",
     "output_type": "stream",
     "text": [
      "a 97\n",
      "b 98\n",
      "c 99\n",
      "d 100\n",
      "e 101\n",
      "f 102\n",
      "g 103\n",
      "h 104\n",
      "i 105\n",
      "j 106\n",
      "k 107\n",
      "l 108\n",
      "m 109\n",
      "n 110\n",
      "o 111\n",
      "p 112\n",
      "q 113\n",
      "r 114\n",
      "s 115\n",
      "t 116\n",
      "u 117\n",
      "v 118\n",
      "w 119\n",
      "x 120\n",
      "y 121\n",
      "z 122\n",
      "! 33\n",
      "\" 34\n",
      "# 35\n",
      "$ 36\n",
      "% 37\n",
      "& 38\n",
      "' 39\n",
      "( 40\n",
      ") 41\n",
      "* 42\n",
      "+ 43\n",
      ", 44\n",
      "- 45\n",
      ". 46\n",
      "/ 47\n",
      ": 58\n",
      "; 59\n",
      "< 60\n",
      "= 61\n",
      "> 62\n",
      "? 63\n",
      "@ 64\n",
      "[ 91\n",
      "\\ 92\n",
      "] 93\n",
      "^ 94\n",
      "_ 95\n",
      "` 96\n",
      "{ 123\n",
      "| 124\n",
      "} 125\n",
      "~ 126\n"
     ]
    }
   ],
   "source": [
    "let1=string.ascii_lowercase\n",
    "let2=string.punctuation\n",
    "for i in let1:\n",
    "    print(i,ord(i))\n",
    "for i in let2:\n",
    "    print(i,ord(i))"
   ]
  },
  {
   "cell_type": "code",
   "execution_count": 38,
   "id": "046a2b75-24c6-40c4-bc3f-df85a6ffd62c",
   "metadata": {},
   "outputs": [
    {
     "name": "stdout",
     "output_type": "stream",
     "text": [
      "a 97\n",
      "b 98\n",
      "c 99\n",
      "d 100\n",
      "e 101\n",
      "f 102\n",
      "g 103\n",
      "h 104\n",
      "i 105\n",
      "j 106\n",
      "k 107\n",
      "l 108\n",
      "m 109\n",
      "n 110\n",
      "o 111\n",
      "p 112\n",
      "q 113\n",
      "r 114\n",
      "s 115\n",
      "t 116\n",
      "u 117\n",
      "v 118\n",
      "w 119\n",
      "x 120\n",
      "y 121\n",
      "z 122\n",
      "A 65\n",
      "B 66\n",
      "C 67\n",
      "D 68\n",
      "E 69\n",
      "F 70\n",
      "G 71\n",
      "H 72\n",
      "I 73\n",
      "J 74\n",
      "K 75\n",
      "L 76\n",
      "M 77\n",
      "N 78\n",
      "O 79\n",
      "P 80\n",
      "Q 81\n",
      "R 82\n",
      "S 83\n",
      "T 84\n",
      "U 85\n",
      "V 86\n",
      "W 87\n",
      "X 88\n",
      "Y 89\n",
      "Z 90\n"
     ]
    }
   ],
   "source": [
    "let3=string.ascii_letters\n",
    "for i in let3:\n",
    "    print(i,ord(i))"
   ]
  },
  {
   "cell_type": "code",
   "execution_count": null,
   "id": "135ee895-bc40-4852-8047-cc02c650edd2",
   "metadata": {},
   "outputs": [],
   "source": []
  }
 ],
 "metadata": {
  "kernelspec": {
   "display_name": "Python 3 (ipykernel)",
   "language": "python",
   "name": "python3"
  },
  "language_info": {
   "codemirror_mode": {
    "name": "ipython",
    "version": 3
   },
   "file_extension": ".py",
   "mimetype": "text/x-python",
   "name": "python",
   "nbconvert_exporter": "python",
   "pygments_lexer": "ipython3",
   "version": "3.11.7"
  }
 },
 "nbformat": 4,
 "nbformat_minor": 5
}
