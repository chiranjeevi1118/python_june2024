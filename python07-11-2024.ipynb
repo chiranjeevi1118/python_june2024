{
 "cells": [
  {
   "cell_type": "code",
   "execution_count": null,
   "id": "e603314a-3773-4fb7-b707-8aef23bc9703",
   "metadata": {},
   "outputs": [],
   "source": [
    "######### Python divided 3 parts #######################\n",
    "----- Basics\n",
    "1) Variables\n",
    "2) Data types\n",
    "3) Type conversions\n",
    "4) Eval input\n",
    "5) packages\n",
    "6) Conditional statements\n",
    "7) Try-execpt\n",
    "8) Functions\n",
    "9) For \n",
    "10) While ( you did this)\n",
    "\n",
    "------- Intermediate part\n",
    "11) Strings\n",
    "12) Lists\n",
    "13) Dictionary\n",
    "14) Tuples (You will do this)\n",
    "15) Sets\n",
    "16) Lambda functions\n",
    "17) File handling session\n",
    "\n",
    "--------- Advanced\n",
    "18) OOPS"
   ]
  },
  {
   "cell_type": "code",
   "execution_count": null,
   "id": "05b65ebc-94c4-402f-980f-aea460dded27",
   "metadata": {},
   "outputs": [],
   "source": [
    "==================== PART-1=====================================\n",
    "- Intiaization\n",
    "\n",
    "- type\n",
    "\n",
    "- len\n",
    "\n",
    "- max\n",
    "\n",
    "- min\n",
    "\n",
    "- sorted\n",
    "\n",
    "- reveresed\n",
    "\n",
    "- in\n",
    "\n",
    "- for loop using in\n",
    "\n",
    "- index\n",
    "\n",
    "- for loop using index\n",
    "\n",
    "- mutable\n",
    "\n",
    "- concatenation\n",
    "\n",
    "#================== PART-2=====================\n",
    "# Methods"
   ]
  },
  {
   "cell_type": "markdown",
   "id": "341fc178-ff31-453d-b906-03d903844547",
   "metadata": {},
   "source": [
    "**Intialization**"
   ]
  },
  {
   "cell_type": "code",
   "execution_count": 1,
   "id": "9862c251-0a34-4887-9a12-2ede7fefb64f",
   "metadata": {},
   "outputs": [
    {
     "data": {
      "text/plain": [
       "'python'"
      ]
     },
     "execution_count": 1,
     "metadata": {},
     "output_type": "execute_result"
    }
   ],
   "source": [
    "str1='python'\n",
    "str1"
   ]
  },
  {
   "cell_type": "code",
   "execution_count": 2,
   "id": "1c706156-382a-470a-860f-c2a904015583",
   "metadata": {},
   "outputs": [
    {
     "data": {
      "text/plain": [
       "'python'"
      ]
     },
     "execution_count": 2,
     "metadata": {},
     "output_type": "execute_result"
    }
   ],
   "source": [
    "str2=\"python\"\n",
    "str2"
   ]
  },
  {
   "cell_type": "code",
   "execution_count": 3,
   "id": "78140b6e-328c-4fc6-a658-f4b8d2f71930",
   "metadata": {},
   "outputs": [
    {
     "name": "stdout",
     "output_type": "stream",
     "text": [
      "python\n"
     ]
    }
   ],
   "source": [
    "print(str1) # Do not confuse Im not seeing the quotes"
   ]
  },
  {
   "cell_type": "markdown",
   "id": "240d3e8f-b3d5-4a89-b55a-a0680e41af99",
   "metadata": {},
   "source": [
    "**Note**\n",
    "\n",
    "- If we mentioned single quotes or double quotes by default python provides in single quotes only\n",
    "\n",
    "- If we print the strings, we will answer with out quotes"
   ]
  },
  {
   "cell_type": "markdown",
   "id": "fe4b0198-8482-47e2-9548-21d46973a8eb",
   "metadata": {},
   "source": [
    "**Triple quotes**"
   ]
  },
  {
   "cell_type": "code",
   "execution_count": 4,
   "id": "e07af372-6c95-45f7-91a7-4dc553825eb9",
   "metadata": {},
   "outputs": [
    {
     "data": {
      "text/plain": [
       "'hi how are you\\n        im good'"
      ]
     },
     "execution_count": 4,
     "metadata": {},
     "output_type": "execute_result"
    }
   ],
   "source": [
    "str3=\"\"\"hi how are you\n",
    "        im good\"\"\"\n",
    "str3"
   ]
  },
  {
   "cell_type": "code",
   "execution_count": 5,
   "id": "f8ab4e05-8b77-4a3c-a947-d413c06aec41",
   "metadata": {},
   "outputs": [
    {
     "name": "stdout",
     "output_type": "stream",
     "text": [
      "hi how are you\n",
      "        im good\n"
     ]
    }
   ],
   "source": [
    "print(str3)"
   ]
  },
  {
   "cell_type": "markdown",
   "id": "fcf4b3ae-216e-449d-8c9d-2b7e2b61b319",
   "metadata": {},
   "source": [
    "**Note**\n",
    "\n",
    "- If we mentioned single quotes or double quotes by default python provides in single quotes only\n",
    "\n",
    "- If we print the strings, we will answer with out quotes\n",
    "\n",
    "- Triple quotes are using for doc string\n",
    "\n",
    "- In order to convey the information about coding part we will use doc string\n",
    "\n",
    "- anything inside the single or double quotes is considered as string in python"
   ]
  },
  {
   "cell_type": "markdown",
   "id": "2b009a0f-66c5-4211-b115-e9d0b4f1b7ba",
   "metadata": {},
   "source": [
    "**type**"
   ]
  },
  {
   "cell_type": "code",
   "execution_count": 6,
   "id": "711df577-de9e-487c-a2d6-44bf97e108a5",
   "metadata": {},
   "outputs": [
    {
     "data": {
      "text/plain": [
       "str"
      ]
     },
     "execution_count": 6,
     "metadata": {},
     "output_type": "execute_result"
    }
   ],
   "source": [
    "type(str1) # type is string time"
   ]
  },
  {
   "cell_type": "code",
   "execution_count": null,
   "id": "416fa2e2-f288-4e12-85c3-3bd63de5e34c",
   "metadata": {},
   "outputs": [],
   "source": [
    "str4='10'  # integer value in the form of string\n",
    "str5='10.5' # Float value in the for of string\n",
    "str6='123abc' # Alpha numeric in the form of strng\n",
    "str7='True'  # Boolean in the form string\n",
    "str8='sinx'\n",
    "\n",
    "# All are in quotes, means in red color : strings "
   ]
  },
  {
   "cell_type": "markdown",
   "id": "213ce6c0-33af-4bf8-b550-9f505f8e67ba",
   "metadata": {},
   "source": [
    "**len**"
   ]
  },
  {
   "cell_type": "code",
   "execution_count": 7,
   "id": "ac1c5540-30ec-4811-975b-a53c59656a1e",
   "metadata": {},
   "outputs": [
    {
     "data": {
      "text/plain": [
       "6"
      ]
     },
     "execution_count": 7,
     "metadata": {},
     "output_type": "execute_result"
    }
   ],
   "source": [
    "str1='python'\n",
    "len(str1)"
   ]
  },
  {
   "cell_type": "markdown",
   "id": "7b374267-be86-4edf-829f-cbd74b9d937b",
   "metadata": {},
   "source": [
    "**max and min**"
   ]
  },
  {
   "cell_type": "code",
   "execution_count": 8,
   "id": "712d0985-9043-46bf-b54f-3c54a554b532",
   "metadata": {},
   "outputs": [
    {
     "data": {
      "text/plain": [
       "'y'"
      ]
     },
     "execution_count": 8,
     "metadata": {},
     "output_type": "execute_result"
    }
   ],
   "source": [
    "str1='python'\n",
    "max(str1)"
   ]
  },
  {
   "cell_type": "code",
   "execution_count": 9,
   "id": "37b43e25-cc4c-44b8-acea-8242d29a859f",
   "metadata": {},
   "outputs": [
    {
     "data": {
      "text/plain": [
       "(112, 121, 116, 104, 111, 110)"
      ]
     },
     "execution_count": 9,
     "metadata": {},
     "output_type": "execute_result"
    }
   ],
   "source": [
    "ord('p'),ord('y'),ord('t'),ord('h'),ord('o'),ord('n')"
   ]
  },
  {
   "cell_type": "code",
   "execution_count": 10,
   "id": "24871cd1-f0b3-4a39-8673-c6ed9c766513",
   "metadata": {},
   "outputs": [
    {
     "data": {
      "text/plain": [
       "'h'"
      ]
     },
     "execution_count": 10,
     "metadata": {},
     "output_type": "execute_result"
    }
   ],
   "source": [
    "str1='python'\n",
    "min(str1)"
   ]
  },
  {
   "cell_type": "markdown",
   "id": "a27cc137-4f2f-4580-b1b7-ad8e76241993",
   "metadata": {},
   "source": [
    "**Keywords vs Methods**"
   ]
  },
  {
   "cell_type": "code",
   "execution_count": null,
   "id": "a7e115d9-fabb-4a38-a11f-fdf0b02e1024",
   "metadata": {},
   "outputs": [],
   "source": [
    "type(<>)\n",
    "print(<>)\n",
    "len(<>)\n",
    "max(<>)\n",
    "min(<>)\n",
    "eval(<>)\n",
    "input(<>)\n",
    "sum(<>)"
   ]
  },
  {
   "cell_type": "code",
   "execution_count": null,
   "id": "67a1c6af-c1a2-49b2-89ef-73e5fb14ecad",
   "metadata": {},
   "outputs": [],
   "source": [
    "- in order to use method we need to call package\n",
    "\n",
    "import random\n",
    "random.randint()\n",
    "\n",
    "import math\n",
    "math.sqrt()\n",
    "\n",
    "import time\n",
    "time.sleep()"
   ]
  },
  {
   "cell_type": "code",
   "execution_count": 11,
   "id": "88faa65e-43b2-44d1-9718-00de99664dd8",
   "metadata": {},
   "outputs": [
    {
     "data": {
      "text/plain": [
       "'y'"
      ]
     },
     "execution_count": 11,
     "metadata": {},
     "output_type": "execute_result"
    }
   ],
   "source": [
    "str1='python123'\n",
    "max(str1)"
   ]
  },
  {
   "cell_type": "markdown",
   "id": "8fe15332-45b0-4494-8a06-00501ec2673e",
   "metadata": {},
   "source": [
    "**sum**"
   ]
  },
  {
   "cell_type": "code",
   "execution_count": 12,
   "id": "525930c5-0099-4b85-925a-b4d015f4b32f",
   "metadata": {},
   "outputs": [
    {
     "ename": "TypeError",
     "evalue": "unsupported operand type(s) for +: 'int' and 'str'",
     "output_type": "error",
     "traceback": [
      "\u001b[1;31m---------------------------------------------------------------------------\u001b[0m",
      "\u001b[1;31mTypeError\u001b[0m                                 Traceback (most recent call last)",
      "Cell \u001b[1;32mIn[12], line 2\u001b[0m\n\u001b[0;32m      1\u001b[0m str1\u001b[38;5;241m=\u001b[39m\u001b[38;5;124m'\u001b[39m\u001b[38;5;124mpython\u001b[39m\u001b[38;5;124m'\u001b[39m\n\u001b[1;32m----> 2\u001b[0m \u001b[38;5;28msum\u001b[39m(str1)\n",
      "\u001b[1;31mTypeError\u001b[0m: unsupported operand type(s) for +: 'int' and 'str'"
     ]
    }
   ],
   "source": [
    "str1='python'\n",
    "sum(str1)"
   ]
  },
  {
   "cell_type": "code",
   "execution_count": 13,
   "id": "6607ad41-c957-4cc3-8faf-994239707217",
   "metadata": {},
   "outputs": [
    {
     "data": {
      "text/plain": [
       "'py'"
      ]
     },
     "execution_count": 13,
     "metadata": {},
     "output_type": "execute_result"
    }
   ],
   "source": [
    "'p'+'y'"
   ]
  },
  {
   "cell_type": "code",
   "execution_count": 14,
   "id": "03ac400c-32b0-4e71-87b6-24a4cef51414",
   "metadata": {},
   "outputs": [
    {
     "data": {
      "text/plain": [
       "6"
      ]
     },
     "execution_count": 14,
     "metadata": {},
     "output_type": "execute_result"
    }
   ],
   "source": [
    "sum([1,2,3])"
   ]
  },
  {
   "cell_type": "markdown",
   "id": "b0c89e63-2356-43e5-aada-00886cb140f7",
   "metadata": {},
   "source": [
    "**sorted**"
   ]
  },
  {
   "cell_type": "code",
   "execution_count": null,
   "id": "f5ea312c-5a57-400d-90fa-623eb0eefe58",
   "metadata": {},
   "outputs": [],
   "source": [
    "len('python')\n",
    "max('python')\n",
    "print('python')\n",
    "min('python')\n",
    "max('python')"
   ]
  },
  {
   "cell_type": "code",
   "execution_count": 15,
   "id": "155389a1-2ed3-40f6-97d0-5f79b91ed463",
   "metadata": {},
   "outputs": [
    {
     "data": {
      "text/plain": [
       "['h', 'n', 'o', 'p', 't', 'y']"
      ]
     },
     "execution_count": 15,
     "metadata": {},
     "output_type": "execute_result"
    }
   ],
   "source": [
    "sorted('python')"
   ]
  },
  {
   "cell_type": "markdown",
   "id": "2f4c33b7-ceea-4486-9ee4-028888c3e30b",
   "metadata": {},
   "source": [
    "- sorted gives ascending order based on ASCII numbers\n",
    "\n",
    "- sorted is kind of a function\n",
    "\n",
    "- Every function we have arguments\n",
    "\n",
    "- In that one defualt argument is **reverse=False**\n",
    "\n",
    "- By defualt sorted output gives **ascending order**\n",
    "\n",
    "- We can change the order, by providing **reverse =True**\n",
    "\n",
    "- **If we do not mention, it will give the default answer**"
   ]
  },
  {
   "cell_type": "code",
   "execution_count": 16,
   "id": "3a7e3e75-d562-43ec-8109-b01668528cff",
   "metadata": {},
   "outputs": [
    {
     "data": {
      "text/plain": [
       "['y', 't', 'p', 'o', 'n', 'h']"
      ]
     },
     "execution_count": 16,
     "metadata": {},
     "output_type": "execute_result"
    }
   ],
   "source": [
    "sorted('python',reverse=True)"
   ]
  },
  {
   "cell_type": "code",
   "execution_count": 17,
   "id": "5e8ebc1b-74f3-4dd3-bf93-6e990c52bb40",
   "metadata": {},
   "outputs": [
    {
     "data": {
      "text/plain": [
       "0j"
      ]
     },
     "execution_count": 17,
     "metadata": {},
     "output_type": "execute_result"
    }
   ],
   "source": [
    "complex()  # 0+0j"
   ]
  },
  {
   "cell_type": "code",
   "execution_count": 18,
   "id": "a3fbb6af-ff81-435e-bb59-0992364498d1",
   "metadata": {},
   "outputs": [
    {
     "data": {
      "text/plain": [
       "(10+20j)"
      ]
     },
     "execution_count": 18,
     "metadata": {},
     "output_type": "execute_result"
    }
   ],
   "source": [
    "complex(10,20)"
   ]
  },
  {
   "cell_type": "code",
   "execution_count": 19,
   "id": "41264f70-9b4b-4d71-a028-7c8836c3c563",
   "metadata": {},
   "outputs": [
    {
     "data": {
      "text/plain": [
       "(10+30j)"
      ]
     },
     "execution_count": 19,
     "metadata": {},
     "output_type": "execute_result"
    }
   ],
   "source": [
    "complex(real=10,imag=30)"
   ]
  },
  {
   "cell_type": "code",
   "execution_count": 20,
   "id": "eb999734-2e80-4f98-b455-4aeb23a62fb3",
   "metadata": {},
   "outputs": [
    {
     "ename": "TypeError",
     "evalue": "Random.randint() missing 2 required positional arguments: 'a' and 'b'",
     "output_type": "error",
     "traceback": [
      "\u001b[1;31m---------------------------------------------------------------------------\u001b[0m",
      "\u001b[1;31mTypeError\u001b[0m                                 Traceback (most recent call last)",
      "Cell \u001b[1;32mIn[20], line 2\u001b[0m\n\u001b[0;32m      1\u001b[0m \u001b[38;5;28;01mimport\u001b[39;00m \u001b[38;5;21;01mrandom\u001b[39;00m\n\u001b[1;32m----> 2\u001b[0m random\u001b[38;5;241m.\u001b[39mrandint()\n",
      "\u001b[1;31mTypeError\u001b[0m: Random.randint() missing 2 required positional arguments: 'a' and 'b'"
     ]
    }
   ],
   "source": [
    "import random\n",
    "random.randint()"
   ]
  },
  {
   "cell_type": "code",
   "execution_count": null,
   "id": "c26309f5-6c73-4ca0-96c3-adfab3bfb8f1",
   "metadata": {},
   "outputs": [],
   "source": [
    "funtion()  # Answer\n",
    "function(a,b) # this might return error, if we dont give the values of a,b\n",
    "function(a=10,b=10) # Ans"
   ]
  },
  {
   "cell_type": "code",
   "execution_count": null,
   "id": "566f3e9d-5102-4418-9e31-c96883aa29d7",
   "metadata": {},
   "outputs": [],
   "source": [
    "funtion() #  \n",
    "function(a,b) \n",
    "function(a=10,b=10) "
   ]
  },
  {
   "cell_type": "code",
   "execution_count": 21,
   "id": "1a0e050f-08d7-4bdb-9966-beaf3e6f3216",
   "metadata": {},
   "outputs": [
    {
     "data": {
      "text/plain": [
       "0.5974424274486018"
      ]
     },
     "execution_count": 21,
     "metadata": {},
     "output_type": "execute_result"
    }
   ],
   "source": [
    "import random\n",
    "random.random()  # we will get answer but answer is not in our hands"
   ]
  },
  {
   "cell_type": "code",
   "execution_count": 22,
   "id": "17c31585-28d8-4fe4-bd0a-bda0aac9d96a",
   "metadata": {},
   "outputs": [
    {
     "data": {
      "text/plain": [
       "10"
      ]
     },
     "execution_count": 22,
     "metadata": {},
     "output_type": "execute_result"
    }
   ],
   "source": [
    "import random\n",
    "random.randint(10,20) # Answer we can change"
   ]
  },
  {
   "cell_type": "code",
   "execution_count": 23,
   "id": "d493c6d4-2d83-45a7-9849-512b19b272a0",
   "metadata": {},
   "outputs": [
    {
     "data": {
      "text/plain": [
       "0j"
      ]
     },
     "execution_count": 23,
     "metadata": {},
     "output_type": "execute_result"
    }
   ],
   "source": [
    "complex()  # By default  0,0"
   ]
  },
  {
   "cell_type": "code",
   "execution_count": 24,
   "id": "e3960ae5-3a0c-4e63-a740-e612377e78d2",
   "metadata": {},
   "outputs": [
    {
     "data": {
      "text/plain": [
       "(10+20j)"
      ]
     },
     "execution_count": 24,
     "metadata": {},
     "output_type": "execute_result"
    }
   ],
   "source": [
    "complex(10,20)"
   ]
  },
  {
   "cell_type": "code",
   "execution_count": null,
   "id": "ef1bd909-f9fb-4ec1-926b-06baf393ee41",
   "metadata": {},
   "outputs": [],
   "source": [
    "sorted(iterable='python') # Error\n",
    "random.randint(a=10,b=30) # Anaswer"
   ]
  },
  {
   "cell_type": "code",
   "execution_count": null,
   "id": "e4d585b2-a658-486e-a7ee-38bd4a9d9be5",
   "metadata": {},
   "outputs": [],
   "source": [
    "sorted('python') # Anaswer\n",
    "sorted('python',reverse=True)"
   ]
  },
  {
   "cell_type": "markdown",
   "id": "a33dea53-b165-493e-ba73-ff7bd274d2fa",
   "metadata": {},
   "source": [
    "**Note**\n",
    "\n",
    "- we have arguments before / and after slash\n",
    "\n",
    "- we can use the argument names after / only\n",
    "\n",
    "- For example sorted has two arguments one is iterable and another one is reverse\n",
    "\n",
    "- iterbale is mentioned before / symbol\n",
    "\n",
    "- reverse is mentioned after / symbol\n",
    "\n",
    "- so we can use only reverse argument name while we are doing the work\n",
    "\n",
    "- we can not use iterable argument name\n",
    "\n",
    "- Instead of using iterable name , we can provide direct value at that posistion"
   ]
  },
  {
   "cell_type": "markdown",
   "id": "bf57ce3c-6507-45c2-9c78-6dece7c80c9b",
   "metadata": {},
   "source": [
    "**reversed**"
   ]
  },
  {
   "cell_type": "code",
   "execution_count": null,
   "id": "28795ca0-1024-468c-9db0-4c1e6773ab46",
   "metadata": {},
   "outputs": [],
   "source": [
    "type()\n",
    "len()\n",
    "max()\n",
    "min()\n",
    "print()\n",
    "sorted()\n"
   ]
  },
  {
   "cell_type": "code",
   "execution_count": 25,
   "id": "5f2efe8e-f95d-40b8-bbd8-1cb0cba5bffd",
   "metadata": {},
   "outputs": [
    {
     "data": {
      "text/plain": [
       "<reversed at 0x215e603b3d0>"
      ]
     },
     "execution_count": 25,
     "metadata": {},
     "output_type": "execute_result"
    }
   ],
   "source": [
    "reversed('python')"
   ]
  },
  {
   "cell_type": "markdown",
   "id": "2c351db8-cc56-446c-8544-37c0b131c636",
   "metadata": {},
   "source": [
    "- I already done my work\n",
    "\n",
    "- Your output is stored in that memory location\n",
    "\n",
    "- whenever you see this kind of answer less than and greater than symbol or memory\n",
    "\n",
    "- use for loop to see the answer"
   ]
  },
  {
   "cell_type": "code",
   "execution_count": 28,
   "id": "ccfc425c-09ba-43be-bc79-ed52dcd4cc29",
   "metadata": {},
   "outputs": [
    {
     "name": "stdout",
     "output_type": "stream",
     "text": [
      "d\n",
      "c\n",
      "y\n",
      "z\n",
      "a\n"
     ]
    }
   ],
   "source": [
    "str1='azycd'\n",
    "output=reversed(str1)\n",
    "for i in output:\n",
    "    print(i)"
   ]
  },
  {
   "cell_type": "code",
   "execution_count": 29,
   "id": "8cccdba0-7565-41c6-93e2-0bc3e8540262",
   "metadata": {},
   "outputs": [
    {
     "data": {
      "text/plain": [
       "['a', 'c', 'd', 'y', 'z']"
      ]
     },
     "execution_count": 29,
     "metadata": {},
     "output_type": "execute_result"
    }
   ],
   "source": [
    "sorted('azycd')"
   ]
  },
  {
   "cell_type": "code",
   "execution_count": null,
   "id": "906df54c-63b7-4ffa-95a0-f374fc987c2f",
   "metadata": {},
   "outputs": [],
   "source": [
    "- Intialization\n",
    "\n",
    "- type\n",
    "\n",
    "- len\n",
    "\n",
    "- max\n",
    "\n",
    "- min\n",
    "\n",
    "- sum\n",
    "\n",
    "- sorted\n",
    "\n",
    "- reveresd"
   ]
  },
  {
   "cell_type": "code",
   "execution_count": null,
   "id": "0a9c70fa-f8b2-4ae4-9143-ec9c39d05843",
   "metadata": {},
   "outputs": [],
   "source": [
    "type(<value>)\n",
    "eval(<value>)\n",
    "input(<value>)\n",
    "max(<v>)\n",
    "min()\n",
    "len()\n",
    "sum()\n",
    "sorted()\n",
    "reveresd()\n"
   ]
  },
  {
   "cell_type": "code",
   "execution_count": 1,
   "id": "9078bc98-97e0-4241-88e8-bcd8894ce422",
   "metadata": {},
   "outputs": [
    {
     "data": {
      "text/plain": [
       "['a', 'e', 'h', 'n', 'r', 's']"
      ]
     },
     "execution_count": 1,
     "metadata": {},
     "output_type": "execute_result"
    }
   ],
   "source": [
    "# sorted()\n",
    "# It will provide the values either ascending or descending\n",
    "\n",
    "sorted('naresh') # Ascending or Descending\n",
    "\n",
    "# when I run directly it will give one answer\n",
    "# the function has a default behaviour: ascending\n",
    "\n",
    "# How this default mentioned\n",
    "# we need to understand about arguments\n"
   ]
  },
  {
   "cell_type": "code",
   "execution_count": 5,
   "id": "40071a8d-f3f5-4e41-aaac-524ba5735e52",
   "metadata": {},
   "outputs": [
    {
     "data": {
      "text/plain": [
       "['s', 'r', 'n', 'h', 'e', 'a']"
      ]
     },
     "execution_count": 5,
     "metadata": {},
     "output_type": "execute_result"
    }
   ],
   "source": [
    "sorted('naresh',reverse=True)\n",
    "\n",
    "# iterable\n",
    "# key\n",
    "# reverse\n",
    "\n"
   ]
  },
  {
   "cell_type": "code",
   "execution_count": 9,
   "id": "620c8b44-f58b-4b13-922b-7a1606569d91",
   "metadata": {},
   "outputs": [
    {
     "name": "stdout",
     "output_type": "stream",
     "text": [
      "h\n",
      "s\n",
      "e\n",
      "r\n",
      "a\n",
      "n\n"
     ]
    }
   ],
   "source": [
    "for i in reversed('naresh'):\n",
    "    print(i)"
   ]
  },
  {
   "cell_type": "code",
   "execution_count": 10,
   "id": "f21a20dd-36ae-4884-a520-4e7e9fa6950f",
   "metadata": {},
   "outputs": [
    {
     "data": {
      "text/plain": [
       "[1, 2, 10, 20, 30]"
      ]
     },
     "execution_count": 10,
     "metadata": {},
     "output_type": "execute_result"
    }
   ],
   "source": [
    "sorted([1,10,2,20,30])\n",
    "# 1,2,10,20,30\n",
    "# 30,20,10,2,1"
   ]
  },
  {
   "cell_type": "code",
   "execution_count": 11,
   "id": "1d6613b5-e17f-4212-b1fd-6ee8ab0a4872",
   "metadata": {},
   "outputs": [
    {
     "data": {
      "text/plain": [
       "[30, 20, 10, 2, 1]"
      ]
     },
     "execution_count": 11,
     "metadata": {},
     "output_type": "execute_result"
    }
   ],
   "source": [
    "sorted([1,10,2,20,30],reverse=True)"
   ]
  },
  {
   "cell_type": "markdown",
   "id": "a90d307b-53cf-4327-896e-030bbe823ecb",
   "metadata": {},
   "source": [
    "**in**"
   ]
  },
  {
   "cell_type": "code",
   "execution_count": 12,
   "id": "5ffdbc31-338f-4a13-8be6-888a9031473e",
   "metadata": {},
   "outputs": [
    {
     "data": {
      "text/plain": [
       "True"
      ]
     },
     "execution_count": 12,
     "metadata": {},
     "output_type": "execute_result"
    }
   ],
   "source": [
    "str1='naresh'\n",
    "\n",
    "'n' in str1"
   ]
  },
  {
   "cell_type": "code",
   "execution_count": null,
   "id": "4d982ff0-7473-4d9c-b97a-2cde3d893fac",
   "metadata": {},
   "outputs": [],
   "source": [
    "# strings\n",
    "# list\n",
    "# tuples\n",
    "# sets\n",
    "# dictionary"
   ]
  },
  {
   "cell_type": "code",
   "execution_count": 14,
   "id": "a2982d4b-bf61-4138-93b0-350d574bfeb1",
   "metadata": {},
   "outputs": [
    {
     "data": {
      "text/plain": [
       "True"
      ]
     },
     "execution_count": 14,
     "metadata": {},
     "output_type": "execute_result"
    }
   ],
   "source": [
    "str1='naresh'\n",
    "\n",
    "'nn' not in str1"
   ]
  },
  {
   "cell_type": "code",
   "execution_count": 15,
   "id": "4ea43d18-fb75-4dbf-87ca-63884f8d0a68",
   "metadata": {},
   "outputs": [
    {
     "name": "stdout",
     "output_type": "stream",
     "text": [
      "n\n",
      "a\n",
      "r\n",
      "e\n",
      "s\n",
      "h\n"
     ]
    }
   ],
   "source": [
    "for i in str1:\n",
    "    print(i)"
   ]
  },
  {
   "cell_type": "markdown",
   "id": "b37c8e7f-bd45-4637-b911-3a3fabe38329",
   "metadata": {},
   "source": [
    "**Note**\n",
    "\n",
    "- In operator directly access the letters"
   ]
  },
  {
   "cell_type": "code",
   "execution_count": 17,
   "id": "5dda1bc9-ae5c-4ee6-ba8d-6cef56237e09",
   "metadata": {},
   "outputs": [
    {
     "name": "stdout",
     "output_type": "stream",
     "text": [
      "3\n"
     ]
    }
   ],
   "source": [
    "#Q1) WAP ask the user count how many 'a' are present in a given string\n",
    "# str1='hai naresh how are you'\n",
    "\n",
    "# Idea: counter wrapper\n",
    "# step-1: count=0\n",
    "# step-2: using for loop in operator iterate through  given string\n",
    "# step-3: apply the if condition, whenever the letter equal to 'a'\n",
    "# step-4: count=count+1\n",
    "\n",
    "str1='hai naresh how are you'\n",
    "count=0\n",
    "for i in str1:\n",
    "    if i=='a':\n",
    "        count=count+1\n",
    "print(count)\n",
    "# step-1:  i='h'  if 'h'=='a'  False\n",
    "# step-2:  i='a'  if  'a'=='a' T      count=0+1=1\n",
    "# step-3:  i='i'  if  'i'=='a'  F     count=1\n",
    "#\n",
    "#step-6:  i='a'   if   'a'=='a'  T    count=1+1=2"
   ]
  },
  {
   "cell_type": "code",
   "execution_count": 18,
   "id": "7ef55a8f-a4b4-41ed-8942-00d78280f8b7",
   "metadata": {},
   "outputs": [
    {
     "name": "stdout",
     "output_type": "stream",
     "text": [
      "the count is: 9\n"
     ]
    }
   ],
   "source": [
    "# Q2) WAP ask the find how many vowels are there in a given string\n",
    "# str1='hai naresh how are you'\n",
    "# ans=9\n",
    "count=0\n",
    "str1='hai naresh how are you'\n",
    "for i in str1:\n",
    "    if i=='a' or i=='e' or i=='i' or i=='o' or i=='u':\n",
    "        count=count+1\n",
    "print(\"the count is:\",count)"
   ]
  },
  {
   "cell_type": "code",
   "execution_count": 19,
   "id": "7b5174c8-a372-4fc1-b44f-36f6e38a7012",
   "metadata": {},
   "outputs": [
    {
     "name": "stdout",
     "output_type": "stream",
     "text": [
      "the count is: 9\n"
     ]
    }
   ],
   "source": [
    "count=0\n",
    "str1='hai naresh how are you'\n",
    "for i in str1:\n",
    "    if i in 'aeiou':\n",
    "        count=count+1\n",
    "print(\"the count is:\",count)\n",
    "\n",
    "# step-1: i='h'  if 'h' in 'aeiou'  F  "
   ]
  },
  {
   "cell_type": "code",
   "execution_count": null,
   "id": "6f99b16c-3d1d-4c44-9cd9-9d5cf18a05ec",
   "metadata": {},
   "outputs": [],
   "source": [
    "count=0\n",
    "str1='hai naresh how are you'\n",
    "for i in str1:\n",
    "    if i=='a' or i=='e' or i=='i' or i=='o' or i=='u':\n",
    "        count=count+1\n",
    "print(\"the count is:\",count)\n",
    "\n",
    "\n",
    "str1='hai naresh how are you'\n",
    "count=0\n",
    "for i in str1:\n",
    "    if i=='a':\n",
    "        count=count+1\n",
    "print(count)\n",
    "\n",
    "# Idea: counter wrapper\n",
    "# step-1: count=0\n",
    "# step-2: using for loop in operator iterate through  given string\n",
    "# step-3: apply the if condition, whenever the letter equal to 'a'\n",
    "# step-4: count=count+1\n"
   ]
  },
  {
   "cell_type": "code",
   "execution_count": null,
   "id": "fed021aa-20ee-428b-84d1-814bf8887e83",
   "metadata": {},
   "outputs": [],
   "source": [
    "# Q3) Home work qn\n",
    "# str1='hai naresh how are you'\n",
    "# Repetaed vowels are there\n",
    "# We dont want repetaed vowels\n",
    "# Count the vowels avoid the repeatition: Unique vowels\n",
    "\n",
    "# Step-1: Count=0\n",
    "# Step-2: take one more empty string: ex= s2=''\n",
    "s2=''\n",
    "# Step-3: using for loop in operator iterate through  given string\n",
    "# step-4: condition-1: That letter shoud not avaialble in s2\n",
    "# step-5         condition-2: vowel check condition\n",
    "# step-6                     count=count+1\n",
    "# step-7:                    update the s2= s2=s2+<letter>"
   ]
  },
  {
   "cell_type": "markdown",
   "id": "fbdf9753-0213-43e3-a506-07f808730b10",
   "metadata": {},
   "source": [
    "**How to update the empty strings**"
   ]
  },
  {
   "cell_type": "code",
   "execution_count": 21,
   "id": "3fbc63dc-7c18-49c2-855f-26e3aae00bbe",
   "metadata": {},
   "outputs": [
    {
     "data": {
      "text/plain": [
       "'python'"
      ]
     },
     "execution_count": 21,
     "metadata": {},
     "output_type": "execute_result"
    }
   ],
   "source": [
    "s1='python'\n",
    "s2=''\n",
    "\n",
    "for i in s1:\n",
    "    s2=s2+i   # Concatenation\n",
    "\n",
    "s2"
   ]
  },
  {
   "cell_type": "markdown",
   "id": "39f47f15-c733-41e3-a5b7-893b1ce9548e",
   "metadata": {},
   "source": [
    "**Concatenation**"
   ]
  },
  {
   "cell_type": "code",
   "execution_count": 22,
   "id": "2ef699d5-6a80-4f7f-b170-132f8e10af5e",
   "metadata": {},
   "outputs": [
    {
     "data": {
      "text/plain": [
       "'hellobye'"
      ]
     },
     "execution_count": 22,
     "metadata": {},
     "output_type": "execute_result"
    }
   ],
   "source": [
    "s1='hello'\n",
    "s2='bye'\n",
    "s1+s2"
   ]
  },
  {
   "cell_type": "code",
   "execution_count": 23,
   "id": "85b52357-fb7c-484d-a8dc-52c2e6826000",
   "metadata": {},
   "outputs": [
    {
     "data": {
      "text/plain": [
       "'hello bye'"
      ]
     },
     "execution_count": 23,
     "metadata": {},
     "output_type": "execute_result"
    }
   ],
   "source": [
    "s1='hello '\n",
    "s2='bye'\n",
    "s1+s2"
   ]
  },
  {
   "cell_type": "code",
   "execution_count": 24,
   "id": "6d028d75-5dba-44fe-8b3f-c49857a07279",
   "metadata": {},
   "outputs": [
    {
     "data": {
      "text/plain": [
       "'hello bye'"
      ]
     },
     "execution_count": 24,
     "metadata": {},
     "output_type": "execute_result"
    }
   ],
   "source": [
    "s1='hello'\n",
    "s2=' bye'\n",
    "s1+s2"
   ]
  },
  {
   "cell_type": "code",
   "execution_count": 26,
   "id": "7ec4cbd6-bc76-440c-a18c-6cb7622a3eed",
   "metadata": {},
   "outputs": [
    {
     "data": {
      "text/plain": [
       "'hello bye'"
      ]
     },
     "execution_count": 26,
     "metadata": {},
     "output_type": "execute_result"
    }
   ],
   "source": [
    "s1='hello'\n",
    "s2=' '\n",
    "s3='bye'\n",
    "s4=s1+s2+s3\n",
    "s4"
   ]
  },
  {
   "cell_type": "code",
   "execution_count": null,
   "id": "23c4fbdf-bad2-4498-b7b6-413590851391",
   "metadata": {},
   "outputs": [],
   "source": [
    "s1='hello'\n",
    "s2='bye'\n",
    "s1*s2\n",
    "s1/s2\n",
    "s1-s2"
   ]
  },
  {
   "cell_type": "code",
   "execution_count": 27,
   "id": "41c6e8d7-4dbd-4a6a-ad5d-379f553a866c",
   "metadata": {},
   "outputs": [
    {
     "ename": "TypeError",
     "evalue": "can't multiply sequence by non-int of type 'str'",
     "output_type": "error",
     "traceback": [
      "\u001b[1;31m---------------------------------------------------------------------------\u001b[0m",
      "\u001b[1;31mTypeError\u001b[0m                                 Traceback (most recent call last)",
      "Cell \u001b[1;32mIn[27], line 3\u001b[0m\n\u001b[0;32m      1\u001b[0m s1\u001b[38;5;241m=\u001b[39m\u001b[38;5;124m'\u001b[39m\u001b[38;5;124mhello\u001b[39m\u001b[38;5;124m'\u001b[39m\n\u001b[0;32m      2\u001b[0m s2\u001b[38;5;241m=\u001b[39m\u001b[38;5;124m'\u001b[39m\u001b[38;5;124mbye\u001b[39m\u001b[38;5;124m'\u001b[39m\n\u001b[1;32m----> 3\u001b[0m s1\u001b[38;5;241m*\u001b[39ms2\n",
      "\u001b[1;31mTypeError\u001b[0m: can't multiply sequence by non-int of type 'str'"
     ]
    }
   ],
   "source": [
    "s1='hello'\n",
    "s2='bye'\n",
    "s1*s2"
   ]
  },
  {
   "cell_type": "code",
   "execution_count": 28,
   "id": "7f06b39e-7490-4c91-8871-46d78be298b9",
   "metadata": {},
   "outputs": [
    {
     "ename": "TypeError",
     "evalue": "unsupported operand type(s) for -: 'str' and 'str'",
     "output_type": "error",
     "traceback": [
      "\u001b[1;31m---------------------------------------------------------------------------\u001b[0m",
      "\u001b[1;31mTypeError\u001b[0m                                 Traceback (most recent call last)",
      "Cell \u001b[1;32mIn[28], line 3\u001b[0m\n\u001b[0;32m      1\u001b[0m s1\u001b[38;5;241m=\u001b[39m\u001b[38;5;124m'\u001b[39m\u001b[38;5;124mhello\u001b[39m\u001b[38;5;124m'\u001b[39m\n\u001b[0;32m      2\u001b[0m s2\u001b[38;5;241m=\u001b[39m\u001b[38;5;124m'\u001b[39m\u001b[38;5;124mbye\u001b[39m\u001b[38;5;124m'\u001b[39m\n\u001b[1;32m----> 3\u001b[0m s1\u001b[38;5;241m-\u001b[39ms2\n",
      "\u001b[1;31mTypeError\u001b[0m: unsupported operand type(s) for -: 'str' and 'str'"
     ]
    }
   ],
   "source": [
    "s1='hello'\n",
    "s2='bye'\n",
    "s1-s2"
   ]
  },
  {
   "cell_type": "code",
   "execution_count": 29,
   "id": "cfdb6c84-4ed6-4a24-9cac-e2864595c98b",
   "metadata": {},
   "outputs": [
    {
     "ename": "TypeError",
     "evalue": "unsupported operand type(s) for /: 'str' and 'str'",
     "output_type": "error",
     "traceback": [
      "\u001b[1;31m---------------------------------------------------------------------------\u001b[0m",
      "\u001b[1;31mTypeError\u001b[0m                                 Traceback (most recent call last)",
      "Cell \u001b[1;32mIn[29], line 1\u001b[0m\n\u001b[1;32m----> 1\u001b[0m s1\u001b[38;5;241m/\u001b[39ms2\n",
      "\u001b[1;31mTypeError\u001b[0m: unsupported operand type(s) for /: 'str' and 'str'"
     ]
    }
   ],
   "source": [
    "s1/s2"
   ]
  },
  {
   "cell_type": "code",
   "execution_count": null,
   "id": "352decd6-0518-4233-8ba7-fcbc2cdc4c00",
   "metadata": {},
   "outputs": [],
   "source": [
    "# s1*s2: can't multiply sequence by non-int of type 'str'  \n",
    "\n",
    "# s1-s2: unsupported operand type(s) for -: 'str' and 'str'\n",
    "\n",
    "# s1/s2:  unsupported operand type(s) for /: 'str' and 'str'"
   ]
  },
  {
   "cell_type": "code",
   "execution_count": 30,
   "id": "fc5525f0-a478-47dc-a788-9290cac75203",
   "metadata": {},
   "outputs": [
    {
     "data": {
      "text/plain": [
       "'hellohello'"
      ]
     },
     "execution_count": 30,
     "metadata": {},
     "output_type": "execute_result"
    }
   ],
   "source": [
    "s1='hello'\n",
    "s2=2\n",
    "s1*s2"
   ]
  },
  {
   "cell_type": "code",
   "execution_count": null,
   "id": "9e398b46-5ed6-4fae-af88-b98d71828e85",
   "metadata": {},
   "outputs": [],
   "source": [
    "s1+s1 ===> s1*2\n",
    "\n",
    "2*3    3*2"
   ]
  },
  {
   "cell_type": "markdown",
   "id": "3f1709f8-00f4-4538-a984-bdaaee95faf5",
   "metadata": {},
   "source": [
    "**Index**\n",
    "\n",
    "- Index meaning a number attached to a letter\n",
    "\n",
    "- In python index starts with zero\n",
    "\n",
    "- We have two directions\n",
    "\n",
    "    - Poistive direction\n",
    " \n",
    "      - Positive numbers starts with zero\n",
    " \n",
    "    - Negtaive direction\n",
    " \n",
    "      - Negative numbers starts with -1 , applicable to last letter"
   ]
  },
  {
   "cell_type": "code",
   "execution_count": null,
   "id": "158ef755-a77c-4358-8557-f63c3dd72ab9",
   "metadata": {},
   "outputs": [],
   "source": [
    "s1='python'\n",
    "\n",
    "-6  -5    -4    -3    -2   -1  === > negative\n",
    "p    y     t     h     o    n\n",
    "0    1     2     3     4    5  === > postive"
   ]
  },
  {
   "cell_type": "code",
   "execution_count": 35,
   "id": "02bb2cb9-406a-4cf3-866e-05c33a780442",
   "metadata": {},
   "outputs": [
    {
     "data": {
      "text/plain": [
       "('p', 'y', 't', 'h', 'o', 'n')"
      ]
     },
     "execution_count": 35,
     "metadata": {},
     "output_type": "execute_result"
    }
   ],
   "source": [
    "s1='python'\n",
    "s1[0],s1[1],s1[2],s1[3],s1[4],s1[5]"
   ]
  },
  {
   "cell_type": "code",
   "execution_count": 36,
   "id": "c8de659e-bf4b-4039-aa88-65a9d144b146",
   "metadata": {},
   "outputs": [
    {
     "data": {
      "text/plain": [
       "('n', 'o', 'h', 't', 'y', 'p')"
      ]
     },
     "execution_count": 36,
     "metadata": {},
     "output_type": "execute_result"
    }
   ],
   "source": [
    "s1='python'\n",
    "s1[-1],s1[-2],s1[-3],s1[-4],s1[-5],s1[-6]"
   ]
  },
  {
   "cell_type": "markdown",
   "id": "87582ec0-de77-43ac-8b14-0c05c24f3f80",
   "metadata": {},
   "source": [
    "**mutable-immutable concept**\n",
    "- mutable: it can change\n",
    "    - we can change using indexing\n",
    "    - list\n",
    "- immutable:can not change\n",
    "    - we can not change using indexing\n",
    "    - strings are immutable"
   ]
  },
  {
   "cell_type": "code",
   "execution_count": 3,
   "id": "659e320e-0350-478c-b39a-2df86362076d",
   "metadata": {},
   "outputs": [
    {
     "ename": "TypeError",
     "evalue": "'str' object does not support item assignment",
     "output_type": "error",
     "traceback": [
      "\u001b[1;31m---------------------------------------------------------------------------\u001b[0m",
      "\u001b[1;31mTypeError\u001b[0m                                 Traceback (most recent call last)",
      "Cell \u001b[1;32mIn[3], line 3\u001b[0m\n\u001b[0;32m      1\u001b[0m s\u001b[38;5;241m=\u001b[39m\u001b[38;5;124m'\u001b[39m\u001b[38;5;124mwelcome\u001b[39m\u001b[38;5;124m'\u001b[39m\n\u001b[0;32m      2\u001b[0m \u001b[38;5;66;03m#i want to replace 'l' with 'L\"\u001b[39;00m\n\u001b[1;32m----> 3\u001b[0m s[\u001b[38;5;241m2\u001b[39m]\u001b[38;5;241m=\u001b[39m\u001b[38;5;124m'\u001b[39m\u001b[38;5;124mL\u001b[39m\u001b[38;5;124m'\u001b[39m\n",
      "\u001b[1;31mTypeError\u001b[0m: 'str' object does not support item assignment"
     ]
    }
   ],
   "source": [
    "s='welcome'\n",
    "#i want to replace 'l' with 'L\"\n",
    "s[2]='L'"
   ]
  },
  {
   "cell_type": "markdown",
   "id": "f978b3c1-5839-4efb-ba2d-0101086be82d",
   "metadata": {},
   "source": [
    "**strings are immutable**"
   ]
  },
  {
   "cell_type": "code",
   "execution_count": 5,
   "id": "702c13d9-bf8b-4251-95d2-c3e7068260a0",
   "metadata": {},
   "outputs": [
    {
     "name": "stdout",
     "output_type": "stream",
     "text": [
      "[1, 200, 3, 4]\n"
     ]
    }
   ],
   "source": [
    "l=[1,2,3,4]\n",
    "l[1]=200\n",
    "print(l)"
   ]
  },
  {
   "cell_type": "code",
   "execution_count": 7,
   "id": "435b970b-4b3e-4320-80c5-db9ecbf78fce",
   "metadata": {},
   "outputs": [
    {
     "name": "stdout",
     "output_type": "stream",
     "text": [
      "w e l c o m e "
     ]
    }
   ],
   "source": [
    "#q4 print each letter using for loop range\n",
    "#range belongs to which family : math\n",
    "#inside bracket what we need to provide : number\n",
    "# how many numbers we need to provide: len of string\n",
    "#how to access the letter using number : by using index\n",
    "s=\"welcome\"\n",
    "for i in range(len(s)):\n",
    "    print(s[i],end=' ')"
   ]
  },
  {
   "cell_type": "markdown",
   "id": "22ff02f5-dce2-4a5f-a4b2-b3a6f31b234c",
   "metadata": {},
   "source": [
    "**for loop and in operator**\n",
    "- for-in directly access the letter\n",
    "- for-range will access using index"
   ]
  },
  {
   "cell_type": "code",
   "execution_count": 8,
   "id": "cf629f12-36b7-46df-86f3-8f839f851c69",
   "metadata": {},
   "outputs": [
    {
     "name": "stdout",
     "output_type": "stream",
     "text": [
      "t h a n k s "
     ]
    }
   ],
   "source": [
    "s2=\"thanks\"\n",
    "for i in s2:\n",
    "    print(i,end=' ')"
   ]
  },
  {
   "cell_type": "code",
   "execution_count": 9,
   "id": "a33c1ca4-1545-4a0a-b69a-80a811c842af",
   "metadata": {},
   "outputs": [
    {
     "name": "stdout",
     "output_type": "stream",
     "text": [
      "the positive index of w is 0\n",
      "the positive index of e is 1\n",
      "the positive index of l is 2\n",
      "the positive index of c is 3\n",
      "the positive index of o is 4\n",
      "the positive index of m is 5\n",
      "the positive index of e is 6\n"
     ]
    }
   ],
   "source": [
    "# write a program ask the user itearte using a string\n",
    "#print the positive index of w is 0 \n",
    "# the \n",
    "s='welcome'\n",
    "for i in range(len(s)):\n",
    "    print(f\"the positive index of {s[i]} is {i}\")"
   ]
  },
  {
   "cell_type": "markdown",
   "id": "73780f21-b781-49f5-ac46-51ec0d6a3378",
   "metadata": {},
   "source": [
    "- strings"
   ]
  },
  {
   "cell_type": "code",
   "execution_count": 19,
   "id": "b300322a-147e-4f1e-b41d-6187ec56eec0",
   "metadata": {},
   "outputs": [
    {
     "name": "stdout",
     "output_type": "stream",
     "text": [
      "the positive index of w is 0\n",
      "the negative index of w is -7\n",
      "the positive index of e is 1\n",
      "the negative index of e is -6\n",
      "the positive index of l is 2\n",
      "the negative index of l is -5\n",
      "the positive index of c is 3\n",
      "the negative index of c is -4\n",
      "the positive index of o is 4\n",
      "the negative index of o is -3\n",
      "the positive index of m is 5\n",
      "the negative index of m is -2\n",
      "the positive index of e is 6\n",
      "the negative index of e is -1\n"
     ]
    }
   ],
   "source": [
    "for i in range(-len(s),0,1):\n",
    "    print(f\"the positive index of {s[i+len(s)]} is {i+len(s)}\")\n",
    "    print(f\"the negative index of {s[i]} is {i}\")"
   ]
  },
  {
   "cell_type": "code",
   "execution_count": 20,
   "id": "4ce3d469-ddc3-4c3d-b825-93534611a676",
   "metadata": {},
   "outputs": [
    {
     "name": "stdout",
     "output_type": "stream",
     "text": [
      "1\n",
      "8\n",
      "18\n"
     ]
    }
   ],
   "source": [
    "# wap ask the user get the index of each a in a given string\n",
    "s2='hai how are you i am good'\n",
    "for i in range(len(s2)):\n",
    "    if s2[i]=='a':\n",
    "        print(i)"
   ]
  },
  {
   "cell_type": "code",
   "execution_count": 29,
   "id": "13e4cc74-8ae8-4f99-9bce-27c30a55b154",
   "metadata": {},
   "outputs": [
    {
     "name": "stdout",
     "output_type": "stream",
     "text": [
      "2\n",
      "10\n",
      "aieoaeouee"
     ]
    }
   ],
   "source": [
    "# wap ask the user to get count of no of a in a given string using for range\n",
    "# wap ask the user get the sum of all index numbers of a \n",
    "# wap ask the user get the vowles of a given string using for range\n",
    "c=0\n",
    "s=0\n",
    "s2=\"hai helo are you there\"\n",
    "for i in range(len(s2)):\n",
    "    if s2[i]=='a':\n",
    "        c+=1\n",
    "        s+=i\n",
    "print(c)\n",
    "print(s)\n",
    "for i in range(len(s2)):\n",
    "    if s2[i] in s3:#if s2[i] in 'aeiou'\n",
    "        print(s2[i],end='')\n"
   ]
  },
  {
   "cell_type": "code",
   "execution_count": 36,
   "id": "fdf35697-69d7-4412-8da4-2c5287a62d3c",
   "metadata": {},
   "outputs": [
    {
     "name": "stdout",
     "output_type": "stream",
     "text": [
      "aioeu\n"
     ]
    }
   ],
   "source": [
    "s1=''\n",
    "s=\"hai hlo are u\"\n",
    "for i in range(len(s)):\n",
    "    if s[i] not in s1 and s[i] in 'aeiou':\n",
    "            s1=s1+s2[i]\n",
    "print(s1)"
   ]
  },
  {
   "cell_type": "code",
   "execution_count": 39,
   "id": "54943b44-4f85-4fda-a312-5a7eae67a949",
   "metadata": {},
   "outputs": [],
   "source": [
    "# q14 string 1 ='ola ola ola' # ola 3 times print 3\n",
    "# q15 string 1='hello hello hello how how how how how'# no of repeated words is how\n",
    "# q16 s1='hellooooooo how areee u'#maximum length of word is helloooooo and minimum is u\n",
    "# q17 without using sorted then sort the letters"
   ]
  },
  {
   "cell_type": "code",
   "execution_count": 38,
   "id": "7ffa4e78-5a38-46d8-abe8-f2c5aee22c9b",
   "metadata": {},
   "outputs": [],
   "source": [
    "s1='ola ola ola '"
   ]
  },
  {
   "cell_type": "markdown",
   "id": "655bf450-ba35-4d11-9b56-7ac92becaf67",
   "metadata": {},
   "source": [
    "**slice in python**"
   ]
  },
  {
   "cell_type": "markdown",
   "id": "a7fdc94f-4e73-4ac0-aa26-192e152d4465",
   "metadata": {},
   "source": [
    "- we can cut into pieces\n",
    "- similar to range concepts\n",
    "- start,stop,step here also same"
   ]
  },
  {
   "cell_type": "code",
   "execution_count": 1,
   "id": "5eaf680d-0d04-424a-b93d-2920f1f77c48",
   "metadata": {},
   "outputs": [],
   "source": [
    "str1='hai how are you'\n"
   ]
  },
  {
   "cell_type": "markdown",
   "id": "dee0410b-59cf-4ec3-a65a-7dbcebab2225",
   "metadata": {},
   "source": [
    "- -15 -14 -13 -12 -11 -10 -9 -8 -7 -6 -5 -4 -3 -2 -1\n",
    "-  h   a   i       h   o   w      a  r  e    y   o  u\n",
    "-  0   1   2  3    4   5   6  7   8  9  10 11 12 13 14"
   ]
  },
  {
   "cell_type": "code",
   "execution_count": null,
   "id": "5cbce4c4-dc98-4369-8c19-8f42a6868f6e",
   "metadata": {},
   "outputs": [],
   "source": [
    "str1[start:stop:step]"
   ]
  },
  {
   "cell_type": "markdown",
   "id": "11dfd28e-e06f-4a38-b3f2-ed1d54719a63",
   "metadata": {},
   "source": [
    "$pattern-1$\n",
    "**str1[strat:]**\n",
    "- by default start value = start only\n",
    "- last value=last only,not mentioned automatically it will go till=last only\n",
    "- step nothing mntioned means , it is a positive direction and increment by 1"
   ]
  },
  {
   "cell_type": "code",
   "execution_count": 12,
   "id": "b9dfc210-c29d-4d6f-a6ed-ae659a664bf5",
   "metadata": {},
   "outputs": [
    {
     "data": {
      "text/plain": [
       "('ow are you', 'ow are you')"
      ]
     },
     "execution_count": 12,
     "metadata": {},
     "output_type": "execute_result"
    }
   ],
   "source": [
    "#- -15 -14 -13 -12 -11 -10 -9 -8 -7 -6 -5 -4 -3 -2 -1\n",
    "#-  h   a   i       h   o   w      a  r  e    y   o  u\n",
    "#-  0   1   2  3    4   5   6  7   8  9  10 11 12 13 14\n",
    "str1[5:],str1[-10:]"
   ]
  },
  {
   "cell_type": "code",
   "execution_count": 6,
   "id": "d34d0fae-f920-466e-b486-5b217d7844d1",
   "metadata": {},
   "outputs": [
    {
     "data": {
      "text/plain": [
       "'e you'"
      ]
     },
     "execution_count": 6,
     "metadata": {},
     "output_type": "execute_result"
    }
   ],
   "source": [
    "str1[10:]"
   ]
  },
  {
   "cell_type": "code",
   "execution_count": 7,
   "id": "4ad3f26e-f564-4257-a6be-dd5912824f2c",
   "metadata": {},
   "outputs": [
    {
     "data": {
      "text/plain": [
       "'e you'"
      ]
     },
     "execution_count": 7,
     "metadata": {},
     "output_type": "execute_result"
    }
   ],
   "source": [
    "str1[-5:]"
   ]
  },
  {
   "cell_type": "code",
   "execution_count": 9,
   "id": "055231fe-3cb9-4591-8225-0e56efe0f3e6",
   "metadata": {},
   "outputs": [
    {
     "data": {
      "text/plain": [
       "'era woh'"
      ]
     },
     "execution_count": 9,
     "metadata": {},
     "output_type": "execute_result"
    }
   ],
   "source": [
    "str1[10:-12:-1]"
   ]
  },
  {
   "cell_type": "markdown",
   "id": "4e4ebf3d-b909-484a-9a88-3886a58e0a0f",
   "metadata": {},
   "source": [
    "$pattern-2$"
   ]
  },
  {
   "cell_type": "markdown",
   "id": "93f09944-7872-4c8a-bcf8-8a5b5ab33aec",
   "metadata": {},
   "source": [
    "- str1[start:stop]\n",
    "- start value means by default startonly\n",
    "- step is not mentioned positive direction\n",
    "- last value is stop-1"
   ]
  },
  {
   "cell_type": "code",
   "execution_count": 14,
   "id": "d85488f5-c9f0-472b-ba7c-073c16f86d13",
   "metadata": {},
   "outputs": [
    {
     "data": {
      "text/plain": [
       "'how are '"
      ]
     },
     "execution_count": 14,
     "metadata": {},
     "output_type": "execute_result"
    }
   ],
   "source": [
    "str1[4:12]"
   ]
  },
  {
   "cell_type": "code",
   "execution_count": 15,
   "id": "eda0c4ef-9ca7-482a-8ff0-2a2a90a368e1",
   "metadata": {},
   "outputs": [
    {
     "data": {
      "text/plain": [
       "'how are you'"
      ]
     },
     "execution_count": 15,
     "metadata": {},
     "output_type": "execute_result"
    }
   ],
   "source": [
    "str1[4:len(str1)]"
   ]
  },
  {
   "cell_type": "code",
   "execution_count": 17,
   "id": "0487f335-1721-4713-97c1-683faa248319",
   "metadata": {},
   "outputs": [
    {
     "data": {
      "text/plain": [
       "'e yo'"
      ]
     },
     "execution_count": 17,
     "metadata": {},
     "output_type": "execute_result"
    }
   ],
   "source": [
    "str1[-5:14]"
   ]
  },
  {
   "cell_type": "code",
   "execution_count": 20,
   "id": "54e08961-d504-411d-a573-fed5156e31b5",
   "metadata": {},
   "outputs": [
    {
     "data": {
      "text/plain": [
       "''"
      ]
     },
     "execution_count": 20,
     "metadata": {},
     "output_type": "execute_result"
    }
   ],
   "source": [
    "str1[5:-14]"
   ]
  },
  {
   "cell_type": "code",
   "execution_count": 21,
   "id": "44439ea3-4948-47e0-8101-323d177df11d",
   "metadata": {},
   "outputs": [
    {
     "data": {
      "text/plain": [
       "'how are'"
      ]
     },
     "execution_count": 21,
     "metadata": {},
     "output_type": "execute_result"
    }
   ],
   "source": [
    "str1[4:-4]"
   ]
  },
  {
   "cell_type": "code",
   "execution_count": 23,
   "id": "26dfd72a-52e2-49bd-b50a-6c5714eb7f54",
   "metadata": {},
   "outputs": [
    {
     "data": {
      "text/plain": [
       "''"
      ]
     },
     "execution_count": 23,
     "metadata": {},
     "output_type": "execute_result"
    }
   ],
   "source": [
    "str1[-5:-14] #positive"
   ]
  },
  {
   "cell_type": "markdown",
   "id": "5e8ecb4d-ab76-4148-9ffa-84ba92a60245",
   "metadata": {},
   "source": [
    "$truncation$"
   ]
  },
  {
   "cell_type": "markdown",
   "id": "e98baad2-2ab5-48dd-9bc7-f75c2fd1be4d",
   "metadata": {},
   "source": [
    "- when ever the string range is limited,but we provided unlimited number then\n",
    "- string will consider till the range only\n",
    "- in the above example our range only 15 letters\n",
    "- we provided 500,then 500 will truncate to till 15 letters only"
   ]
  },
  {
   "cell_type": "code",
   "execution_count": 24,
   "id": "d9c1bcc0-e70c-4579-a08b-1c3da147d36d",
   "metadata": {},
   "outputs": [
    {
     "data": {
      "text/plain": [
       "'ow are you'"
      ]
     },
     "execution_count": 24,
     "metadata": {},
     "output_type": "execute_result"
    }
   ],
   "source": [
    "str1[5:400]"
   ]
  },
  {
   "cell_type": "code",
   "execution_count": 25,
   "id": "8aee74cc-b74d-473a-a6d6-8bd82a9075a0",
   "metadata": {},
   "outputs": [
    {
     "data": {
      "text/plain": [
       "'hai how are you'"
      ]
     },
     "execution_count": 25,
     "metadata": {},
     "output_type": "execute_result"
    }
   ],
   "source": [
    "str1[-500:500]"
   ]
  },
  {
   "cell_type": "code",
   "execution_count": 26,
   "id": "18a372b6-7340-4d13-86bd-784368b08421",
   "metadata": {},
   "outputs": [
    {
     "data": {
      "text/plain": [
       "'u'"
      ]
     },
     "execution_count": 26,
     "metadata": {},
     "output_type": "execute_result"
    }
   ],
   "source": [
    "str1[-1:500]"
   ]
  },
  {
   "cell_type": "code",
   "execution_count": 27,
   "id": "d2b6bd12-d226-45b8-8a78-a45067872883",
   "metadata": {},
   "outputs": [
    {
     "data": {
      "text/plain": [
       "''"
      ]
     },
     "execution_count": 27,
     "metadata": {},
     "output_type": "execute_result"
    }
   ],
   "source": [
    "str1[500:]"
   ]
  },
  {
   "cell_type": "code",
   "execution_count": 28,
   "id": "169a1141-9a81-45e0-98a2-9fd804c99a4d",
   "metadata": {},
   "outputs": [
    {
     "data": {
      "text/plain": [
       "''"
      ]
     },
     "execution_count": 28,
     "metadata": {},
     "output_type": "execute_result"
    }
   ],
   "source": [
    "str1[-550:-100]"
   ]
  },
  {
   "cell_type": "markdown",
   "id": "08a64f22-d00e-45de-ad89-ca9dfb0c1887",
   "metadata": {},
   "source": [
    "$pattern-3$"
   ]
  },
  {
   "cell_type": "markdown",
   "id": "83542233-1779-45d6-9992-7c9cfdd6e6a8",
   "metadata": {},
   "source": [
    "- str1[start:stop:step]\n",
    "- start value means start only\n",
    "- if step value positive\n",
    "    - last value=stop value-1\n",
    "- if step value is negative\n",
    "    - then last value=stop+1"
   ]
  },
  {
   "cell_type": "code",
   "execution_count": 29,
   "id": "4a690ab7-5322-493f-a37b-f33e5cdcbd7e",
   "metadata": {},
   "outputs": [
    {
     "data": {
      "text/plain": [
       "'ihwaey'"
      ]
     },
     "execution_count": 29,
     "metadata": {},
     "output_type": "execute_result"
    }
   ],
   "source": [
    "str1[2:13:2]"
   ]
  },
  {
   "cell_type": "code",
   "execution_count": 30,
   "id": "40e17de3-027b-4e54-9828-cb0050d73e9c",
   "metadata": {},
   "outputs": [
    {
     "data": {
      "text/plain": [
       "''"
      ]
     },
     "execution_count": 30,
     "metadata": {},
     "output_type": "execute_result"
    }
   ],
   "source": [
    "str1[2:13:-2]"
   ]
  },
  {
   "cell_type": "code",
   "execution_count": 45,
   "id": "48d64cea-4430-4f87-be04-99aa3c32eb7e",
   "metadata": {},
   "outputs": [
    {
     "data": {
      "text/plain": [
       "''"
      ]
     },
     "execution_count": 45,
     "metadata": {},
     "output_type": "execute_result"
    }
   ],
   "source": [
    "str1[2:-13:1]"
   ]
  },
  {
   "cell_type": "code",
   "execution_count": 49,
   "id": "7a7e14e8-7b3a-43b4-8056-d0726d3f9aa4",
   "metadata": {},
   "outputs": [
    {
     "data": {
      "text/plain": [
       "''"
      ]
     },
     "execution_count": 49,
     "metadata": {},
     "output_type": "execute_result"
    }
   ],
   "source": [
    "str1[2:-13:-1]"
   ]
  },
  {
   "cell_type": "code",
   "execution_count": 50,
   "id": "8b3029d3-3890-4f59-8dee-78923c04015f",
   "metadata": {},
   "outputs": [
    {
     "data": {
      "text/plain": [
       "''"
      ]
     },
     "execution_count": 50,
     "metadata": {},
     "output_type": "execute_result"
    }
   ],
   "source": [
    "str1[-2:13:2]"
   ]
  },
  {
   "cell_type": "code",
   "execution_count": 34,
   "id": "525174b6-5614-4f7e-8046-b819876f42b6",
   "metadata": {},
   "outputs": [
    {
     "data": {
      "text/plain": [
       "'o r o '"
      ]
     },
     "execution_count": 34,
     "metadata": {},
     "output_type": "execute_result"
    }
   ],
   "source": [
    "str1[-2:-13:-2]"
   ]
  },
  {
   "cell_type": "code",
   "execution_count": 35,
   "id": "8c4fb5bd-c295-4630-b7f5-15e633f8b850",
   "metadata": {},
   "outputs": [
    {
     "data": {
      "text/plain": [
       "''"
      ]
     },
     "execution_count": 35,
     "metadata": {},
     "output_type": "execute_result"
    }
   ],
   "source": [
    "str1[13:2:2]"
   ]
  },
  {
   "cell_type": "code",
   "execution_count": 36,
   "id": "d3babe1d-b77f-4229-918f-5e83615538d2",
   "metadata": {},
   "outputs": [
    {
     "data": {
      "text/plain": [
       "''"
      ]
     },
     "execution_count": 36,
     "metadata": {},
     "output_type": "execute_result"
    }
   ],
   "source": [
    "str1[-13:2:2]"
   ]
  },
  {
   "cell_type": "code",
   "execution_count": 37,
   "id": "3dce6fea-c09d-4f9b-a6f0-d2f5a8399594",
   "metadata": {},
   "outputs": [
    {
     "data": {
      "text/plain": [
       "'ihwaey'"
      ]
     },
     "execution_count": 37,
     "metadata": {},
     "output_type": "execute_result"
    }
   ],
   "source": [
    "str1[-13:-2:2]"
   ]
  },
  {
   "cell_type": "code",
   "execution_count": 39,
   "id": "50504dfb-1471-4844-b469-1d3baec43014",
   "metadata": {},
   "outputs": [
    {
     "data": {
      "text/plain": [
       "''"
      ]
     },
     "execution_count": 39,
     "metadata": {},
     "output_type": "execute_result"
    }
   ],
   "source": [
    "str1[-13:-2:-2]"
   ]
  },
  {
   "cell_type": "code",
   "execution_count": 40,
   "id": "146cb2a2-5d68-4bf1-998c-96219d43404a",
   "metadata": {},
   "outputs": [
    {
     "data": {
      "text/plain": [
       "''"
      ]
     },
     "execution_count": 40,
     "metadata": {},
     "output_type": "execute_result"
    }
   ],
   "source": [
    "str1[-13:2:-2]"
   ]
  },
  {
   "cell_type": "code",
   "execution_count": 47,
   "id": "4191ee5b-0ad4-422f-8005-dbc007b4635c",
   "metadata": {},
   "outputs": [
    {
     "data": {
      "text/plain": [
       "'i'"
      ]
     },
     "execution_count": 47,
     "metadata": {},
     "output_type": "execute_result"
    }
   ],
   "source": [
    "str1[2:3:2]"
   ]
  },
  {
   "cell_type": "code",
   "execution_count": 51,
   "id": "387eb1f2-f4d8-43f1-8e88-b9ad627814b0",
   "metadata": {},
   "outputs": [
    {
     "data": {
      "text/plain": [
       "'uyeaw'"
      ]
     },
     "execution_count": 51,
     "metadata": {},
     "output_type": "execute_result"
    }
   ],
   "source": [
    "str1[:5:-2]"
   ]
  },
  {
   "cell_type": "code",
   "execution_count": null,
   "id": "ced3c390-d8b7-4b01-b577-6d8400fdc4b7",
   "metadata": {},
   "outputs": [],
   "source": [
    "str1[:] #complete string\n",
    "str1[::]#complete string\n",
    "str1[<start>::-1]#reverse start value -1\n",
    "str1[<start>:5:-2]"
   ]
  },
  {
   "cell_type": "markdown",
   "id": "ca796b83-9ada-404c-b4fa-9924e531863f",
   "metadata": {},
   "source": [
    "**methods**\n",
    "- strings lists tuple dictionary every data type has its own methods\n",
    "- we already seen that packages has different method\n",
    "- for example random package:randint method\n",
    "- math package:sqrt\n",
    "- in the same way strings also have methods\n",
    "- in order to see methods for the packages\n",
    "    - we are imporing packages\n",
    "    - we are apllying dir\n",
    "- in the similar way in order to see the methods of string,we need to apply dir only"
   ]
  },
  {
   "cell_type": "code",
   "execution_count": 52,
   "id": "3a3dd90e-1a5f-4a48-8bd2-fb99b302dc05",
   "metadata": {},
   "outputs": [
    {
     "data": {
      "text/plain": [
       "['__add__',\n",
       " '__class__',\n",
       " '__contains__',\n",
       " '__delattr__',\n",
       " '__dir__',\n",
       " '__doc__',\n",
       " '__eq__',\n",
       " '__format__',\n",
       " '__ge__',\n",
       " '__getattribute__',\n",
       " '__getitem__',\n",
       " '__getnewargs__',\n",
       " '__getstate__',\n",
       " '__gt__',\n",
       " '__hash__',\n",
       " '__init__',\n",
       " '__init_subclass__',\n",
       " '__iter__',\n",
       " '__le__',\n",
       " '__len__',\n",
       " '__lt__',\n",
       " '__mod__',\n",
       " '__mul__',\n",
       " '__ne__',\n",
       " '__new__',\n",
       " '__reduce__',\n",
       " '__reduce_ex__',\n",
       " '__repr__',\n",
       " '__rmod__',\n",
       " '__rmul__',\n",
       " '__setattr__',\n",
       " '__sizeof__',\n",
       " '__str__',\n",
       " '__subclasshook__',\n",
       " 'capitalize',\n",
       " 'casefold',\n",
       " 'center',\n",
       " 'count',\n",
       " 'encode',\n",
       " 'endswith',\n",
       " 'expandtabs',\n",
       " 'find',\n",
       " 'format',\n",
       " 'format_map',\n",
       " 'index',\n",
       " 'isalnum',\n",
       " 'isalpha',\n",
       " 'isascii',\n",
       " 'isdecimal',\n",
       " 'isdigit',\n",
       " 'isidentifier',\n",
       " 'islower',\n",
       " 'isnumeric',\n",
       " 'isprintable',\n",
       " 'isspace',\n",
       " 'istitle',\n",
       " 'isupper',\n",
       " 'join',\n",
       " 'ljust',\n",
       " 'lower',\n",
       " 'lstrip',\n",
       " 'maketrans',\n",
       " 'partition',\n",
       " 'removeprefix',\n",
       " 'removesuffix',\n",
       " 'replace',\n",
       " 'rfind',\n",
       " 'rindex',\n",
       " 'rjust',\n",
       " 'rpartition',\n",
       " 'rsplit',\n",
       " 'rstrip',\n",
       " 'split',\n",
       " 'splitlines',\n",
       " 'startswith',\n",
       " 'strip',\n",
       " 'swapcase',\n",
       " 'title',\n",
       " 'translate',\n",
       " 'upper',\n",
       " 'zfill']"
      ]
     },
     "execution_count": 52,
     "metadata": {},
     "output_type": "execute_result"
    }
   ],
   "source": [
    "dir('')"
   ]
  },
  {
   "cell_type": "code",
   "execution_count": 53,
   "id": "423003e0-f6a5-4769-9b73-5e8915dbfc1a",
   "metadata": {},
   "outputs": [
    {
     "data": {
      "text/plain": [
       "['__add__',\n",
       " '__class__',\n",
       " '__contains__',\n",
       " '__delattr__',\n",
       " '__dir__',\n",
       " '__doc__',\n",
       " '__eq__',\n",
       " '__format__',\n",
       " '__ge__',\n",
       " '__getattribute__',\n",
       " '__getitem__',\n",
       " '__getnewargs__',\n",
       " '__getstate__',\n",
       " '__gt__',\n",
       " '__hash__',\n",
       " '__init__',\n",
       " '__init_subclass__',\n",
       " '__iter__',\n",
       " '__le__',\n",
       " '__len__',\n",
       " '__lt__',\n",
       " '__mod__',\n",
       " '__mul__',\n",
       " '__ne__',\n",
       " '__new__',\n",
       " '__reduce__',\n",
       " '__reduce_ex__',\n",
       " '__repr__',\n",
       " '__rmod__',\n",
       " '__rmul__',\n",
       " '__setattr__',\n",
       " '__sizeof__',\n",
       " '__str__',\n",
       " '__subclasshook__',\n",
       " 'capitalize',\n",
       " 'casefold',\n",
       " 'center',\n",
       " 'count',\n",
       " 'encode',\n",
       " 'endswith',\n",
       " 'expandtabs',\n",
       " 'find',\n",
       " 'format',\n",
       " 'format_map',\n",
       " 'index',\n",
       " 'isalnum',\n",
       " 'isalpha',\n",
       " 'isascii',\n",
       " 'isdecimal',\n",
       " 'isdigit',\n",
       " 'isidentifier',\n",
       " 'islower',\n",
       " 'isnumeric',\n",
       " 'isprintable',\n",
       " 'isspace',\n",
       " 'istitle',\n",
       " 'isupper',\n",
       " 'join',\n",
       " 'ljust',\n",
       " 'lower',\n",
       " 'lstrip',\n",
       " 'maketrans',\n",
       " 'partition',\n",
       " 'removeprefix',\n",
       " 'removesuffix',\n",
       " 'replace',\n",
       " 'rfind',\n",
       " 'rindex',\n",
       " 'rjust',\n",
       " 'rpartition',\n",
       " 'rsplit',\n",
       " 'rstrip',\n",
       " 'split',\n",
       " 'splitlines',\n",
       " 'startswith',\n",
       " 'strip',\n",
       " 'swapcase',\n",
       " 'title',\n",
       " 'translate',\n",
       " 'upper',\n",
       " 'zfill']"
      ]
     },
     "execution_count": 53,
     "metadata": {},
     "output_type": "execute_result"
    }
   ],
   "source": [
    "dir(str1)"
   ]
  },
  {
   "cell_type": "code",
   "execution_count": 54,
   "id": "fa77227d-3ae4-4ab3-bcaf-8fae3e0cdc4e",
   "metadata": {},
   "outputs": [
    {
     "data": {
      "text/plain": [
       "['__add__',\n",
       " '__class__',\n",
       " '__contains__',\n",
       " '__delattr__',\n",
       " '__dir__',\n",
       " '__doc__',\n",
       " '__eq__',\n",
       " '__format__',\n",
       " '__ge__',\n",
       " '__getattribute__',\n",
       " '__getitem__',\n",
       " '__getnewargs__',\n",
       " '__getstate__',\n",
       " '__gt__',\n",
       " '__hash__',\n",
       " '__init__',\n",
       " '__init_subclass__',\n",
       " '__iter__',\n",
       " '__le__',\n",
       " '__len__',\n",
       " '__lt__',\n",
       " '__mod__',\n",
       " '__mul__',\n",
       " '__ne__',\n",
       " '__new__',\n",
       " '__reduce__',\n",
       " '__reduce_ex__',\n",
       " '__repr__',\n",
       " '__rmod__',\n",
       " '__rmul__',\n",
       " '__setattr__',\n",
       " '__sizeof__',\n",
       " '__str__',\n",
       " '__subclasshook__',\n",
       " 'capitalize',\n",
       " 'casefold',\n",
       " 'center',\n",
       " 'count',\n",
       " 'encode',\n",
       " 'endswith',\n",
       " 'expandtabs',\n",
       " 'find',\n",
       " 'format',\n",
       " 'format_map',\n",
       " 'index',\n",
       " 'isalnum',\n",
       " 'isalpha',\n",
       " 'isascii',\n",
       " 'isdecimal',\n",
       " 'isdigit',\n",
       " 'isidentifier',\n",
       " 'islower',\n",
       " 'isnumeric',\n",
       " 'isprintable',\n",
       " 'isspace',\n",
       " 'istitle',\n",
       " 'isupper',\n",
       " 'join',\n",
       " 'ljust',\n",
       " 'lower',\n",
       " 'lstrip',\n",
       " 'maketrans',\n",
       " 'partition',\n",
       " 'removeprefix',\n",
       " 'removesuffix',\n",
       " 'replace',\n",
       " 'rfind',\n",
       " 'rindex',\n",
       " 'rjust',\n",
       " 'rpartition',\n",
       " 'rsplit',\n",
       " 'rstrip',\n",
       " 'split',\n",
       " 'splitlines',\n",
       " 'startswith',\n",
       " 'strip',\n",
       " 'swapcase',\n",
       " 'title',\n",
       " 'translate',\n",
       " 'upper',\n",
       " 'zfill']"
      ]
     },
     "execution_count": 54,
     "metadata": {},
     "output_type": "execute_result"
    }
   ],
   "source": [
    "dir('ha')"
   ]
  },
  {
   "cell_type": "markdown",
   "id": "b092d78c-40dd-4463-895e-539a2e58ce08",
   "metadata": {},
   "source": [
    "- lower,upper,capitalize,title,casefold,center"
   ]
  },
  {
   "cell_type": "code",
   "execution_count": 55,
   "id": "269aacc1-9338-4259-bd0f-08fd2df05a4b",
   "metadata": {},
   "outputs": [
    {
     "data": {
      "text/plain": [
       "'hai how are you'"
      ]
     },
     "execution_count": 55,
     "metadata": {},
     "output_type": "execute_result"
    }
   ],
   "source": [
    "s='hai how are you'\n",
    "s"
   ]
  },
  {
   "cell_type": "code",
   "execution_count": 56,
   "id": "f108bc93-8957-4075-ad84-d8273dfc1fd7",
   "metadata": {},
   "outputs": [
    {
     "data": {
      "text/plain": [
       "'HAI HOW ARE YOU'"
      ]
     },
     "execution_count": 56,
     "metadata": {},
     "output_type": "execute_result"
    }
   ],
   "source": [
    "s.upper()"
   ]
  },
  {
   "cell_type": "code",
   "execution_count": 57,
   "id": "c7436036-aa3a-4e3d-b74d-d0a76a21e458",
   "metadata": {},
   "outputs": [
    {
     "data": {
      "text/plain": [
       "'hai how are you'"
      ]
     },
     "execution_count": 57,
     "metadata": {},
     "output_type": "execute_result"
    }
   ],
   "source": [
    "s"
   ]
  },
  {
   "cell_type": "code",
   "execution_count": 58,
   "id": "3df70475-372c-4a7f-b3bd-e6c968d0b053",
   "metadata": {},
   "outputs": [
    {
     "data": {
      "text/plain": [
       "'hai how are you'"
      ]
     },
     "execution_count": 58,
     "metadata": {},
     "output_type": "execute_result"
    }
   ],
   "source": [
    "s.lower()"
   ]
  },
  {
   "cell_type": "code",
   "execution_count": 59,
   "id": "7020ca90-c828-49f8-8271-30623791c7a4",
   "metadata": {},
   "outputs": [
    {
     "data": {
      "text/plain": [
       "'Hai how are you'"
      ]
     },
     "execution_count": 59,
     "metadata": {},
     "output_type": "execute_result"
    }
   ],
   "source": [
    "s.capitalize()"
   ]
  },
  {
   "cell_type": "code",
   "execution_count": 60,
   "id": "fc418c58-9d62-461d-9c89-814b066e931d",
   "metadata": {},
   "outputs": [
    {
     "data": {
      "text/plain": [
       "'Hai How Are You'"
      ]
     },
     "execution_count": 60,
     "metadata": {},
     "output_type": "execute_result"
    }
   ],
   "source": [
    "s.title()"
   ]
  },
  {
   "cell_type": "code",
   "execution_count": 61,
   "id": "364fec22-fa51-4985-8596-0062763ac315",
   "metadata": {},
   "outputs": [
    {
     "data": {
      "text/plain": [
       "'hai how are you'"
      ]
     },
     "execution_count": 61,
     "metadata": {},
     "output_type": "execute_result"
    }
   ],
   "source": [
    "s.casefold()"
   ]
  },
  {
   "cell_type": "markdown",
   "id": "77b24863-8a29-489a-933e-ea0f7fa58587",
   "metadata": {},
   "source": [
    "- original string already:15 letters\n",
    "   - width,fill cahr\n",
    "- we want to  create a new string with 20 letters\n",
    "- remaining 5 letters by default empty\n",
    "- we can fill with characters also"
   ]
  },
  {
   "cell_type": "code",
   "execution_count": 81,
   "id": "5cff3149-8520-47aa-977d-097823877baf",
   "metadata": {},
   "outputs": [
    {
     "data": {
      "text/plain": [
       "'--------hai how are you---------'"
      ]
     },
     "execution_count": 81,
     "metadata": {},
     "output_type": "execute_result"
    }
   ],
   "source": [
    "s.center(32,\"-\",)"
   ]
  },
  {
   "cell_type": "code",
   "execution_count": 72,
   "id": "b3c34a5f-6d4c-4e18-9371-1fa9fd12ee41",
   "metadata": {},
   "outputs": [
    {
     "data": {
      "text/plain": [
       "'HAI HOW ARE YOU'"
      ]
     },
     "execution_count": 72,
     "metadata": {},
     "output_type": "execute_result"
    }
   ],
   "source": [
    "s.swapcase()#upper to lower and lower to upper"
   ]
  },
  {
   "cell_type": "code",
   "execution_count": 74,
   "id": "b67ac117-d572-4536-a056-5fd9bf616d0d",
   "metadata": {},
   "outputs": [],
   "source": [
    "#str1='hai how are you'\n",
    "#o/p='HAI HOW ARE YOU'\n",
    "#with out using any method\n",
    "#one more level :iterate each letter apply capiatalize"
   ]
  },
  {
   "cell_type": "code",
   "execution_count": 4,
   "id": "1aab260d-4d73-451e-ad88-6f2897c1e85b",
   "metadata": {},
   "outputs": [
    {
     "name": "stdout",
     "output_type": "stream",
     "text": [
      "Help on class str in module builtins:\n",
      "\n",
      "class str(object)\n",
      " |  str(object='') -> str\n",
      " |  str(bytes_or_buffer[, encoding[, errors]]) -> str\n",
      " |  \n",
      " |  Create a new string object from the given object. If encoding or\n",
      " |  errors is specified, then the object must expose a data buffer\n",
      " |  that will be decoded using the given encoding and error handler.\n",
      " |  Otherwise, returns the result of object.__str__() (if defined)\n",
      " |  or repr(object).\n",
      " |  encoding defaults to sys.getdefaultencoding().\n",
      " |  errors defaults to 'strict'.\n",
      " |  \n",
      " |  Methods defined here:\n",
      " |  \n",
      " |  __add__(self, value, /)\n",
      " |      Return self+value.\n",
      " |  \n",
      " |  __contains__(self, key, /)\n",
      " |      Return key in self.\n",
      " |  \n",
      " |  __eq__(self, value, /)\n",
      " |      Return self==value.\n",
      " |  \n",
      " |  __format__(self, format_spec, /)\n",
      " |      Return a formatted version of the string as described by format_spec.\n",
      " |  \n",
      " |  __ge__(self, value, /)\n",
      " |      Return self>=value.\n",
      " |  \n",
      " |  __getattribute__(self, name, /)\n",
      " |      Return getattr(self, name).\n",
      " |  \n",
      " |  __getitem__(self, key, /)\n",
      " |      Return self[key].\n",
      " |  \n",
      " |  __getnewargs__(...)\n",
      " |  \n",
      " |  __gt__(self, value, /)\n",
      " |      Return self>value.\n",
      " |  \n",
      " |  __hash__(self, /)\n",
      " |      Return hash(self).\n",
      " |  \n",
      " |  __iter__(self, /)\n",
      " |      Implement iter(self).\n",
      " |  \n",
      " |  __le__(self, value, /)\n",
      " |      Return self<=value.\n",
      " |  \n",
      " |  __len__(self, /)\n",
      " |      Return len(self).\n",
      " |  \n",
      " |  __lt__(self, value, /)\n",
      " |      Return self<value.\n",
      " |  \n",
      " |  __mod__(self, value, /)\n",
      " |      Return self%value.\n",
      " |  \n",
      " |  __mul__(self, value, /)\n",
      " |      Return self*value.\n",
      " |  \n",
      " |  __ne__(self, value, /)\n",
      " |      Return self!=value.\n",
      " |  \n",
      " |  __repr__(self, /)\n",
      " |      Return repr(self).\n",
      " |  \n",
      " |  __rmod__(self, value, /)\n",
      " |      Return value%self.\n",
      " |  \n",
      " |  __rmul__(self, value, /)\n",
      " |      Return value*self.\n",
      " |  \n",
      " |  __sizeof__(self, /)\n",
      " |      Return the size of the string in memory, in bytes.\n",
      " |  \n",
      " |  __str__(self, /)\n",
      " |      Return str(self).\n",
      " |  \n",
      " |  capitalize(self, /)\n",
      " |      Return a capitalized version of the string.\n",
      " |      \n",
      " |      More specifically, make the first character have upper case and the rest lower\n",
      " |      case.\n",
      " |  \n",
      " |  casefold(self, /)\n",
      " |      Return a version of the string suitable for caseless comparisons.\n",
      " |  \n",
      " |  center(self, width, fillchar=' ', /)\n",
      " |      Return a centered string of length width.\n",
      " |      \n",
      " |      Padding is done using the specified fill character (default is a space).\n",
      " |  \n",
      " |  count(...)\n",
      " |      S.count(sub[, start[, end]]) -> int\n",
      " |      \n",
      " |      Return the number of non-overlapping occurrences of substring sub in\n",
      " |      string S[start:end].  Optional arguments start and end are\n",
      " |      interpreted as in slice notation.\n",
      " |  \n",
      " |  encode(self, /, encoding='utf-8', errors='strict')\n",
      " |      Encode the string using the codec registered for encoding.\n",
      " |      \n",
      " |      encoding\n",
      " |        The encoding in which to encode the string.\n",
      " |      errors\n",
      " |        The error handling scheme to use for encoding errors.\n",
      " |        The default is 'strict' meaning that encoding errors raise a\n",
      " |        UnicodeEncodeError.  Other possible values are 'ignore', 'replace' and\n",
      " |        'xmlcharrefreplace' as well as any other name registered with\n",
      " |        codecs.register_error that can handle UnicodeEncodeErrors.\n",
      " |  \n",
      " |  endswith(...)\n",
      " |      S.endswith(suffix[, start[, end]]) -> bool\n",
      " |      \n",
      " |      Return True if S ends with the specified suffix, False otherwise.\n",
      " |      With optional start, test S beginning at that position.\n",
      " |      With optional end, stop comparing S at that position.\n",
      " |      suffix can also be a tuple of strings to try.\n",
      " |  \n",
      " |  expandtabs(self, /, tabsize=8)\n",
      " |      Return a copy where all tab characters are expanded using spaces.\n",
      " |      \n",
      " |      If tabsize is not given, a tab size of 8 characters is assumed.\n",
      " |  \n",
      " |  find(...)\n",
      " |      S.find(sub[, start[, end]]) -> int\n",
      " |      \n",
      " |      Return the lowest index in S where substring sub is found,\n",
      " |      such that sub is contained within S[start:end].  Optional\n",
      " |      arguments start and end are interpreted as in slice notation.\n",
      " |      \n",
      " |      Return -1 on failure.\n",
      " |  \n",
      " |  format(...)\n",
      " |      S.format(*args, **kwargs) -> str\n",
      " |      \n",
      " |      Return a formatted version of S, using substitutions from args and kwargs.\n",
      " |      The substitutions are identified by braces ('{' and '}').\n",
      " |  \n",
      " |  format_map(...)\n",
      " |      S.format_map(mapping) -> str\n",
      " |      \n",
      " |      Return a formatted version of S, using substitutions from mapping.\n",
      " |      The substitutions are identified by braces ('{' and '}').\n",
      " |  \n",
      " |  index(...)\n",
      " |      S.index(sub[, start[, end]]) -> int\n",
      " |      \n",
      " |      Return the lowest index in S where substring sub is found,\n",
      " |      such that sub is contained within S[start:end].  Optional\n",
      " |      arguments start and end are interpreted as in slice notation.\n",
      " |      \n",
      " |      Raises ValueError when the substring is not found.\n",
      " |  \n",
      " |  isalnum(self, /)\n",
      " |      Return True if the string is an alpha-numeric string, False otherwise.\n",
      " |      \n",
      " |      A string is alpha-numeric if all characters in the string are alpha-numeric and\n",
      " |      there is at least one character in the string.\n",
      " |  \n",
      " |  isalpha(self, /)\n",
      " |      Return True if the string is an alphabetic string, False otherwise.\n",
      " |      \n",
      " |      A string is alphabetic if all characters in the string are alphabetic and there\n",
      " |      is at least one character in the string.\n",
      " |  \n",
      " |  isascii(self, /)\n",
      " |      Return True if all characters in the string are ASCII, False otherwise.\n",
      " |      \n",
      " |      ASCII characters have code points in the range U+0000-U+007F.\n",
      " |      Empty string is ASCII too.\n",
      " |  \n",
      " |  isdecimal(self, /)\n",
      " |      Return True if the string is a decimal string, False otherwise.\n",
      " |      \n",
      " |      A string is a decimal string if all characters in the string are decimal and\n",
      " |      there is at least one character in the string.\n",
      " |  \n",
      " |  isdigit(self, /)\n",
      " |      Return True if the string is a digit string, False otherwise.\n",
      " |      \n",
      " |      A string is a digit string if all characters in the string are digits and there\n",
      " |      is at least one character in the string.\n",
      " |  \n",
      " |  isidentifier(self, /)\n",
      " |      Return True if the string is a valid Python identifier, False otherwise.\n",
      " |      \n",
      " |      Call keyword.iskeyword(s) to test whether string s is a reserved identifier,\n",
      " |      such as \"def\" or \"class\".\n",
      " |  \n",
      " |  islower(self, /)\n",
      " |      Return True if the string is a lowercase string, False otherwise.\n",
      " |      \n",
      " |      A string is lowercase if all cased characters in the string are lowercase and\n",
      " |      there is at least one cased character in the string.\n",
      " |  \n",
      " |  isnumeric(self, /)\n",
      " |      Return True if the string is a numeric string, False otherwise.\n",
      " |      \n",
      " |      A string is numeric if all characters in the string are numeric and there is at\n",
      " |      least one character in the string.\n",
      " |  \n",
      " |  isprintable(self, /)\n",
      " |      Return True if the string is printable, False otherwise.\n",
      " |      \n",
      " |      A string is printable if all of its characters are considered printable in\n",
      " |      repr() or if it is empty.\n",
      " |  \n",
      " |  isspace(self, /)\n",
      " |      Return True if the string is a whitespace string, False otherwise.\n",
      " |      \n",
      " |      A string is whitespace if all characters in the string are whitespace and there\n",
      " |      is at least one character in the string.\n",
      " |  \n",
      " |  istitle(self, /)\n",
      " |      Return True if the string is a title-cased string, False otherwise.\n",
      " |      \n",
      " |      In a title-cased string, upper- and title-case characters may only\n",
      " |      follow uncased characters and lowercase characters only cased ones.\n",
      " |  \n",
      " |  isupper(self, /)\n",
      " |      Return True if the string is an uppercase string, False otherwise.\n",
      " |      \n",
      " |      A string is uppercase if all cased characters in the string are uppercase and\n",
      " |      there is at least one cased character in the string.\n",
      " |  \n",
      " |  join(self, iterable, /)\n",
      " |      Concatenate any number of strings.\n",
      " |      \n",
      " |      The string whose method is called is inserted in between each given string.\n",
      " |      The result is returned as a new string.\n",
      " |      \n",
      " |      Example: '.'.join(['ab', 'pq', 'rs']) -> 'ab.pq.rs'\n",
      " |  \n",
      " |  ljust(self, width, fillchar=' ', /)\n",
      " |      Return a left-justified string of length width.\n",
      " |      \n",
      " |      Padding is done using the specified fill character (default is a space).\n",
      " |  \n",
      " |  lower(self, /)\n",
      " |      Return a copy of the string converted to lowercase.\n",
      " |  \n",
      " |  lstrip(self, chars=None, /)\n",
      " |      Return a copy of the string with leading whitespace removed.\n",
      " |      \n",
      " |      If chars is given and not None, remove characters in chars instead.\n",
      " |  \n",
      " |  partition(self, sep, /)\n",
      " |      Partition the string into three parts using the given separator.\n",
      " |      \n",
      " |      This will search for the separator in the string.  If the separator is found,\n",
      " |      returns a 3-tuple containing the part before the separator, the separator\n",
      " |      itself, and the part after it.\n",
      " |      \n",
      " |      If the separator is not found, returns a 3-tuple containing the original string\n",
      " |      and two empty strings.\n",
      " |  \n",
      " |  removeprefix(self, prefix, /)\n",
      " |      Return a str with the given prefix string removed if present.\n",
      " |      \n",
      " |      If the string starts with the prefix string, return string[len(prefix):].\n",
      " |      Otherwise, return a copy of the original string.\n",
      " |  \n",
      " |  removesuffix(self, suffix, /)\n",
      " |      Return a str with the given suffix string removed if present.\n",
      " |      \n",
      " |      If the string ends with the suffix string and that suffix is not empty,\n",
      " |      return string[:-len(suffix)]. Otherwise, return a copy of the original\n",
      " |      string.\n",
      " |  \n",
      " |  replace(self, old, new, count=-1, /)\n",
      " |      Return a copy with all occurrences of substring old replaced by new.\n",
      " |      \n",
      " |        count\n",
      " |          Maximum number of occurrences to replace.\n",
      " |          -1 (the default value) means replace all occurrences.\n",
      " |      \n",
      " |      If the optional argument count is given, only the first count occurrences are\n",
      " |      replaced.\n",
      " |  \n",
      " |  rfind(...)\n",
      " |      S.rfind(sub[, start[, end]]) -> int\n",
      " |      \n",
      " |      Return the highest index in S where substring sub is found,\n",
      " |      such that sub is contained within S[start:end].  Optional\n",
      " |      arguments start and end are interpreted as in slice notation.\n",
      " |      \n",
      " |      Return -1 on failure.\n",
      " |  \n",
      " |  rindex(...)\n",
      " |      S.rindex(sub[, start[, end]]) -> int\n",
      " |      \n",
      " |      Return the highest index in S where substring sub is found,\n",
      " |      such that sub is contained within S[start:end].  Optional\n",
      " |      arguments start and end are interpreted as in slice notation.\n",
      " |      \n",
      " |      Raises ValueError when the substring is not found.\n",
      " |  \n",
      " |  rjust(self, width, fillchar=' ', /)\n",
      " |      Return a right-justified string of length width.\n",
      " |      \n",
      " |      Padding is done using the specified fill character (default is a space).\n",
      " |  \n",
      " |  rpartition(self, sep, /)\n",
      " |      Partition the string into three parts using the given separator.\n",
      " |      \n",
      " |      This will search for the separator in the string, starting at the end. If\n",
      " |      the separator is found, returns a 3-tuple containing the part before the\n",
      " |      separator, the separator itself, and the part after it.\n",
      " |      \n",
      " |      If the separator is not found, returns a 3-tuple containing two empty strings\n",
      " |      and the original string.\n",
      " |  \n",
      " |  rsplit(self, /, sep=None, maxsplit=-1)\n",
      " |      Return a list of the substrings in the string, using sep as the separator string.\n",
      " |      \n",
      " |        sep\n",
      " |          The separator used to split the string.\n",
      " |      \n",
      " |          When set to None (the default value), will split on any whitespace\n",
      " |          character (including \\n \\r \\t \\f and spaces) and will discard\n",
      " |          empty strings from the result.\n",
      " |        maxsplit\n",
      " |          Maximum number of splits (starting from the left).\n",
      " |          -1 (the default value) means no limit.\n",
      " |      \n",
      " |      Splitting starts at the end of the string and works to the front.\n",
      " |  \n",
      " |  rstrip(self, chars=None, /)\n",
      " |      Return a copy of the string with trailing whitespace removed.\n",
      " |      \n",
      " |      If chars is given and not None, remove characters in chars instead.\n",
      " |  \n",
      " |  split(self, /, sep=None, maxsplit=-1)\n",
      " |      Return a list of the substrings in the string, using sep as the separator string.\n",
      " |      \n",
      " |        sep\n",
      " |          The separator used to split the string.\n",
      " |      \n",
      " |          When set to None (the default value), will split on any whitespace\n",
      " |          character (including \\n \\r \\t \\f and spaces) and will discard\n",
      " |          empty strings from the result.\n",
      " |        maxsplit\n",
      " |          Maximum number of splits (starting from the left).\n",
      " |          -1 (the default value) means no limit.\n",
      " |      \n",
      " |      Note, str.split() is mainly useful for data that has been intentionally\n",
      " |      delimited.  With natural text that includes punctuation, consider using\n",
      " |      the regular expression module.\n",
      " |  \n",
      " |  splitlines(self, /, keepends=False)\n",
      " |      Return a list of the lines in the string, breaking at line boundaries.\n",
      " |      \n",
      " |      Line breaks are not included in the resulting list unless keepends is given and\n",
      " |      true.\n",
      " |  \n",
      " |  startswith(...)\n",
      " |      S.startswith(prefix[, start[, end]]) -> bool\n",
      " |      \n",
      " |      Return True if S starts with the specified prefix, False otherwise.\n",
      " |      With optional start, test S beginning at that position.\n",
      " |      With optional end, stop comparing S at that position.\n",
      " |      prefix can also be a tuple of strings to try.\n",
      " |  \n",
      " |  strip(self, chars=None, /)\n",
      " |      Return a copy of the string with leading and trailing whitespace removed.\n",
      " |      \n",
      " |      If chars is given and not None, remove characters in chars instead.\n",
      " |  \n",
      " |  swapcase(self, /)\n",
      " |      Convert uppercase characters to lowercase and lowercase characters to uppercase.\n",
      " |  \n",
      " |  title(self, /)\n",
      " |      Return a version of the string where each word is titlecased.\n",
      " |      \n",
      " |      More specifically, words start with uppercased characters and all remaining\n",
      " |      cased characters have lower case.\n",
      " |  \n",
      " |  translate(self, table, /)\n",
      " |      Replace each character in the string using the given translation table.\n",
      " |      \n",
      " |        table\n",
      " |          Translation table, which must be a mapping of Unicode ordinals to\n",
      " |          Unicode ordinals, strings, or None.\n",
      " |      \n",
      " |      The table must implement lookup/indexing via __getitem__, for instance a\n",
      " |      dictionary or list.  If this operation raises LookupError, the character is\n",
      " |      left untouched.  Characters mapped to None are deleted.\n",
      " |  \n",
      " |  upper(self, /)\n",
      " |      Return a copy of the string converted to uppercase.\n",
      " |  \n",
      " |  zfill(self, width, /)\n",
      " |      Pad a numeric string with zeros on the left, to fill a field of the given width.\n",
      " |      \n",
      " |      The string is never truncated.\n",
      " |  \n",
      " |  ----------------------------------------------------------------------\n",
      " |  Static methods defined here:\n",
      " |  \n",
      " |  __new__(*args, **kwargs) from builtins.type\n",
      " |      Create and return a new object.  See help(type) for accurate signature.\n",
      " |  \n",
      " |  maketrans(...)\n",
      " |      Return a translation table usable for str.translate().\n",
      " |      \n",
      " |      If there is only one argument, it must be a dictionary mapping Unicode\n",
      " |      ordinals (integers) or characters to Unicode ordinals, strings or None.\n",
      " |      Character keys will be then converted to ordinals.\n",
      " |      If there are two arguments, they must be strings of equal length, and\n",
      " |      in the resulting dictionary, each character in x will be mapped to the\n",
      " |      character at the same position in y. If there is a third argument, it\n",
      " |      must be a string, whose characters will be mapped to None in the result.\n",
      "\n"
     ]
    }
   ],
   "source": [
    "help(str)"
   ]
  },
  {
   "cell_type": "code",
   "execution_count": 6,
   "id": "91f74faa-e3ac-4d6d-9de4-d5d137ab4cfc",
   "metadata": {},
   "outputs": [
    {
     "data": {
      "text/plain": [
       "['__add__',\n",
       " '__class__',\n",
       " '__contains__',\n",
       " '__delattr__',\n",
       " '__dir__',\n",
       " '__doc__',\n",
       " '__eq__',\n",
       " '__format__',\n",
       " '__ge__',\n",
       " '__getattribute__',\n",
       " '__getitem__',\n",
       " '__getnewargs__',\n",
       " '__getstate__',\n",
       " '__gt__',\n",
       " '__hash__',\n",
       " '__init__',\n",
       " '__init_subclass__',\n",
       " '__iter__',\n",
       " '__le__',\n",
       " '__len__',\n",
       " '__lt__',\n",
       " '__mod__',\n",
       " '__mul__',\n",
       " '__ne__',\n",
       " '__new__',\n",
       " '__reduce__',\n",
       " '__reduce_ex__',\n",
       " '__repr__',\n",
       " '__rmod__',\n",
       " '__rmul__',\n",
       " '__setattr__',\n",
       " '__sizeof__',\n",
       " '__str__',\n",
       " '__subclasshook__',\n",
       " 'capitalize',\n",
       " 'casefold',\n",
       " 'center',\n",
       " 'count',\n",
       " 'encode',\n",
       " 'endswith',\n",
       " 'expandtabs',\n",
       " 'find',\n",
       " 'format',\n",
       " 'format_map',\n",
       " 'index',\n",
       " 'isalnum',\n",
       " 'isalpha',\n",
       " 'isascii',\n",
       " 'isdecimal',\n",
       " 'isdigit',\n",
       " 'isidentifier',\n",
       " 'islower',\n",
       " 'isnumeric',\n",
       " 'isprintable',\n",
       " 'isspace',\n",
       " 'istitle',\n",
       " 'isupper',\n",
       " 'join',\n",
       " 'ljust',\n",
       " 'lower',\n",
       " 'lstrip',\n",
       " 'maketrans',\n",
       " 'partition',\n",
       " 'removeprefix',\n",
       " 'removesuffix',\n",
       " 'replace',\n",
       " 'rfind',\n",
       " 'rindex',\n",
       " 'rjust',\n",
       " 'rpartition',\n",
       " 'rsplit',\n",
       " 'rstrip',\n",
       " 'split',\n",
       " 'splitlines',\n",
       " 'startswith',\n",
       " 'strip',\n",
       " 'swapcase',\n",
       " 'title',\n",
       " 'translate',\n",
       " 'upper',\n",
       " 'zfill']"
      ]
     },
     "execution_count": 6,
     "metadata": {},
     "output_type": "execute_result"
    }
   ],
   "source": [
    "dir('hau')"
   ]
  },
  {
   "cell_type": "code",
   "execution_count": 7,
   "id": "556009d2-2ccd-4c33-add5-a2924835a1ea",
   "metadata": {},
   "outputs": [
    {
     "name": "stdout",
     "output_type": "stream",
     "text": [
      "Help on list object:\n",
      "\n",
      "class list(object)\n",
      " |  list(iterable=(), /)\n",
      " |  \n",
      " |  Built-in mutable sequence.\n",
      " |  \n",
      " |  If no argument is given, the constructor creates a new empty list.\n",
      " |  The argument must be an iterable if specified.\n",
      " |  \n",
      " |  Methods defined here:\n",
      " |  \n",
      " |  __add__(self, value, /)\n",
      " |      Return self+value.\n",
      " |  \n",
      " |  __contains__(self, key, /)\n",
      " |      Return key in self.\n",
      " |  \n",
      " |  __delitem__(self, key, /)\n",
      " |      Delete self[key].\n",
      " |  \n",
      " |  __eq__(self, value, /)\n",
      " |      Return self==value.\n",
      " |  \n",
      " |  __ge__(self, value, /)\n",
      " |      Return self>=value.\n",
      " |  \n",
      " |  __getattribute__(self, name, /)\n",
      " |      Return getattr(self, name).\n",
      " |  \n",
      " |  __getitem__(...)\n",
      " |      x.__getitem__(y) <==> x[y]\n",
      " |  \n",
      " |  __gt__(self, value, /)\n",
      " |      Return self>value.\n",
      " |  \n",
      " |  __iadd__(self, value, /)\n",
      " |      Implement self+=value.\n",
      " |  \n",
      " |  __imul__(self, value, /)\n",
      " |      Implement self*=value.\n",
      " |  \n",
      " |  __init__(self, /, *args, **kwargs)\n",
      " |      Initialize self.  See help(type(self)) for accurate signature.\n",
      " |  \n",
      " |  __iter__(self, /)\n",
      " |      Implement iter(self).\n",
      " |  \n",
      " |  __le__(self, value, /)\n",
      " |      Return self<=value.\n",
      " |  \n",
      " |  __len__(self, /)\n",
      " |      Return len(self).\n",
      " |  \n",
      " |  __lt__(self, value, /)\n",
      " |      Return self<value.\n",
      " |  \n",
      " |  __mul__(self, value, /)\n",
      " |      Return self*value.\n",
      " |  \n",
      " |  __ne__(self, value, /)\n",
      " |      Return self!=value.\n",
      " |  \n",
      " |  __repr__(self, /)\n",
      " |      Return repr(self).\n",
      " |  \n",
      " |  __reversed__(self, /)\n",
      " |      Return a reverse iterator over the list.\n",
      " |  \n",
      " |  __rmul__(self, value, /)\n",
      " |      Return value*self.\n",
      " |  \n",
      " |  __setitem__(self, key, value, /)\n",
      " |      Set self[key] to value.\n",
      " |  \n",
      " |  __sizeof__(self, /)\n",
      " |      Return the size of the list in memory, in bytes.\n",
      " |  \n",
      " |  append(self, object, /)\n",
      " |      Append object to the end of the list.\n",
      " |  \n",
      " |  clear(self, /)\n",
      " |      Remove all items from list.\n",
      " |  \n",
      " |  copy(self, /)\n",
      " |      Return a shallow copy of the list.\n",
      " |  \n",
      " |  count(self, value, /)\n",
      " |      Return number of occurrences of value.\n",
      " |  \n",
      " |  extend(self, iterable, /)\n",
      " |      Extend list by appending elements from the iterable.\n",
      " |  \n",
      " |  index(self, value, start=0, stop=9223372036854775807, /)\n",
      " |      Return first index of value.\n",
      " |      \n",
      " |      Raises ValueError if the value is not present.\n",
      " |  \n",
      " |  insert(self, index, object, /)\n",
      " |      Insert object before index.\n",
      " |  \n",
      " |  pop(self, index=-1, /)\n",
      " |      Remove and return item at index (default last).\n",
      " |      \n",
      " |      Raises IndexError if list is empty or index is out of range.\n",
      " |  \n",
      " |  remove(self, value, /)\n",
      " |      Remove first occurrence of value.\n",
      " |      \n",
      " |      Raises ValueError if the value is not present.\n",
      " |  \n",
      " |  reverse(self, /)\n",
      " |      Reverse *IN PLACE*.\n",
      " |  \n",
      " |  sort(self, /, *, key=None, reverse=False)\n",
      " |      Sort the list in ascending order and return None.\n",
      " |      \n",
      " |      The sort is in-place (i.e. the list itself is modified) and stable (i.e. the\n",
      " |      order of two equal elements is maintained).\n",
      " |      \n",
      " |      If a key function is given, apply it once to each list item and sort them,\n",
      " |      ascending or descending, according to their function values.\n",
      " |      \n",
      " |      The reverse flag can be set to sort in descending order.\n",
      " |  \n",
      " |  ----------------------------------------------------------------------\n",
      " |  Class methods defined here:\n",
      " |  \n",
      " |  __class_getitem__(...) from builtins.type\n",
      " |      See PEP 585\n",
      " |  \n",
      " |  ----------------------------------------------------------------------\n",
      " |  Static methods defined here:\n",
      " |  \n",
      " |  __new__(*args, **kwargs) from builtins.type\n",
      " |      Create and return a new object.  See help(type) for accurate signature.\n",
      " |  \n",
      " |  ----------------------------------------------------------------------\n",
      " |  Data and other attributes defined here:\n",
      " |  \n",
      " |  __hash__ = None\n",
      "\n"
     ]
    }
   ],
   "source": [
    "help(dir('zfill'))"
   ]
  },
  {
   "cell_type": "markdown",
   "id": "2949d73d-568c-44ca-817f-7610bc22be57",
   "metadata": {},
   "source": [
    "- upper\n",
    "- lower\n",
    "- casefold\n",
    "- title\n",
    "- capitalize\n",
    "- center"
   ]
  },
  {
   "cell_type": "markdown",
   "id": "e7621064-e1d3-4b10-8c3a-cafc6a7bc13d",
   "metadata": {},
   "source": [
    "**count**"
   ]
  },
  {
   "cell_type": "code",
   "execution_count": 13,
   "id": "3c326a77-d466-4110-b36c-ba42f60e3aa7",
   "metadata": {},
   "outputs": [
    {
     "data": {
      "text/plain": [
       "2"
      ]
     },
     "execution_count": 13,
     "metadata": {},
     "output_type": "execute_result"
    }
   ],
   "source": [
    "str1='hai how are you'\n",
    "#how many a's are available\n",
    "str1.count('a')"
   ]
  },
  {
   "cell_type": "code",
   "execution_count": 15,
   "id": "f0f253ba-676e-4eb9-a50f-7e98f2c82e91",
   "metadata": {},
   "outputs": [
    {
     "data": {
      "text/plain": [
       "2"
      ]
     },
     "execution_count": 15,
     "metadata": {},
     "output_type": "execute_result"
    }
   ],
   "source": [
    "#h   a   i    h   a   i   h   a   i\n",
    "#0   1   2  3 4   5   6  7 8  9   10\n",
    "str1='hai hai hai'\n",
    "str1.count('a',5)"
   ]
  },
  {
   "cell_type": "code",
   "execution_count": 23,
   "id": "017e0a39-ce40-4825-a04a-947ff12af589",
   "metadata": {},
   "outputs": [
    {
     "data": {
      "text/plain": [
       "2"
      ]
     },
     "execution_count": 23,
     "metadata": {},
     "output_type": "execute_result"
    }
   ],
   "source": [
    "str1.count('a',1,9)"
   ]
  },
  {
   "cell_type": "code",
   "execution_count": 26,
   "id": "24aaad0b-7e1e-44ff-b6ad-72a0db74c5b1",
   "metadata": {},
   "outputs": [
    {
     "data": {
      "text/plain": [
       "2"
      ]
     },
     "execution_count": 26,
     "metadata": {},
     "output_type": "execute_result"
    }
   ],
   "source": [
    "str1.count('a',-12,-4)"
   ]
  },
  {
   "cell_type": "code",
   "execution_count": 27,
   "id": "f7c6bdb9-747c-41be-8cde-ab438300204f",
   "metadata": {},
   "outputs": [
    {
     "data": {
      "text/plain": [
       "3"
      ]
     },
     "execution_count": 27,
     "metadata": {},
     "output_type": "execute_result"
    }
   ],
   "source": [
    "st='ola ola ola'\n",
    "st.count('ola')"
   ]
  },
  {
   "cell_type": "markdown",
   "id": "94d1cf85-1a39-43be-a2d1-86e9bafd86ae",
   "metadata": {},
   "source": [
    "**window method**"
   ]
  },
  {
   "cell_type": "code",
   "execution_count": 28,
   "id": "dda9bde8-b7bf-4bf7-b174-04242c6571bf",
   "metadata": {},
   "outputs": [
    {
     "name": "stdout",
     "output_type": "stream",
     "text": [
      "3\n"
     ]
    }
   ],
   "source": [
    "c=0\n",
    "for i in range(len(st)):\n",
    "    if st[i:i+3]=='ola':\n",
    "        c+=1\n",
    "print(c)"
   ]
  },
  {
   "cell_type": "code",
   "execution_count": 29,
   "id": "1624216a-4e6e-4a18-aa0b-755628af62e2",
   "metadata": {},
   "outputs": [
    {
     "data": {
      "text/plain": [
       "1"
      ]
     },
     "execution_count": 29,
     "metadata": {},
     "output_type": "execute_result"
    }
   ],
   "source": [
    "st.count(st)"
   ]
  },
  {
   "cell_type": "code",
   "execution_count": 30,
   "id": "233e7bc6-102a-4265-8029-b6578cdf675b",
   "metadata": {},
   "outputs": [
    {
     "data": {
      "text/plain": [
       "1"
      ]
     },
     "execution_count": 30,
     "metadata": {},
     "output_type": "execute_result"
    }
   ],
   "source": [
    "st.count('ola ola')"
   ]
  },
  {
   "cell_type": "code",
   "execution_count": 31,
   "id": "59f03292-b6db-4ac6-ad66-5e2d39cedc78",
   "metadata": {},
   "outputs": [
    {
     "data": {
      "text/plain": [
       "1"
      ]
     },
     "execution_count": 31,
     "metadata": {},
     "output_type": "execute_result"
    }
   ],
   "source": [
    "st.count('ola ola ola')"
   ]
  },
  {
   "cell_type": "markdown",
   "id": "559712be-a410-4bc3-af8f-ccd6d3b23c55",
   "metadata": {},
   "source": [
    "**replace**"
   ]
  },
  {
   "cell_type": "code",
   "execution_count": 41,
   "id": "6067ab46-18d5-49e5-a17a-0e602d4b31fd",
   "metadata": {},
   "outputs": [
    {
     "name": "stdout",
     "output_type": "stream",
     "text": [
      "welcome\n",
      "weLcome\n"
     ]
    }
   ],
   "source": [
    "str1='welcome'\n",
    "print(str1)\n",
    "#i want to replace 'l' with 'L'\n",
    "# we know that strings are immutable\n",
    "# we can not use index operations also\n",
    "#slice and concatenation\n",
    "#divide welcome: we   come\n",
    "#s1='we'\n",
    "#s2='come'\n",
    "#s1+'l+s2\n",
    "s1=str1[0:2]\n",
    "s2=str1[3:]\n",
    "str1=''\n",
    "str1=s1+'L'+s2\n",
    "print(str1)"
   ]
  },
  {
   "cell_type": "code",
   "execution_count": 45,
   "id": "e78c02e5-310e-4250-9441-e4bdf682a75c",
   "metadata": {},
   "outputs": [
    {
     "name": "stdout",
     "output_type": "stream",
     "text": [
      "weLcome\n"
     ]
    }
   ],
   "source": [
    "str1='welcome'\n",
    "s=''\n",
    "j='l'\n",
    "for i in str1:\n",
    "    if i==j:\n",
    "        s+=chr(ord(j)-32)\n",
    "    else:\n",
    "        s+=i\n",
    "str1=s\n",
    "print(str1)"
   ]
  },
  {
   "cell_type": "code",
   "execution_count": 46,
   "id": "15390305-2190-42d9-977c-4fd35d64b3de",
   "metadata": {},
   "outputs": [
    {
     "data": {
      "text/plain": [
       "'weLcome'"
      ]
     },
     "execution_count": 46,
     "metadata": {},
     "output_type": "execute_result"
    }
   ],
   "source": [
    "str1='welcome'\n",
    "str1.replace('l','L')"
   ]
  },
  {
   "cell_type": "code",
   "execution_count": 47,
   "id": "1a9847ad-dc5f-4554-b867-b35362ddfa9f",
   "metadata": {},
   "outputs": [
    {
     "data": {
      "text/plain": [
       "'weLLcome'"
      ]
     },
     "execution_count": 47,
     "metadata": {},
     "output_type": "execute_result"
    }
   ],
   "source": [
    "str1='wellcome'\n",
    "str1.replace('l','L')\n"
   ]
  },
  {
   "cell_type": "code",
   "execution_count": 51,
   "id": "4f20d735-5233-4bbc-a195-7e665ad9a614",
   "metadata": {},
   "outputs": [
    {
     "data": {
      "text/plain": [
       "'weLlcome'"
      ]
     },
     "execution_count": 51,
     "metadata": {},
     "output_type": "execute_result"
    }
   ],
   "source": [
    "str1.replace('l','L',1)"
   ]
  },
  {
   "cell_type": "markdown",
   "id": "4a10e9fc-8c60-493b-8c6c-f4fd2edf8bb3",
   "metadata": {},
   "source": [
    "- by default replace will change all the occurrences\n",
    "- count=-1 is responsible for that\n",
    "- which means we can provide some count also ,which how many i want to change\n",
    "- give wellllcome and change count=1 nd count=2 explore it\n",
    "- **count**\n",
    "- when we write count=1\n",
    "- it will change only one letter\n",
    "- that to first occurence only"
   ]
  },
  {
   "cell_type": "code",
   "execution_count": 3,
   "id": "f9ada17d-fda8-4751-926d-a409fa37b98d",
   "metadata": {},
   "outputs": [
    {
     "data": {
      "text/plain": [
       "'restart'"
      ]
     },
     "execution_count": 3,
     "metadata": {},
     "output_type": "execute_result"
    }
   ],
   "source": [
    "str1='restart'\n",
    "str1=str1[::-1].replace('r','$',1)[::-1]\n",
    "str1"
   ]
  },
  {
   "cell_type": "code",
   "execution_count": 71,
   "id": "f1c2ff51-e04b-49d1-8f2b-bafe47d08823",
   "metadata": {},
   "outputs": [
    {
     "data": {
      "text/plain": [
       "'resta$t'"
      ]
     },
     "execution_count": 71,
     "metadata": {},
     "output_type": "execute_result"
    }
   ],
   "source": [
    "str1='restart'\n",
    "s1=str1[:1]\n",
    "s2=str1[1:]\n",
    "s3=s2.replace('r','$')\n",
    "s1+s3"
   ]
  },
  {
   "cell_type": "markdown",
   "id": "219f5220-7d98-4170-8593-01264e0e2c8a",
   "metadata": {},
   "source": [
    "**index-find**\n",
    "- method"
   ]
  },
  {
   "cell_type": "markdown",
   "id": "175617b9-ebb0-48e1-9160-a76a9cedf2df",
   "metadata": {},
   "source": [
    "- upper\n",
    "- lower\n",
    "- title\n",
    "- capitalize\n",
    "- count\n",
    "- csefold\n",
    "- replace\n",
    "- index-find\n",
    "- aplit\n",
    "- strip\n",
    "- startswith\n",
    "- "
   ]
  },
  {
   "cell_type": "code",
   "execution_count": 75,
   "id": "6f54ba53-cd7f-4fcd-b5a0-e89b0db1ce0e",
   "metadata": {},
   "outputs": [
    {
     "data": {
      "text/plain": [
       "['__add__',\n",
       " '__class__',\n",
       " '__contains__',\n",
       " '__delattr__',\n",
       " '__dir__',\n",
       " '__doc__',\n",
       " '__eq__',\n",
       " '__format__',\n",
       " '__ge__',\n",
       " '__getattribute__',\n",
       " '__getitem__',\n",
       " '__getnewargs__',\n",
       " '__getstate__',\n",
       " '__gt__',\n",
       " '__hash__',\n",
       " '__init__',\n",
       " '__init_subclass__',\n",
       " '__iter__',\n",
       " '__le__',\n",
       " '__len__',\n",
       " '__lt__',\n",
       " '__mod__',\n",
       " '__mul__',\n",
       " '__ne__',\n",
       " '__new__',\n",
       " '__reduce__',\n",
       " '__reduce_ex__',\n",
       " '__repr__',\n",
       " '__rmod__',\n",
       " '__rmul__',\n",
       " '__setattr__',\n",
       " '__sizeof__',\n",
       " '__str__',\n",
       " '__subclasshook__',\n",
       " 'capitalize',\n",
       " 'casefold',\n",
       " 'center',\n",
       " 'count',\n",
       " 'encode',\n",
       " 'endswith',\n",
       " 'expandtabs',\n",
       " 'find',\n",
       " 'format',\n",
       " 'format_map',\n",
       " 'index',\n",
       " 'isalnum',\n",
       " 'isalpha',\n",
       " 'isascii',\n",
       " 'isdecimal',\n",
       " 'isdigit',\n",
       " 'isidentifier',\n",
       " 'islower',\n",
       " 'isnumeric',\n",
       " 'isprintable',\n",
       " 'isspace',\n",
       " 'istitle',\n",
       " 'isupper',\n",
       " 'join',\n",
       " 'ljust',\n",
       " 'lower',\n",
       " 'lstrip',\n",
       " 'maketrans',\n",
       " 'partition',\n",
       " 'removeprefix',\n",
       " 'removesuffix',\n",
       " 'replace',\n",
       " 'rfind',\n",
       " 'rindex',\n",
       " 'rjust',\n",
       " 'rpartition',\n",
       " 'rsplit',\n",
       " 'rstrip',\n",
       " 'split',\n",
       " 'splitlines',\n",
       " 'startswith',\n",
       " 'strip',\n",
       " 'swapcase',\n",
       " 'title',\n",
       " 'translate',\n",
       " 'upper',\n",
       " 'zfill']"
      ]
     },
     "execution_count": 75,
     "metadata": {},
     "output_type": "execute_result"
    }
   ],
   "source": [
    "dir('ha')"
   ]
  },
  {
   "cell_type": "markdown",
   "id": "561a1ab5-b566-4d32-b12e-0d0dee2b68ce",
   "metadata": {},
   "source": [
    "- 'isalnum\r",
    "-  'isalph,-\r\n",
    " 'isasc'-,\r\n",
    " 'isdecil-',\r\n",
    " 'isdi-t',\r\n",
    " 'isidenti-er',\r\n",
    " 'io-wer',\r\n",
    " 'ism-eric',\r\n",
    " 'ispn-table',\r\n",
    "i-sspace',\r",
    "'-istitle', 'isupper',pcase',\r\n",
    " 'title',\r\n",
    " 'translate',"
   ]
  },
  {
   "cell_type": "markdown",
   "id": "832479d5-724e-4dd5-be48-5f94b2191746",
   "metadata": {},
   "source": [
    "** index-find**"
   ]
  },
  {
   "cell_type": "markdown",
   "id": "62760755-f0b2-4a7e-85c8-5be85929b028",
   "metadata": {},
   "source": [
    "- index says that it will give the index of any letter in a given string\n",
    "- we already seen about count:count will give how many letterrs are there in a string\n",
    "     - at what index you want to count\n",
    "     - between indexes also we can count the letters\n",
    "- index meaning it will provide the index\n",
    "- imagine that there same letters repeated\n",
    "- how can we find the next index"
   ]
  },
  {
   "cell_type": "code",
   "execution_count": 13,
   "id": "511101e6-6640-4f4b-a0ea-b37a3109c341",
   "metadata": {},
   "outputs": [
    {
     "data": {
      "text/plain": [
       "1"
      ]
     },
     "execution_count": 13,
     "metadata": {},
     "output_type": "execute_result"
    }
   ],
   "source": [
    "str1='hai hai hai'\n",
    "str1.index('a')\n",
    "#i want to know next 'a' index after 3rd index"
   ]
  },
  {
   "cell_type": "code",
   "execution_count": 10,
   "id": "518f1961-1e4b-41c4-a5b9-4ece1afd3f16",
   "metadata": {},
   "outputs": [
    {
     "data": {
      "text/plain": [
       "5"
      ]
     },
     "execution_count": 10,
     "metadata": {},
     "output_type": "execute_result"
    }
   ],
   "source": [
    "str1.index('a',3)"
   ]
  },
  {
   "cell_type": "code",
   "execution_count": 11,
   "id": "065723bc-1e3e-4d65-9e63-7390b53b3531",
   "metadata": {},
   "outputs": [
    {
     "data": {
      "text/plain": [
       "5"
      ]
     },
     "execution_count": 11,
     "metadata": {},
     "output_type": "execute_result"
    }
   ],
   "source": [
    "str1.index('a',5,10)"
   ]
  },
  {
   "cell_type": "code",
   "execution_count": 12,
   "id": "cef573ee-dfdd-4691-ae47-a2753c459de6",
   "metadata": {},
   "outputs": [
    {
     "data": {
      "text/plain": [
       "9"
      ]
     },
     "execution_count": 12,
     "metadata": {},
     "output_type": "execute_result"
    }
   ],
   "source": [
    "str1.index('a',6,10)"
   ]
  },
  {
   "cell_type": "code",
   "execution_count": 22,
   "id": "65ec0f04-a693-4f5b-ab1b-b5b4da18e83c",
   "metadata": {},
   "outputs": [
    {
     "data": {
      "text/plain": [
       "5"
      ]
     },
     "execution_count": 22,
     "metadata": {},
     "output_type": "execute_result"
    }
   ],
   "source": [
    "str1.index('a',-9,-1)"
   ]
  },
  {
   "cell_type": "code",
   "execution_count": 24,
   "id": "491a3933-e88e-41ae-abe6-d6b0a473d838",
   "metadata": {},
   "outputs": [
    {
     "ename": "ValueError",
     "evalue": "substring not found",
     "output_type": "error",
     "traceback": [
      "\u001b[1;31m---------------------------------------------------------------------------\u001b[0m",
      "\u001b[1;31mValueError\u001b[0m                                Traceback (most recent call last)",
      "Cell \u001b[1;32mIn[24], line 1\u001b[0m\n\u001b[1;32m----> 1\u001b[0m str1\u001b[38;5;241m.\u001b[39mindex(\u001b[38;5;124m'\u001b[39m\u001b[38;5;124mc\u001b[39m\u001b[38;5;124m'\u001b[39m)\n",
      "\u001b[1;31mValueError\u001b[0m: substring not found"
     ]
    }
   ],
   "source": [
    "str1.index('c')"
   ]
  },
  {
   "cell_type": "code",
   "execution_count": 25,
   "id": "c71987cc-e23c-45c4-ace3-ebeff364f9b4",
   "metadata": {},
   "outputs": [
    {
     "data": {
      "text/plain": [
       "9"
      ]
     },
     "execution_count": 25,
     "metadata": {},
     "output_type": "execute_result"
    }
   ],
   "source": [
    "str1.index('a',-2)"
   ]
  },
  {
   "cell_type": "code",
   "execution_count": 30,
   "id": "f2bce705-6996-4939-8157-83ce7d76b012",
   "metadata": {},
   "outputs": [
    {
     "ename": "ValueError",
     "evalue": "substring not found",
     "output_type": "error",
     "traceback": [
      "\u001b[1;31m---------------------------------------------------------------------------\u001b[0m",
      "\u001b[1;31mValueError\u001b[0m                                Traceback (most recent call last)",
      "Cell \u001b[1;32mIn[30], line 1\u001b[0m\n\u001b[1;32m----> 1\u001b[0m str1\u001b[38;5;241m.\u001b[39mindex(\u001b[38;5;124m'\u001b[39m\u001b[38;5;124ma\u001b[39m\u001b[38;5;124m'\u001b[39m,\u001b[38;5;241m2\u001b[39m,\u001b[38;5;241m5\u001b[39m)\n",
      "\u001b[1;31mValueError\u001b[0m: substring not found"
     ]
    }
   ],
   "source": [
    "str1.index('a',2,5)"
   ]
  },
  {
   "cell_type": "code",
   "execution_count": 31,
   "id": "976f97bc-b7fd-4212-a3c9-9f71226c99b6",
   "metadata": {},
   "outputs": [
    {
     "data": {
      "text/plain": [
       "0"
      ]
     },
     "execution_count": 31,
     "metadata": {},
     "output_type": "execute_result"
    }
   ],
   "source": [
    "str1.count('a',2,5)"
   ]
  },
  {
   "cell_type": "code",
   "execution_count": 32,
   "id": "e2773e5f-284b-4d36-8eb4-2b3f2d3eb04a",
   "metadata": {},
   "outputs": [
    {
     "data": {
      "text/plain": [
       "3"
      ]
     },
     "execution_count": 32,
     "metadata": {},
     "output_type": "execute_result"
    }
   ],
   "source": [
    "str1.count('a')"
   ]
  },
  {
   "cell_type": "code",
   "execution_count": 33,
   "id": "ad722440-5cf5-4aab-bf9b-ab4a4606c4df",
   "metadata": {},
   "outputs": [
    {
     "data": {
      "text/plain": [
       "2"
      ]
     },
     "execution_count": 33,
     "metadata": {},
     "output_type": "execute_result"
    }
   ],
   "source": [
    "str1.count('a',3)"
   ]
  },
  {
   "cell_type": "code",
   "execution_count": 34,
   "id": "03faf86e-b750-4604-bfeb-03c93ce33e08",
   "metadata": {},
   "outputs": [
    {
     "data": {
      "text/plain": [
       "1"
      ]
     },
     "execution_count": 34,
     "metadata": {},
     "output_type": "execute_result"
    }
   ],
   "source": [
    "str1.count('a',3,7)"
   ]
  },
  {
   "cell_type": "code",
   "execution_count": 35,
   "id": "4f161f26-1310-47c3-8c6f-b60be61e703e",
   "metadata": {},
   "outputs": [
    {
     "data": {
      "text/plain": [
       "1"
      ]
     },
     "execution_count": 35,
     "metadata": {},
     "output_type": "execute_result"
    }
   ],
   "source": [
    "str1.index('a')"
   ]
  },
  {
   "cell_type": "code",
   "execution_count": 36,
   "id": "215e0a97-fc4a-4c54-b7ba-657ccc4ff840",
   "metadata": {},
   "outputs": [
    {
     "data": {
      "text/plain": [
       "5"
      ]
     },
     "execution_count": 36,
     "metadata": {},
     "output_type": "execute_result"
    }
   ],
   "source": [
    "str1.index('a',3)"
   ]
  },
  {
   "cell_type": "code",
   "execution_count": 37,
   "id": "8fcf2b86-2f52-4c35-9fb9-c7c5a713714b",
   "metadata": {},
   "outputs": [
    {
     "data": {
      "text/plain": [
       "5"
      ]
     },
     "execution_count": 37,
     "metadata": {},
     "output_type": "execute_result"
    }
   ],
   "source": [
    "str1.index('a',3,7)"
   ]
  },
  {
   "cell_type": "code",
   "execution_count": 40,
   "id": "1d8a14e3-3fad-46dc-ae9a-ba7bc5f1c4b8",
   "metadata": {},
   "outputs": [
    {
     "name": "stdout",
     "output_type": "stream",
     "text": [
      "1\n",
      "5\n",
      "9\n"
     ]
    }
   ],
   "source": [
    "for i in range(len(str1)):\n",
    "    if str1[i]=='a':\n",
    "        print(i)"
   ]
  },
  {
   "cell_type": "code",
   "execution_count": 45,
   "id": "0798618d-4489-4a88-ac61-030a2464609f",
   "metadata": {},
   "outputs": [
    {
     "name": "stdout",
     "output_type": "stream",
     "text": [
      "1\n",
      "5\n",
      "9\n",
      "substring not found\n"
     ]
    }
   ],
   "source": [
    "try:\n",
    "    str1='hai hai hai'\n",
    "    i1=str1.index('a')\n",
    "    print(i1)\n",
    "    i2=str1.index('a',i1+1)\n",
    "    print(i2)\n",
    "    i3=str1.index('a',i2+1)\n",
    "    print(i3)\n",
    "    i4=str1.index('a',i3+1)\n",
    "    i4\n",
    "except Exception as e:\n",
    "    print(e)"
   ]
  },
  {
   "cell_type": "code",
   "execution_count": 48,
   "id": "a926b1fb-0e20-41d9-a1d1-11585268fe92",
   "metadata": {},
   "outputs": [
    {
     "name": "stdout",
     "output_type": "stream",
     "text": [
      "1\n",
      "5\n",
      "9\n",
      "13\n",
      "17\n",
      "substring not found\n"
     ]
    }
   ],
   "source": [
    "try:\n",
    "    str1='hai hai hai hai hai'\n",
    "    ind=0\n",
    "    for i in range(len(str1)):\n",
    "        if len(str1)>ind+1:\n",
    "            if ind==0:\n",
    "                ind=str1.index('a')\n",
    "            else:\n",
    "                ind=str1.index('a',ind+1)\n",
    "            print(ind)\n",
    "except Exception as e:\n",
    "    print(e)      "
   ]
  },
  {
   "cell_type": "code",
   "execution_count": 49,
   "id": "10bfa150-4a7b-41f4-8d41-67e71b989a5f",
   "metadata": {},
   "outputs": [
    {
     "name": "stdout",
     "output_type": "stream",
     "text": [
      "helo\n"
     ]
    }
   ],
   "source": [
    "if True:\n",
    "    print('helo')\n",
    "else:\n",
    "    print('bye')"
   ]
  },
  {
   "cell_type": "markdown",
   "id": "351a0ad2-d056-4553-8ee9-ce517e8655b2",
   "metadata": {},
   "source": [
    "**find**"
   ]
  },
  {
   "cell_type": "code",
   "execution_count": 52,
   "id": "b9f0b10c-76e5-4844-9098-d6959bb3fff1",
   "metadata": {},
   "outputs": [
    {
     "data": {
      "text/plain": [
       "1"
      ]
     },
     "execution_count": 52,
     "metadata": {},
     "output_type": "execute_result"
    }
   ],
   "source": [
    "str1.find('a')"
   ]
  },
  {
   "cell_type": "code",
   "execution_count": 53,
   "id": "25a9304a-853c-49ee-beb5-a873fd17d234",
   "metadata": {},
   "outputs": [
    {
     "data": {
      "text/plain": [
       "-1"
      ]
     },
     "execution_count": 53,
     "metadata": {},
     "output_type": "execute_result"
    }
   ],
   "source": [
    "str1.find('b')"
   ]
  },
  {
   "cell_type": "code",
   "execution_count": 54,
   "id": "ce475099-9541-4b99-ac58-7e3cdddf7c4e",
   "metadata": {},
   "outputs": [
    {
     "data": {
      "text/plain": [
       "5"
      ]
     },
     "execution_count": 54,
     "metadata": {},
     "output_type": "execute_result"
    }
   ],
   "source": [
    "str1.find('a',2)"
   ]
  },
  {
   "cell_type": "code",
   "execution_count": 55,
   "id": "a83c1322-f934-4dd4-9f16-84d12d4ef522",
   "metadata": {},
   "outputs": [
    {
     "data": {
      "text/plain": [
       "5"
      ]
     },
     "execution_count": 55,
     "metadata": {},
     "output_type": "execute_result"
    }
   ],
   "source": [
    "str1.find('a',2,6)"
   ]
  },
  {
   "cell_type": "code",
   "execution_count": 56,
   "id": "3da3e434-7d17-45ab-87b4-c4489082ae51",
   "metadata": {},
   "outputs": [
    {
     "data": {
      "text/plain": [
       "9"
      ]
     },
     "execution_count": 56,
     "metadata": {},
     "output_type": "execute_result"
    }
   ],
   "source": [
    "str1.find('a',6)"
   ]
  },
  {
   "cell_type": "code",
   "execution_count": 57,
   "id": "886e92e5-be18-4861-a0e8-22ea373969f0",
   "metadata": {},
   "outputs": [
    {
     "data": {
      "text/plain": [
       "1"
      ]
     },
     "execution_count": 57,
     "metadata": {},
     "output_type": "execute_result"
    }
   ],
   "source": [
    "str1.find('a',-10,-1)"
   ]
  },
  {
   "cell_type": "code",
   "execution_count": 61,
   "id": "39425ae0-3b17-473b-b92c-8a516b268809",
   "metadata": {},
   "outputs": [
    {
     "data": {
      "text/plain": [
       "'hai hai hai'"
      ]
     },
     "execution_count": 61,
     "metadata": {},
     "output_type": "execute_result"
    }
   ],
   "source": [
    "str1.replace('z','Z')"
   ]
  },
  {
   "cell_type": "markdown",
   "id": "33cda838-4cb9-4346-9f26-14df55d1f04c",
   "metadata": {},
   "source": [
    "- if sub string not found\n",
    "- count method will give 0(zero)\n",
    "- replace method will give original string\n",
    "- index will give **substring not found**\n",
    "- find will give -1"
   ]
  },
  {
   "cell_type": "code",
   "execution_count": 17,
   "id": "a83c03c6-f14d-4a3c-9e57-19d6577c10ae",
   "metadata": {},
   "outputs": [
    {
     "name": "stdout",
     "output_type": "stream",
     "text": [
      "omkar\n",
      "nallagoni\n",
      "cognizant\n",
      "-----------------\n",
      "virat\n",
      "kohli\n",
      "rcb\n",
      "-----------------\n",
      "rohit\n",
      "sharma\n",
      "mi\n"
     ]
    }
   ],
   "source": [
    "str1='omkar.nallagoni@cognizant.com'\n",
    "str2='virat.kohli@rcb.com'\n",
    "str3='rohit.sharma@mi.com'\n",
    "#idea:find the triggers\n",
    "#for first name.\n",
    "#second name : . and @\n",
    "#company name:@ and second .\n",
    "i=str1.find('.')\n",
    "j=str1.find('@')\n",
    "k=str1.find('.',i+1)\n",
    "fname=str1[0:i]\n",
    "sname=str1[i+1:j]\n",
    "cname=str1[j+1:k]\n",
    "print(fname)\n",
    "print(sname)\n",
    "print(cname)\n",
    "print(\"-----------------\")\n",
    "i=str2.find('.')\n",
    "j=str2.find('@')\n",
    "k=str2.find('.',i+1)\n",
    "fname=str2[0:i]\n",
    "sname=str2[i+1:j]\n",
    "cname=str2[j+1:k]\n",
    "print(fname)\n",
    "print(sname)\n",
    "print(cname)\n",
    "print(\"-----------------\")\n",
    "i=str3.find('.')\n",
    "j=str3.find('@')\n",
    "k=str3.find('.',i+1)\n",
    "fname=str3[0:i]\n",
    "sname=str3[i+1:j]\n",
    "cname=str3[j+1:k]\n",
    "print(fname)\n",
    "print(sname)\n",
    "print(cname)"
   ]
  },
  {
   "cell_type": "code",
   "execution_count": 18,
   "id": "5af42eb2-a6a4-4b28-bb47-fd8da82bc1b5",
   "metadata": {},
   "outputs": [
    {
     "data": {
      "text/plain": [
       "['omkar.nallagoni@cognizant.com', 'virat.kohli@rcb.com', 'rohit.sharma@mi.com']"
      ]
     },
     "execution_count": 18,
     "metadata": {},
     "output_type": "execute_result"
    }
   ],
   "source": [
    "l=[str1,str2,str3]\n",
    "l"
   ]
  },
  {
   "cell_type": "code",
   "execution_count": 19,
   "id": "79de25b7-b94c-41c9-afd5-3696507ef212",
   "metadata": {},
   "outputs": [
    {
     "name": "stdout",
     "output_type": "stream",
     "text": [
      "first name:  omkar\n",
      "second name:  nallagoni\n",
      "company:  cognizant\n",
      "------------\n",
      "first name:  virat\n",
      "second name:  kohli\n",
      "company:  rcb\n",
      "------------\n",
      "first name:  rohit\n",
      "second name:  sharma\n",
      "company:  mi\n",
      "------------\n"
     ]
    }
   ],
   "source": [
    "for i1 in l:\n",
    "    i=i1.find('.')#index also we can use\n",
    "    j=i1.find('@')\n",
    "    k=i1.find('.',i+1)\n",
    "    fname=i1[0:i]\n",
    "    sname=i1[i+1:j]\n",
    "    cname=i1[j+1:k]\n",
    "    print(\"first name: \",fname)\n",
    "    print(\"second name: \",sname)\n",
    "    print(\"company: \",cname)\n",
    "    print('------------')\n",
    "        "
   ]
  },
  {
   "cell_type": "markdown",
   "id": "2f119aa9-a9aa-4a5e-9fc6-5f31cdfdae56",
   "metadata": {},
   "source": [
    "- split \n",
    "- ends with\n",
    "- start with\n",
    "- strip/lstrip/rstrip"
   ]
  },
  {
   "cell_type": "markdown",
   "id": "f1103029-5ce8-4232-83dc-a90397997fd4",
   "metadata": {},
   "source": [
    "**imp**\n",
    "- count\n",
    "- find\n",
    "- index"
   ]
  },
  {
   "cell_type": "markdown",
   "id": "cc506808-f268-4f48-8897-2578d9d0e3cd",
   "metadata": {},
   "source": [
    "- upper/lower/casefold\n",
    "- capitalize/title\n",
    "- center\n",
    "- count\n",
    "- replace\n",
    "- index/find\n",
    "- start with is "
   ]
  },
  {
   "cell_type": "code",
   "execution_count": 36,
   "id": "e7ebb421-97f1-4946-8eeb-913eb02b63c3",
   "metadata": {},
   "outputs": [
    {
     "data": {
      "text/plain": [
       "['__add__',\n",
       " '__class__',\n",
       " '__contains__',\n",
       " '__delattr__',\n",
       " '__dir__',\n",
       " '__doc__',\n",
       " '__eq__',\n",
       " '__format__',\n",
       " '__ge__',\n",
       " '__getattribute__',\n",
       " '__getitem__',\n",
       " '__getnewargs__',\n",
       " '__getstate__',\n",
       " '__gt__',\n",
       " '__hash__',\n",
       " '__init__',\n",
       " '__init_subclass__',\n",
       " '__iter__',\n",
       " '__le__',\n",
       " '__len__',\n",
       " '__lt__',\n",
       " '__mod__',\n",
       " '__mul__',\n",
       " '__ne__',\n",
       " '__new__',\n",
       " '__reduce__',\n",
       " '__reduce_ex__',\n",
       " '__repr__',\n",
       " '__rmod__',\n",
       " '__rmul__',\n",
       " '__setattr__',\n",
       " '__sizeof__',\n",
       " '__str__',\n",
       " '__subclasshook__',\n",
       " 'capitalize',\n",
       " 'casefold',\n",
       " 'center',\n",
       " 'count',\n",
       " 'encode',\n",
       " 'endswith',\n",
       " 'expandtabs',\n",
       " 'find',\n",
       " 'format',\n",
       " 'format_map',\n",
       " 'index',\n",
       " 'isalnum',\n",
       " 'isalpha',\n",
       " 'isascii',\n",
       " 'isdecimal',\n",
       " 'isdigit',\n",
       " 'isidentifier',\n",
       " 'islower',\n",
       " 'isnumeric',\n",
       " 'isprintable',\n",
       " 'isspace',\n",
       " 'istitle',\n",
       " 'isupper',\n",
       " 'join',\n",
       " 'ljust',\n",
       " 'lower',\n",
       " 'lstrip',\n",
       " 'maketrans',\n",
       " 'partition',\n",
       " 'removeprefix',\n",
       " 'removesuffix',\n",
       " 'replace',\n",
       " 'rfind',\n",
       " 'rindex',\n",
       " 'rjust',\n",
       " 'rpartition',\n",
       " 'rsplit',\n",
       " 'rstrip',\n",
       " 'split',\n",
       " 'splitlines',\n",
       " 'startswith',\n",
       " 'strip',\n",
       " 'swapcase',\n",
       " 'title',\n",
       " 'translate',\n",
       " 'upper',\n",
       " 'zfill']"
      ]
     },
     "execution_count": 36,
     "metadata": {},
     "output_type": "execute_result"
    }
   ],
   "source": [
    "dir('ja')"
   ]
  },
  {
   "cell_type": "code",
   "execution_count": 39,
   "id": "bfbf79fb-d045-48f2-9a1a-c5c966612ffa",
   "metadata": {},
   "outputs": [],
   "source": [
    "s='hai'\n",
    "b=s.encode()"
   ]
  },
  {
   "cell_type": "code",
   "execution_count": 40,
   "id": "6f27f4ed-8a93-4f95-b884-d48a610b19a6",
   "metadata": {},
   "outputs": [
    {
     "data": {
      "text/plain": [
       "b'hai'"
      ]
     },
     "execution_count": 40,
     "metadata": {},
     "output_type": "execute_result"
    }
   ],
   "source": [
    "b"
   ]
  },
  {
   "cell_type": "code",
   "execution_count": 41,
   "id": "a87cb34a-4332-45f7-a9b2-911434c77c52",
   "metadata": {},
   "outputs": [
    {
     "data": {
      "text/plain": [
       "'hai'"
      ]
     },
     "execution_count": 41,
     "metadata": {},
     "output_type": "execute_result"
    }
   ],
   "source": [
    "b.decode()"
   ]
  },
  {
   "cell_type": "code",
   "execution_count": 46,
   "id": "0dbba45d-e0bb-411c-9793-7cc85cddad24",
   "metadata": {},
   "outputs": [
    {
     "data": {
      "text/plain": [
       "'hdi'"
      ]
     },
     "execution_count": 46,
     "metadata": {},
     "output_type": "execute_result"
    }
   ],
   "source": [
    "txt={97:100}\n",
    "s.translate(txt)"
   ]
  },
  {
   "cell_type": "code",
   "execution_count": null,
   "id": "dd37331d-1a8f-48fe-903a-bd836da1da92",
   "metadata": {},
   "outputs": [],
   "source": []
  }
 ],
 "metadata": {
  "kernelspec": {
   "display_name": "Python 3 (ipykernel)",
   "language": "python",
   "name": "python3"
  },
  "language_info": {
   "codemirror_mode": {
    "name": "ipython",
    "version": 3
   },
   "file_extension": ".py",
   "mimetype": "text/x-python",
   "name": "python",
   "nbconvert_exporter": "python",
   "pygments_lexer": "ipython3",
   "version": "3.11.7"
  }
 },
 "nbformat": 4,
 "nbformat_minor": 5
}
