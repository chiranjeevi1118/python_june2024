{
 "cells": [
  {
   "cell_type": "markdown",
   "id": "0ba2296e-23a7-45c3-811f-03525524867c",
   "metadata": {},
   "source": [
    "- representation\n",
    "- type\n",
    "- len\n",
    "- max\n",
    "- min\n",
    "- sorted\n",
    "- reversed\n",
    "- in\n",
    "- for loop in\n",
    "- index\n",
    "- for loop in index\n",
    "- mutable\n",
    "- concatenation\n",
    "- slicing\n",
    "- methods"
   ]
  },
  {
   "cell_type": "markdown",
   "id": "f4d5c77f-b510-4a86-8c39-d7d291ac6906",
   "metadata": {},
   "source": [
    "**representations**"
   ]
  },
  {
   "cell_type": "markdown",
   "id": "8c15a0fb-7c49-40fd-9587-4c698eb96c55",
   "metadata": {},
   "source": [
    "- string represent with quotes\n",
    "- list represent with square brackets[]"
   ]
  },
  {
   "cell_type": "code",
   "execution_count": 1,
   "id": "617f58a2-014a-40e7-a753-20407fa6ab8b",
   "metadata": {},
   "outputs": [
    {
     "data": {
      "text/plain": [
       "[1, 2, 3, 4]"
      ]
     },
     "execution_count": 1,
     "metadata": {},
     "output_type": "execute_result"
    }
   ],
   "source": [
    "l1=[1,2,3,4]\n",
    "l1"
   ]
  },
  {
   "cell_type": "code",
   "execution_count": 2,
   "id": "58d8223e-d0e8-4bcd-b083-56c4d3574e75",
   "metadata": {},
   "outputs": [
    {
     "data": {
      "text/plain": [
       "list"
      ]
     },
     "execution_count": 2,
     "metadata": {},
     "output_type": "execute_result"
    }
   ],
   "source": [
    "type(l1)"
   ]
  },
  {
   "cell_type": "code",
   "execution_count": 4,
   "id": "099e213e-6893-4e37-9bdf-234fb414c063",
   "metadata": {},
   "outputs": [
    {
     "data": {
      "text/plain": [
       "['a', 'b', 'c', 'd']"
      ]
     },
     "execution_count": 4,
     "metadata": {},
     "output_type": "execute_result"
    }
   ],
   "source": [
    "l2=['a','b','c','d']\n",
    "l2"
   ]
  },
  {
   "cell_type": "code",
   "execution_count": 5,
   "id": "02e7c3ff-1ed5-4b1e-aa61-7971ffbdc1d0",
   "metadata": {},
   "outputs": [
    {
     "data": {
      "text/plain": [
       "[1, 2, 3, 4, 'a', 'b', 'c', 'd']"
      ]
     },
     "execution_count": 5,
     "metadata": {},
     "output_type": "execute_result"
    }
   ],
   "source": [
    "l3=[1,2,3,4,'a','b','c','d']\n",
    "l3"
   ]
  },
  {
   "cell_type": "code",
   "execution_count": 6,
   "id": "2a08de84-b97c-4db9-b6b5-e45396d161a0",
   "metadata": {},
   "outputs": [
    {
     "data": {
      "text/plain": [
       "[1, 2, 3, 'apple', 'ball', 'cat', True, False, (2+8j)]"
      ]
     },
     "execution_count": 6,
     "metadata": {},
     "output_type": "execute_result"
    }
   ],
   "source": [
    "l4=[1,2,3,'apple','ball','cat',True,False,2+8j]\n",
    "l4"
   ]
  },
  {
   "cell_type": "code",
   "execution_count": 8,
   "id": "b7352513-05cd-4ce8-9751-c2d1252c5574",
   "metadata": {},
   "outputs": [
    {
     "data": {
      "text/plain": [
       "['naresh it']"
      ]
     },
     "execution_count": 8,
     "metadata": {},
     "output_type": "execute_result"
    }
   ],
   "source": [
    "name='naresh it'\n",
    "l5=[name]\n",
    "l5"
   ]
  },
  {
   "cell_type": "code",
   "execution_count": 9,
   "id": "e256cadb-5391-4fb0-9eb2-991264283603",
   "metadata": {},
   "outputs": [
    {
     "data": {
      "text/plain": [
       "[100, 100, 100]"
      ]
     },
     "execution_count": 9,
     "metadata": {},
     "output_type": "execute_result"
    }
   ],
   "source": [
    "l6=[100,100,100]\n",
    "l6"
   ]
  },
  {
   "cell_type": "code",
   "execution_count": 10,
   "id": "5b40ef75-6fae-45c9-8b8e-45321c2d658f",
   "metadata": {},
   "outputs": [
    {
     "data": {
      "text/plain": [
       "[100, 'apple', 10.5, (4+7j), ['a', 3]]"
      ]
     },
     "execution_count": 10,
     "metadata": {},
     "output_type": "execute_result"
    }
   ],
   "source": [
    "l7=[100,'apple',10.5,4+7j,['a',3]]\n",
    "l7"
   ]
  },
  {
   "cell_type": "markdown",
   "id": "66d5eaf7-d4af-4375-8b0b-c2a8d3cd9f74",
   "metadata": {},
   "source": [
    "- list are array of elements\n",
    "- list elements are heterogeneous all the data types we can represent in a list\n",
    "- list elements are allowed duplicates\n",
    "- list in list is posiible\n",
    "- variable assignment also posiible in the list"
   ]
  },
  {
   "cell_type": "code",
   "execution_count": 11,
   "id": "015b7318-ddaf-4f7b-8f76-e9d3d80a8fda",
   "metadata": {},
   "outputs": [
    {
     "data": {
      "text/plain": [
       "4"
      ]
     },
     "execution_count": 11,
     "metadata": {},
     "output_type": "execute_result"
    }
   ],
   "source": [
    "len(l1)"
   ]
  },
  {
   "cell_type": "code",
   "execution_count": 13,
   "id": "49d98090-28b3-4680-a550-2106be0d70bd",
   "metadata": {},
   "outputs": [
    {
     "data": {
      "text/plain": [
       "4"
      ]
     },
     "execution_count": 13,
     "metadata": {},
     "output_type": "execute_result"
    }
   ],
   "source": [
    "len(l2)"
   ]
  },
  {
   "cell_type": "code",
   "execution_count": 14,
   "id": "f658dc82-be6e-42b6-8068-53e3cffb57fa",
   "metadata": {},
   "outputs": [
    {
     "data": {
      "text/plain": [
       "8"
      ]
     },
     "execution_count": 14,
     "metadata": {},
     "output_type": "execute_result"
    }
   ],
   "source": [
    "len(l3)"
   ]
  },
  {
   "cell_type": "code",
   "execution_count": 15,
   "id": "f6280ac0-674a-4417-8dab-d97d0ec76f3a",
   "metadata": {},
   "outputs": [
    {
     "data": {
      "text/plain": [
       "9"
      ]
     },
     "execution_count": 15,
     "metadata": {},
     "output_type": "execute_result"
    }
   ],
   "source": [
    "len(l4)"
   ]
  },
  {
   "cell_type": "code",
   "execution_count": 16,
   "id": "be87db00-975c-4a70-ab9c-2285876c8d51",
   "metadata": {},
   "outputs": [
    {
     "data": {
      "text/plain": [
       "1"
      ]
     },
     "execution_count": 16,
     "metadata": {},
     "output_type": "execute_result"
    }
   ],
   "source": [
    "len(l5)"
   ]
  },
  {
   "cell_type": "code",
   "execution_count": 17,
   "id": "ce3ab198-bf8d-415f-a5dc-ad82b4fa387b",
   "metadata": {},
   "outputs": [
    {
     "data": {
      "text/plain": [
       "3"
      ]
     },
     "execution_count": 17,
     "metadata": {},
     "output_type": "execute_result"
    }
   ],
   "source": [
    "len(l6)"
   ]
  },
  {
   "cell_type": "code",
   "execution_count": 18,
   "id": "da2415bf-314e-4c1c-8f8a-b220c551b2e8",
   "metadata": {},
   "outputs": [
    {
     "data": {
      "text/plain": [
       "5"
      ]
     },
     "execution_count": 18,
     "metadata": {},
     "output_type": "execute_result"
    }
   ],
   "source": [
    "len(l7)"
   ]
  },
  {
   "cell_type": "code",
   "execution_count": 19,
   "id": "20000231-b5c7-414a-bb4b-aad8dbdc07ec",
   "metadata": {},
   "outputs": [
    {
     "data": {
      "text/plain": [
       "4"
      ]
     },
     "execution_count": 19,
     "metadata": {},
     "output_type": "execute_result"
    }
   ],
   "source": [
    "max(l1)"
   ]
  },
  {
   "cell_type": "code",
   "execution_count": 20,
   "id": "8ef63e9f-c36c-4ed6-b3f5-86e9b2827432",
   "metadata": {},
   "outputs": [
    {
     "data": {
      "text/plain": [
       "'d'"
      ]
     },
     "execution_count": 20,
     "metadata": {},
     "output_type": "execute_result"
    }
   ],
   "source": [
    "max(l2)"
   ]
  },
  {
   "cell_type": "code",
   "execution_count": 21,
   "id": "0061ddc0-43eb-49e8-9ff6-761568fa4f4a",
   "metadata": {},
   "outputs": [
    {
     "ename": "TypeError",
     "evalue": "'>' not supported between instances of 'str' and 'int'",
     "output_type": "error",
     "traceback": [
      "\u001b[1;31m---------------------------------------------------------------------------\u001b[0m",
      "\u001b[1;31mTypeError\u001b[0m                                 Traceback (most recent call last)",
      "Cell \u001b[1;32mIn[21], line 1\u001b[0m\n\u001b[1;32m----> 1\u001b[0m \u001b[38;5;28mmax\u001b[39m(l3)\n",
      "\u001b[1;31mTypeError\u001b[0m: '>' not supported between instances of 'str' and 'int'"
     ]
    }
   ],
   "source": [
    "max(l3)"
   ]
  },
  {
   "cell_type": "code",
   "execution_count": 22,
   "id": "40ab119f-30a8-4784-973e-cdbfd1d46b83",
   "metadata": {},
   "outputs": [
    {
     "ename": "TypeError",
     "evalue": "'>' not supported between instances of 'str' and 'int'",
     "output_type": "error",
     "traceback": [
      "\u001b[1;31m---------------------------------------------------------------------------\u001b[0m",
      "\u001b[1;31mTypeError\u001b[0m                                 Traceback (most recent call last)",
      "Cell \u001b[1;32mIn[22], line 1\u001b[0m\n\u001b[1;32m----> 1\u001b[0m \u001b[38;5;28mmax\u001b[39m(l4)\n",
      "\u001b[1;31mTypeError\u001b[0m: '>' not supported between instances of 'str' and 'int'"
     ]
    }
   ],
   "source": [
    "max(l4)"
   ]
  },
  {
   "cell_type": "code",
   "execution_count": 23,
   "id": "2d23a837-be09-4ef8-9054-8bb4a7f7d56c",
   "metadata": {},
   "outputs": [
    {
     "data": {
      "text/plain": [
       "'naresh it'"
      ]
     },
     "execution_count": 23,
     "metadata": {},
     "output_type": "execute_result"
    }
   ],
   "source": [
    "max(l5)"
   ]
  },
  {
   "cell_type": "code",
   "execution_count": 24,
   "id": "95a7a44d-ffbc-44da-9b67-9da27e5d4868",
   "metadata": {},
   "outputs": [
    {
     "data": {
      "text/plain": [
       "100"
      ]
     },
     "execution_count": 24,
     "metadata": {},
     "output_type": "execute_result"
    }
   ],
   "source": [
    "max(l6)"
   ]
  },
  {
   "cell_type": "code",
   "execution_count": 25,
   "id": "9d7e1590-948c-4153-b4a6-b1a212cc560f",
   "metadata": {},
   "outputs": [
    {
     "ename": "TypeError",
     "evalue": "'>' not supported between instances of 'str' and 'int'",
     "output_type": "error",
     "traceback": [
      "\u001b[1;31m---------------------------------------------------------------------------\u001b[0m",
      "\u001b[1;31mTypeError\u001b[0m                                 Traceback (most recent call last)",
      "Cell \u001b[1;32mIn[25], line 1\u001b[0m\n\u001b[1;32m----> 1\u001b[0m \u001b[38;5;28mmax\u001b[39m(l7)\n",
      "\u001b[1;31mTypeError\u001b[0m: '>' not supported between instances of 'str' and 'int'"
     ]
    }
   ],
   "source": [
    "max(l7)"
   ]
  },
  {
   "cell_type": "code",
   "execution_count": 26,
   "id": "bd2a5c2a-e309-4d1b-aaee-5fa26795a4ef",
   "metadata": {},
   "outputs": [
    {
     "data": {
      "text/plain": [
       "1"
      ]
     },
     "execution_count": 26,
     "metadata": {},
     "output_type": "execute_result"
    }
   ],
   "source": [
    "min(l1)"
   ]
  },
  {
   "cell_type": "code",
   "execution_count": 27,
   "id": "45ed61b1-38ac-4633-ad99-4ab770e8a20b",
   "metadata": {},
   "outputs": [
    {
     "data": {
      "text/plain": [
       "'a'"
      ]
     },
     "execution_count": 27,
     "metadata": {},
     "output_type": "execute_result"
    }
   ],
   "source": [
    "min(l2)"
   ]
  },
  {
   "cell_type": "code",
   "execution_count": 36,
   "id": "83404502-ebce-4520-8048-d8d8ab6a3689",
   "metadata": {},
   "outputs": [
    {
     "ename": "TypeError",
     "evalue": "'<' not supported between instances of 'str' and 'int'",
     "output_type": "error",
     "traceback": [
      "\u001b[1;31m---------------------------------------------------------------------------\u001b[0m",
      "\u001b[1;31mTypeError\u001b[0m                                 Traceback (most recent call last)",
      "Cell \u001b[1;32mIn[36], line 1\u001b[0m\n\u001b[1;32m----> 1\u001b[0m \u001b[38;5;28mmin\u001b[39m(l3[\u001b[38;5;241m0\u001b[39m:\u001b[38;5;241m5\u001b[39m])\n",
      "\u001b[1;31mTypeError\u001b[0m: '<' not supported between instances of 'str' and 'int'"
     ]
    }
   ],
   "source": [
    "min(l3[0:5])"
   ]
  },
  {
   "cell_type": "code",
   "execution_count": 29,
   "id": "dff87402-94c9-425f-8e94-7c7ab8a56642",
   "metadata": {},
   "outputs": [
    {
     "ename": "TypeError",
     "evalue": "'<' not supported between instances of 'str' and 'int'",
     "output_type": "error",
     "traceback": [
      "\u001b[1;31m---------------------------------------------------------------------------\u001b[0m",
      "\u001b[1;31mTypeError\u001b[0m                                 Traceback (most recent call last)",
      "Cell \u001b[1;32mIn[29], line 1\u001b[0m\n\u001b[1;32m----> 1\u001b[0m \u001b[38;5;28mmin\u001b[39m(l4)\n",
      "\u001b[1;31mTypeError\u001b[0m: '<' not supported between instances of 'str' and 'int'"
     ]
    }
   ],
   "source": [
    "min(l4)"
   ]
  },
  {
   "cell_type": "code",
   "execution_count": 33,
   "id": "dbb8190a-e92c-4fa7-800d-5936d7a67c34",
   "metadata": {},
   "outputs": [
    {
     "data": {
      "text/plain": [
       "' '"
      ]
     },
     "execution_count": 33,
     "metadata": {},
     "output_type": "execute_result"
    }
   ],
   "source": [
    "min(l5[0])"
   ]
  },
  {
   "cell_type": "code",
   "execution_count": 31,
   "id": "ef18b162-335f-4d1f-8ed1-a456fea074b9",
   "metadata": {},
   "outputs": [
    {
     "data": {
      "text/plain": [
       "100"
      ]
     },
     "execution_count": 31,
     "metadata": {},
     "output_type": "execute_result"
    }
   ],
   "source": [
    "min(l6)"
   ]
  },
  {
   "cell_type": "code",
   "execution_count": 34,
   "id": "1558701b-a87e-429a-b92b-38c48edbffea",
   "metadata": {},
   "outputs": [
    {
     "ename": "TypeError",
     "evalue": "'<' not supported between instances of 'str' and 'int'",
     "output_type": "error",
     "traceback": [
      "\u001b[1;31m---------------------------------------------------------------------------\u001b[0m",
      "\u001b[1;31mTypeError\u001b[0m                                 Traceback (most recent call last)",
      "Cell \u001b[1;32mIn[34], line 1\u001b[0m\n\u001b[1;32m----> 1\u001b[0m \u001b[38;5;28mmin\u001b[39m(l7)\n",
      "\u001b[1;31mTypeError\u001b[0m: '<' not supported between instances of 'str' and 'int'"
     ]
    }
   ],
   "source": [
    "min(l7)"
   ]
  },
  {
   "cell_type": "code",
   "execution_count": 37,
   "id": "26576b0c-f3b2-427c-b142-9ee4322e1466",
   "metadata": {},
   "outputs": [
    {
     "ename": "AttributeError",
     "evalue": "'list' object has no attribute 'sorted'",
     "output_type": "error",
     "traceback": [
      "\u001b[1;31m---------------------------------------------------------------------------\u001b[0m",
      "\u001b[1;31mAttributeError\u001b[0m                            Traceback (most recent call last)",
      "Cell \u001b[1;32mIn[37], line 1\u001b[0m\n\u001b[1;32m----> 1\u001b[0m l1\u001b[38;5;241m.\u001b[39msorted()\n",
      "\u001b[1;31mAttributeError\u001b[0m: 'list' object has no attribute 'sorted'"
     ]
    }
   ],
   "source": [
    "l1.sorted()"
   ]
  },
  {
   "cell_type": "code",
   "execution_count": 38,
   "id": "5cdfd8ef-4898-41f5-ac9c-0bed2b78452a",
   "metadata": {},
   "outputs": [
    {
     "data": {
      "text/plain": [
       "[1, 2, 3, 4]"
      ]
     },
     "execution_count": 38,
     "metadata": {},
     "output_type": "execute_result"
    }
   ],
   "source": [
    "sorted(l1)"
   ]
  },
  {
   "cell_type": "code",
   "execution_count": 39,
   "id": "30cb9fc4-8547-456b-b930-57215797b9e0",
   "metadata": {},
   "outputs": [
    {
     "data": {
      "text/plain": [
       "['a', 'b', 'c', 'd']"
      ]
     },
     "execution_count": 39,
     "metadata": {},
     "output_type": "execute_result"
    }
   ],
   "source": [
    "sorted(l2)"
   ]
  },
  {
   "cell_type": "code",
   "execution_count": 40,
   "id": "fce17d23-7ce3-4660-bbbb-6915bb043354",
   "metadata": {},
   "outputs": [
    {
     "ename": "TypeError",
     "evalue": "'<' not supported between instances of 'str' and 'int'",
     "output_type": "error",
     "traceback": [
      "\u001b[1;31m---------------------------------------------------------------------------\u001b[0m",
      "\u001b[1;31mTypeError\u001b[0m                                 Traceback (most recent call last)",
      "Cell \u001b[1;32mIn[40], line 1\u001b[0m\n\u001b[1;32m----> 1\u001b[0m \u001b[38;5;28msorted\u001b[39m(l3)\n",
      "\u001b[1;31mTypeError\u001b[0m: '<' not supported between instances of 'str' and 'int'"
     ]
    }
   ],
   "source": [
    "sorted(l3)"
   ]
  },
  {
   "cell_type": "code",
   "execution_count": 41,
   "id": "a6a176e2-0e44-4e1a-9f5f-364ed7604c7d",
   "metadata": {},
   "outputs": [
    {
     "data": {
      "text/plain": [
       "[1, 2, 3, 4]"
      ]
     },
     "execution_count": 41,
     "metadata": {},
     "output_type": "execute_result"
    }
   ],
   "source": [
    "sorted(l3[0:4])"
   ]
  },
  {
   "cell_type": "code",
   "execution_count": 42,
   "id": "b7a1f39e-f691-4025-962a-162ca9b99f8f",
   "metadata": {},
   "outputs": [
    {
     "ename": "TypeError",
     "evalue": "'<' not supported between instances of 'str' and 'int'",
     "output_type": "error",
     "traceback": [
      "\u001b[1;31m---------------------------------------------------------------------------\u001b[0m",
      "\u001b[1;31mTypeError\u001b[0m                                 Traceback (most recent call last)",
      "Cell \u001b[1;32mIn[42], line 1\u001b[0m\n\u001b[1;32m----> 1\u001b[0m \u001b[38;5;28msorted\u001b[39m(l4)\n",
      "\u001b[1;31mTypeError\u001b[0m: '<' not supported between instances of 'str' and 'int'"
     ]
    }
   ],
   "source": [
    "sorted(l4)"
   ]
  },
  {
   "cell_type": "code",
   "execution_count": 43,
   "id": "a79f1167-28ee-4c7a-8fbf-5201e2adf151",
   "metadata": {},
   "outputs": [
    {
     "data": {
      "text/plain": [
       "['naresh it']"
      ]
     },
     "execution_count": 43,
     "metadata": {},
     "output_type": "execute_result"
    }
   ],
   "source": [
    "sorted(l5)"
   ]
  },
  {
   "cell_type": "code",
   "execution_count": 44,
   "id": "a170c9c8-935d-45d0-bd99-e54444476400",
   "metadata": {},
   "outputs": [
    {
     "data": {
      "text/plain": [
       "[100, 100, 100]"
      ]
     },
     "execution_count": 44,
     "metadata": {},
     "output_type": "execute_result"
    }
   ],
   "source": [
    "sorted(l6)"
   ]
  },
  {
   "cell_type": "code",
   "execution_count": 45,
   "id": "3389d25c-101b-4944-a0d2-3c8158dbe671",
   "metadata": {},
   "outputs": [
    {
     "ename": "TypeError",
     "evalue": "'<' not supported between instances of 'str' and 'int'",
     "output_type": "error",
     "traceback": [
      "\u001b[1;31m---------------------------------------------------------------------------\u001b[0m",
      "\u001b[1;31mTypeError\u001b[0m                                 Traceback (most recent call last)",
      "Cell \u001b[1;32mIn[45], line 1\u001b[0m\n\u001b[1;32m----> 1\u001b[0m \u001b[38;5;28msorted\u001b[39m(l7)\n",
      "\u001b[1;31mTypeError\u001b[0m: '<' not supported between instances of 'str' and 'int'"
     ]
    }
   ],
   "source": [
    "sorted(l7)"
   ]
  },
  {
   "cell_type": "code",
   "execution_count": 47,
   "id": "f887188c-3db9-47de-8b6b-8a70ae688258",
   "metadata": {},
   "outputs": [
    {
     "data": {
      "text/plain": [
       "[7237, 8239, 2, 4, 1]"
      ]
     },
     "execution_count": 47,
     "metadata": {},
     "output_type": "execute_result"
    }
   ],
   "source": [
    "l8=[7237,8239,2,4,1]\n",
    "l8"
   ]
  },
  {
   "cell_type": "code",
   "execution_count": 48,
   "id": "e0351837-7ba6-4459-b9d0-ada11857377c",
   "metadata": {},
   "outputs": [
    {
     "data": {
      "text/plain": [
       "[1, 2, 4, 7237, 8239]"
      ]
     },
     "execution_count": 48,
     "metadata": {},
     "output_type": "execute_result"
    }
   ],
   "source": [
    "sorted(l8)"
   ]
  },
  {
   "cell_type": "code",
   "execution_count": 54,
   "id": "8b913187-2a5b-41d7-a9ff-b61b40499474",
   "metadata": {},
   "outputs": [
    {
     "data": {
      "text/plain": [
       "[4, 3, 2, 1]"
      ]
     },
     "execution_count": 54,
     "metadata": {},
     "output_type": "execute_result"
    }
   ],
   "source": [
    "sorted(l1,reverse=True)"
   ]
  },
  {
   "cell_type": "code",
   "execution_count": 55,
   "id": "2e5c73ea-1b97-44f6-8322-6ad327c5bdb6",
   "metadata": {},
   "outputs": [
    {
     "data": {
      "text/plain": [
       "['d', 'c', 'b', 'a']"
      ]
     },
     "execution_count": 55,
     "metadata": {},
     "output_type": "execute_result"
    }
   ],
   "source": [
    "sorted(l2,reverse=True)"
   ]
  },
  {
   "cell_type": "code",
   "execution_count": 58,
   "id": "37ba84bd-d311-49f8-a33c-3ae5e60f6c25",
   "metadata": {},
   "outputs": [
    {
     "data": {
      "text/plain": [
       "[4, 3, 2, 1]"
      ]
     },
     "execution_count": 58,
     "metadata": {},
     "output_type": "execute_result"
    }
   ],
   "source": [
    "sorted(l3[0:4],reverse=True)"
   ]
  },
  {
   "cell_type": "code",
   "execution_count": 59,
   "id": "e3af837c-2ba1-41ed-83d9-94e02c193823",
   "metadata": {},
   "outputs": [
    {
     "ename": "TypeError",
     "evalue": "'<' not supported between instances of 'int' and 'str'",
     "output_type": "error",
     "traceback": [
      "\u001b[1;31m---------------------------------------------------------------------------\u001b[0m",
      "\u001b[1;31mTypeError\u001b[0m                                 Traceback (most recent call last)",
      "Cell \u001b[1;32mIn[59], line 1\u001b[0m\n\u001b[1;32m----> 1\u001b[0m \u001b[38;5;28msorted\u001b[39m(l3,reverse\u001b[38;5;241m=\u001b[39m\u001b[38;5;28;01mTrue\u001b[39;00m)\n",
      "\u001b[1;31mTypeError\u001b[0m: '<' not supported between instances of 'int' and 'str'"
     ]
    }
   ],
   "source": [
    "sorted(l3,reverse=True)"
   ]
  },
  {
   "cell_type": "code",
   "execution_count": 60,
   "id": "ecfdad47-2209-41af-993e-9dad98c91098",
   "metadata": {},
   "outputs": [
    {
     "ename": "TypeError",
     "evalue": "'<' not supported between instances of 'bool' and 'complex'",
     "output_type": "error",
     "traceback": [
      "\u001b[1;31m---------------------------------------------------------------------------\u001b[0m",
      "\u001b[1;31mTypeError\u001b[0m                                 Traceback (most recent call last)",
      "Cell \u001b[1;32mIn[60], line 1\u001b[0m\n\u001b[1;32m----> 1\u001b[0m \u001b[38;5;28msorted\u001b[39m(l4,reverse\u001b[38;5;241m=\u001b[39m\u001b[38;5;28;01mTrue\u001b[39;00m)\n",
      "\u001b[1;31mTypeError\u001b[0m: '<' not supported between instances of 'bool' and 'complex'"
     ]
    }
   ],
   "source": [
    "sorted(l4,reverse=True)"
   ]
  },
  {
   "cell_type": "code",
   "execution_count": 61,
   "id": "f1b643ac-2e70-4e96-8bee-2f9f48d3831e",
   "metadata": {},
   "outputs": [
    {
     "data": {
      "text/plain": [
       "['naresh it']"
      ]
     },
     "execution_count": 61,
     "metadata": {},
     "output_type": "execute_result"
    }
   ],
   "source": [
    "sorted(l5,reverse=True)"
   ]
  },
  {
   "cell_type": "code",
   "execution_count": 62,
   "id": "bbaf08dc-e9e0-4fc0-8e67-9f015b7955ac",
   "metadata": {},
   "outputs": [
    {
     "data": {
      "text/plain": [
       "[100, 100, 100]"
      ]
     },
     "execution_count": 62,
     "metadata": {},
     "output_type": "execute_result"
    }
   ],
   "source": [
    "sorted(l6,reverse=True)"
   ]
  },
  {
   "cell_type": "code",
   "execution_count": 63,
   "id": "618f43bd-e62d-4979-8c5b-26f6b75adfdd",
   "metadata": {},
   "outputs": [
    {
     "ename": "TypeError",
     "evalue": "'<' not supported between instances of 'complex' and 'list'",
     "output_type": "error",
     "traceback": [
      "\u001b[1;31m---------------------------------------------------------------------------\u001b[0m",
      "\u001b[1;31mTypeError\u001b[0m                                 Traceback (most recent call last)",
      "Cell \u001b[1;32mIn[63], line 1\u001b[0m\n\u001b[1;32m----> 1\u001b[0m \u001b[38;5;28msorted\u001b[39m(l7,reverse\u001b[38;5;241m=\u001b[39m\u001b[38;5;28;01mTrue\u001b[39;00m)\n",
      "\u001b[1;31mTypeError\u001b[0m: '<' not supported between instances of 'complex' and 'list'"
     ]
    }
   ],
   "source": [
    "sorted(l7,reverse=True)"
   ]
  },
  {
   "cell_type": "code",
   "execution_count": 66,
   "id": "64d139db-78da-49e1-89f1-e6b999d98d7f",
   "metadata": {},
   "outputs": [
    {
     "data": {
      "text/plain": [
       "[8239, 7237, 4, 2, 1]"
      ]
     },
     "execution_count": 66,
     "metadata": {},
     "output_type": "execute_result"
    }
   ],
   "source": [
    "sorted(l8,reverse=True)"
   ]
  },
  {
   "cell_type": "code",
   "execution_count": 74,
   "id": "e8ab606f-ec00-4be5-b4ce-38197a4f295e",
   "metadata": {},
   "outputs": [
    {
     "data": {
      "text/plain": [
       "[4, 3, 2]"
      ]
     },
     "execution_count": 74,
     "metadata": {},
     "output_type": "execute_result"
    }
   ],
   "source": [
    "l1[:-1]"
   ]
  },
  {
   "cell_type": "code",
   "execution_count": 75,
   "id": "9ccd848c-3b81-4fd5-b93e-44d805416362",
   "metadata": {},
   "outputs": [
    {
     "name": "stdout",
     "output_type": "stream",
     "text": [
      "d\n",
      "c\n",
      "b\n",
      "a\n"
     ]
    }
   ],
   "source": [
    "for i in reversed(l2):\n",
    "    print(i)"
   ]
  },
  {
   "cell_type": "code",
   "execution_count": 76,
   "id": "e090623e-5d98-4483-b6af-e77310a932ca",
   "metadata": {},
   "outputs": [
    {
     "data": {
      "text/plain": [
       "1"
      ]
     },
     "execution_count": 76,
     "metadata": {},
     "output_type": "execute_result"
    }
   ],
   "source": [
    "len(l5)"
   ]
  },
  {
   "cell_type": "code",
   "execution_count": 81,
   "id": "e42c114c-d696-4966-a79f-c1b295f98f7c",
   "metadata": {},
   "outputs": [
    {
     "data": {
      "text/plain": [
       "[(2+8j), False, True, 'cat', 'ball', 'apple', 3, 2, 1]"
      ]
     },
     "execution_count": 81,
     "metadata": {},
     "output_type": "execute_result"
    }
   ],
   "source": [
    "list(reversed(l4))"
   ]
  },
  {
   "cell_type": "code",
   "execution_count": 82,
   "id": "99db1e48-d189-47fa-b519-1aa86a6a0b30",
   "metadata": {},
   "outputs": [
    {
     "data": {
      "text/plain": [
       "'banu'"
      ]
     },
     "execution_count": 82,
     "metadata": {},
     "output_type": "execute_result"
    }
   ],
   "source": [
    "name=['aditya','aaditya','banu']\n",
    "max(name)"
   ]
  },
  {
   "cell_type": "code",
   "execution_count": 83,
   "id": "82cb46e7-c978-41f5-9e12-dd8ae618f03f",
   "metadata": {},
   "outputs": [
    {
     "data": {
      "text/plain": [
       "'aaditya'"
      ]
     },
     "execution_count": 83,
     "metadata": {},
     "output_type": "execute_result"
    }
   ],
   "source": [
    "min(name)"
   ]
  },
  {
   "cell_type": "markdown",
   "id": "17e149cd-d003-494d-9ceb-4a3d739fc231",
   "metadata": {},
   "source": [
    "- first compare all first letters\n",
    "- if all first letters ascii values same\n",
    "- then compare with second letters\n",
    "- continue the process"
   ]
  },
  {
   "cell_type": "code",
   "execution_count": 85,
   "id": "65d8c18f-87d0-4e75-a968-7a099931e62f",
   "metadata": {},
   "outputs": [
    {
     "data": {
      "text/plain": [
       "['apple', 1, ['cherry', 'banana']]"
      ]
     },
     "execution_count": 85,
     "metadata": {},
     "output_type": "execute_result"
    }
   ],
   "source": [
    "list1=['apple',1,['cherry','banana']]\n",
    "list1"
   ]
  },
  {
   "cell_type": "code",
   "execution_count": 86,
   "id": "9594dd32-65b8-4bea-b6c1-bde89d02def1",
   "metadata": {},
   "outputs": [
    {
     "data": {
      "text/plain": [
       "3"
      ]
     },
     "execution_count": 86,
     "metadata": {},
     "output_type": "execute_result"
    }
   ],
   "source": [
    "len(list1)"
   ]
  },
  {
   "cell_type": "code",
   "execution_count": null,
   "id": "7fbd8a30-a26d-421c-8790-fcd78f6021a2",
   "metadata": {},
   "outputs": [],
   "source": [
    "max(list1)#error\n",
    "#same data type only comparable"
   ]
  },
  {
   "cell_type": "markdown",
   "id": "3b759ae9-894a-46b3-bf22-94a37d07d66f",
   "metadata": {},
   "source": [
    "**index**"
   ]
  },
  {
   "cell_type": "code",
   "execution_count": 90,
   "id": "bed69fa5-046d-4953-9c34-f0e78205bfed",
   "metadata": {},
   "outputs": [
    {
     "data": {
      "text/plain": [
       "'b'"
      ]
     },
     "execution_count": 90,
     "metadata": {},
     "output_type": "execute_result"
    }
   ],
   "source": [
    "l2[1]"
   ]
  },
  {
   "cell_type": "code",
   "execution_count": 91,
   "id": "8ddc54c7-7763-4d97-9756-f8abc8dc5186",
   "metadata": {},
   "outputs": [
    {
     "data": {
      "text/plain": [
       "[3, 4, 'a', 'b', 'c']"
      ]
     },
     "execution_count": 91,
     "metadata": {},
     "output_type": "execute_result"
    }
   ],
   "source": [
    "l3[2:7]"
   ]
  },
  {
   "cell_type": "code",
   "execution_count": 92,
   "id": "9e92f80b-10be-469c-a19f-6f8a17cf8319",
   "metadata": {},
   "outputs": [
    {
     "ename": "IndexError",
     "evalue": "list index out of range",
     "output_type": "error",
     "traceback": [
      "\u001b[1;31m---------------------------------------------------------------------------\u001b[0m",
      "\u001b[1;31mIndexError\u001b[0m                                Traceback (most recent call last)",
      "Cell \u001b[1;32mIn[92], line 1\u001b[0m\n\u001b[1;32m----> 1\u001b[0m l1[\u001b[38;5;241m4\u001b[39m]\n",
      "\u001b[1;31mIndexError\u001b[0m: list index out of range"
     ]
    }
   ],
   "source": [
    "l1[4]"
   ]
  },
  {
   "cell_type": "code",
   "execution_count": 95,
   "id": "190cefe1-6cfb-4bc0-aac7-34acdad1a151",
   "metadata": {},
   "outputs": [
    {
     "data": {
      "text/plain": [
       "'a'"
      ]
     },
     "execution_count": 95,
     "metadata": {},
     "output_type": "execute_result"
    }
   ],
   "source": [
    "l4[3][0]"
   ]
  },
  {
   "cell_type": "code",
   "execution_count": 97,
   "id": "c4c23533-9a13-4f15-9aec-1a2173f5d862",
   "metadata": {},
   "outputs": [
    {
     "data": {
      "text/plain": [
       "2"
      ]
     },
     "execution_count": 97,
     "metadata": {},
     "output_type": "execute_result"
    }
   ],
   "source": [
    "l11=[1,[2]]\n",
    "l11[1][0]"
   ]
  },
  {
   "cell_type": "code",
   "execution_count": 98,
   "id": "7b4b55bd-fa4b-4cc9-b50a-3e160ebd18d7",
   "metadata": {},
   "outputs": [
    {
     "data": {
      "text/plain": [
       "'A'"
      ]
     },
     "execution_count": 98,
     "metadata": {},
     "output_type": "execute_result"
    }
   ],
   "source": [
    "l11=[1,[2,'A']]\n",
    "l11[1][1]"
   ]
  },
  {
   "cell_type": "markdown",
   "id": "8de5a2a0-d798-432b-835f-7f61672ed51c",
   "metadata": {},
   "source": [
    "- A is presented at index:1\n",
    "- so we given l11 :[2,'A']\n",
    "- the list has two elements\n",
    "- 'A' at 1st index\n",
    "- l11[1][1]"
   ]
  },
  {
   "cell_type": "code",
   "execution_count": 100,
   "id": "c669290f-fe96-4b4f-84ac-6e9183398035",
   "metadata": {},
   "outputs": [
    {
     "data": {
      "text/plain": [
       "'B'"
      ]
     },
     "execution_count": 100,
     "metadata": {},
     "output_type": "execute_result"
    }
   ],
   "source": [
    "l12=[1,[2,['A','B']]]\n",
    "l12[1][1][1]"
   ]
  },
  {
   "cell_type": "code",
   "execution_count": 101,
   "id": "3fd0eadf-7660-4e5f-a974-9ba9dc955caa",
   "metadata": {},
   "outputs": [
    {
     "data": {
      "text/plain": [
       "'B'"
      ]
     },
     "execution_count": 101,
     "metadata": {},
     "output_type": "execute_result"
    }
   ],
   "source": [
    "l12[-1][-1][-1]"
   ]
  },
  {
   "cell_type": "code",
   "execution_count": 108,
   "id": "608c28cb-2cca-4062-a47d-2736a8c35770",
   "metadata": {},
   "outputs": [
    {
     "data": {
      "text/plain": [
       "'Apple'"
      ]
     },
     "execution_count": 108,
     "metadata": {},
     "output_type": "execute_result"
    }
   ],
   "source": [
    "l1=[1,2,[3,[4,[5,['Apple']]]]]\n",
    "l1[2][1][1][1][0]"
   ]
  },
  {
   "cell_type": "code",
   "execution_count": 111,
   "id": "491aa23e-f6b3-409e-b611-ddf64f3eb581",
   "metadata": {},
   "outputs": [
    {
     "data": {
      "text/plain": [
       "'Apple'"
      ]
     },
     "execution_count": 111,
     "metadata": {},
     "output_type": "execute_result"
    }
   ],
   "source": [
    "l1[-1][-1][-1][-1][-1]"
   ]
  },
  {
   "cell_type": "code",
   "execution_count": 112,
   "id": "13143612-6eb5-483f-847e-518c71b69afa",
   "metadata": {},
   "outputs": [],
   "source": [
    "l1=['apple',1,'solapur',['cherry','papaya',70,[123,'banana'],'toamato'],'python']"
   ]
  },
  {
   "cell_type": "code",
   "execution_count": 113,
   "id": "9d3f559b-6a64-40ff-b729-d2e867fb7941",
   "metadata": {},
   "outputs": [
    {
     "data": {
      "text/plain": [
       "['apple',\n",
       " 1,\n",
       " 'solapur',\n",
       " ['cherry', 'papaya', 70, [123, 'banana'], 'toamato'],\n",
       " 'python']"
      ]
     },
     "execution_count": 113,
     "metadata": {},
     "output_type": "execute_result"
    }
   ],
   "source": [
    "l1"
   ]
  },
  {
   "cell_type": "code",
   "execution_count": 115,
   "id": "f9212646-0462-4d63-801d-2f97f58b33a2",
   "metadata": {},
   "outputs": [
    {
     "data": {
      "text/plain": [
       "'banana'"
      ]
     },
     "execution_count": 115,
     "metadata": {},
     "output_type": "execute_result"
    }
   ],
   "source": [
    "l1[3][3][1]"
   ]
  },
  {
   "cell_type": "code",
   "execution_count": 119,
   "id": "debf4614-8a03-4f28-bc83-f438586d9ab8",
   "metadata": {},
   "outputs": [
    {
     "data": {
      "text/plain": [
       "'cheery'"
      ]
     },
     "execution_count": 119,
     "metadata": {},
     "output_type": "execute_result"
    }
   ],
   "source": [
    "l1=[[[[[[[1,'cheery']]]]]]]\n",
    "l1[0][0][0][0][0][0][1]"
   ]
  },
  {
   "cell_type": "code",
   "execution_count": 143,
   "id": "a65c7c6b-48cb-4e09-b791-2f1db5554cf6",
   "metadata": {},
   "outputs": [
    {
     "data": {
      "text/plain": [
       "['mh',\n",
       " ['nagpur',\n",
       "  ['orange', ['likes', ['king'], ['shivaji', ['son', ['shambji']]]]]]]"
      ]
     },
     "execution_count": 143,
     "metadata": {},
     "output_type": "execute_result"
    }
   ],
   "source": [
    "l1=['mh',['nagpur',['orange',['likes',['king'],['shivaji',['son',['shambji']]]]]]]\n",
    "l1"
   ]
  },
  {
   "cell_type": "code",
   "execution_count": 150,
   "id": "645ce0f3-7f84-4a2f-bcf7-c3e4275f104c",
   "metadata": {},
   "outputs": [
    {
     "data": {
      "text/plain": [
       "'shambji'"
      ]
     },
     "execution_count": 150,
     "metadata": {},
     "output_type": "execute_result"
    }
   ],
   "source": [
    "l1[1][1][1][2][1][1][0]"
   ]
  },
  {
   "cell_type": "markdown",
   "id": "5864c8a9-c829-45b7-919f-e706e9302779",
   "metadata": {},
   "source": [
    "**list methods**"
   ]
  },
  {
   "cell_type": "code",
   "execution_count": 1,
   "id": "e59c0164-e09c-4ecb-bfe2-726a80f8d559",
   "metadata": {},
   "outputs": [
    {
     "data": {
      "text/plain": [
       "['__add__',\n",
       " '__class__',\n",
       " '__class_getitem__',\n",
       " '__contains__',\n",
       " '__delattr__',\n",
       " '__delitem__',\n",
       " '__dir__',\n",
       " '__doc__',\n",
       " '__eq__',\n",
       " '__format__',\n",
       " '__ge__',\n",
       " '__getattribute__',\n",
       " '__getitem__',\n",
       " '__getstate__',\n",
       " '__gt__',\n",
       " '__hash__',\n",
       " '__iadd__',\n",
       " '__imul__',\n",
       " '__init__',\n",
       " '__init_subclass__',\n",
       " '__iter__',\n",
       " '__le__',\n",
       " '__len__',\n",
       " '__lt__',\n",
       " '__mul__',\n",
       " '__ne__',\n",
       " '__new__',\n",
       " '__reduce__',\n",
       " '__reduce_ex__',\n",
       " '__repr__',\n",
       " '__reversed__',\n",
       " '__rmul__',\n",
       " '__setattr__',\n",
       " '__setitem__',\n",
       " '__sizeof__',\n",
       " '__str__',\n",
       " '__subclasshook__',\n",
       " 'append',\n",
       " 'clear',\n",
       " 'copy',\n",
       " 'count',\n",
       " 'extend',\n",
       " 'index',\n",
       " 'insert',\n",
       " 'pop',\n",
       " 'remove',\n",
       " 'reverse',\n",
       " 'sort']"
      ]
     },
     "execution_count": 1,
     "metadata": {},
     "output_type": "execute_result"
    }
   ],
   "source": [
    "dir([])"
   ]
  },
  {
   "cell_type": "code",
   "execution_count": 2,
   "id": "038477a2-d323-412c-afa2-71a11a37400b",
   "metadata": {},
   "outputs": [
    {
     "data": {
      "text/plain": [
       "[4]"
      ]
     },
     "execution_count": 2,
     "metadata": {},
     "output_type": "execute_result"
    }
   ],
   "source": [
    "l=[1,2,3,4,5,6,'a','b','c','d','e','f','g']\n",
    "l[3:-9:2]"
   ]
  },
  {
   "cell_type": "code",
   "execution_count": 6,
   "id": "acb98bc9-9d39-4c92-9ab7-51f465ece384",
   "metadata": {},
   "outputs": [
    {
     "data": {
      "text/plain": [
       "['e']"
      ]
     },
     "execution_count": 6,
     "metadata": {},
     "output_type": "execute_result"
    }
   ],
   "source": [
    "l[-3:9:-2]"
   ]
  },
  {
   "cell_type": "markdown",
   "id": "1f0fd106-cff6-464a-bb3b-ef7e69c24c4f",
   "metadata": {},
   "source": [
    "**append**"
   ]
  },
  {
   "cell_type": "markdown",
   "id": "ddc7f4d2-6ae4-47bd-b21f-9f9443430bd0",
   "metadata": {},
   "source": [
    "- adding elements in a list at last index\n",
    "- append method is very important\n",
    "- most of the time we will use append in the real time\n",
    "- when you add the value the original list will be over write\n",
    "- sir here can we say list is mutable(dont talk about mutability)"
   ]
  },
  {
   "cell_type": "code",
   "execution_count": 8,
   "id": "afcb3e18-8a63-43fb-a4d7-470936d1fdc1",
   "metadata": {},
   "outputs": [
    {
     "data": {
      "text/plain": [
       "['apple', 'ball', 'cat']"
      ]
     },
     "execution_count": 8,
     "metadata": {},
     "output_type": "execute_result"
    }
   ],
   "source": [
    "l=['apple','ball','cat']\n",
    "l"
   ]
  },
  {
   "cell_type": "code",
   "execution_count": 11,
   "id": "01685aca-57c3-4f8b-8199-f173036f6d39",
   "metadata": {},
   "outputs": [],
   "source": [
    "# you want to add a dog i the given list\n",
    "l.append('dog')"
   ]
  },
  {
   "cell_type": "code",
   "execution_count": 12,
   "id": "0a790a93-fee5-4a0d-9e41-f0127e824155",
   "metadata": {},
   "outputs": [
    {
     "data": {
      "text/plain": [
       "['apple', 'ball', 'cat', 'dog']"
      ]
     },
     "execution_count": 12,
     "metadata": {},
     "output_type": "execute_result"
    }
   ],
   "source": [
    "l"
   ]
  },
  {
   "cell_type": "code",
   "execution_count": 13,
   "id": "86c97e43-4915-4eb6-99a2-1379b3518984",
   "metadata": {},
   "outputs": [
    {
     "data": {
      "text/plain": [
       "[1, 2, 3, 4, 100]"
      ]
     },
     "execution_count": 13,
     "metadata": {},
     "output_type": "execute_result"
    }
   ],
   "source": [
    "l1=[1,2,3,4]\n",
    "l1.append(100)\n",
    "l1"
   ]
  },
  {
   "cell_type": "code",
   "execution_count": 17,
   "id": "01c1b689-e349-4f85-b5f5-86488f3b4772",
   "metadata": {},
   "outputs": [
    {
     "data": {
      "text/plain": [
       "[10, 20, 'apple', ['a', 1], True]"
      ]
     },
     "execution_count": 17,
     "metadata": {},
     "output_type": "execute_result"
    }
   ],
   "source": [
    "l2=[]\n",
    "#l2.append(10,20,30)#error\n",
    "l2.append(10)\n",
    "l2.append(20)\n",
    "l2.append('apple')\n",
    "l2.append(['a',1])\n",
    "l2.append(True)\n",
    "l2"
   ]
  },
  {
   "cell_type": "markdown",
   "id": "3b3cfeeb-d819-4cc0-94d3-df296a8f7b77",
   "metadata": {},
   "source": [
    "**append method used to save the output in a list**"
   ]
  },
  {
   "cell_type": "code",
   "execution_count": 19,
   "id": "0ed2c03b-d848-4806-8aa6-b813933940bd",
   "metadata": {},
   "outputs": [
    {
     "name": "stdout",
     "output_type": "stream",
     "text": [
      "[1, 4, 9, 16, 25]\n"
     ]
    }
   ],
   "source": [
    "l=[]\n",
    "for i in range(1,6):\n",
    "    l.append(i*i)\n",
    "print(l)\n",
    "    "
   ]
  },
  {
   "cell_type": "code",
   "execution_count": 25,
   "id": "724949cc-26f9-4851-a739-05ce3081fce2",
   "metadata": {},
   "outputs": [
    {
     "data": {
      "text/plain": [
       "([1, 5, 9], 15)"
      ]
     },
     "execution_count": 25,
     "metadata": {},
     "output_type": "execute_result"
    }
   ],
   "source": [
    "l=[]\n",
    "str1='hai hai hai'\n",
    "for i in range(len(str1)):\n",
    "    if str1[i]=='a':\n",
    "        l.append(i)\n",
    "l,sum(l)"
   ]
  },
  {
   "cell_type": "code",
   "execution_count": 28,
   "id": "2b973f3a-1966-4103-aafc-ef7efff1c95a",
   "metadata": {},
   "outputs": [
    {
     "data": {
      "text/plain": [
       "['mumbai', 'chennai']"
      ]
     },
     "execution_count": 28,
     "metadata": {},
     "output_type": "execute_result"
    }
   ],
   "source": [
    "l1=['hyd','mumbai','chennai','blr']\n",
    "l2=[]\n",
    "#len greater than 4\n",
    "for i in l1:\n",
    "    if len(i)>4:\n",
    "        l2.append(i)\n",
    "l2"
   ]
  },
  {
   "cell_type": "code",
   "execution_count": 29,
   "id": "66379092-6ee7-48ae-8b39-17568ca76dee",
   "metadata": {},
   "outputs": [
    {
     "data": {
      "text/plain": [
       "['mum#bai', 'chen#nai']"
      ]
     },
     "execution_count": 29,
     "metadata": {},
     "output_type": "execute_result"
    }
   ],
   "source": [
    "l1=['hyd','mum#bai','chen#nai','blr']\n",
    "# \"#\" has means append\n",
    "l2=[]\n",
    "for i in l1:\n",
    "    if '#' in i:\n",
    "        l2.append(i)\n",
    "l2"
   ]
  },
  {
   "cell_type": "code",
   "execution_count": 1,
   "id": "388c26e4-63bf-4f06-8328-b7ccac4af90e",
   "metadata": {},
   "outputs": [
    {
     "data": {
      "text/plain": [
       "['Hyd', 'Mumbai', 'Chennai', 'Blr']"
      ]
     },
     "execution_count": 1,
     "metadata": {},
     "output_type": "execute_result"
    }
   ],
   "source": [
    "l1=['hyd','mumbai','chennai','blr']\n",
    "l2=[]\n",
    "for i in l1:\n",
    "    l2.append(i.title())\n",
    "l2"
   ]
  },
  {
   "cell_type": "code",
   "execution_count": 31,
   "id": "aa5eeb39-6b8c-487c-b6ce-39021000b8c0",
   "metadata": {},
   "outputs": [
    {
     "data": {
      "text/plain": [
       "['hyd', 'blr']"
      ]
     },
     "execution_count": 31,
     "metadata": {},
     "output_type": "execute_result"
    }
   ],
   "source": [
    "l1=['hyd','mum#bai','chen#nai','blr']\n",
    "# \"#\" has means append\n",
    "l2=[]\n",
    "for i in l1:\n",
    "    if '#' not in i:\n",
    "        l2.append(i)\n",
    "l2"
   ]
  },
  {
   "cell_type": "code",
   "execution_count": 1,
   "id": "12aa9404-28e5-4970-afea-45a3e7173b00",
   "metadata": {},
   "outputs": [
    {
     "data": {
      "text/plain": [
       "'Helo Im Learning Python'"
      ]
     },
     "execution_count": 1,
     "metadata": {},
     "output_type": "execute_result"
    }
   ],
   "source": [
    "s='helo im learning python'\n",
    "s.title()"
   ]
  },
  {
   "cell_type": "code",
   "execution_count": 2,
   "id": "6670e9b0-be5a-404b-9a71-68b333f61f68",
   "metadata": {},
   "outputs": [
    {
     "data": {
      "text/plain": [
       "'Helo im learning python'"
      ]
     },
     "execution_count": 2,
     "metadata": {},
     "output_type": "execute_result"
    }
   ],
   "source": [
    "s.capitalize()"
   ]
  },
  {
   "cell_type": "code",
   "execution_count": 16,
   "id": "59f51391-a0e9-444b-8b2c-cb27f3078177",
   "metadata": {},
   "outputs": [
    {
     "data": {
      "text/plain": [
       "['helo', 'im', 'learning', 'python']"
      ]
     },
     "execution_count": 16,
     "metadata": {},
     "output_type": "execute_result"
    }
   ],
   "source": [
    "l=s.split()\n",
    "l"
   ]
  },
  {
   "cell_type": "code",
   "execution_count": 24,
   "id": "36d2426d-7400-4dc3-888f-4ad634835d12",
   "metadata": {},
   "outputs": [
    {
     "data": {
      "text/plain": [
       "'Helo Im Learning Python'"
      ]
     },
     "execution_count": 24,
     "metadata": {},
     "output_type": "execute_result"
    }
   ],
   "source": [
    "s1=[]\n",
    "for i in l:\n",
    "    s1.append(i.capitalize())\n",
    "s1\n",
    "s12=' '.join(s1) \n",
    "s12"
   ]
  },
  {
   "cell_type": "markdown",
   "id": "23e67dd7-eb75-42d4-a967-bf6e7cd84c4f",
   "metadata": {},
   "source": [
    "**split-join**"
   ]
  },
  {
   "cell_type": "markdown",
   "id": "56a99e12-f2a3-46b9-84b6-3f3bc96bf27b",
   "metadata": {},
   "source": [
    "- split will apply for strings , to divide the words or characters\n",
    "- when we split the elements will be stored in a list format\n",
    "- join is used to combine the elements of a list in a string format\n",
    "- **split-strings**\n",
    "- **join-list**"
   ]
  },
  {
   "cell_type": "code",
   "execution_count": 32,
   "id": "03bcb212-eed7-4726-97f2-2dd0d5e0900c",
   "metadata": {},
   "outputs": [
    {
     "data": {
      "text/plain": [
       "4.242640687119285"
      ]
     },
     "execution_count": 32,
     "metadata": {},
     "output_type": "execute_result"
    }
   ],
   "source": [
    "import math as m\n",
    "# calculate distance between two points \n",
    "a=[1,2]#x1,x2\n",
    "b=[4,5]#y1,y2\n",
    "v1=(b[0]-a[0])**2\n",
    "v2=(b[1]-a[1])**2\n",
    "ans=m.sqrt(v1+v2)\n",
    "ans\n"
   ]
  },
  {
   "cell_type": "code",
   "execution_count": 35,
   "id": "26f534ea-1c1d-4105-ac56-633ac64e0748",
   "metadata": {},
   "outputs": [
    {
     "name": "stdout",
     "output_type": "stream",
     "text": [
      "[1.4142135623730951, 0.0, 4.242640687119285]\n"
     ]
    },
    {
     "data": {
      "text/plain": [
       "4.242640687119285"
      ]
     },
     "execution_count": 35,
     "metadata": {},
     "output_type": "execute_result"
    }
   ],
   "source": [
    "points=[[1,2],[2,3],[5,6]]\n",
    "val=[2,3]\n",
    "a=[]\n",
    "for i in range(len(points)):\n",
    "    ans=m.sqrt(((val[0]-points[i][0])**2)+((val[1]-points[i][1])**2))\n",
    "    a.append(ans)\n",
    "print(a)\n",
    "max(a)"
   ]
  },
  {
   "cell_type": "code",
   "execution_count": 1,
   "id": "20b97a7f-c789-42ef-b249-9e5d9e934404",
   "metadata": {},
   "outputs": [
    {
     "data": {
      "text/plain": [
       "['__add__',\n",
       " '__class__',\n",
       " '__class_getitem__',\n",
       " '__contains__',\n",
       " '__delattr__',\n",
       " '__delitem__',\n",
       " '__dir__',\n",
       " '__doc__',\n",
       " '__eq__',\n",
       " '__format__',\n",
       " '__ge__',\n",
       " '__getattribute__',\n",
       " '__getitem__',\n",
       " '__getstate__',\n",
       " '__gt__',\n",
       " '__hash__',\n",
       " '__iadd__',\n",
       " '__imul__',\n",
       " '__init__',\n",
       " '__init_subclass__',\n",
       " '__iter__',\n",
       " '__le__',\n",
       " '__len__',\n",
       " '__lt__',\n",
       " '__mul__',\n",
       " '__ne__',\n",
       " '__new__',\n",
       " '__reduce__',\n",
       " '__reduce_ex__',\n",
       " '__repr__',\n",
       " '__reversed__',\n",
       " '__rmul__',\n",
       " '__setattr__',\n",
       " '__setitem__',\n",
       " '__sizeof__',\n",
       " '__str__',\n",
       " '__subclasshook__',\n",
       " 'append',\n",
       " 'clear',\n",
       " 'copy',\n",
       " 'count',\n",
       " 'extend',\n",
       " 'index',\n",
       " 'insert',\n",
       " 'pop',\n",
       " 'remove',\n",
       " 'reverse',\n",
       " 'sort']"
      ]
     },
     "execution_count": 1,
     "metadata": {},
     "output_type": "execute_result"
    }
   ],
   "source": [
    "dir([])"
   ]
  },
  {
   "cell_type": "code",
   "execution_count": 2,
   "id": "7480d283-bd2f-4be3-b3b9-aa778a7dff32",
   "metadata": {},
   "outputs": [
    {
     "data": {
      "text/plain": [
       "[1, 2, 3, 4, 5]"
      ]
     },
     "execution_count": 2,
     "metadata": {},
     "output_type": "execute_result"
    }
   ],
   "source": [
    "a=[1,2,3,4,5]\n",
    "a"
   ]
  },
  {
   "cell_type": "code",
   "execution_count": 3,
   "id": "68ae604b-34b0-42e3-bc73-4332e111e4b0",
   "metadata": {},
   "outputs": [
    {
     "data": {
      "text/plain": [
       "[]"
      ]
     },
     "execution_count": 3,
     "metadata": {},
     "output_type": "execute_result"
    }
   ],
   "source": [
    "a.clear()\n",
    "a"
   ]
  },
  {
   "cell_type": "code",
   "execution_count": 2,
   "id": "1258e2b7-fed7-4b96-9eab-34df1deea595",
   "metadata": {},
   "outputs": [
    {
     "data": {
      "text/plain": [
       "([1, 2, 3, 4, 5], [1, 2, 3, 4, 5])"
      ]
     },
     "execution_count": 2,
     "metadata": {},
     "output_type": "execute_result"
    }
   ],
   "source": [
    "a=[1,2,3,4,5]\n",
    "b=a.copy()\n",
    "a,b"
   ]
  },
  {
   "cell_type": "code",
   "execution_count": 5,
   "id": "1c5ada9e-2037-4584-9da4-9684b736eed1",
   "metadata": {},
   "outputs": [
    {
     "data": {
      "text/plain": [
       "([1, 2, 3, 4, 5, 6], [1, 2, 3, 4, 5])"
      ]
     },
     "execution_count": 5,
     "metadata": {},
     "output_type": "execute_result"
    }
   ],
   "source": [
    "a.append(6)\n",
    "a,b"
   ]
  },
  {
   "cell_type": "code",
   "execution_count": 6,
   "id": "004fcdb5-f3dd-46d0-8f18-99fbe22e2018",
   "metadata": {},
   "outputs": [
    {
     "data": {
      "text/plain": [
       "([1, 2, 3, 4, 5, 6], [1, 2, 3, 4, 5, 7])"
      ]
     },
     "execution_count": 6,
     "metadata": {},
     "output_type": "execute_result"
    }
   ],
   "source": [
    "b.append(7)\n",
    "a,b"
   ]
  },
  {
   "cell_type": "code",
   "execution_count": 7,
   "id": "5cd5c4da-8ac3-40c2-bf4c-7036d6cd15bb",
   "metadata": {},
   "outputs": [],
   "source": [
    "a.clear()"
   ]
  },
  {
   "cell_type": "code",
   "execution_count": 8,
   "id": "6abb56ac-c15b-458d-b0f8-b15d750511bb",
   "metadata": {},
   "outputs": [
    {
     "data": {
      "text/plain": [
       "([], [1, 2, 3, 4, 5, 7])"
      ]
     },
     "execution_count": 8,
     "metadata": {},
     "output_type": "execute_result"
    }
   ],
   "source": [
    "a,b"
   ]
  },
  {
   "cell_type": "code",
   "execution_count": 9,
   "id": "bad3037e-c554-4b99-8c65-bebee4e5cc32",
   "metadata": {},
   "outputs": [
    {
     "data": {
      "text/plain": [
       "2"
      ]
     },
     "execution_count": 9,
     "metadata": {},
     "output_type": "execute_result"
    }
   ],
   "source": [
    "b.append(7)\n",
    "b.count(7)"
   ]
  },
  {
   "cell_type": "code",
   "execution_count": 13,
   "id": "4192cd37-6cce-4f46-9b8e-bbfbe16f7bf7",
   "metadata": {},
   "outputs": [
    {
     "data": {
      "text/plain": [
       "[1, 2, 3, 4, 5, 7, 7, 1, 2, 3]"
      ]
     },
     "execution_count": 13,
     "metadata": {},
     "output_type": "execute_result"
    }
   ],
   "source": [
    "a=[1,2,3]\n",
    "b.extend(a)\n",
    "b"
   ]
  },
  {
   "cell_type": "code",
   "execution_count": 14,
   "id": "6ff5f666-fb04-4da5-a6cc-e8852c596c5d",
   "metadata": {},
   "outputs": [
    {
     "data": {
      "text/plain": [
       "([], [1, 2, 3, 4, 5, 7, 7, 1, 2, 3])"
      ]
     },
     "execution_count": 14,
     "metadata": {},
     "output_type": "execute_result"
    }
   ],
   "source": [
    "a.clear()\n",
    "a,b"
   ]
  },
  {
   "cell_type": "code",
   "execution_count": 4,
   "id": "2b86a863-44a3-4372-bc79-cdcf9a2e08b3",
   "metadata": {},
   "outputs": [
    {
     "data": {
      "text/plain": [
       "[1, 4, 5, 6, 1, 2, 3, 4, 5]"
      ]
     },
     "execution_count": 4,
     "metadata": {},
     "output_type": "execute_result"
    }
   ],
   "source": [
    "a=[1,4,5,6]\n",
    "a,b\n",
    "a+b"
   ]
  },
  {
   "cell_type": "code",
   "execution_count": 20,
   "id": "2b9e7e4f-1d2a-4276-b952-9285ae66623b",
   "metadata": {},
   "outputs": [
    {
     "data": {
      "text/plain": [
       "[1, 2, 3, 4, 5, 7, 7, 1, 2, 3]"
      ]
     },
     "execution_count": 20,
     "metadata": {},
     "output_type": "execute_result"
    }
   ],
   "source": [
    "b"
   ]
  },
  {
   "cell_type": "code",
   "execution_count": 23,
   "id": "5c438040-7ee9-43f2-9ae1-7fa83584f219",
   "metadata": {},
   "outputs": [
    {
     "data": {
      "text/plain": [
       "[87, 87, 1, 2, 3, 4, 5, 7, 7, 1, 2, 3]"
      ]
     },
     "execution_count": 23,
     "metadata": {},
     "output_type": "execute_result"
    }
   ],
   "source": [
    "b.insert(0,87)\n",
    "b"
   ]
  },
  {
   "cell_type": "code",
   "execution_count": 24,
   "id": "22bd3b83-2d32-40b5-9ca0-e13bcde28b7a",
   "metadata": {},
   "outputs": [
    {
     "data": {
      "text/plain": [
       "3"
      ]
     },
     "execution_count": 24,
     "metadata": {},
     "output_type": "execute_result"
    }
   ],
   "source": [
    "b.pop()"
   ]
  },
  {
   "cell_type": "code",
   "execution_count": 25,
   "id": "938a91c5-fd22-49ca-a4b0-15e4191a1b23",
   "metadata": {},
   "outputs": [
    {
     "data": {
      "text/plain": [
       "[87, 87, 1, 2, 3, 4, 5, 7, 7, 1, 2]"
      ]
     },
     "execution_count": 25,
     "metadata": {},
     "output_type": "execute_result"
    }
   ],
   "source": [
    "b"
   ]
  },
  {
   "cell_type": "code",
   "execution_count": 26,
   "id": "32d579c6-a55a-4dfb-852f-2852a20354e2",
   "metadata": {},
   "outputs": [
    {
     "data": {
      "text/plain": [
       "87"
      ]
     },
     "execution_count": 26,
     "metadata": {},
     "output_type": "execute_result"
    }
   ],
   "source": [
    "b.pop(0)"
   ]
  },
  {
   "cell_type": "code",
   "execution_count": 27,
   "id": "017b5e01-2eaa-44aa-8eb9-3a431f894737",
   "metadata": {},
   "outputs": [
    {
     "data": {
      "text/plain": [
       "[87, 1, 2, 3, 4, 5, 7, 7, 1, 2]"
      ]
     },
     "execution_count": 27,
     "metadata": {},
     "output_type": "execute_result"
    }
   ],
   "source": [
    "b"
   ]
  },
  {
   "cell_type": "code",
   "execution_count": 30,
   "id": "48c19992-c6c9-463c-b8ab-c86441cf0cc8",
   "metadata": {},
   "outputs": [],
   "source": [
    "b.remove(7)"
   ]
  },
  {
   "cell_type": "code",
   "execution_count": 31,
   "id": "9ff2eca6-31ee-451c-9741-2d621b6a0488",
   "metadata": {},
   "outputs": [
    {
     "data": {
      "text/plain": [
       "[87, 1, 2, 3, 4, 5, 1, 2]"
      ]
     },
     "execution_count": 31,
     "metadata": {},
     "output_type": "execute_result"
    }
   ],
   "source": [
    "b"
   ]
  },
  {
   "cell_type": "code",
   "execution_count": 32,
   "id": "3c9d9797-d06b-47b4-8106-005ab6847c34",
   "metadata": {},
   "outputs": [
    {
     "data": {
      "text/plain": [
       "5"
      ]
     },
     "execution_count": 32,
     "metadata": {},
     "output_type": "execute_result"
    }
   ],
   "source": [
    "b.index(5)"
   ]
  },
  {
   "cell_type": "code",
   "execution_count": 33,
   "id": "331342ff-fd56-4a38-be4f-5b91819dbc5b",
   "metadata": {},
   "outputs": [],
   "source": [
    "b.reverse()"
   ]
  },
  {
   "cell_type": "code",
   "execution_count": 34,
   "id": "f6da49da-493f-405b-ba66-d80365cafd0d",
   "metadata": {},
   "outputs": [
    {
     "data": {
      "text/plain": [
       "[2, 1, 5, 4, 3, 2, 1, 87]"
      ]
     },
     "execution_count": 34,
     "metadata": {},
     "output_type": "execute_result"
    }
   ],
   "source": [
    "b"
   ]
  },
  {
   "cell_type": "code",
   "execution_count": 40,
   "id": "5486aa5f-2802-49bf-a579-1a3627668c24",
   "metadata": {},
   "outputs": [
    {
     "data": {
      "text/plain": [
       "[87, 5, 4, 3, 2, 2, 1, 1]"
      ]
     },
     "execution_count": 40,
     "metadata": {},
     "output_type": "execute_result"
    }
   ],
   "source": [
    "b.sort(reverse=True)\n",
    "b"
   ]
  },
  {
   "cell_type": "code",
   "execution_count": 42,
   "id": "24a03354-0a08-4180-8f18-cfe458d261c8",
   "metadata": {},
   "outputs": [
    {
     "data": {
      "text/plain": [
       "[87, 5, 4, 3, 2, 2, 1, 1]"
      ]
     },
     "execution_count": 42,
     "metadata": {},
     "output_type": "execute_result"
    }
   ],
   "source": [
    "sorted(b,reverse=True)"
   ]
  },
  {
   "cell_type": "code",
   "execution_count": 43,
   "id": "f204149b-fa1f-46c8-8bb0-1e9ef0d0834a",
   "metadata": {},
   "outputs": [
    {
     "data": {
      "text/plain": [
       "[1, 1, 2, 2, 3, 4, 5, 87]"
      ]
     },
     "execution_count": 43,
     "metadata": {},
     "output_type": "execute_result"
    }
   ],
   "source": [
    "sorted(b)"
   ]
  },
  {
   "cell_type": "code",
   "execution_count": 44,
   "id": "8be512af-ce37-4c74-b786-830793fec29b",
   "metadata": {},
   "outputs": [
    {
     "data": {
      "text/plain": [
       "[1, 1, 2, 2, 3, 4, 5, 87]"
      ]
     },
     "execution_count": 44,
     "metadata": {},
     "output_type": "execute_result"
    }
   ],
   "source": [
    "b.sort()\n",
    "b"
   ]
  },
  {
   "cell_type": "code",
   "execution_count": 51,
   "id": "caa06208-35f7-4099-b841-ab3ec41df8fa",
   "metadata": {},
   "outputs": [
    {
     "data": {
      "text/plain": [
       "[1, 1, 2, 2, 3, 4, 5, 87, '9', '0', '9', '0', 90, 90]"
      ]
     },
     "execution_count": 51,
     "metadata": {},
     "output_type": "execute_result"
    }
   ],
   "source": [
    "a=(90,)\n",
    "b.extend(a)\n",
    "b"
   ]
  },
  {
   "cell_type": "code",
   "execution_count": 52,
   "id": "e5b2b635-6ab7-440f-9207-c06b4499c540",
   "metadata": {},
   "outputs": [],
   "source": [
    "c=[9,0,8,7]\n",
    "b.append(c)"
   ]
  },
  {
   "cell_type": "code",
   "execution_count": 53,
   "id": "e976cb31-3aee-421e-9f91-984994446fd3",
   "metadata": {},
   "outputs": [
    {
     "data": {
      "text/plain": [
       "[1, 1, 2, 2, 3, 4, 5, 87, '9', '0', '9', '0', 90, 90, [9, 0, 8, 7]]"
      ]
     },
     "execution_count": 53,
     "metadata": {},
     "output_type": "execute_result"
    }
   ],
   "source": [
    "b"
   ]
  },
  {
   "cell_type": "code",
   "execution_count": 54,
   "id": "1540d941-9ed0-4e45-aea6-eeb69803ca27",
   "metadata": {},
   "outputs": [],
   "source": [
    "b.insert(0,c)"
   ]
  },
  {
   "cell_type": "code",
   "execution_count": 55,
   "id": "dfa878a2-960d-4bfa-b7d8-4612ac15519c",
   "metadata": {},
   "outputs": [
    {
     "data": {
      "text/plain": [
       "[[9, 0, 8, 7],\n",
       " 1,\n",
       " 1,\n",
       " 2,\n",
       " 2,\n",
       " 3,\n",
       " 4,\n",
       " 5,\n",
       " 87,\n",
       " '9',\n",
       " '0',\n",
       " '9',\n",
       " '0',\n",
       " 90,\n",
       " 90,\n",
       " [9, 0, 8, 7]]"
      ]
     },
     "execution_count": 55,
     "metadata": {},
     "output_type": "execute_result"
    }
   ],
   "source": [
    "b"
   ]
  },
  {
   "cell_type": "code",
   "execution_count": 57,
   "id": "852f21cc-ab36-4d54-908c-dba41c792e28",
   "metadata": {},
   "outputs": [
    {
     "data": {
      "text/plain": [
       "[[9, 0, 8, 7],\n",
       " (90,),\n",
       " 1,\n",
       " 1,\n",
       " 2,\n",
       " 2,\n",
       " 3,\n",
       " 4,\n",
       " 5,\n",
       " 87,\n",
       " '9',\n",
       " '0',\n",
       " '9',\n",
       " '0',\n",
       " 90,\n",
       " 90,\n",
       " [9, 0, 8, 7]]"
      ]
     },
     "execution_count": 57,
     "metadata": {},
     "output_type": "execute_result"
    }
   ],
   "source": [
    "b.insert(1,a)\n",
    "b"
   ]
  },
  {
   "cell_type": "code",
   "execution_count": 58,
   "id": "27447044-8b6b-44e0-b78b-89b51fa9a3d0",
   "metadata": {},
   "outputs": [],
   "source": [
    "a=90\n",
    "b.insert(5,a)"
   ]
  },
  {
   "cell_type": "code",
   "execution_count": 59,
   "id": "8e965cef-b748-4c35-bac2-79c6f8fec4ba",
   "metadata": {},
   "outputs": [
    {
     "data": {
      "text/plain": [
       "[[9, 0, 8, 7],\n",
       " (90,),\n",
       " 1,\n",
       " 1,\n",
       " 2,\n",
       " 90,\n",
       " 2,\n",
       " 3,\n",
       " 4,\n",
       " 5,\n",
       " 87,\n",
       " '9',\n",
       " '0',\n",
       " '9',\n",
       " '0',\n",
       " 90,\n",
       " 90,\n",
       " [9, 0, 8, 7]]"
      ]
     },
     "execution_count": 59,
     "metadata": {},
     "output_type": "execute_result"
    }
   ],
   "source": [
    "b"
   ]
  },
  {
   "cell_type": "code",
   "execution_count": 60,
   "id": "267a70b1-d551-4f4f-ae92-ef9cd519ec0a",
   "metadata": {},
   "outputs": [],
   "source": [
    "b.append(a)"
   ]
  },
  {
   "cell_type": "code",
   "execution_count": 61,
   "id": "0eba0eb1-ff1d-4b12-85a8-16f253e3bdee",
   "metadata": {},
   "outputs": [
    {
     "data": {
      "text/plain": [
       "[[9, 0, 8, 7],\n",
       " (90,),\n",
       " 1,\n",
       " 1,\n",
       " 2,\n",
       " 90,\n",
       " 2,\n",
       " 3,\n",
       " 4,\n",
       " 5,\n",
       " 87,\n",
       " '9',\n",
       " '0',\n",
       " '9',\n",
       " '0',\n",
       " 90,\n",
       " 90,\n",
       " [9, 0, 8, 7],\n",
       " 90]"
      ]
     },
     "execution_count": 61,
     "metadata": {},
     "output_type": "execute_result"
    }
   ],
   "source": [
    "b"
   ]
  },
  {
   "cell_type": "code",
   "execution_count": 62,
   "id": "73148cb7-39da-4390-839f-123d6916ccdf",
   "metadata": {},
   "outputs": [
    {
     "data": {
      "text/plain": [
       "['blr', 'chennai', 'hyd']"
      ]
     },
     "execution_count": 62,
     "metadata": {},
     "output_type": "execute_result"
    }
   ],
   "source": [
    "l1=[\"hyd\",\"blr\",\"chennai\"]\n",
    "sorted(l1)"
   ]
  },
  {
   "cell_type": "code",
   "execution_count": 63,
   "id": "2d7edab7-444a-44e6-9e80-44d7828f4ab2",
   "metadata": {},
   "outputs": [
    {
     "data": {
      "text/plain": [
       "['hyd', 'blr', 'chennai']"
      ]
     },
     "execution_count": 63,
     "metadata": {},
     "output_type": "execute_result"
    }
   ],
   "source": [
    "l1"
   ]
  },
  {
   "cell_type": "code",
   "execution_count": 64,
   "id": "a9673661-7ec5-4e8b-8d2e-af847c1eeba8",
   "metadata": {},
   "outputs": [],
   "source": [
    "l1.sort()"
   ]
  },
  {
   "cell_type": "code",
   "execution_count": 65,
   "id": "68e1ccd1-569e-4612-a0c6-96fc1854943d",
   "metadata": {},
   "outputs": [
    {
     "data": {
      "text/plain": [
       "['blr', 'chennai', 'hyd']"
      ]
     },
     "execution_count": 65,
     "metadata": {},
     "output_type": "execute_result"
    }
   ],
   "source": [
    "l1"
   ]
  },
  {
   "cell_type": "code",
   "execution_count": 66,
   "id": "f420eb7e-0a5b-4c5f-adf3-283e0f3cfd74",
   "metadata": {},
   "outputs": [
    {
     "data": {
      "text/plain": [
       "[1, 2, 3, 67, 342]"
      ]
     },
     "execution_count": 66,
     "metadata": {},
     "output_type": "execute_result"
    }
   ],
   "source": [
    "a=[1,3,2,67,342]\n",
    "sorted(a)"
   ]
  },
  {
   "cell_type": "code",
   "execution_count": 67,
   "id": "c07f50db-51b7-4642-bf9f-5c420cf8119f",
   "metadata": {},
   "outputs": [
    {
     "data": {
      "text/plain": [
       "[1, 3, 2, 67, 342]"
      ]
     },
     "execution_count": 67,
     "metadata": {},
     "output_type": "execute_result"
    }
   ],
   "source": [
    "a"
   ]
  },
  {
   "cell_type": "code",
   "execution_count": 68,
   "id": "a81dd210-f696-43ba-901a-5e684b1607cf",
   "metadata": {},
   "outputs": [],
   "source": [
    "a.sort()"
   ]
  },
  {
   "cell_type": "code",
   "execution_count": 69,
   "id": "1a0b6994-96a1-4624-9ecd-3c483863d669",
   "metadata": {},
   "outputs": [
    {
     "data": {
      "text/plain": [
       "[1, 2, 3, 67, 342]"
      ]
     },
     "execution_count": 69,
     "metadata": {},
     "output_type": "execute_result"
    }
   ],
   "source": [
    "a"
   ]
  },
  {
   "cell_type": "markdown",
   "id": "4cf23f32-b376-4c60-82bb-c105e8cbc828",
   "metadata": {},
   "source": [
    "**copy**"
   ]
  },
  {
   "cell_type": "code",
   "execution_count": 70,
   "id": "b752dfc3-5b94-4e3c-b842-a7761a667da5",
   "metadata": {},
   "outputs": [
    {
     "data": {
      "text/plain": [
       "[1, 23, 100, 200, 80, 70, 60]"
      ]
     },
     "execution_count": 70,
     "metadata": {},
     "output_type": "execute_result"
    }
   ],
   "source": [
    "l1=[1,23,100,200,80,70,60]\n",
    "l2=l1.copy()\n",
    "l2"
   ]
  },
  {
   "cell_type": "code",
   "execution_count": 71,
   "id": "73ef67f6-8c4f-43c3-9a5a-c378e2c0c43c",
   "metadata": {},
   "outputs": [
    {
     "data": {
      "text/plain": [
       "([1, 23, 100, 200, 80, 70, 60], [1, 23, 100, 200, 80, 70, 60])"
      ]
     },
     "execution_count": 71,
     "metadata": {},
     "output_type": "execute_result"
    }
   ],
   "source": [
    "l1,l2"
   ]
  },
  {
   "cell_type": "markdown",
   "id": "2c1a204f-1017-48bb-ac45-14a5f998c162",
   "metadata": {},
   "source": [
    "**clear**"
   ]
  },
  {
   "cell_type": "code",
   "execution_count": 72,
   "id": "b130086a-f674-40a4-8ca3-a9709eef24dd",
   "metadata": {},
   "outputs": [
    {
     "data": {
      "text/plain": [
       "[]"
      ]
     },
     "execution_count": 72,
     "metadata": {},
     "output_type": "execute_result"
    }
   ],
   "source": [
    "l1.clear()\n",
    "l1"
   ]
  },
  {
   "cell_type": "code",
   "execution_count": 73,
   "id": "b9376b48-cc96-4287-9f21-0e0c073d73f7",
   "metadata": {},
   "outputs": [
    {
     "data": {
      "text/plain": [
       "[1, 23, 100, 200, 80, 70, 60]"
      ]
     },
     "execution_count": 73,
     "metadata": {},
     "output_type": "execute_result"
    }
   ],
   "source": [
    "l2"
   ]
  },
  {
   "cell_type": "markdown",
   "id": "a364c3fe-e0ff-46fe-918b-26e4fc8f15ed",
   "metadata": {},
   "source": [
    "**append vs extend vs concatenation vs insert**"
   ]
  },
  {
   "cell_type": "code",
   "execution_count": 74,
   "id": "f6c8c1c5-f46e-4ab2-a651-41fd04952071",
   "metadata": {},
   "outputs": [
    {
     "data": {
      "text/plain": [
       "([1, 2, 34, ['a', 'b', 'c', 'd']], ['a', 'b', 'c', 'd'])"
      ]
     },
     "execution_count": 74,
     "metadata": {},
     "output_type": "execute_result"
    }
   ],
   "source": [
    "l1=[1,2,34]\n",
    "l2=['a','b','c','d']\n",
    "l1.append(l2)\n",
    "l1,l2"
   ]
  },
  {
   "cell_type": "code",
   "execution_count": 75,
   "id": "2ea93934-4a23-4e75-8625-86743f59f18f",
   "metadata": {},
   "outputs": [
    {
     "data": {
      "text/plain": [
       "([1, 2, 34, 'a', 'b', 'c', 'd'], ['a', 'b', 'c', 'd'])"
      ]
     },
     "execution_count": 75,
     "metadata": {},
     "output_type": "execute_result"
    }
   ],
   "source": [
    "l1=[1,2,34]\n",
    "l2=['a','b','c','d']\n",
    "l1.extend(l2)\n",
    "l1,l2"
   ]
  },
  {
   "cell_type": "code",
   "execution_count": 77,
   "id": "7ca920fd-03bb-4203-bd3f-76bca1109218",
   "metadata": {},
   "outputs": [
    {
     "data": {
      "text/plain": [
       "([1, 2, 34], ['a', 'b', 'c', 'd'])"
      ]
     },
     "execution_count": 77,
     "metadata": {},
     "output_type": "execute_result"
    }
   ],
   "source": [
    "l1=[1,2,34]\n",
    "l2=['a','b','c','d']\n",
    "l1+l2\n",
    "l1,l2"
   ]
  },
  {
   "cell_type": "code",
   "execution_count": 79,
   "id": "89d97b8c-31db-40ad-b910-57d5d6299530",
   "metadata": {},
   "outputs": [],
   "source": [
    "l1.extend((12,3,4))"
   ]
  },
  {
   "cell_type": "code",
   "execution_count": 80,
   "id": "3ed11e20-44cc-40d9-bf73-fa62ece57006",
   "metadata": {},
   "outputs": [
    {
     "data": {
      "text/plain": [
       "[1, 2, 34, 12, 3, 4]"
      ]
     },
     "execution_count": 80,
     "metadata": {},
     "output_type": "execute_result"
    }
   ],
   "source": [
    "l1"
   ]
  },
  {
   "cell_type": "markdown",
   "id": "49c38349-5294-40a8-8671-5b267e883e8d",
   "metadata": {},
   "source": [
    "- append just append the value with base data type\n",
    "- extend is concatenate the value and list will be over write with new values\n",
    "- extend can take any iterable format type i.e., string,tuple,list\n",
    "- extend and concatenation both are same but not same\n",
    "- the list will not overwrite in concatenation"
   ]
  },
  {
   "cell_type": "markdown",
   "id": "0cfcfe76-f24e-4c30-85b8-2d3c2c0cbd41",
   "metadata": {},
   "source": [
    "**index**\n",
    "- same like string only"
   ]
  },
  {
   "cell_type": "code",
   "execution_count": 83,
   "id": "810af246-f311-4217-8815-ceadb2a0c1e2",
   "metadata": {},
   "outputs": [
    {
     "data": {
      "text/plain": [
       "7"
      ]
     },
     "execution_count": 83,
     "metadata": {},
     "output_type": "execute_result"
    }
   ],
   "source": [
    "l1=[1,2,3,4,10,23,45,10]\n",
    "l1.index(10,l1.index(10)+1)"
   ]
  },
  {
   "cell_type": "code",
   "execution_count": 84,
   "id": "d9ed2de9-6224-4197-b388-23443b279b4b",
   "metadata": {},
   "outputs": [
    {
     "ename": "ValueError",
     "evalue": "99 is not in list",
     "output_type": "error",
     "traceback": [
      "\u001b[1;31m---------------------------------------------------------------------------\u001b[0m",
      "\u001b[1;31mValueError\u001b[0m                                Traceback (most recent call last)",
      "Cell \u001b[1;32mIn[84], line 1\u001b[0m\n\u001b[1;32m----> 1\u001b[0m l1\u001b[38;5;241m.\u001b[39mindex(\u001b[38;5;241m99\u001b[39m)\n",
      "\u001b[1;31mValueError\u001b[0m: 99 is not in list"
     ]
    }
   ],
   "source": [
    "l1.index(99)"
   ]
  },
  {
   "cell_type": "code",
   "execution_count": 7,
   "id": "e3d733d5-34b6-48a3-80fa-11ebcb88b4d4",
   "metadata": {},
   "outputs": [
    {
     "data": {
      "text/plain": [
       "['hai', 'hlo', 'bye']"
      ]
     },
     "execution_count": 7,
     "metadata": {},
     "output_type": "execute_result"
    }
   ],
   "source": [
    "s='hai hlo bye'\n",
    "l=s.split()\n",
    "l"
   ]
  },
  {
   "cell_type": "code",
   "execution_count": 10,
   "id": "9f13eda4-dd6c-4e3c-ae6d-beeb6e7663d5",
   "metadata": {},
   "outputs": [
    {
     "data": {
      "text/plain": [
       "'haihlobye'"
      ]
     },
     "execution_count": 10,
     "metadata": {},
     "output_type": "execute_result"
    }
   ],
   "source": [
    "a=''.join(l)\n",
    "a"
   ]
  },
  {
   "cell_type": "markdown",
   "id": "dd003a20-90a4-4df1-b318-5f7262ec7ad6",
   "metadata": {},
   "source": [
    "- split used to convert string to list\n",
    "- join used to convert list to string"
   ]
  },
  {
   "cell_type": "code",
   "execution_count": 12,
   "id": "fc5d4ff3-29a3-4e07-9fb5-62a215b8fcd8",
   "metadata": {},
   "outputs": [
    {
     "name": "stdout",
     "output_type": "stream",
     "text": [
      "4\n",
      "3\n",
      "2\n",
      "1\n"
     ]
    }
   ],
   "source": [
    "l1=[1,2,3,4]\n",
    "for i in reversed(l1):\n",
    "    print(i)"
   ]
  },
  {
   "cell_type": "code",
   "execution_count": 13,
   "id": "a964fad3-8611-4c20-b4b1-6d2bb12a2c4f",
   "metadata": {},
   "outputs": [
    {
     "data": {
      "text/plain": [
       "<list_reverseiterator at 0x1b46b544fd0>"
      ]
     },
     "execution_count": 13,
     "metadata": {},
     "output_type": "execute_result"
    }
   ],
   "source": [
    "reversed(l1)"
   ]
  },
  {
   "cell_type": "markdown",
   "id": "bd3de001-6e23-4c61-a65f-82a7034e9b9e",
   "metadata": {},
   "source": [
    "**insert**\n",
    "- will insert the element based on index\n",
    "- append will add the element at last only\n",
    "- there is no find in list\n",
    "- count is exactly same as list"
   ]
  },
  {
   "cell_type": "code",
   "execution_count": 13,
   "id": "cb7e794b-d697-4756-8fde-e9d4cc5e16b8",
   "metadata": {},
   "outputs": [
    {
     "data": {
      "text/plain": [
       "[1, 2, 3, 4, 'apple', 5, 56, 76, 'cherry', 88, 'dev', 'apple']"
      ]
     },
     "execution_count": 13,
     "metadata": {},
     "output_type": "execute_result"
    }
   ],
   "source": [
    "l1=[1,2,3,4,'apple',56,76,88,'apple']\n",
    "i1=l1.index(56)\n",
    "l1.insert(i1,5)\n",
    "i1=l1.index(88)\n",
    "l1.insert(i1,'cherry')\n",
    "i1=l1.index('apple')\n",
    "i2=l1.index('apple',i1+1)\n",
    "l1.insert(i2,'dev')\n",
    "l1"
   ]
  },
  {
   "cell_type": "markdown",
   "id": "1a7fafc7-2346-473d-bc15-bd9662abdc6d",
   "metadata": {},
   "source": [
    "**pop and remove and del**\n",
    "- pop will remove the item\n",
    "- pop also display the item which is removing\n",
    "- pop will take one argument:index\n",
    "- pop will remove the item based on index\n",
    "- if you want any index,by default it will remove last value\n",
    "- because the default index value is -1"
   ]
  },
  {
   "cell_type": "code",
   "execution_count": 38,
   "id": "43aaa6d9-a55e-4f0c-929d-0cc15af959bd",
   "metadata": {},
   "outputs": [
    {
     "data": {
      "text/plain": [
       "[1, 2, 3, 4, 56, 76, 88]"
      ]
     },
     "execution_count": 38,
     "metadata": {},
     "output_type": "execute_result"
    }
   ],
   "source": [
    "l1=[1,2,3,4,'apple',56,76,'apple',88,'apple']\n",
    "i1=l1.index('apple')\n",
    "l1.pop(i1)\n",
    "i2=l1.index('apple')\n",
    "l1.pop(i2)\n",
    "i3=l1.index('apple')\n",
    "l1.pop(i3)\n",
    "l1"
   ]
  },
  {
   "cell_type": "code",
   "execution_count": 39,
   "id": "ab380e70-ea39-443c-89cc-724bfcc4a326",
   "metadata": {},
   "outputs": [
    {
     "data": {
      "text/plain": [
       "[1, 2, 3, 4, 'apple', 56, 76, 88]"
      ]
     },
     "execution_count": 39,
     "metadata": {},
     "output_type": "execute_result"
    }
   ],
   "source": [
    "l1=[1,2,3,4,'apple',56,76,88,'apple']\n",
    "i1=l1.index('apple')\n",
    "i2=l1.index('apple',i1+1)\n",
    "l1.pop(i2)\n",
    "l1"
   ]
  },
  {
   "cell_type": "code",
   "execution_count": 32,
   "id": "c62320d1-07d3-43ca-a1cc-6cf4b16c4130",
   "metadata": {},
   "outputs": [
    {
     "data": {
      "text/plain": [
       "[1, 2, 3, 4, 56, 76, 88, 'apple']"
      ]
     },
     "execution_count": 32,
     "metadata": {},
     "output_type": "execute_result"
    }
   ],
   "source": [
    "l1=[1,2,3,4,'apple',56,76,88,'apple']\n",
    "i1=l1.index('apple')\n",
    "l1.pop(i1)\n",
    "l1"
   ]
  },
  {
   "cell_type": "code",
   "execution_count": 47,
   "id": "6b1d1817-ae17-425a-a153-5faee0bc4463",
   "metadata": {},
   "outputs": [
    {
     "data": {
      "text/plain": [
       "'hai how are you im good thank you'"
      ]
     },
     "execution_count": 47,
     "metadata": {},
     "output_type": "execute_result"
    }
   ],
   "source": [
    "s1='hai apple how are you apple im good apple thank you apple'\n",
    "l1=s1.split()\n",
    "c2=l1.count('apple')\n",
    "for i in range(c2):\n",
    "    i1=l1.index('apple')\n",
    "    l1.pop(i1)\n",
    "s2=' '.join(l1)\n",
    "s2"
   ]
  },
  {
   "cell_type": "markdown",
   "id": "90b0ec8a-ace4-4f25-bd35-509eed67b4c1",
   "metadata": {},
   "source": [
    "**remove**\n",
    "- pop will take the index\n",
    "- remove will take the value\n",
    "- remove will delete the first occurence of element"
   ]
  },
  {
   "cell_type": "code",
   "execution_count": 50,
   "id": "e6dd66f2-ccf9-4153-ac1a-7c200e39a47b",
   "metadata": {},
   "outputs": [
    {
     "data": {
      "text/plain": [
       "[1, 2, 3, 4, 56, 76, 88]"
      ]
     },
     "execution_count": 50,
     "metadata": {},
     "output_type": "execute_result"
    }
   ],
   "source": [
    "l1=[1,2,3,4,'apple',56,76,88,'apple']\n",
    "l1.remove('apple')\n",
    "l1.remove('apple')\n",
    "l1"
   ]
  },
  {
   "cell_type": "code",
   "execution_count": 51,
   "id": "cec18d49-46ef-4bcf-8a02-16f958b203d6",
   "metadata": {},
   "outputs": [
    {
     "data": {
      "text/plain": [
       "'hai how are you im good thank you'"
      ]
     },
     "execution_count": 51,
     "metadata": {},
     "output_type": "execute_result"
    }
   ],
   "source": [
    "s1='hai apple how are you apple im good apple thank you apple'\n",
    "l1=s1.split()\n",
    "c2=l1.count('apple')\n",
    "for i in range(c2):\n",
    "    l1.remove('apple')\n",
    "s2=' '.join(l1)\n",
    "s2"
   ]
  },
  {
   "cell_type": "markdown",
   "id": "bcae0e41-e439-4cef-ac3e-a7aad31944f2",
   "metadata": {},
   "source": [
    "**del**"
   ]
  },
  {
   "cell_type": "code",
   "execution_count": 52,
   "id": "e3ceb825-ca6c-4ca9-87cb-4eb4f2a4f392",
   "metadata": {},
   "outputs": [
    {
     "data": {
      "text/plain": [
       "[1, 2, 3, 4, 56, 76, 88, 'apple']"
      ]
     },
     "execution_count": 52,
     "metadata": {},
     "output_type": "execute_result"
    }
   ],
   "source": [
    "l1=[1,2,3,4,'apple',56,76,88,'apple']\n",
    "del(l1[4])\n",
    "l1"
   ]
  },
  {
   "cell_type": "markdown",
   "id": "09cdd5a1-dc76-4499-bd75-35ca561f471e",
   "metadata": {},
   "source": [
    "- append /extend/insert/concatenation\n",
    "- pop/remove/del\n",
    "- sort/sorted\n",
    "- reverse/reversed\n",
    "- count and index"
   ]
  },
  {
   "cell_type": "code",
   "execution_count": null,
   "id": "41870feb-8274-4bc9-9f4c-1a6d48901bd5",
   "metadata": {},
   "outputs": [],
   "source": []
  },
  {
   "cell_type": "code",
   "execution_count": null,
   "id": "c0e63434-9cd5-43a0-8a51-41683020ad19",
   "metadata": {},
   "outputs": [],
   "source": []
  }
 ],
 "metadata": {
  "kernelspec": {
   "display_name": "Python 3 (ipykernel)",
   "language": "python",
   "name": "python3"
  },
  "language_info": {
   "codemirror_mode": {
    "name": "ipython",
    "version": 3
   },
   "file_extension": ".py",
   "mimetype": "text/x-python",
   "name": "python",
   "nbconvert_exporter": "python",
   "pygments_lexer": "ipython3",
   "version": "3.11.7"
  }
 },
 "nbformat": 4,
 "nbformat_minor": 5
}
