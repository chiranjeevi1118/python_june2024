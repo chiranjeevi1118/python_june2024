{
 "cells": [
  {
   "cell_type": "markdown",
   "id": "c2767111-1575-4264-8987-06106ef446ef",
   "metadata": {},
   "source": [
    "$input$\n",
    "- input keyword is used to take the values from user"
   ]
  },
  {
   "cell_type": "code",
   "execution_count": 1,
   "id": "afe84ba4-84ed-458b-970c-e07ddc0c8b91",
   "metadata": {},
   "outputs": [
    {
     "name": "stdin",
     "output_type": "stream",
     "text": [
      " 100\n"
     ]
    },
    {
     "data": {
      "text/plain": [
       "'100'"
      ]
     },
     "execution_count": 1,
     "metadata": {},
     "output_type": "execute_result"
    }
   ],
   "source": [
    "input()"
   ]
  },
  {
   "cell_type": "code",
   "execution_count": 2,
   "id": "77292cec-b6d8-42db-8cde-8edbfda8d125",
   "metadata": {},
   "outputs": [
    {
     "name": "stdin",
     "output_type": "stream",
     "text": [
      " Deva\n"
     ]
    },
    {
     "data": {
      "text/plain": [
       "'Deva'"
      ]
     },
     "execution_count": 2,
     "metadata": {},
     "output_type": "execute_result"
    }
   ],
   "source": [
    "input()"
   ]
  },
  {
   "cell_type": "code",
   "execution_count": 3,
   "id": "a7aefd4b-813a-4191-9a5e-4a19cd67ce3b",
   "metadata": {},
   "outputs": [
    {
     "name": "stdin",
     "output_type": "stream",
     "text": [
      " 100\n",
      " 200\n"
     ]
    },
    {
     "data": {
      "text/plain": [
       "'200'"
      ]
     },
     "execution_count": 3,
     "metadata": {},
     "output_type": "execute_result"
    }
   ],
   "source": [
    "input()\n",
    "input()"
   ]
  },
  {
   "cell_type": "code",
   "execution_count": 4,
   "id": "26f3ba90-0125-4cb1-9a9a-a507447446be",
   "metadata": {},
   "outputs": [
    {
     "name": "stdin",
     "output_type": "stream",
     "text": [
      "enter num 1:  10\n",
      "enter num 2:  20\n",
      "enter num 3:  30\n"
     ]
    },
    {
     "data": {
      "text/plain": [
       "'30'"
      ]
     },
     "execution_count": 4,
     "metadata": {},
     "output_type": "execute_result"
    }
   ],
   "source": [
    "input(\"enter num 1: \")\n",
    "input(\"enter num 2: \")\n",
    "input(\"enter num 3: \")"
   ]
  },
  {
   "cell_type": "markdown",
   "id": "37fbe962-6c59-48dd-9ece-140cfb506a4f",
   "metadata": {},
   "source": [
    "**note**\n",
    "- input always gives string data type\n",
    "- in order to perform math calculations we need to convert numerical format i,e., int or float"
   ]
  },
  {
   "cell_type": "code",
   "execution_count": 5,
   "id": "f307a45e-49e8-4ace-9bb5-58546ebd9826",
   "metadata": {},
   "outputs": [
    {
     "name": "stdin",
     "output_type": "stream",
     "text": [
      "enter num1 :  100\n",
      "enter num2 :  200\n"
     ]
    },
    {
     "data": {
      "text/plain": [
       "300"
      ]
     },
     "execution_count": 5,
     "metadata": {},
     "output_type": "execute_result"
    }
   ],
   "source": [
    "n1=int(input(\"enter num1 : \"))\n",
    "n2=int(input(\"enter num2 : \"))\n",
    "n1+n2"
   ]
  },
  {
   "cell_type": "code",
   "execution_count": 6,
   "id": "207e29ce-3a29-4f2c-b3e4-0e3bbbc64f74",
   "metadata": {},
   "outputs": [
    {
     "name": "stdin",
     "output_type": "stream",
     "text": [
      "enter num1:  10\n",
      "enter num2:  20\n"
     ]
    },
    {
     "data": {
      "text/plain": [
       "30"
      ]
     },
     "execution_count": 6,
     "metadata": {},
     "output_type": "execute_result"
    }
   ],
   "source": [
    "n1=input(\"enter num1: \")\n",
    "n2=input(\"enter num2: \")\n",
    "int(n1)+int(n2)"
   ]
  },
  {
   "cell_type": "markdown",
   "id": "da5c656f-aaf7-406c-888c-79f8383aaa9f",
   "metadata": {},
   "source": [
    "**eval**\n",
    "- eval means evaluate\n",
    "- what ever the number we enter , eval will convert to corresponding  data type"
   ]
  },
  {
   "cell_type": "code",
   "execution_count": 10,
   "id": "6d4e2169-1a98-4f47-852d-8291d52d2114",
   "metadata": {},
   "outputs": [
    {
     "name": "stdin",
     "output_type": "stream",
     "text": [
      "enter num1:  10.2\n",
      "enter num2:  20.3\n"
     ]
    },
    {
     "data": {
      "text/plain": [
       "30.5"
      ]
     },
     "execution_count": 10,
     "metadata": {},
     "output_type": "execute_result"
    }
   ],
   "source": [
    "n1=eval(input(\"enter num1: \"))\n",
    "n2=eval(input(\"enter num2: \"))\n",
    "n1+n2"
   ]
  },
  {
   "cell_type": "code",
   "execution_count": null,
   "id": "3407a633-9c67-4816-a9f4-ab0b3f78f381",
   "metadata": {},
   "outputs": [],
   "source": []
  }
 ],
 "metadata": {
  "kernelspec": {
   "display_name": "Python 3 (ipykernel)",
   "language": "python",
   "name": "python3"
  },
  "language_info": {
   "codemirror_mode": {
    "name": "ipython",
    "version": 3
   },
   "file_extension": ".py",
   "mimetype": "text/x-python",
   "name": "python",
   "nbconvert_exporter": "python",
   "pygments_lexer": "ipython3",
   "version": "3.11.7"
  }
 },
 "nbformat": 4,
 "nbformat_minor": 5
}
