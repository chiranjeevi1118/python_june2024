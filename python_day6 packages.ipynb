{
 "cells": [
  {
   "cell_type": "markdown",
   "id": "f9898eaf-7396-4650-867c-8276ccfc3587",
   "metadata": {},
   "source": [
    "# packages"
   ]
  },
  {
   "cell_type": "markdown",
   "id": "c0fe86d7-fbd2-49dd-ad99-44c55a1e2d27",
   "metadata": {},
   "source": [
    "**import**"
   ]
  },
  {
   "cell_type": "code",
   "execution_count": 10,
   "id": "d223f7d3-d4ea-4d1f-ac92-1667747f686f",
   "metadata": {},
   "outputs": [],
   "source": [
    "# syntax\n",
    "# import <package name>\n",
    "import random\n",
    "import time\n",
    "import math\n",
    "import streamlit\n",
    "# for creating applications\n",
    "# cv2 some modules not directly installed in anaconda by default"
   ]
  },
  {
   "cell_type": "markdown",
   "id": "7a3ae0b5-7425-40ec-b420-b2a6479d1c3a",
   "metadata": {},
   "source": [
    "- cv2 guy not tie with anaconda no module name:cv2"
   ]
  },
  {
   "cell_type": "code",
   "execution_count": 11,
   "id": "14893081-a835-4a52-aac0-49b431e34481",
   "metadata": {},
   "outputs": [
    {
     "data": {
      "text/plain": [
       "['BPF',\n",
       " 'LOG4',\n",
       " 'NV_MAGICCONST',\n",
       " 'RECIP_BPF',\n",
       " 'Random',\n",
       " 'SG_MAGICCONST',\n",
       " 'SystemRandom',\n",
       " 'TWOPI',\n",
       " '_ONE',\n",
       " '_Sequence',\n",
       " '_Set',\n",
       " '__all__',\n",
       " '__builtins__',\n",
       " '__cached__',\n",
       " '__doc__',\n",
       " '__file__',\n",
       " '__loader__',\n",
       " '__name__',\n",
       " '__package__',\n",
       " '__spec__',\n",
       " '_accumulate',\n",
       " '_acos',\n",
       " '_bisect',\n",
       " '_ceil',\n",
       " '_cos',\n",
       " '_e',\n",
       " '_exp',\n",
       " '_floor',\n",
       " '_index',\n",
       " '_inst',\n",
       " '_isfinite',\n",
       " '_log',\n",
       " '_os',\n",
       " '_pi',\n",
       " '_random',\n",
       " '_repeat',\n",
       " '_sha512',\n",
       " '_sin',\n",
       " '_sqrt',\n",
       " '_test',\n",
       " '_test_generator',\n",
       " '_urandom',\n",
       " '_warn',\n",
       " 'betavariate',\n",
       " 'choice',\n",
       " 'choices',\n",
       " 'expovariate',\n",
       " 'gammavariate',\n",
       " 'gauss',\n",
       " 'getrandbits',\n",
       " 'getstate',\n",
       " 'lognormvariate',\n",
       " 'normalvariate',\n",
       " 'paretovariate',\n",
       " 'randbytes',\n",
       " 'randint',\n",
       " 'random',\n",
       " 'randrange',\n",
       " 'sample',\n",
       " 'seed',\n",
       " 'setstate',\n",
       " 'shuffle',\n",
       " 'triangular',\n",
       " 'uniform',\n",
       " 'vonmisesvariate',\n",
       " 'weibullvariate']"
      ]
     },
     "execution_count": 11,
     "metadata": {},
     "output_type": "execute_result"
    }
   ],
   "source": [
    "import random\n",
    "dir(random)"
   ]
  },
  {
   "cell_type": "code",
   "execution_count": 12,
   "id": "8d04edd3-964b-4357-aa31-7a8ce7d1afc2",
   "metadata": {},
   "outputs": [
    {
     "data": {
      "text/plain": [
       "['__doc__',\n",
       " '__loader__',\n",
       " '__name__',\n",
       " '__package__',\n",
       " '__spec__',\n",
       " 'acos',\n",
       " 'acosh',\n",
       " 'asin',\n",
       " 'asinh',\n",
       " 'atan',\n",
       " 'atan2',\n",
       " 'atanh',\n",
       " 'cbrt',\n",
       " 'ceil',\n",
       " 'comb',\n",
       " 'copysign',\n",
       " 'cos',\n",
       " 'cosh',\n",
       " 'degrees',\n",
       " 'dist',\n",
       " 'e',\n",
       " 'erf',\n",
       " 'erfc',\n",
       " 'exp',\n",
       " 'exp2',\n",
       " 'expm1',\n",
       " 'fabs',\n",
       " 'factorial',\n",
       " 'floor',\n",
       " 'fmod',\n",
       " 'frexp',\n",
       " 'fsum',\n",
       " 'gamma',\n",
       " 'gcd',\n",
       " 'hypot',\n",
       " 'inf',\n",
       " 'isclose',\n",
       " 'isfinite',\n",
       " 'isinf',\n",
       " 'isnan',\n",
       " 'isqrt',\n",
       " 'lcm',\n",
       " 'ldexp',\n",
       " 'lgamma',\n",
       " 'log',\n",
       " 'log10',\n",
       " 'log1p',\n",
       " 'log2',\n",
       " 'modf',\n",
       " 'nan',\n",
       " 'nextafter',\n",
       " 'perm',\n",
       " 'pi',\n",
       " 'pow',\n",
       " 'prod',\n",
       " 'radians',\n",
       " 'remainder',\n",
       " 'sin',\n",
       " 'sinh',\n",
       " 'sqrt',\n",
       " 'tan',\n",
       " 'tanh',\n",
       " 'tau',\n",
       " 'trunc',\n",
       " 'ulp']"
      ]
     },
     "execution_count": 12,
     "metadata": {},
     "output_type": "execute_result"
    }
   ],
   "source": [
    "import math\n",
    "dir(math)"
   ]
  },
  {
   "cell_type": "markdown",
   "id": "cee4953a-26cc-4f7d-b186-c7ae4ba8fc2e",
   "metadata": {},
   "source": [
    "### syntax\n",
    "package_name.method name\n",
    "- help(packagename.methodname\n",
    "- help will give the understanding of how a method will work"
   ]
  },
  {
   "cell_type": "code",
   "execution_count": 15,
   "id": "ebd1acbf-cccb-43ad-b368-a593c65d38eb",
   "metadata": {},
   "outputs": [
    {
     "name": "stdout",
     "output_type": "stream",
     "text": [
      "Help on method randint in module random:\n",
      "\n",
      "randint(a, b) method of random.Random instance\n",
      "    Return random integer in range [a, b], including both end points.\n",
      "\n"
     ]
    }
   ],
   "source": [
    "help(random.randint)"
   ]
  },
  {
   "cell_type": "code",
   "execution_count": 27,
   "id": "43aae6e5-a31e-41f7-9804-8f4b43431479",
   "metadata": {},
   "outputs": [
    {
     "data": {
      "text/plain": [
       "10"
      ]
     },
     "execution_count": 27,
     "metadata": {},
     "output_type": "execute_result"
    }
   ],
   "source": [
    "random.randint(1,10)"
   ]
  },
  {
   "cell_type": "markdown",
   "id": "3ee0e19f-7e01-4a66-9fd3-720efb9b5ef5",
   "metadata": {},
   "source": [
    "- [a,b] a,b not included\n",
    "- [a,b) a included b not included\n",
    "- (a,b) a,b both excluded\n",
    "- (a,b] a excluded b included"
   ]
  },
  {
   "cell_type": "markdown",
   "id": "750ef883-3159-44ea-8ee7-a8636beab84e",
   "metadata": {},
   "source": [
    "- step 1: import package name\n",
    "- step 2: dir(package name)\n",
    "- step 3: help(package_name.method_name)\n",
    "- step 4: random"
   ]
  },
  {
   "cell_type": "code",
   "execution_count": 29,
   "id": "ee1b062c-4641-4ea1-8391-117a10addb2b",
   "metadata": {},
   "outputs": [
    {
     "name": "stdout",
     "output_type": "stream",
     "text": [
      "Help on method randint in module random:\n",
      "\n",
      "randint(a, b) method of random.Random instance\n",
      "    Return random integer in range [a, b], including both end points.\n",
      "\n"
     ]
    }
   ],
   "source": [
    "import random\n",
    "help(random.randint)"
   ]
  },
  {
   "cell_type": "code",
   "execution_count": 30,
   "id": "b0e9b8bd-4af3-4476-a417-6bc61991a8eb",
   "metadata": {},
   "outputs": [
    {
     "data": {
      "text/plain": [
       "42"
      ]
     },
     "execution_count": 30,
     "metadata": {},
     "output_type": "execute_result"
    }
   ],
   "source": [
    "random.randint(1,100)"
   ]
  },
  {
   "cell_type": "code",
   "execution_count": 31,
   "id": "eba447ec-c6b4-4fa4-a68e-cafa7a50d24b",
   "metadata": {},
   "outputs": [
    {
     "name": "stdout",
     "output_type": "stream",
     "text": [
      "Help on built-in function random:\n",
      "\n",
      "random() method of random.Random instance\n",
      "    random() -> x in the interval [0, 1).\n",
      "\n"
     ]
    }
   ],
   "source": [
    "help(random.random)"
   ]
  },
  {
   "cell_type": "code",
   "execution_count": 40,
   "id": "a78654af-aa8a-4d16-b09a-0edd98125925",
   "metadata": {},
   "outputs": [
    {
     "data": {
      "text/plain": [
       "0.017298420918029245"
      ]
     },
     "execution_count": 40,
     "metadata": {},
     "output_type": "execute_result"
    }
   ],
   "source": [
    "random.random()"
   ]
  },
  {
   "cell_type": "markdown",
   "id": "0fa79436-1807-44f4-8795-6bd00fe0f14d",
   "metadata": {},
   "source": [
    "### math \n",
    "- package name is math"
   ]
  },
  {
   "cell_type": "code",
   "execution_count": 45,
   "id": "4a5688f5-42d9-412d-bd40-a3f566fa8116",
   "metadata": {},
   "outputs": [
    {
     "name": "stdout",
     "output_type": "stream",
     "text": [
      "Help on float object:\n",
      "\n",
      "class float(object)\n",
      " |  float(x=0, /)\n",
      " |  \n",
      " |  Convert a string or number to a floating point number, if possible.\n",
      " |  \n",
      " |  Methods defined here:\n",
      " |  \n",
      " |  __abs__(self, /)\n",
      " |      abs(self)\n",
      " |  \n",
      " |  __add__(self, value, /)\n",
      " |      Return self+value.\n",
      " |  \n",
      " |  __bool__(self, /)\n",
      " |      True if self else False\n",
      " |  \n",
      " |  __ceil__(self, /)\n",
      " |      Return the ceiling as an Integral.\n",
      " |  \n",
      " |  __divmod__(self, value, /)\n",
      " |      Return divmod(self, value).\n",
      " |  \n",
      " |  __eq__(self, value, /)\n",
      " |      Return self==value.\n",
      " |  \n",
      " |  __float__(self, /)\n",
      " |      float(self)\n",
      " |  \n",
      " |  __floor__(self, /)\n",
      " |      Return the floor as an Integral.\n",
      " |  \n",
      " |  __floordiv__(self, value, /)\n",
      " |      Return self//value.\n",
      " |  \n",
      " |  __format__(self, format_spec, /)\n",
      " |      Formats the float according to format_spec.\n",
      " |  \n",
      " |  __ge__(self, value, /)\n",
      " |      Return self>=value.\n",
      " |  \n",
      " |  __getattribute__(self, name, /)\n",
      " |      Return getattr(self, name).\n",
      " |  \n",
      " |  __getnewargs__(self, /)\n",
      " |  \n",
      " |  __gt__(self, value, /)\n",
      " |      Return self>value.\n",
      " |  \n",
      " |  __hash__(self, /)\n",
      " |      Return hash(self).\n",
      " |  \n",
      " |  __int__(self, /)\n",
      " |      int(self)\n",
      " |  \n",
      " |  __le__(self, value, /)\n",
      " |      Return self<=value.\n",
      " |  \n",
      " |  __lt__(self, value, /)\n",
      " |      Return self<value.\n",
      " |  \n",
      " |  __mod__(self, value, /)\n",
      " |      Return self%value.\n",
      " |  \n",
      " |  __mul__(self, value, /)\n",
      " |      Return self*value.\n",
      " |  \n",
      " |  __ne__(self, value, /)\n",
      " |      Return self!=value.\n",
      " |  \n",
      " |  __neg__(self, /)\n",
      " |      -self\n",
      " |  \n",
      " |  __pos__(self, /)\n",
      " |      +self\n",
      " |  \n",
      " |  __pow__(self, value, mod=None, /)\n",
      " |      Return pow(self, value, mod).\n",
      " |  \n",
      " |  __radd__(self, value, /)\n",
      " |      Return value+self.\n",
      " |  \n",
      " |  __rdivmod__(self, value, /)\n",
      " |      Return divmod(value, self).\n",
      " |  \n",
      " |  __repr__(self, /)\n",
      " |      Return repr(self).\n",
      " |  \n",
      " |  __rfloordiv__(self, value, /)\n",
      " |      Return value//self.\n",
      " |  \n",
      " |  __rmod__(self, value, /)\n",
      " |      Return value%self.\n",
      " |  \n",
      " |  __rmul__(self, value, /)\n",
      " |      Return value*self.\n",
      " |  \n",
      " |  __round__(self, ndigits=None, /)\n",
      " |      Return the Integral closest to x, rounding half toward even.\n",
      " |      \n",
      " |      When an argument is passed, work like built-in round(x, ndigits).\n",
      " |  \n",
      " |  __rpow__(self, value, mod=None, /)\n",
      " |      Return pow(value, self, mod).\n",
      " |  \n",
      " |  __rsub__(self, value, /)\n",
      " |      Return value-self.\n",
      " |  \n",
      " |  __rtruediv__(self, value, /)\n",
      " |      Return value/self.\n",
      " |  \n",
      " |  __sub__(self, value, /)\n",
      " |      Return self-value.\n",
      " |  \n",
      " |  __truediv__(self, value, /)\n",
      " |      Return self/value.\n",
      " |  \n",
      " |  __trunc__(self, /)\n",
      " |      Return the Integral closest to x between 0 and x.\n",
      " |  \n",
      " |  as_integer_ratio(self, /)\n",
      " |      Return integer ratio.\n",
      " |      \n",
      " |      Return a pair of integers, whose ratio is exactly equal to the original float\n",
      " |      and with a positive denominator.\n",
      " |      \n",
      " |      Raise OverflowError on infinities and a ValueError on NaNs.\n",
      " |      \n",
      " |      >>> (10.0).as_integer_ratio()\n",
      " |      (10, 1)\n",
      " |      >>> (0.0).as_integer_ratio()\n",
      " |      (0, 1)\n",
      " |      >>> (-.25).as_integer_ratio()\n",
      " |      (-1, 4)\n",
      " |  \n",
      " |  conjugate(self, /)\n",
      " |      Return self, the complex conjugate of any float.\n",
      " |  \n",
      " |  hex(self, /)\n",
      " |      Return a hexadecimal representation of a floating-point number.\n",
      " |      \n",
      " |      >>> (-0.1).hex()\n",
      " |      '-0x1.999999999999ap-4'\n",
      " |      >>> 3.14159.hex()\n",
      " |      '0x1.921f9f01b866ep+1'\n",
      " |  \n",
      " |  is_integer(self, /)\n",
      " |      Return True if the float is an integer.\n",
      " |  \n",
      " |  ----------------------------------------------------------------------\n",
      " |  Class methods defined here:\n",
      " |  \n",
      " |  __getformat__(typestr, /) from builtins.type\n",
      " |      You probably don't want to use this function.\n",
      " |      \n",
      " |        typestr\n",
      " |          Must be 'double' or 'float'.\n",
      " |      \n",
      " |      It exists mainly to be used in Python's test suite.\n",
      " |      \n",
      " |      This function returns whichever of 'unknown', 'IEEE, big-endian' or 'IEEE,\n",
      " |      little-endian' best describes the format of floating point numbers used by the\n",
      " |      C type named by typestr.\n",
      " |  \n",
      " |  fromhex(string, /) from builtins.type\n",
      " |      Create a floating-point number from a hexadecimal string.\n",
      " |      \n",
      " |      >>> float.fromhex('0x1.ffffp10')\n",
      " |      2047.984375\n",
      " |      >>> float.fromhex('-0x1p-1074')\n",
      " |      -5e-324\n",
      " |  \n",
      " |  ----------------------------------------------------------------------\n",
      " |  Static methods defined here:\n",
      " |  \n",
      " |  __new__(*args, **kwargs) from builtins.type\n",
      " |      Create and return a new object.  See help(type) for accurate signature.\n",
      " |  \n",
      " |  ----------------------------------------------------------------------\n",
      " |  Data descriptors defined here:\n",
      " |  \n",
      " |  imag\n",
      " |      the imaginary part of a complex number\n",
      " |  \n",
      " |  real\n",
      " |      the real part of a complex number\n",
      "\n"
     ]
    }
   ],
   "source": [
    "import math\n",
    "help(math.pi)"
   ]
  },
  {
   "cell_type": "code",
   "execution_count": 59,
   "id": "27826df5-5039-4b73-946e-e57bdfbb044d",
   "metadata": {},
   "outputs": [
    {
     "data": {
      "text/plain": [
       "3.141592653589793"
      ]
     },
     "execution_count": 59,
     "metadata": {},
     "output_type": "execute_result"
    }
   ],
   "source": [
    "# for pi we need to remove brackets if gives it shows object is not callable\n",
    "math.pi"
   ]
  },
  {
   "cell_type": "code",
   "execution_count": 47,
   "id": "b79be04a-b5db-4139-afd8-982ad31a4c21",
   "metadata": {},
   "outputs": [
    {
     "name": "stdout",
     "output_type": "stream",
     "text": [
      "Help on built-in function sqrt in module math:\n",
      "\n",
      "sqrt(x, /)\n",
      "    Return the square root of x.\n",
      "\n"
     ]
    }
   ],
   "source": [
    "help(math.sqrt)"
   ]
  },
  {
   "cell_type": "code",
   "execution_count": 51,
   "id": "b36e323c-c22b-46cb-9f96-1b0074e07566",
   "metadata": {},
   "outputs": [
    {
     "data": {
      "text/plain": [
       "2.0"
      ]
     },
     "execution_count": 51,
     "metadata": {},
     "output_type": "execute_result"
    }
   ],
   "source": [
    "math.sqrt(4)"
   ]
  },
  {
   "cell_type": "code",
   "execution_count": 52,
   "id": "a47ec83f-41d7-4e24-9966-d034bfe2e253",
   "metadata": {},
   "outputs": [
    {
     "name": "stdout",
     "output_type": "stream",
     "text": [
      "Help on built-in function sin in module math:\n",
      "\n",
      "sin(x, /)\n",
      "    Return the sine of x (measured in radians).\n",
      "\n"
     ]
    }
   ],
   "source": [
    "help(math.sin)"
   ]
  },
  {
   "cell_type": "code",
   "execution_count": 56,
   "id": "cb40a33b-0120-4eee-9417-65738866d28f",
   "metadata": {},
   "outputs": [
    {
     "data": {
      "text/plain": [
       "0.8939966636005579"
      ]
     },
     "execution_count": 56,
     "metadata": {},
     "output_type": "execute_result"
    }
   ],
   "source": [
    "math.sin(90)"
   ]
  },
  {
   "cell_type": "code",
   "execution_count": 60,
   "id": "43462ab4-bb5f-4e2a-b319-46c0069a5890",
   "metadata": {},
   "outputs": [
    {
     "name": "stdout",
     "output_type": "stream",
     "text": [
      "Help on built-in function pow in module math:\n",
      "\n",
      "pow(x, y, /)\n",
      "    Return x**y (x to the power of y).\n",
      "\n"
     ]
    }
   ],
   "source": [
    "help(math.pow)"
   ]
  },
  {
   "cell_type": "code",
   "execution_count": 61,
   "id": "99b8009b-a3c4-4dd5-ad3b-cc0350d3b1a1",
   "metadata": {},
   "outputs": [
    {
     "data": {
      "text/plain": [
       "8.0"
      ]
     },
     "execution_count": 61,
     "metadata": {},
     "output_type": "execute_result"
    }
   ],
   "source": [
    "math.pow(2,3)"
   ]
  },
  {
   "cell_type": "code",
   "execution_count": 62,
   "id": "a496cb36-a302-4345-be46-5851a04b149d",
   "metadata": {},
   "outputs": [
    {
     "data": {
      "text/plain": [
       "64.0"
      ]
     },
     "execution_count": 62,
     "metadata": {},
     "output_type": "execute_result"
    }
   ],
   "source": [
    "math.pow(4,3)"
   ]
  },
  {
   "cell_type": "code",
   "execution_count": 63,
   "id": "998fe4cb-2b10-4143-b27d-6097686bcda6",
   "metadata": {},
   "outputs": [
    {
     "data": {
      "text/plain": [
       "0.8939966636005579"
      ]
     },
     "execution_count": 63,
     "metadata": {},
     "output_type": "execute_result"
    }
   ],
   "source": [
    "math.sin(90)"
   ]
  },
  {
   "cell_type": "code",
   "execution_count": 65,
   "id": "9bf0f968-92ea-42ac-90a4-8965753d66b5",
   "metadata": {},
   "outputs": [
    {
     "data": {
      "text/plain": [
       "0.8939966636005579"
      ]
     },
     "execution_count": 65,
     "metadata": {},
     "output_type": "execute_result"
    }
   ],
   "source": [
    "math.sqrt(64)\n",
    "math.pow(5,3)\n",
    "math.sin(90)"
   ]
  },
  {
   "cell_type": "markdown",
   "id": "17580f4c-f36a-40c4-b168-30cf49756ccb",
   "metadata": {},
   "source": [
    "### for method help\n",
    "- cursor inside the bracket then apply shift+tab\n",
    "- math.sqrt()\n",
    "- the meaning of / in help is do not give x=25 just give it like 25"
   ]
  },
  {
   "cell_type": "code",
   "execution_count": 66,
   "id": "f459a6c4-cfc1-405a-83b7-00022e454603",
   "metadata": {},
   "outputs": [
    {
     "data": {
      "text/plain": [
       "9.0"
      ]
     },
     "execution_count": 66,
     "metadata": {},
     "output_type": "execute_result"
    }
   ],
   "source": [
    "math.sqrt(81)"
   ]
  },
  {
   "cell_type": "code",
   "execution_count": 67,
   "id": "0599734b-c855-463a-8d01-d85563a2dfc9",
   "metadata": {},
   "outputs": [
    {
     "data": {
      "text/plain": [
       "<function math.sqrt(x, /)>"
      ]
     },
     "execution_count": 67,
     "metadata": {},
     "output_type": "execute_result"
    }
   ],
   "source": [
    "math.sqrt"
   ]
  },
  {
   "cell_type": "markdown",
   "id": "8713125d-1481-4149-8a27-8d4705e9cb6e",
   "metadata": {},
   "source": [
    "- when a function means we are forgetting brackets  so we need to keep brackets\n",
    "- bound method also means forgetting the brackets only\n",
    "- not callable means remove the brackets\n",
    "- when ever u see the slash dont provide variable name directly give the value\n",
    "- direct values never need brackets"
   ]
  },
  {
   "cell_type": "code",
   "execution_count": 71,
   "id": "196d800d-a652-4032-a9a1-739369a953ff",
   "metadata": {},
   "outputs": [
    {
     "ename": "TypeError",
     "evalue": "math.sqrt() takes exactly one argument (0 given)",
     "output_type": "error",
     "traceback": [
      "\u001b[1;31m---------------------------------------------------------------------------\u001b[0m",
      "\u001b[1;31mTypeError\u001b[0m                                 Traceback (most recent call last)",
      "Cell \u001b[1;32mIn[71], line 1\u001b[0m\n\u001b[1;32m----> 1\u001b[0m math\u001b[38;5;241m.\u001b[39msqrt()\n",
      "\u001b[1;31mTypeError\u001b[0m: math.sqrt() takes exactly one argument (0 given)"
     ]
    }
   ],
   "source": [
    "math.sqrt()"
   ]
  },
  {
   "cell_type": "code",
   "execution_count": 72,
   "id": "570465c0-713c-4d60-9f07-7c3db80f6ffa",
   "metadata": {},
   "outputs": [
    {
     "data": {
      "text/plain": [
       "5.0"
      ]
     },
     "execution_count": 72,
     "metadata": {},
     "output_type": "execute_result"
    }
   ],
   "source": [
    "math.sqrt(25)"
   ]
  },
  {
   "cell_type": "code",
   "execution_count": 73,
   "id": "f49c30b9-b5e0-40e7-8777-f522dcfeb4ac",
   "metadata": {},
   "outputs": [
    {
     "data": {
      "text/plain": [
       "<bound method Random.randint of <random.Random object at 0x0000022C2CE903A0>>"
      ]
     },
     "execution_count": 73,
     "metadata": {},
     "output_type": "execute_result"
    }
   ],
   "source": [
    "random.randint"
   ]
  },
  {
   "cell_type": "code",
   "execution_count": 74,
   "id": "3669b056-cdc5-416a-8ef9-cbc6955e7fdf",
   "metadata": {},
   "outputs": [
    {
     "ename": "TypeError",
     "evalue": "Random.randint() missing 2 required positional arguments: 'a' and 'b'",
     "output_type": "error",
     "traceback": [
      "\u001b[1;31m---------------------------------------------------------------------------\u001b[0m",
      "\u001b[1;31mTypeError\u001b[0m                                 Traceback (most recent call last)",
      "Cell \u001b[1;32mIn[74], line 1\u001b[0m\n\u001b[1;32m----> 1\u001b[0m random\u001b[38;5;241m.\u001b[39mrandint()\n",
      "\u001b[1;31mTypeError\u001b[0m: Random.randint() missing 2 required positional arguments: 'a' and 'b'"
     ]
    }
   ],
   "source": [
    "random.randint()"
   ]
  },
  {
   "cell_type": "code",
   "execution_count": 76,
   "id": "4d68bd94-eda7-4191-b92d-4382e841fee3",
   "metadata": {},
   "outputs": [
    {
     "ename": "TypeError",
     "evalue": "Random.randint() missing 1 required positional argument: 'b'",
     "output_type": "error",
     "traceback": [
      "\u001b[1;31m---------------------------------------------------------------------------\u001b[0m",
      "\u001b[1;31mTypeError\u001b[0m                                 Traceback (most recent call last)",
      "Cell \u001b[1;32mIn[76], line 1\u001b[0m\n\u001b[1;32m----> 1\u001b[0m random\u001b[38;5;241m.\u001b[39mrandint(\u001b[38;5;241m10\u001b[39m)\n",
      "\u001b[1;31mTypeError\u001b[0m: Random.randint() missing 1 required positional argument: 'b'"
     ]
    }
   ],
   "source": [
    "random.randint(10)"
   ]
  },
  {
   "cell_type": "code",
   "execution_count": 77,
   "id": "f74217c1-4ac6-4ff8-aba3-f2475084b74c",
   "metadata": {},
   "outputs": [
    {
     "data": {
      "text/plain": [
       "1"
      ]
     },
     "execution_count": 77,
     "metadata": {},
     "output_type": "execute_result"
    }
   ],
   "source": [
    "random.randint(1,10)"
   ]
  },
  {
   "cell_type": "code",
   "execution_count": 78,
   "id": "5b9a180b-02dc-4599-b77d-99d8c10dee7c",
   "metadata": {},
   "outputs": [
    {
     "ename": "AttributeError",
     "evalue": "module 'random' has no attribute 'radom'",
     "output_type": "error",
     "traceback": [
      "\u001b[1;31m---------------------------------------------------------------------------\u001b[0m",
      "\u001b[1;31mAttributeError\u001b[0m                            Traceback (most recent call last)",
      "Cell \u001b[1;32mIn[78], line 1\u001b[0m\n\u001b[1;32m----> 1\u001b[0m random\u001b[38;5;241m.\u001b[39mradom()\n",
      "\u001b[1;31mAttributeError\u001b[0m: module 'random' has no attribute 'radom'"
     ]
    }
   ],
   "source": [
    "random.radom()"
   ]
  },
  {
   "cell_type": "code",
   "execution_count": 79,
   "id": "bafc425b-c066-4354-9f59-441868898c1b",
   "metadata": {},
   "outputs": [
    {
     "data": {
      "text/plain": [
       "['BPF',\n",
       " 'LOG4',\n",
       " 'NV_MAGICCONST',\n",
       " 'RECIP_BPF',\n",
       " 'Random',\n",
       " 'SG_MAGICCONST',\n",
       " 'SystemRandom',\n",
       " 'TWOPI',\n",
       " '_ONE',\n",
       " '_Sequence',\n",
       " '_Set',\n",
       " '__all__',\n",
       " '__builtins__',\n",
       " '__cached__',\n",
       " '__doc__',\n",
       " '__file__',\n",
       " '__loader__',\n",
       " '__name__',\n",
       " '__package__',\n",
       " '__spec__',\n",
       " '_accumulate',\n",
       " '_acos',\n",
       " '_bisect',\n",
       " '_ceil',\n",
       " '_cos',\n",
       " '_e',\n",
       " '_exp',\n",
       " '_floor',\n",
       " '_index',\n",
       " '_inst',\n",
       " '_isfinite',\n",
       " '_log',\n",
       " '_os',\n",
       " '_pi',\n",
       " '_random',\n",
       " '_repeat',\n",
       " '_sha512',\n",
       " '_sin',\n",
       " '_sqrt',\n",
       " '_test',\n",
       " '_test_generator',\n",
       " '_urandom',\n",
       " '_warn',\n",
       " 'betavariate',\n",
       " 'choice',\n",
       " 'choices',\n",
       " 'expovariate',\n",
       " 'gammavariate',\n",
       " 'gauss',\n",
       " 'getrandbits',\n",
       " 'getstate',\n",
       " 'lognormvariate',\n",
       " 'normalvariate',\n",
       " 'paretovariate',\n",
       " 'randbytes',\n",
       " 'randint',\n",
       " 'random',\n",
       " 'randrange',\n",
       " 'sample',\n",
       " 'seed',\n",
       " 'setstate',\n",
       " 'shuffle',\n",
       " 'triangular',\n",
       " 'uniform',\n",
       " 'vonmisesvariate',\n",
       " 'weibullvariate']"
      ]
     },
     "execution_count": 79,
     "metadata": {},
     "output_type": "execute_result"
    }
   ],
   "source": [
    "dir(random)"
   ]
  },
  {
   "cell_type": "code",
   "execution_count": 80,
   "id": "c002eed7-f823-4570-a4f1-fbbcbad28574",
   "metadata": {},
   "outputs": [],
   "source": [
    "import keyword"
   ]
  },
  {
   "cell_type": "code",
   "execution_count": 81,
   "id": "8e24eb7f-3ea9-4247-9b87-3cf494ad8f1e",
   "metadata": {},
   "outputs": [
    {
     "data": {
      "text/plain": [
       "['__all__',\n",
       " '__builtins__',\n",
       " '__cached__',\n",
       " '__doc__',\n",
       " '__file__',\n",
       " '__loader__',\n",
       " '__name__',\n",
       " '__package__',\n",
       " '__spec__',\n",
       " 'iskeyword',\n",
       " 'issoftkeyword',\n",
       " 'kwlist',\n",
       " 'softkwlist']"
      ]
     },
     "execution_count": 81,
     "metadata": {},
     "output_type": "execute_result"
    }
   ],
   "source": [
    "dir(keyword)"
   ]
  },
  {
   "cell_type": "code",
   "execution_count": 82,
   "id": "a4240c80-f8a5-42e5-9332-949cc1931cea",
   "metadata": {},
   "outputs": [
    {
     "name": "stdout",
     "output_type": "stream",
     "text": [
      "Help on list object:\n",
      "\n",
      "class list(object)\n",
      " |  list(iterable=(), /)\n",
      " |  \n",
      " |  Built-in mutable sequence.\n",
      " |  \n",
      " |  If no argument is given, the constructor creates a new empty list.\n",
      " |  The argument must be an iterable if specified.\n",
      " |  \n",
      " |  Built-in subclasses:\n",
      " |      MyList\n",
      " |  \n",
      " |  Methods defined here:\n",
      " |  \n",
      " |  __add__(self, value, /)\n",
      " |      Return self+value.\n",
      " |  \n",
      " |  __contains__(self, key, /)\n",
      " |      Return key in self.\n",
      " |  \n",
      " |  __delitem__(self, key, /)\n",
      " |      Delete self[key].\n",
      " |  \n",
      " |  __eq__(self, value, /)\n",
      " |      Return self==value.\n",
      " |  \n",
      " |  __ge__(self, value, /)\n",
      " |      Return self>=value.\n",
      " |  \n",
      " |  __getattribute__(self, name, /)\n",
      " |      Return getattr(self, name).\n",
      " |  \n",
      " |  __getitem__(...)\n",
      " |      x.__getitem__(y) <==> x[y]\n",
      " |  \n",
      " |  __gt__(self, value, /)\n",
      " |      Return self>value.\n",
      " |  \n",
      " |  __iadd__(self, value, /)\n",
      " |      Implement self+=value.\n",
      " |  \n",
      " |  __imul__(self, value, /)\n",
      " |      Implement self*=value.\n",
      " |  \n",
      " |  __init__(self, /, *args, **kwargs)\n",
      " |      Initialize self.  See help(type(self)) for accurate signature.\n",
      " |  \n",
      " |  __iter__(self, /)\n",
      " |      Implement iter(self).\n",
      " |  \n",
      " |  __le__(self, value, /)\n",
      " |      Return self<=value.\n",
      " |  \n",
      " |  __len__(self, /)\n",
      " |      Return len(self).\n",
      " |  \n",
      " |  __lt__(self, value, /)\n",
      " |      Return self<value.\n",
      " |  \n",
      " |  __mul__(self, value, /)\n",
      " |      Return self*value.\n",
      " |  \n",
      " |  __ne__(self, value, /)\n",
      " |      Return self!=value.\n",
      " |  \n",
      " |  __repr__(self, /)\n",
      " |      Return repr(self).\n",
      " |  \n",
      " |  __reversed__(self, /)\n",
      " |      Return a reverse iterator over the list.\n",
      " |  \n",
      " |  __rmul__(self, value, /)\n",
      " |      Return value*self.\n",
      " |  \n",
      " |  __setitem__(self, key, value, /)\n",
      " |      Set self[key] to value.\n",
      " |  \n",
      " |  __sizeof__(self, /)\n",
      " |      Return the size of the list in memory, in bytes.\n",
      " |  \n",
      " |  append(self, object, /)\n",
      " |      Append object to the end of the list.\n",
      " |  \n",
      " |  clear(self, /)\n",
      " |      Remove all items from list.\n",
      " |  \n",
      " |  copy(self, /)\n",
      " |      Return a shallow copy of the list.\n",
      " |  \n",
      " |  count(self, value, /)\n",
      " |      Return number of occurrences of value.\n",
      " |  \n",
      " |  extend(self, iterable, /)\n",
      " |      Extend list by appending elements from the iterable.\n",
      " |  \n",
      " |  index(self, value, start=0, stop=9223372036854775807, /)\n",
      " |      Return first index of value.\n",
      " |      \n",
      " |      Raises ValueError if the value is not present.\n",
      " |  \n",
      " |  insert(self, index, object, /)\n",
      " |      Insert object before index.\n",
      " |  \n",
      " |  pop(self, index=-1, /)\n",
      " |      Remove and return item at index (default last).\n",
      " |      \n",
      " |      Raises IndexError if list is empty or index is out of range.\n",
      " |  \n",
      " |  remove(self, value, /)\n",
      " |      Remove first occurrence of value.\n",
      " |      \n",
      " |      Raises ValueError if the value is not present.\n",
      " |  \n",
      " |  reverse(self, /)\n",
      " |      Reverse *IN PLACE*.\n",
      " |  \n",
      " |  sort(self, /, *, key=None, reverse=False)\n",
      " |      Sort the list in ascending order and return None.\n",
      " |      \n",
      " |      The sort is in-place (i.e. the list itself is modified) and stable (i.e. the\n",
      " |      order of two equal elements is maintained).\n",
      " |      \n",
      " |      If a key function is given, apply it once to each list item and sort them,\n",
      " |      ascending or descending, according to their function values.\n",
      " |      \n",
      " |      The reverse flag can be set to sort in descending order.\n",
      " |  \n",
      " |  ----------------------------------------------------------------------\n",
      " |  Class methods defined here:\n",
      " |  \n",
      " |  __class_getitem__(...) from builtins.type\n",
      " |      See PEP 585\n",
      " |  \n",
      " |  ----------------------------------------------------------------------\n",
      " |  Static methods defined here:\n",
      " |  \n",
      " |  __new__(*args, **kwargs) from builtins.type\n",
      " |      Create and return a new object.  See help(type) for accurate signature.\n",
      " |  \n",
      " |  ----------------------------------------------------------------------\n",
      " |  Data and other attributes defined here:\n",
      " |  \n",
      " |  __hash__ = None\n",
      "\n"
     ]
    }
   ],
   "source": [
    "help(keyword.kwlist)"
   ]
  },
  {
   "cell_type": "code",
   "execution_count": 84,
   "id": "b18184ac-7cbb-443c-9775-d5fb1dc34ec2",
   "metadata": {},
   "outputs": [
    {
     "data": {
      "text/plain": [
       "['False',\n",
       " 'None',\n",
       " 'True',\n",
       " 'and',\n",
       " 'as',\n",
       " 'assert',\n",
       " 'async',\n",
       " 'await',\n",
       " 'break',\n",
       " 'class',\n",
       " 'continue',\n",
       " 'def',\n",
       " 'del',\n",
       " 'elif',\n",
       " 'else',\n",
       " 'except',\n",
       " 'finally',\n",
       " 'for',\n",
       " 'from',\n",
       " 'global',\n",
       " 'if',\n",
       " 'import',\n",
       " 'in',\n",
       " 'is',\n",
       " 'lambda',\n",
       " 'nonlocal',\n",
       " 'not',\n",
       " 'or',\n",
       " 'pass',\n",
       " 'raise',\n",
       " 'return',\n",
       " 'try',\n",
       " 'while',\n",
       " 'with',\n",
       " 'yield']"
      ]
     },
     "execution_count": 84,
     "metadata": {},
     "output_type": "execute_result"
    }
   ],
   "source": [
    "# we get total list of keywords\n",
    "keyword.kwlist"
   ]
  },
  {
   "cell_type": "code",
   "execution_count": 85,
   "id": "1a6c740d-0225-4b2e-b8be-b4bed251c116",
   "metadata": {},
   "outputs": [
    {
     "data": {
      "text/plain": [
       "35"
      ]
     },
     "execution_count": 85,
     "metadata": {},
     "output_type": "execute_result"
    }
   ],
   "source": [
    "len(keyword.kwlist)"
   ]
  },
  {
   "cell_type": "markdown",
   "id": "95921bf5-829a-410a-9c88-eb27413b85ae",
   "metadata": {},
   "source": [
    "():functions or methods\n",
    "- onlu functions or methods callable\n",
    "- if something says not callable means,it is not a function\n",
    "- it is not a function means,you need to remove bracket\n",
    "- bound method means ==== add the brackets\n",
    "- function ===add the brackets\n",
    "- not callable ===== remove the brackets"
   ]
  },
  {
   "cell_type": "markdown",
   "id": "58ca0dfd-13a8-4196-bb48-9545a7a03fe5",
   "metadata": {},
   "source": [
    "**time**\n",
    "- "
   ]
  },
  {
   "cell_type": "code",
   "execution_count": 1,
   "id": "13b8dc43-90d9-41e9-a3f1-a79ddfe0a34c",
   "metadata": {},
   "outputs": [
    {
     "name": "stdout",
     "output_type": "stream",
     "text": [
      "father:hello\n",
      "Daughter:hai dad\n",
      "dad: had your breakfast\n"
     ]
    }
   ],
   "source": [
    "import time\n",
    "print(\"father:hello\")\n",
    "time.sleep(2)\n",
    "print(\"Daughter:hai dad\")\n",
    "time.sleep(2)\n",
    "print(\"dad: had your breakfast\")"
   ]
  },
  {
   "cell_type": "code",
   "execution_count": 2,
   "id": "7efd4e4f-ebcb-4894-a691-db03801fe056",
   "metadata": {},
   "outputs": [
    {
     "data": {
      "text/plain": [
       "['_STRUCT_TM_ITEMS',\n",
       " '__doc__',\n",
       " '__loader__',\n",
       " '__name__',\n",
       " '__package__',\n",
       " '__spec__',\n",
       " 'altzone',\n",
       " 'asctime',\n",
       " 'ctime',\n",
       " 'daylight',\n",
       " 'get_clock_info',\n",
       " 'gmtime',\n",
       " 'localtime',\n",
       " 'mktime',\n",
       " 'monotonic',\n",
       " 'monotonic_ns',\n",
       " 'perf_counter',\n",
       " 'perf_counter_ns',\n",
       " 'process_time',\n",
       " 'process_time_ns',\n",
       " 'sleep',\n",
       " 'strftime',\n",
       " 'strptime',\n",
       " 'struct_time',\n",
       " 'thread_time',\n",
       " 'thread_time_ns',\n",
       " 'time',\n",
       " 'time_ns',\n",
       " 'timezone',\n",
       " 'tzname']"
      ]
     },
     "execution_count": 2,
     "metadata": {},
     "output_type": "execute_result"
    }
   ],
   "source": [
    "dir(time)"
   ]
  },
  {
   "cell_type": "markdown",
   "id": "a42cf95e-bac3-4357-89ef-2d55d3d8620d",
   "metadata": {},
   "source": [
    "computer vision\n",
    "- when ever module not found we need to install it here our package name is cv2\n",
    "- 99% the installation is like this\n",
    "- pip install <package_name>\n",
    "- some packagesinstallation name will be different and python import name is different\n",
    "- pip means just google it ====>\n",
    "- in order to install packages we need internet\n",
    "- if internet is not connected it gives http error\n",
    "- pypi.org\n",
    "- virtual environment means cloning same infrastructue\n",
    "- in the real time so many packages not install properly then we use virtual environment"
   ]
  },
  {
   "cell_type": "code",
   "execution_count": 3,
   "id": "c68596e4-9f77-40f6-b008-bf9338737876",
   "metadata": {},
   "outputs": [],
   "source": [
    "import cv2"
   ]
  },
  {
   "cell_type": "code",
   "execution_count": 4,
   "id": "9bd3e42e-aa41-4d8b-ab75-0fe33e0559b1",
   "metadata": {},
   "outputs": [],
   "source": [
    "import streamlit"
   ]
  },
  {
   "cell_type": "markdown",
   "id": "bdb55d36-c274-4ff2-83ee-91afb1a78d05",
   "metadata": {},
   "source": [
    "**note**\n",
    "- pip freeze it gives packages that are installed in our jupyter notebook"
   ]
  },
  {
   "cell_type": "code",
   "execution_count": 5,
   "id": "fa3644c8-3eda-4321-8c95-47bde291714b",
   "metadata": {},
   "outputs": [],
   "source": [
    "import numpy"
   ]
  },
  {
   "cell_type": "code",
   "execution_count": 6,
   "id": "e3fcc8cb-4d28-44b2-aee3-7579c0b8db40",
   "metadata": {},
   "outputs": [
    {
     "data": {
      "text/plain": [
       "<module 'numpy' from 'C:\\\\Users\\\\Dell\\\\anaconda3\\\\Lib\\\\site-packages\\\\numpy\\\\__init__.py'>"
      ]
     },
     "execution_count": 6,
     "metadata": {},
     "output_type": "execute_result"
    }
   ],
   "source": [
    "numpy"
   ]
  },
  {
   "cell_type": "code",
   "execution_count": 7,
   "id": "d080f5e8-c3ef-42ca-8c98-fb4666a9802b",
   "metadata": {},
   "outputs": [
    {
     "data": {
      "text/plain": [
       "<module 'streamlit' from 'C:\\\\Users\\\\Dell\\\\anaconda3\\\\Lib\\\\site-packages\\\\streamlit\\\\__init__.py'>"
      ]
     },
     "execution_count": 7,
     "metadata": {},
     "output_type": "execute_result"
    }
   ],
   "source": [
    "streamlit"
   ]
  },
  {
   "cell_type": "markdown",
   "id": "dcaf190d-7b89-4ac0-9d96-6854688d2d7d",
   "metadata": {},
   "source": [
    "generally we install in anaconda prompt\n",
    "- to install in jupyter we need to write like this\n",
    "- !pip instal numpy here we give !\n",
    "- in anaconda prompt we donot need ! just give pip install numpy\n",
    "- hard coding means we are fixing the values\n",
    "- never do hard coding"
   ]
  },
  {
   "cell_type": "code",
   "execution_count": 9,
   "id": "760b2d5d-76bc-4ae6-8cb7-c09cb46c40f5",
   "metadata": {},
   "outputs": [
    {
     "name": "stdout",
     "output_type": "stream",
     "text": [
      "30\n"
     ]
    }
   ],
   "source": [
    "n1=10\n",
    "n2=20\n",
    "add=n1+n2\n",
    "print(add)\n",
    "#hard coding"
   ]
  },
  {
   "cell_type": "code",
   "execution_count": 12,
   "id": "e162e8bf-c027-48dc-bdad-783526beb2c9",
   "metadata": {},
   "outputs": [
    {
     "name": "stdin",
     "output_type": "stream",
     "text": [
      "enter n1:  12\n",
      "enter n2:  34\n"
     ]
    },
    {
     "name": "stdout",
     "output_type": "stream",
     "text": [
      "46\n"
     ]
    }
   ],
   "source": [
    "#dynamic\n",
    "n1=eval(input(\"enter n1: \"))\n",
    "n2=eval(input(\"enter n2: \"))\n",
    "ad=n1+n2\n",
    "print(ad)"
   ]
  },
  {
   "cell_type": "code",
   "execution_count": 14,
   "id": "e6ea83ec-3bb3-4715-9e17-49cfdacf3dc7",
   "metadata": {},
   "outputs": [
    {
     "name": "stdout",
     "output_type": "stream",
     "text": [
      "the addition of 8 and 156 is 164 \n"
     ]
    }
   ],
   "source": [
    "import random\n",
    "n1=random.randint(1,100)\n",
    "n2=random.randint(100,200)\n",
    "add=n1+n2\n",
    "print(f\"the addition of {n1} and {n2} is {add} \")"
   ]
  },
  {
   "cell_type": "markdown",
   "id": "e792543a-ff70-47e1-ace9-a8cf6fdacaa6",
   "metadata": {},
   "source": [
    "**how we pass the numbers**\n",
    "- hard coding\n",
    "- using keyboard\n",
    "- using random package taking numbers randomly"
   ]
  },
  {
   "cell_type": "code",
   "execution_count": 18,
   "id": "bcdae147-0c74-425b-938a-b6f782701188",
   "metadata": {},
   "outputs": [
    {
     "name": "stdin",
     "output_type": "stream",
     "text": [
      "enter the number2:  52\n"
     ]
    },
    {
     "name": "stdout",
     "output_type": "stream",
     "text": [
      "the average of 10,52 and39 is : 33.666666666666664\n"
     ]
    }
   ],
   "source": [
    "n1=10\n",
    "n2=eval(input(\"enter the number2: \"))\n",
    "n3=random.randint(1,100)\n",
    "avg=(n1+n2+n3)/3\n",
    "print(f\"the average of {n1},{n2} and{n3} is : {avg}\",)"
   ]
  },
  {
   "cell_type": "markdown",
   "id": "a30bc497-9284-4d94-b903-ccbd6541d155",
   "metadata": {},
   "source": [
    "- in the entire notebook\n",
    "- if you import packages\n",
    "- no need to import every time just run it once and declare all the packages at top of the file\n",
    "- "
   ]
  },
  {
   "cell_type": "markdown",
   "id": "c89abd62-ce65-40a9-a406-db5db7b3049c",
   "metadata": {},
   "source": [
    "**round**"
   ]
  },
  {
   "cell_type": "code",
   "execution_count": 20,
   "id": "316363e2-ca26-43c7-bf3b-49d10e51910a",
   "metadata": {},
   "outputs": [
    {
     "data": {
      "text/plain": [
       "23"
      ]
     },
     "execution_count": 20,
     "metadata": {},
     "output_type": "execute_result"
    }
   ],
   "source": [
    "avg=22.6666666\n",
    "round(avg)"
   ]
  },
  {
   "cell_type": "code",
   "execution_count": 21,
   "id": "778c4a88-e9ba-419b-9e06-8ce1e9cda422",
   "metadata": {},
   "outputs": [
    {
     "data": {
      "text/plain": [
       "22.67"
      ]
     },
     "execution_count": 21,
     "metadata": {},
     "output_type": "execute_result"
    }
   ],
   "source": [
    "round(avg,2)"
   ]
  },
  {
   "cell_type": "code",
   "execution_count": 22,
   "id": "5410b935-b2da-44f5-ba0f-8abfa530e599",
   "metadata": {},
   "outputs": [
    {
     "data": {
      "text/plain": [
       "22.667"
      ]
     },
     "execution_count": 22,
     "metadata": {},
     "output_type": "execute_result"
    }
   ],
   "source": [
    "round(avg,3)"
   ]
  },
  {
   "cell_type": "code",
   "execution_count": 23,
   "id": "fcff4dfb-8704-4dec-a0c9-d5a69c73e577",
   "metadata": {},
   "outputs": [
    {
     "name": "stdin",
     "output_type": "stream",
     "text": [
      "enter the number2:  23\n"
     ]
    },
    {
     "name": "stdout",
     "output_type": "stream",
     "text": [
      "the average of 10,23 and81 is : 38.0\n"
     ]
    }
   ],
   "source": [
    "n1=10\n",
    "n2=eval(input(\"enter the number2: \"))\n",
    "n3=random.randint(1,100)\n",
    "avg=round((n1+n2+n3)/3,2)#avg1=round(avg,2)\n",
    "print(f\"the average of {n1},{n2} and{n3} is : {avg}\",)"
   ]
  },
  {
   "cell_type": "code",
   "execution_count": null,
   "id": "915dcc61-0399-4d95-b092-c523d43a4e69",
   "metadata": {},
   "outputs": [],
   "source": []
  }
 ],
 "metadata": {
  "kernelspec": {
   "display_name": "Python 3 (ipykernel)",
   "language": "python",
   "name": "python3"
  },
  "language_info": {
   "codemirror_mode": {
    "name": "ipython",
    "version": 3
   },
   "file_extension": ".py",
   "mimetype": "text/x-python",
   "name": "python",
   "nbconvert_exporter": "python",
   "pygments_lexer": "ipython3",
   "version": "3.11.7"
  }
 },
 "nbformat": 4,
 "nbformat_minor": 5
}
