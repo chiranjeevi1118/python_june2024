{
 "cells": [
  {
   "cell_type": "markdown",
   "id": "47458ac2-9368-47aa-a5ee-2a0608e35868",
   "metadata": {},
   "source": [
    "# try and except"
   ]
  },
  {
   "cell_type": "markdown",
   "id": "9e115fe1-1927-49f5-82fe-459565802b17",
   "metadata": {},
   "source": [
    "- generally in really time we will write n number of python lines\n",
    "- there is a situation we might get error , that the error might me unknown\n",
    "- these unknown errors does not cause any harm\n",
    "- even though we are getting error we need to proceed further\n",
    "- also we need to catch that error\n",
    "- beczuse we already know python is a sequential process\n",
    "- means the lines will execute step by step\n",
    "- suppose you have an error at particular line , the code execution will stop at that line only\n",
    "- but you know that error is not harmful\n",
    "- so you want to continue the execution\n",
    "- then we required try and exception "
   ]
  },
  {
   "cell_type": "markdown",
   "id": "ed924065-81f7-4628-8f47-56a71664795b",
   "metadata": {},
   "source": [
    "- try -except has two blocks\n",
    "- try block has actual code\n",
    "- except block will catch the error\n",
    "- "
   ]
  },
  {
   "cell_type": "code",
   "execution_count": 4,
   "id": "d2733f21-fa20-4bf3-98da-e4066f03705f",
   "metadata": {},
   "outputs": [
    {
     "name": "stdin",
     "output_type": "stream",
     "text": [
      "enter number:  10\n",
      "enter number 2 :  ten\n"
     ]
    },
    {
     "name": "stdout",
     "output_type": "stream",
     "text": [
      "hello\n",
      "you are getting error \n",
      "check the code properly\n"
     ]
    }
   ],
   "source": [
    "try:\n",
    "    n1=eval(input(\"enter number: \"))\n",
    "    n2=eval(input(\"enter number 2 : \"))\n",
    "    add=n1+n2\n",
    "    print(\"addition is : \",add)\n",
    "except:\n",
    "    print(\"hello\")\n",
    "    print(\"you are getting error \")\n",
    "    print(\"check the code properly\")"
   ]
  },
  {
   "cell_type": "markdown",
   "id": "b6c303ac-e091-4ba5-92fc-71d682a4d5f6",
   "metadata": {},
   "source": [
    "- generally try and except block will use to catch the errors "
   ]
  },
  {
   "cell_type": "code",
   "execution_count": 8,
   "id": "05bfbf3c-9b3b-4fee-82b9-a26590679d63",
   "metadata": {},
   "outputs": [
    {
     "name": "stdin",
     "output_type": "stream",
     "text": [
      "enter number:  10\n",
      "enter number 2 :  2\n"
     ]
    },
    {
     "name": "stdout",
     "output_type": "stream",
     "text": [
      "addition is :  5.0\n"
     ]
    }
   ],
   "source": [
    "try:\n",
    "    n1=eval(input(\"enter number: \"))\n",
    "    n2=eval(input(\"enter number 2 : \"))\n",
    "    add=n1/n2\n",
    "    print(\"addition is : \",add)\n",
    "except Exception as e:\n",
    "    print(\"ther error is :\",e)"
   ]
  },
  {
   "cell_type": "code",
   "execution_count": 9,
   "id": "12b46e36-be49-4ded-9302-29aca3bf0929",
   "metadata": {},
   "outputs": [],
   "source": [
    "# now onwards every code need to use try and exception"
   ]
  },
  {
   "cell_type": "code",
   "execution_count": 12,
   "id": "6aab6aa0-35c8-4dfa-a164-0ca90267aaf5",
   "metadata": {},
   "outputs": [
    {
     "name": "stdin",
     "output_type": "stream",
     "text": [
      "enter the number:  teb\n"
     ]
    },
    {
     "name": "stdout",
     "output_type": "stream",
     "text": [
      "name 'teb' is not defined\n"
     ]
    }
   ],
   "source": [
    "try:\n",
    "    num=eval(input(\"enter the number: \"))\n",
    "    if num%2==0:\n",
    "        print(\"even\")\n",
    "    else:\n",
    "        print(\"odd\")\n",
    "except Exception as e:\n",
    "    print(e)\n",
    "    "
   ]
  },
  {
   "cell_type": "code",
   "execution_count": 14,
   "id": "b2b0ea1c-7830-475d-9392-89eaff48f37c",
   "metadata": {},
   "outputs": [
    {
     "name": "stdin",
     "output_type": "stream",
     "text": [
      "enter start no:  ten\n"
     ]
    },
    {
     "name": "stdout",
     "output_type": "stream",
     "text": [
      "name 'ten' is not defined\n"
     ]
    }
   ],
   "source": [
    "try:\n",
    "    import random\n",
    "    s=eval(input(\"enter start no: \"))\n",
    "    e=eval(input(\"enter end n0 : \"))\n",
    "    n=random.randint(s,e)\n",
    "    if n%2==0:\n",
    "        print(\"the given no is even :\",n)\n",
    "    else:\n",
    "        print(\"the given no is odd :\",n)\n",
    "except Exception as e:\n",
    "    print(e)"
   ]
  },
  {
   "cell_type": "code",
   "execution_count": null,
   "id": "74304a88-c1ae-49c7-b7dc-2666ac6cfa1f",
   "metadata": {},
   "outputs": [],
   "source": []
  }
 ],
 "metadata": {
  "kernelspec": {
   "display_name": "Python 3 (ipykernel)",
   "language": "python",
   "name": "python3"
  },
  "language_info": {
   "codemirror_mode": {
    "name": "ipython",
    "version": 3
   },
   "file_extension": ".py",
   "mimetype": "text/x-python",
   "name": "python",
   "nbconvert_exporter": "python",
   "pygments_lexer": "ipython3",
   "version": "3.11.7"
  }
 },
 "nbformat": 4,
 "nbformat_minor": 5
}
