{
 "cells": [
  {
   "cell_type": "markdown",
   "id": "d06bcc8b-7d0f-4a4b-8d38-65cbbfd0ea36",
   "metadata": {},
   "source": [
    "**list comprehensions**"
   ]
  },
  {
   "cell_type": "markdown",
   "id": "0ec62a6d-c443-494e-b4e1-6ad1689fc21f",
   "metadata": {},
   "source": [
    "- we can store the output values by using append operations\n",
    "- we are taking empty list\n",
    "- we are iterating through elements from a given list\n",
    "- the result we are appending in a new list"
   ]
  },
  {
   "cell_type": "code",
   "execution_count": 1,
   "id": "4ebd6dee-c20c-4a4c-ba9f-7a9f4a7ada81",
   "metadata": {},
   "outputs": [
    {
     "data": {
      "text/plain": [
       "[0, 1, 4, 9, 16, 25, 36, 49, 64, 81]"
      ]
     },
     "execution_count": 1,
     "metadata": {},
     "output_type": "execute_result"
    }
   ],
   "source": [
    "l=[]\n",
    "for i in range(10):\n",
    "    l.append(i*i)\n",
    "l"
   ]
  },
  {
   "cell_type": "markdown",
   "id": "f31c73ec-c22b-43e0-8e01-dfd21c4ba95b",
   "metadata": {},
   "source": [
    "- there are almost three lines are in the process\n",
    "- the three lines we can make into a single line\n",
    "- this is called as list comprehension"
   ]
  },
  {
   "cell_type": "markdown",
   "id": "976dafd4-5e6d-4ffa-bbc0-5b3082782b95",
   "metadata": {},
   "source": [
    "### pattern 1\n",
    "**only for loop**"
   ]
  },
  {
   "cell_type": "code",
   "execution_count": 4,
   "id": "7068d7b4-339a-416b-b3f9-2a303887395e",
   "metadata": {},
   "outputs": [
    {
     "data": {
      "text/plain": [
       "[0, 1, 4, 9, 16, 25, 36, 49, 64, 81]"
      ]
     },
     "execution_count": 4,
     "metadata": {},
     "output_type": "execute_result"
    }
   ],
   "source": [
    "#syntax\n",
    "#[output for loop ]\n",
    "#q1 what is the output i*i\n",
    "#q2 what is the output list name #l\n",
    "#q3 what is for loop for i in range(10)\n",
    "l=[i*i for i in range(10)]\n",
    "l"
   ]
  },
  {
   "cell_type": "code",
   "execution_count": 7,
   "id": "5b6f4000-dabf-4318-999e-91acb65d9387",
   "metadata": {},
   "outputs": [
    {
     "data": {
      "text/plain": [
       "['HYD', 'BLR', 'CHENNAI', 'PUNE']"
      ]
     },
     "execution_count": 7,
     "metadata": {},
     "output_type": "execute_result"
    }
   ],
   "source": [
    "#q2 \n",
    "l=['hyd','blr','chennai','pune']\n",
    "l1=[i.upper() for i in l]\n",
    "l1"
   ]
  },
  {
   "cell_type": "code",
   "execution_count": 8,
   "id": "279457d9-05d8-4b42-9ccf-d27038522325",
   "metadata": {},
   "outputs": [
    {
     "data": {
      "text/plain": [
       "['hyd', 'blr', 'chennai', 'pune']"
      ]
     },
     "execution_count": 8,
     "metadata": {},
     "output_type": "execute_result"
    }
   ],
   "source": [
    "l=['HYD', 'BLR', 'CHENNAI', 'PUNE']\n",
    "l1=[i.lower() for i in l]\n",
    "l1"
   ]
  },
  {
   "cell_type": "code",
   "execution_count": 19,
   "id": "3187a5b4-4688-4db9-9c78-41d32152ca4d",
   "metadata": {},
   "outputs": [
    {
     "data": {
      "text/plain": [
       "([0, 1, 2, 3], 6)"
      ]
     },
     "execution_count": 19,
     "metadata": {},
     "output_type": "execute_result"
    }
   ],
   "source": [
    "#sum of the indexes of all elements\n",
    "l2=['hyd','mumbai','chennai','blr']\n",
    "l1=[l2.index(i) for i in l2]  #sum([l2.index{i) for i in l2])\n",
    "l1,sum(l1)"
   ]
  },
  {
   "cell_type": "markdown",
   "id": "6e2f2e69-d0d6-421e-a7ac-29b578bb576b",
   "metadata": {},
   "source": [
    "- making empty list\n",
    "- intializations will not works in list comprehensions\n",
    "- assignment operations also not works"
   ]
  },
  {
   "cell_type": "markdown",
   "id": "9683f717-4171-40d0-bc71-2d9dfaf40daf",
   "metadata": {},
   "source": [
    "### pattern2 \n",
    "**for loop and if condition**"
   ]
  },
  {
   "cell_type": "code",
   "execution_count": 20,
   "id": "60d4b4eb-746e-4f28-a58e-e9ede3e4e9e8",
   "metadata": {},
   "outputs": [
    {
     "data": {
      "text/plain": [
       "['mumbai', 'chennai']"
      ]
     },
     "execution_count": 20,
     "metadata": {},
     "output_type": "execute_result"
    }
   ],
   "source": [
    "#syntax\n",
    "#[<output> <for loop> <if condition>]\n",
    "l2=['hyd','mumbai','chennai','blr']\n",
    "l1=[i for i in l2 if len(i)>4]\n",
    "l1"
   ]
  },
  {
   "cell_type": "code",
   "execution_count": 21,
   "id": "74190adf-606e-4983-b3a7-08ebe04484cf",
   "metadata": {},
   "outputs": [
    {
     "data": {
      "text/plain": [
       "['mum#bai', 'chen#nai']"
      ]
     },
     "execution_count": 21,
     "metadata": {},
     "output_type": "execute_result"
    }
   ],
   "source": [
    "l1=['hyd','mum#bai','blr','chen#nai']\n",
    "an=[i for i in l1 if '#' in i]\n",
    "an"
   ]
  },
  {
   "cell_type": "code",
   "execution_count": 36,
   "id": "86b5df23-9d74-4b05-8de4-8eacb1165c54",
   "metadata": {},
   "outputs": [
    {
     "data": {
      "text/plain": [
       "['Hyd', 'Blr']"
      ]
     },
     "execution_count": 36,
     "metadata": {},
     "output_type": "execute_result"
    }
   ],
   "source": [
    "l1=['Hyd','mum#bai','Blr','chen#nai']\n",
    "an=[i for i in l1 if i.istitle()]\n",
    "an"
   ]
  },
  {
   "cell_type": "code",
   "execution_count": 34,
   "id": "22aeedb6-85bb-42bf-b8e5-7d50d0f4182f",
   "metadata": {},
   "outputs": [
    {
     "data": {
      "text/plain": [
       "(['mum#bai', 'chen#nai'], ['hyd', 'blr'])"
      ]
     },
     "execution_count": 34,
     "metadata": {},
     "output_type": "execute_result"
    }
   ],
   "source": [
    "l1=['hyd','mum#bai','blr','chen#nai']\n",
    "ans=[ i for i in l1 if '#' not in i]\n",
    "ans1=[i for i in l1 if '#' in i]\n",
    "ans1,ans"
   ]
  },
  {
   "cell_type": "code",
   "execution_count": 4,
   "id": "215b2f60-a807-458f-bac2-646b7cb94375",
   "metadata": {},
   "outputs": [
    {
     "data": {
      "text/plain": [
       "(['virat', 'rohit', 'kl'],\n",
       " ['kohli', 'sharma', 'rahul'],\n",
       " ['rcb', 'mi', 'lucknow'])"
      ]
     },
     "execution_count": 4,
     "metadata": {},
     "output_type": "execute_result"
    }
   ],
   "source": [
    "str1='virat.kohli@rcb.com,rohit.sharma@mi.com,kl.rahul@lucknow.com'\n",
    "l1=str1.split(',')\n",
    "fn=[i[0:i.index('.')] for i in l1]\n",
    "sn=[i[i.index('.')+1:i.index('@')] for i in l1]\n",
    "cn=[i[i.index('@')+1:i.index('.',i.index('@')+1)] for i in l1]\n",
    "fn,sn,cn"
   ]
  },
  {
   "cell_type": "markdown",
   "id": "1538e12b-befb-413d-a040-d276ce1fed30",
   "metadata": {},
   "source": [
    "### pattern3"
   ]
  },
  {
   "cell_type": "code",
   "execution_count": 2,
   "id": "42b13880-83db-4e02-8483-756148685db8",
   "metadata": {},
   "outputs": [],
   "source": [
    "#[<output> <if condition> else <elseoutput> <for loop>]"
   ]
  },
  {
   "cell_type": "markdown",
   "id": "6cb071e6-c7a8-4917-876b-6fb387fc7634",
   "metadata": {},
   "source": [
    "**even-odd**"
   ]
  },
  {
   "cell_type": "code",
   "execution_count": 5,
   "id": "015b4f23-9827-4bfc-9d03-61bd53e043de",
   "metadata": {},
   "outputs": [
    {
     "data": {
      "text/plain": [
       "['even: 0',\n",
       " 'odd:1',\n",
       " 'even: 2',\n",
       " 'odd:3',\n",
       " 'even: 4',\n",
       " 'odd:5',\n",
       " 'even: 6',\n",
       " 'odd:7',\n",
       " 'even: 8',\n",
       " 'odd:9',\n",
       " 'even: 10',\n",
       " 'odd:11',\n",
       " 'even: 12',\n",
       " 'odd:13',\n",
       " 'even: 14',\n",
       " 'odd:15',\n",
       " 'even: 16',\n",
       " 'odd:17',\n",
       " 'even: 18',\n",
       " 'odd:19']"
      ]
     },
     "execution_count": 5,
     "metadata": {},
     "output_type": "execute_result"
    }
   ],
   "source": [
    "op=[]\n",
    "[op.append(f\"even: {i}\")  if i%2==0  else op.append(f'odd:{i}') for i in range(20)]\n",
    "op"
   ]
  },
  {
   "cell_type": "code",
   "execution_count": 8,
   "id": "00a5c894-39c1-4ad7-9ce0-f9fdc764a1d8",
   "metadata": {},
   "outputs": [
    {
     "data": {
      "text/plain": [
       "['even: 0',\n",
       " 'odd:1',\n",
       " 'even: 2',\n",
       " 'odd:3',\n",
       " 'even: 4',\n",
       " 'odd:5',\n",
       " 'even: 6',\n",
       " 'odd:7',\n",
       " 'even: 8',\n",
       " 'odd:9',\n",
       " 'even: 10',\n",
       " 'odd:11',\n",
       " 'even: 12',\n",
       " 'odd:13',\n",
       " 'even: 14',\n",
       " 'odd:15',\n",
       " 'even: 16',\n",
       " 'odd:17',\n",
       " 'even: 18',\n",
       " 'odd:19']"
      ]
     },
     "execution_count": 8,
     "metadata": {},
     "output_type": "execute_result"
    }
   ],
   "source": [
    "op=[]\n",
    "op=[f\"even: {i}\"  if i%2==0  else f'odd:{i}' for i in range(20)]\n",
    "op"
   ]
  },
  {
   "cell_type": "code",
   "execution_count": null,
   "id": "89908299-8d59-46ef-9da5-8769e634d9c0",
   "metadata": {},
   "outputs": [],
   "source": []
  }
 ],
 "metadata": {
  "kernelspec": {
   "display_name": "Python 3 (ipykernel)",
   "language": "python",
   "name": "python3"
  },
  "language_info": {
   "codemirror_mode": {
    "name": "ipython",
    "version": 3
   },
   "file_extension": ".py",
   "mimetype": "text/x-python",
   "name": "python",
   "nbconvert_exporter": "python",
   "pygments_lexer": "ipython3",
   "version": "3.11.7"
  }
 },
 "nbformat": 4,
 "nbformat_minor": 5
}
