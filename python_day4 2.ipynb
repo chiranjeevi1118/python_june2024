{
 "cells": [
  {
   "cell_type": "markdown",
   "id": "db1f0120-90f6-4bc8-ab22-f51f85e87dbc",
   "metadata": {},
   "source": [
    "**print statements**"
   ]
  },
  {
   "cell_type": "code",
   "execution_count": 1,
   "id": "8ed2ed0f-f531-45e8-9047-415bab0932af",
   "metadata": {},
   "outputs": [
    {
     "name": "stdout",
     "output_type": "stream",
     "text": [
      "deva\n"
     ]
    }
   ],
   "source": [
    "print('deva')"
   ]
  },
  {
   "cell_type": "code",
   "execution_count": 2,
   "id": "ed9dca30-58b5-43ff-9f9c-8491afb7bbfd",
   "metadata": {},
   "outputs": [
    {
     "name": "stdout",
     "output_type": "stream",
     "text": [
      "10 20 30\n"
     ]
    }
   ],
   "source": [
    "print(10,20,30)"
   ]
  },
  {
   "cell_type": "code",
   "execution_count": 6,
   "id": "5f867d48-373a-4a1c-93c0-e42922b70a9c",
   "metadata": {},
   "outputs": [
    {
     "name": "stdout",
     "output_type": "stream",
     "text": [
      "10 10.5 deva True\n",
      "10\n",
      "20\n"
     ]
    },
    {
     "data": {
      "text/plain": [
       "(None, None)"
      ]
     },
     "execution_count": 6,
     "metadata": {},
     "output_type": "execute_result"
    }
   ],
   "source": [
    "print(10,10.5,'deva',True)\n",
    "print(10),print(20)#do not write"
   ]
  },
  {
   "cell_type": "code",
   "execution_count": 4,
   "id": "78896566-55f4-4160-bf4c-221cf8c092da",
   "metadata": {},
   "outputs": [
    {
     "name": "stdout",
     "output_type": "stream",
     "text": [
      "10 20\n"
     ]
    }
   ],
   "source": [
    "n1=10\n",
    "n2=20\n",
    "print(n1,n2)"
   ]
  },
  {
   "cell_type": "code",
   "execution_count": 8,
   "id": "3482fa21-2f86-46fb-bc92-4d6da3504242",
   "metadata": {},
   "outputs": [
    {
     "name": "stdout",
     "output_type": "stream",
     "text": [
      "the addition of 10 and 20 is 30\n",
      "the addition of 10 and 20 is 30\n"
     ]
    }
   ],
   "source": [
    "a=10\n",
    "b=20\n",
    "c=a+b\n",
    "print(\"the addition of\",a,\"and\",b,\"is\",c)\n",
    "print(\"the addition of {} and {} is {}\".format(a,b,c))"
   ]
  },
  {
   "cell_type": "code",
   "execution_count": 10,
   "id": "ba9bf5aa-b8a8-4c5a-acda-1c5fd25ed087",
   "metadata": {},
   "outputs": [
    {
     "name": "stdout",
     "output_type": "stream",
     "text": [
      "my name is deva, im 20 years old im from hyd\n"
     ]
    }
   ],
   "source": [
    "#formated output\n",
    "name=\"deva\"\n",
    "age=\"20\"\n",
    "city=\"hyd\"\n",
    "print(\"my name is {}, im {} years old im from {}\".format(name,age,city))"
   ]
  },
  {
   "cell_type": "code",
   "execution_count": 13,
   "id": "326ccece-0a16-4914-8f7d-c84dd6930ea3",
   "metadata": {},
   "outputs": [
    {
     "name": "stdout",
     "output_type": "stream",
     "text": [
      "my name is Deva,i want to become Data Scientist in zoho company\n"
     ]
    }
   ],
   "source": [
    "# f string\n",
    "name=\"Deva\"\n",
    "role=\"Data Scientist\"\n",
    "comp=\"zoho\"\n",
    "print(f\"my name is {name},i want to become {role} in {comp} company\")"
   ]
  },
  {
   "cell_type": "code",
   "execution_count": null,
   "id": "8ac1c9a2-c0f9-4969-867a-5650510bad96",
   "metadata": {},
   "outputs": [],
   "source": [
    "n=int(input())\n",
    "arr=map(int,input().split())\n",
    "arr=list(arr)\n",
    "print(arr)"
   ]
  },
  {
   "cell_type": "code",
   "execution_count": 21,
   "id": "3dda70dd-1f34-446d-8c0c-5d5833058119",
   "metadata": {},
   "outputs": [
    {
     "name": "stdout",
     "output_type": "stream",
     "text": [
      "[6, 5, 4, 3, 2, 3445, 55]\n"
     ]
    }
   ],
   "source": []
  },
  {
   "cell_type": "code",
   "execution_count": null,
   "id": "17c76870-91c1-45be-ade8-55c22e7c2bbe",
   "metadata": {},
   "outputs": [],
   "source": []
  }
 ],
 "metadata": {
  "kernelspec": {
   "display_name": "Python 3 (ipykernel)",
   "language": "python",
   "name": "python3"
  },
  "language_info": {
   "codemirror_mode": {
    "name": "ipython",
    "version": 3
   },
   "file_extension": ".py",
   "mimetype": "text/x-python",
   "name": "python",
   "nbconvert_exporter": "python",
   "pygments_lexer": "ipython3",
   "version": "3.11.7"
  }
 },
 "nbformat": 4,
 "nbformat_minor": 5
}
