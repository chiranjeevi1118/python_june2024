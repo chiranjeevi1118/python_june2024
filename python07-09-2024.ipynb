{
 "cells": [
  {
   "cell_type": "markdown",
   "id": "ded2e638-93f3-4d53-9290-6bc7290f1dd4",
   "metadata": {},
   "source": [
    "## while loop"
   ]
  },
  {
   "cell_type": "markdown",
   "id": "6187bf79-eb63-4079-ad78-78363ed4410e",
   "metadata": {},
   "source": [
    "\n",
    "- for loop\n",
    "- while loop : if you want to run an infinite iterations will choose while loop\n",
    "- every loop we need three things\n",
    "     - intial point(starting point)\n",
    "     - increment or decrement\n",
    "     - condition(stop point)"
   ]
  },
  {
   "cell_type": "code",
   "execution_count": 6,
   "id": "6a3a11ee-7fc3-41d7-a55d-59cafebd83f2",
   "metadata": {},
   "outputs": [],
   "source": [
    "i=1\n",
    "for i in range(1,i<10,1):\n",
    "    print(i)"
   ]
  },
  {
   "cell_type": "markdown",
   "id": "e11f9dc5-fb70-4ebd-beaa-c4dae588241d",
   "metadata": {},
   "source": [
    "- in while loop we will use three things in as a three lines"
   ]
  },
  {
   "cell_type": "code",
   "execution_count": 5,
   "id": "5182d209-b897-4c88-afbd-b61ab1e8bdbc",
   "metadata": {},
   "outputs": [],
   "source": [
    "#start poiny\n",
    "#while loop condition:\n",
    "#codelines\n",
    "#increment or decrement"
   ]
  },
  {
   "cell_type": "code",
   "execution_count": 7,
   "id": "a168a8ef-724a-452c-ad3c-e4cec0e605ac",
   "metadata": {},
   "outputs": [
    {
     "name": "stdout",
     "output_type": "stream",
     "text": [
      "1\n",
      "2\n",
      "3\n",
      "4\n",
      "5\n",
      "6\n",
      "7\n",
      "8\n",
      "9\n"
     ]
    }
   ],
   "source": [
    "i=1\n",
    "while i<10:\n",
    "    print(i)\n",
    "    i+=1"
   ]
  },
  {
   "cell_type": "code",
   "execution_count": 8,
   "id": "8fe04b16-bb0c-4030-9b2e-eeeb84b77131",
   "metadata": {},
   "outputs": [],
   "source": [
    "i=1\n",
    "while i==10:\n",
    "    print(i)\n",
    "    i+=1"
   ]
  },
  {
   "cell_type": "code",
   "execution_count": 9,
   "id": "7e8fd872-089b-4002-967a-ccca87d7d450",
   "metadata": {},
   "outputs": [
    {
     "name": "stdout",
     "output_type": "stream",
     "text": [
      "1 0 -1 -2 -3 -4 -5 -6 -7 -8 -9 "
     ]
    }
   ],
   "source": [
    "i=1\n",
    "while i<11:\n",
    "    print(i,end=' ')\n",
    "    i-=1\n",
    "    if i==-10:\n",
    "        break"
   ]
  },
  {
   "cell_type": "code",
   "execution_count": 12,
   "id": "855e2f48-4dc4-45fb-8faa-b805b6c7064b",
   "metadata": {},
   "outputs": [
    {
     "name": "stdout",
     "output_type": "stream",
     "text": [
      "20 19 18 17 16 15 14 13 12 11 10 9 8 7 6 5 4 3 2 1 "
     ]
    }
   ],
   "source": [
    "#20 to 1\n",
    "#-20 to 0\n",
    "i=20\n",
    "while i>0:\n",
    "    print(i,end=' ')\n",
    "    i-=1"
   ]
  },
  {
   "cell_type": "code",
   "execution_count": 13,
   "id": "60196705-ec83-4a21-a720-2b033b3d8d45",
   "metadata": {},
   "outputs": [
    {
     "name": "stdout",
     "output_type": "stream",
     "text": [
      "-20 -19 -18 -17 -16 -15 -14 -13 -12 -11 -10 -9 -8 -7 -6 -5 -4 -3 -2 -1 0 "
     ]
    }
   ],
   "source": [
    "i=-20\n",
    "while i<=0:\n",
    "    print(i,end=' ')\n",
    "    i+=1"
   ]
  },
  {
   "cell_type": "markdown",
   "id": "f1d7a12c-dbb9-4a9a-b417-4264ed7fc973",
   "metadata": {},
   "source": [
    "**true**\n",
    "- if you dont know about valid condition to enter inside while loop\n",
    "- then use **true**\n",
    "- true will give entry pass irrespective of the condition\n",
    "- but if you want to come out we need to apply if condition and break inside the while loop\n",
    "- if you dont apply break it goes under infinite loop"
   ]
  },
  {
   "cell_type": "code",
   "execution_count": 15,
   "id": "7d7e7d52-5e06-4be5-9023-a2b5ffcb9fe5",
   "metadata": {},
   "outputs": [
    {
     "name": "stdout",
     "output_type": "stream",
     "text": [
      "odd:  31\n",
      "odd:  37\n",
      "even :  68\n"
     ]
    }
   ],
   "source": [
    "import random\n",
    "for i in range(3):\n",
    "    n=random.randint(1,100)\n",
    "    if n%2==0:\n",
    "        print(\"even : \",n)\n",
    "    else:\n",
    "        print(\"odd: \",n)"
   ]
  },
  {
   "cell_type": "code",
   "execution_count": 16,
   "id": "3a09df3c-425f-4d19-a444-32ecd85f204b",
   "metadata": {},
   "outputs": [
    {
     "name": "stdout",
     "output_type": "stream",
     "text": [
      "even :  88\n",
      "odd:  65\n",
      "even :  58\n"
     ]
    }
   ],
   "source": [
    "i=0\n",
    "while i<3:\n",
    "    n=random.randint(1,100)\n",
    "    if n%2==0:\n",
    "        print(\"even : \",n)\n",
    "    else:\n",
    "        print(\"odd: \",n)\n",
    "    i+=1"
   ]
  },
  {
   "cell_type": "code",
   "execution_count": null,
   "id": "894b8c19-ca6f-46bb-8133-c56773a71d9c",
   "metadata": {},
   "outputs": [],
   "source": []
  }
 ],
 "metadata": {
  "kernelspec": {
   "display_name": "Python 3 (ipykernel)",
   "language": "python",
   "name": "python3"
  },
  "language_info": {
   "codemirror_mode": {
    "name": "ipython",
    "version": 3
   },
   "file_extension": ".py",
   "mimetype": "text/x-python",
   "name": "python",
   "nbconvert_exporter": "python",
   "pygments_lexer": "ipython3",
   "version": "3.11.7"
  }
 },
 "nbformat": 4,
 "nbformat_minor": 5
}
