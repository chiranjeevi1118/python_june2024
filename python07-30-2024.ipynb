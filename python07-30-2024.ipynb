{
 "cells": [
  {
   "cell_type": "markdown",
   "id": "4430cb78-029e-4521-8234-7f7aad56210b",
   "metadata": {},
   "source": [
    "### dictionary"
   ]
  },
  {
   "cell_type": "markdown",
   "id": "4687759f-a436-409e-8f6f-61d9967786b8",
   "metadata": {},
   "source": [
    "- we already seen many data types\n",
    "- string\n",
    "- list\n",
    "- tuple\n",
    "- set\n",
    "- dictionary\n",
    "- int float bool complex"
   ]
  },
  {
   "cell_type": "markdown",
   "id": "21b579a1-33b5-4439-8006-2150e7d9816d",
   "metadata": {},
   "source": [
    "**zip**"
   ]
  },
  {
   "cell_type": "code",
   "execution_count": 3,
   "id": "6e58d662-df26-46af-a527-68e2b1a028a6",
   "metadata": {},
   "outputs": [
    {
     "name": "stdout",
     "output_type": "stream",
     "text": [
      "ramesh 20\n",
      "suresh 23\n",
      "satish 24\n"
     ]
    }
   ],
   "source": [
    "names=['ramesh','suresh','satish']\n",
    "age=[20,23,24]\n",
    "for i,j in zip(names,age):\n",
    "    print(i,j)"
   ]
  },
  {
   "cell_type": "code",
   "execution_count": 8,
   "id": "5acc99dd-c006-43b6-ae8d-18ab56086875",
   "metadata": {},
   "outputs": [
    {
     "data": {
      "text/plain": [
       "{'ramesh': 20, 'suresh': 23, 'satish': 24}"
      ]
     },
     "execution_count": 8,
     "metadata": {},
     "output_type": "execute_result"
    }
   ],
   "source": [
    "names=['ramesh','suresh','satish']\n",
    "age=[20,23,24]\n",
    "a=dict(zip(names,age))\n",
    "a"
   ]
  },
  {
   "cell_type": "code",
   "execution_count": 9,
   "id": "b2f56c6a-1181-417a-85c3-2a70f9ff2f43",
   "metadata": {},
   "outputs": [
    {
     "data": {
      "text/plain": [
       "[('ramesh', 20), ('suresh', 23), ('satish', 24)]"
      ]
     },
     "execution_count": 9,
     "metadata": {},
     "output_type": "execute_result"
    }
   ],
   "source": [
    "list(zip(names,age))"
   ]
  },
  {
   "cell_type": "markdown",
   "id": "7a41fc64-0985-42c7-a8bd-e1d6ac436483",
   "metadata": {},
   "source": [
    "**create all type of dictionaries**"
   ]
  },
  {
   "cell_type": "code",
   "execution_count": 11,
   "id": "32efa7b0-2544-4e83-b18f-26a1b541c40b",
   "metadata": {},
   "outputs": [
    {
     "data": {
      "text/plain": [
       "{'ramesh': 20, 'suresh': 23, 'satish': 24}"
      ]
     },
     "execution_count": 11,
     "metadata": {},
     "output_type": "execute_result"
    }
   ],
   "source": [
    "dict1={'ramesh':20,'suresh':23,'satish':24}\n",
    "dict1"
   ]
  },
  {
   "cell_type": "code",
   "execution_count": 12,
   "id": "35203093-8ce1-46e0-8b05-b3728712ddbb",
   "metadata": {},
   "outputs": [
    {
     "data": {
      "text/plain": [
       "dict"
      ]
     },
     "execution_count": 12,
     "metadata": {},
     "output_type": "execute_result"
    }
   ],
   "source": [
    "type(dict1)"
   ]
  },
  {
   "cell_type": "code",
   "execution_count": 13,
   "id": "4f402d25-6efc-45fd-be4c-e092fe4ed979",
   "metadata": {},
   "outputs": [],
   "source": [
    "#dict1{'key':'value'}"
   ]
  },
  {
   "cell_type": "code",
   "execution_count": 14,
   "id": "d4285fca-4fac-4a3b-baee-c887afa1f223",
   "metadata": {},
   "outputs": [
    {
     "data": {
      "text/plain": [
       "{20: 40, 30: 50, 60: 90}"
      ]
     },
     "execution_count": 14,
     "metadata": {},
     "output_type": "execute_result"
    }
   ],
   "source": [
    "dict2={20:40,30:50,60:90}\n",
    "dict2"
   ]
  },
  {
   "cell_type": "code",
   "execution_count": 20,
   "id": "37452919-711e-4634-8405-9130524c1060",
   "metadata": {},
   "outputs": [
    {
     "ename": "TypeError",
     "evalue": "unhashable type: 'list'",
     "output_type": "error",
     "traceback": [
      "\u001b[1;31m---------------------------------------------------------------------------\u001b[0m",
      "\u001b[1;31mTypeError\u001b[0m                                 Traceback (most recent call last)",
      "Cell \u001b[1;32mIn[20], line 3\u001b[0m\n\u001b[0;32m      1\u001b[0m names\u001b[38;5;241m=\u001b[39m[\u001b[38;5;124m'\u001b[39m\u001b[38;5;124mramesh\u001b[39m\u001b[38;5;124m'\u001b[39m,\u001b[38;5;124m'\u001b[39m\u001b[38;5;124msuresh\u001b[39m\u001b[38;5;124m'\u001b[39m,\u001b[38;5;124m'\u001b[39m\u001b[38;5;124msatish\u001b[39m\u001b[38;5;124m'\u001b[39m]\n\u001b[0;32m      2\u001b[0m age\u001b[38;5;241m=\u001b[39m[\u001b[38;5;241m20\u001b[39m,\u001b[38;5;241m23\u001b[39m,\u001b[38;5;241m24\u001b[39m]\n\u001b[1;32m----> 3\u001b[0m dict3\u001b[38;5;241m=\u001b[39m{names:age}\n\u001b[0;32m      4\u001b[0m dict3\n",
      "\u001b[1;31mTypeError\u001b[0m: unhashable type: 'list'"
     ]
    }
   ],
   "source": [
    "names=['ramesh','suresh','satish']\n",
    "age=[20,23,24]\n",
    "dict3={names:age}\n",
    "dict3"
   ]
  },
  {
   "cell_type": "code",
   "execution_count": 16,
   "id": "f260b73d-9232-4331-8fd2-0460278d28c3",
   "metadata": {},
   "outputs": [
    {
     "data": {
      "text/plain": [
       "{20: 'hai', 30: 40, 55: 'bye', 77: 45.6}"
      ]
     },
     "execution_count": 16,
     "metadata": {},
     "output_type": "execute_result"
    }
   ],
   "source": [
    "dict3={20:'hai',30:40,55:'bye',77:45.6}\n",
    "dict3"
   ]
  },
  {
   "cell_type": "code",
   "execution_count": 19,
   "id": "05e4e2bd-0415-4076-bd2e-cb478485a8a4",
   "metadata": {},
   "outputs": [
    {
     "data": {
      "text/plain": [
       "{(2, 5, 3, 8): ('hai', 'hlo', 'bye', 'bro')}"
      ]
     },
     "execution_count": 19,
     "metadata": {},
     "output_type": "execute_result"
    }
   ],
   "source": [
    "tu=(2,5,3,8)\n",
    "tu1=('hai','hlo','bye','bro')\n",
    "dict4={tu:tu1}\n",
    "dict4"
   ]
  },
  {
   "cell_type": "code",
   "execution_count": 21,
   "id": "418164c0-2c70-45ac-a51a-28a8ce6c17be",
   "metadata": {},
   "outputs": [
    {
     "ename": "TypeError",
     "evalue": "unhashable type: 'set'",
     "output_type": "error",
     "traceback": [
      "\u001b[1;31m---------------------------------------------------------------------------\u001b[0m",
      "\u001b[1;31mTypeError\u001b[0m                                 Traceback (most recent call last)",
      "Cell \u001b[1;32mIn[21], line 3\u001b[0m\n\u001b[0;32m      1\u001b[0m s\u001b[38;5;241m=\u001b[39m{\u001b[38;5;241m1\u001b[39m,\u001b[38;5;241m4\u001b[39m,\u001b[38;5;241m2\u001b[39m,\u001b[38;5;241m77\u001b[39m}\n\u001b[0;32m      2\u001b[0m s1\u001b[38;5;241m=\u001b[39m{\u001b[38;5;124m'\u001b[39m\u001b[38;5;124mhai\u001b[39m\u001b[38;5;124m'\u001b[39m,\u001b[38;5;124m'\u001b[39m\u001b[38;5;124mhlo\u001b[39m\u001b[38;5;124m'\u001b[39m,\u001b[38;5;124m'\u001b[39m\u001b[38;5;124mbye\u001b[39m\u001b[38;5;124m'\u001b[39m,\u001b[38;5;124m'\u001b[39m\u001b[38;5;124mbro\u001b[39m\u001b[38;5;124m'\u001b[39m}\n\u001b[1;32m----> 3\u001b[0m dict5\u001b[38;5;241m=\u001b[39m{s:s1}\n\u001b[0;32m      4\u001b[0m dict5\n",
      "\u001b[1;31mTypeError\u001b[0m: unhashable type: 'set'"
     ]
    }
   ],
   "source": [
    "s={1,4,2,77}\n",
    "s1={'hai','hlo','bye','bro'}\n",
    "dict5={s:s1}\n",
    "dict5"
   ]
  },
  {
   "cell_type": "code",
   "execution_count": 23,
   "id": "18b45437-540c-44db-9d12-f9a8a55eab49",
   "metadata": {},
   "outputs": [
    {
     "data": {
      "text/plain": [
       "{(2, 5, 3, 8): {1, 2, 4, 77}}"
      ]
     },
     "execution_count": 23,
     "metadata": {},
     "output_type": "execute_result"
    }
   ],
   "source": [
    "dict5={tu:s}\n",
    "dict5"
   ]
  },
  {
   "cell_type": "code",
   "execution_count": 24,
   "id": "e65febab-dc55-43a5-9456-883a83dae116",
   "metadata": {},
   "outputs": [
    {
     "data": {
      "text/plain": [
       "{(2, 5, 3, 8): ['ramesh', 'suresh', 'satish']}"
      ]
     },
     "execution_count": 24,
     "metadata": {},
     "output_type": "execute_result"
    }
   ],
   "source": [
    "dict6={tu:names}\n",
    "dict6"
   ]
  },
  {
   "cell_type": "code",
   "execution_count": 25,
   "id": "eba482cb-73c9-4b74-8f1d-3371388d8e64",
   "metadata": {},
   "outputs": [
    {
     "ename": "TypeError",
     "evalue": "unhashable type: 'set'",
     "output_type": "error",
     "traceback": [
      "\u001b[1;31m---------------------------------------------------------------------------\u001b[0m",
      "\u001b[1;31mTypeError\u001b[0m                                 Traceback (most recent call last)",
      "Cell \u001b[1;32mIn[25], line 1\u001b[0m\n\u001b[1;32m----> 1\u001b[0m dict6\u001b[38;5;241m=\u001b[39m{s:tu}\n\u001b[0;32m      2\u001b[0m dict6\n",
      "\u001b[1;31mTypeError\u001b[0m: unhashable type: 'set'"
     ]
    }
   ],
   "source": [
    "dict6={s:tu}\n",
    "dict6"
   ]
  },
  {
   "cell_type": "code",
   "execution_count": 26,
   "id": "6ab16297-68f0-4ada-9622-21686740151f",
   "metadata": {},
   "outputs": [
    {
     "ename": "TypeError",
     "evalue": "unhashable type: 'set'",
     "output_type": "error",
     "traceback": [
      "\u001b[1;31m---------------------------------------------------------------------------\u001b[0m",
      "\u001b[1;31mTypeError\u001b[0m                                 Traceback (most recent call last)",
      "Cell \u001b[1;32mIn[26], line 1\u001b[0m\n\u001b[1;32m----> 1\u001b[0m dict6\u001b[38;5;241m=\u001b[39m{s:names}\n\u001b[0;32m      2\u001b[0m dict6\n",
      "\u001b[1;31mTypeError\u001b[0m: unhashable type: 'set'"
     ]
    }
   ],
   "source": [
    "dict6={s:names}\n",
    "dict6"
   ]
  },
  {
   "cell_type": "code",
   "execution_count": 27,
   "id": "6abfaf14-bd77-4600-83db-2b057de86515",
   "metadata": {},
   "outputs": [
    {
     "ename": "TypeError",
     "evalue": "unhashable type: 'list'",
     "output_type": "error",
     "traceback": [
      "\u001b[1;31m---------------------------------------------------------------------------\u001b[0m",
      "\u001b[1;31mTypeError\u001b[0m                                 Traceback (most recent call last)",
      "Cell \u001b[1;32mIn[27], line 1\u001b[0m\n\u001b[1;32m----> 1\u001b[0m dict7\u001b[38;5;241m=\u001b[39m{names:tu}\n\u001b[0;32m      2\u001b[0m dict7\n",
      "\u001b[1;31mTypeError\u001b[0m: unhashable type: 'list'"
     ]
    }
   ],
   "source": [
    "dict7={names:tu}\n",
    "dict7"
   ]
  },
  {
   "cell_type": "code",
   "execution_count": 28,
   "id": "336a1669-0849-4581-a23a-1f9daf0daee5",
   "metadata": {},
   "outputs": [
    {
     "data": {
      "text/plain": [
       "{'fruites': ['apple', 'mango']}"
      ]
     },
     "execution_count": 28,
     "metadata": {},
     "output_type": "execute_result"
    }
   ],
   "source": [
    "d5={'fruites':['apple','mango']}\n",
    "d5"
   ]
  },
  {
   "cell_type": "code",
   "execution_count": 34,
   "id": "f785c5d6-5004-4e5f-b9a3-3f89c8031d08",
   "metadata": {},
   "outputs": [
    {
     "data": {
      "text/plain": [
       "{'ajay': 30}"
      ]
     },
     "execution_count": 34,
     "metadata": {},
     "output_type": "execute_result"
    }
   ],
   "source": [
    "d8={'ajay':25,'ajay':30}\n",
    "d8"
   ]
  },
  {
   "cell_type": "code",
   "execution_count": 30,
   "id": "500c4626-9a1a-4ec7-a856-802973953a8c",
   "metadata": {},
   "outputs": [
    {
     "data": {
      "text/plain": [
       "{25: 'ajay', 30: 'ajay'}"
      ]
     },
     "execution_count": 30,
     "metadata": {},
     "output_type": "execute_result"
    }
   ],
   "source": [
    "d9={25:'ajay',30:'ajay'}\n",
    "d9"
   ]
  },
  {
   "cell_type": "code",
   "execution_count": 35,
   "id": "fdd7ca87-a462-47d8-aa64-1d72ca4fd30f",
   "metadata": {},
   "outputs": [
    {
     "data": {
      "text/plain": [
       "{'fruits': {'mango': 33}}"
      ]
     },
     "execution_count": 35,
     "metadata": {},
     "output_type": "execute_result"
    }
   ],
   "source": [
    "di={'fruits':{'mango':33}}\n",
    "di"
   ]
  },
  {
   "cell_type": "code",
   "execution_count": 36,
   "id": "00cdbf29-5b74-4ca3-8ede-7494f5b7d909",
   "metadata": {},
   "outputs": [
    {
     "data": {
      "text/plain": [
       "dict_keys([25, 30])"
      ]
     },
     "execution_count": 36,
     "metadata": {},
     "output_type": "execute_result"
    }
   ],
   "source": [
    "d9.keys()"
   ]
  },
  {
   "cell_type": "code",
   "execution_count": 38,
   "id": "9ddb6b57-b395-4d5c-90e5-b3cc12890667",
   "metadata": {},
   "outputs": [
    {
     "data": {
      "text/plain": [
       "dict_values(['ajay', 'ajay'])"
      ]
     },
     "execution_count": 38,
     "metadata": {},
     "output_type": "execute_result"
    }
   ],
   "source": [
    "d9.values()"
   ]
  },
  {
   "cell_type": "markdown",
   "id": "11974d2e-52ef-4868-af72-19fd3ab19bdc",
   "metadata": {},
   "source": [
    "- **keys are important**\n",
    "- keys only have one latest value\n",
    "- no duplicate values\n",
    "- key should be only one\n",
    "- values can be duplicate\n",
    "- which means different keys can have same value\n",
    "- list can not be a key,because list are mutable\n",
    "- tuple can be a key,because tuple are immutable"
   ]
  },
  {
   "cell_type": "code",
   "execution_count": 41,
   "id": "37a89d06-9f6e-45a5-ac8b-aff3b44930e8",
   "metadata": {},
   "outputs": [
    {
     "data": {
      "text/plain": [
       "24"
      ]
     },
     "execution_count": 41,
     "metadata": {},
     "output_type": "execute_result"
    }
   ],
   "source": [
    "max(dict1.values())"
   ]
  },
  {
   "cell_type": "code",
   "execution_count": 42,
   "id": "715e9196-7dc6-4802-b24d-79f29be3f8e7",
   "metadata": {},
   "outputs": [
    {
     "data": {
      "text/plain": [
       "'suresh'"
      ]
     },
     "execution_count": 42,
     "metadata": {},
     "output_type": "execute_result"
    }
   ],
   "source": [
    "max(dict1)"
   ]
  },
  {
   "cell_type": "code",
   "execution_count": 43,
   "id": "f51d39a7-4dc0-431a-a169-cf9692ba4dbe",
   "metadata": {},
   "outputs": [
    {
     "data": {
      "text/plain": [
       "60"
      ]
     },
     "execution_count": 43,
     "metadata": {},
     "output_type": "execute_result"
    }
   ],
   "source": [
    "max(dict2)"
   ]
  },
  {
   "cell_type": "code",
   "execution_count": 44,
   "id": "ad39c1cd-25e2-47d0-b156-195b9e86220c",
   "metadata": {},
   "outputs": [
    {
     "data": {
      "text/plain": [
       "90"
      ]
     },
     "execution_count": 44,
     "metadata": {},
     "output_type": "execute_result"
    }
   ],
   "source": [
    "max(dict2.values())"
   ]
  },
  {
   "cell_type": "code",
   "execution_count": 45,
   "id": "853f9421-5c35-488b-b57e-1164451f9b11",
   "metadata": {},
   "outputs": [
    {
     "data": {
      "text/plain": [
       "77"
      ]
     },
     "execution_count": 45,
     "metadata": {},
     "output_type": "execute_result"
    }
   ],
   "source": [
    "max(dict3)"
   ]
  },
  {
   "cell_type": "code",
   "execution_count": 47,
   "id": "fe47cd40-9cae-4fe7-b1c1-4eb734240097",
   "metadata": {},
   "outputs": [
    {
     "data": {
      "text/plain": [
       "77"
      ]
     },
     "execution_count": 47,
     "metadata": {},
     "output_type": "execute_result"
    }
   ],
   "source": [
    "max(dict3)"
   ]
  },
  {
   "cell_type": "code",
   "execution_count": 49,
   "id": "8287f29f-fe07-4655-828f-b2c7e2d9d1b5",
   "metadata": {},
   "outputs": [
    {
     "data": {
      "text/plain": [
       "('hai', 'hlo', 'bye', 'bro')"
      ]
     },
     "execution_count": 49,
     "metadata": {},
     "output_type": "execute_result"
    }
   ],
   "source": [
    "max(dict4.values())"
   ]
  },
  {
   "cell_type": "markdown",
   "id": "5ddcd6e8-880f-4fff-a069-ba84c7d362b2",
   "metadata": {},
   "source": [
    "**operations apply on keys**\n",
    "- keys are important"
   ]
  },
  {
   "cell_type": "code",
   "execution_count": 52,
   "id": "a39c1817-e40d-487d-a892-8333499faed6",
   "metadata": {},
   "outputs": [
    {
     "data": {
      "text/plain": [
       "20"
      ]
     },
     "execution_count": 52,
     "metadata": {},
     "output_type": "execute_result"
    }
   ],
   "source": [
    "d5={20:'deva',20:'vasu',20:'suresh'}\n",
    "max(d5)"
   ]
  },
  {
   "cell_type": "code",
   "execution_count": 53,
   "id": "6abe5b09-81b9-412e-a0e6-001901748e95",
   "metadata": {},
   "outputs": [
    {
     "data": {
      "text/plain": [
       "'ramesh'"
      ]
     },
     "execution_count": 53,
     "metadata": {},
     "output_type": "execute_result"
    }
   ],
   "source": [
    "min(dict1)"
   ]
  },
  {
   "cell_type": "code",
   "execution_count": 54,
   "id": "b79802ca-17f2-403b-85df-02639f0cfa74",
   "metadata": {},
   "outputs": [
    {
     "data": {
      "text/plain": [
       "20"
      ]
     },
     "execution_count": 54,
     "metadata": {},
     "output_type": "execute_result"
    }
   ],
   "source": [
    "min(dict2)"
   ]
  },
  {
   "cell_type": "code",
   "execution_count": 55,
   "id": "3325a671-7c6b-43a3-9a2b-92e0af6f323f",
   "metadata": {},
   "outputs": [
    {
     "data": {
      "text/plain": [
       "40"
      ]
     },
     "execution_count": 55,
     "metadata": {},
     "output_type": "execute_result"
    }
   ],
   "source": [
    "min(dict2.values())"
   ]
  },
  {
   "cell_type": "code",
   "execution_count": 56,
   "id": "cc9852b6-b710-438d-894c-e325315e94d4",
   "metadata": {},
   "outputs": [
    {
     "data": {
      "text/plain": [
       "20"
      ]
     },
     "execution_count": 56,
     "metadata": {},
     "output_type": "execute_result"
    }
   ],
   "source": [
    "min(dict3)"
   ]
  },
  {
   "cell_type": "code",
   "execution_count": 57,
   "id": "01da2b6f-06be-4f3d-ab93-2e396788f7ed",
   "metadata": {},
   "outputs": [
    {
     "data": {
      "text/plain": [
       "(2, 5, 3, 8)"
      ]
     },
     "execution_count": 57,
     "metadata": {},
     "output_type": "execute_result"
    }
   ],
   "source": [
    "min(dict4)"
   ]
  },
  {
   "cell_type": "code",
   "execution_count": 58,
   "id": "390b7770-f2a7-4559-8b32-1ee79fb2c01a",
   "metadata": {},
   "outputs": [
    {
     "data": {
      "text/plain": [
       "(2, 5, 3, 8)"
      ]
     },
     "execution_count": 58,
     "metadata": {},
     "output_type": "execute_result"
    }
   ],
   "source": [
    "min(dict5)"
   ]
  },
  {
   "cell_type": "code",
   "execution_count": 59,
   "id": "25e4dfbc-f612-4239-9c77-0ad4b21d1605",
   "metadata": {},
   "outputs": [
    {
     "data": {
      "text/plain": [
       "(2, 5, 3, 8)"
      ]
     },
     "execution_count": 59,
     "metadata": {},
     "output_type": "execute_result"
    }
   ],
   "source": [
    "min(dict6)"
   ]
  },
  {
   "cell_type": "code",
   "execution_count": 62,
   "id": "b61d8074-8288-435a-b18e-222f8d0f2f3a",
   "metadata": {},
   "outputs": [
    {
     "data": {
      "text/plain": [
       "20"
      ]
     },
     "execution_count": 62,
     "metadata": {},
     "output_type": "execute_result"
    }
   ],
   "source": [
    "min(d5)"
   ]
  },
  {
   "cell_type": "code",
   "execution_count": 63,
   "id": "a25cb3c9-ac34-46e9-a34d-90f8c9494860",
   "metadata": {},
   "outputs": [
    {
     "data": {
      "text/plain": [
       "3"
      ]
     },
     "execution_count": 63,
     "metadata": {},
     "output_type": "execute_result"
    }
   ],
   "source": [
    "len(dict1)"
   ]
  },
  {
   "cell_type": "code",
   "execution_count": 64,
   "id": "4749677a-cace-4edf-a384-52d4a9b90410",
   "metadata": {},
   "outputs": [
    {
     "data": {
      "text/plain": [
       "3"
      ]
     },
     "execution_count": 64,
     "metadata": {},
     "output_type": "execute_result"
    }
   ],
   "source": [
    "len(dict2)"
   ]
  },
  {
   "cell_type": "code",
   "execution_count": 65,
   "id": "bd512f27-6ffc-41ac-9848-47dec7feeb22",
   "metadata": {},
   "outputs": [
    {
     "data": {
      "text/plain": [
       "4"
      ]
     },
     "execution_count": 65,
     "metadata": {},
     "output_type": "execute_result"
    }
   ],
   "source": [
    "len(dict3)"
   ]
  },
  {
   "cell_type": "code",
   "execution_count": 66,
   "id": "1c8f86ce-43ce-4724-8ff5-bc345f6f7d2a",
   "metadata": {},
   "outputs": [
    {
     "data": {
      "text/plain": [
       "1"
      ]
     },
     "execution_count": 66,
     "metadata": {},
     "output_type": "execute_result"
    }
   ],
   "source": [
    "len(dict4)"
   ]
  },
  {
   "cell_type": "code",
   "execution_count": 67,
   "id": "35d893ec-7169-4f9c-84aa-c0fae8fc9ff1",
   "metadata": {},
   "outputs": [
    {
     "data": {
      "text/plain": [
       "1"
      ]
     },
     "execution_count": 67,
     "metadata": {},
     "output_type": "execute_result"
    }
   ],
   "source": [
    "len(dict5)"
   ]
  },
  {
   "cell_type": "code",
   "execution_count": 68,
   "id": "8594c640-a06f-4fa6-b7d7-c0e420639681",
   "metadata": {},
   "outputs": [
    {
     "data": {
      "text/plain": [
       "1"
      ]
     },
     "execution_count": 68,
     "metadata": {},
     "output_type": "execute_result"
    }
   ],
   "source": [
    "len(dict6)"
   ]
  },
  {
   "cell_type": "code",
   "execution_count": 69,
   "id": "28cd4503-0739-48ba-9cc4-3f3ffc1befc9",
   "metadata": {},
   "outputs": [
    {
     "data": {
      "text/plain": [
       "1"
      ]
     },
     "execution_count": 69,
     "metadata": {},
     "output_type": "execute_result"
    }
   ],
   "source": [
    "len(d5)"
   ]
  },
  {
   "cell_type": "code",
   "execution_count": 82,
   "id": "12cedf84-7e46-4291-81a8-ea96fbb3a667",
   "metadata": {},
   "outputs": [
    {
     "name": "stdout",
     "output_type": "stream",
     "text": [
      "suresh\n",
      "deva\n",
      "ramesh\n",
      "murali\n"
     ]
    }
   ],
   "source": [
    "name1={'murali':20,'ramesh':22,'deva':33,'suresh':34}\n",
    "for i in reversed(name1):\n",
    "    print(i)"
   ]
  },
  {
   "cell_type": "code",
   "execution_count": 91,
   "id": "f1212f05-e38f-45ba-9761-066c845c17df",
   "metadata": {},
   "outputs": [
    {
     "name": "stdout",
     "output_type": "stream",
     "text": [
      "deva\n",
      "murali\n",
      "ramesh\n",
      "suresh\n"
     ]
    }
   ],
   "source": [
    "for i in sorted(name1):\n",
    "    print(i)"
   ]
  },
  {
   "cell_type": "code",
   "execution_count": 85,
   "id": "2581a2b1-25f8-481f-baba-cc5dd488d2ff",
   "metadata": {},
   "outputs": [
    {
     "data": {
      "text/plain": [
       "['suresh', 'deva', 'ramesh', 'murali']"
      ]
     },
     "execution_count": 85,
     "metadata": {},
     "output_type": "execute_result"
    }
   ],
   "source": [
    "list(reversed(name1))"
   ]
  },
  {
   "cell_type": "code",
   "execution_count": 86,
   "id": "f0dc379c-e883-4ce2-b615-9b1d90ee24d3",
   "metadata": {},
   "outputs": [
    {
     "data": {
      "text/plain": [
       "['deva', 'murali', 'ramesh', 'suresh']"
      ]
     },
     "execution_count": 86,
     "metadata": {},
     "output_type": "execute_result"
    }
   ],
   "source": [
    "list(sorted(name1))"
   ]
  },
  {
   "cell_type": "markdown",
   "id": "e6a651e9-f3dd-4752-81d8-069c590c3d2f",
   "metadata": {},
   "source": [
    "**reversed**\n",
    "- you might think dictionary will reverse\n",
    "- when you apply reversed ,then you go to know\n",
    "- only keys will reverse"
   ]
  },
  {
   "cell_type": "markdown",
   "id": "7e06aea4-c06d-450f-bea0-d6f1fc9193f5",
   "metadata": {},
   "source": [
    "- in "
   ]
  },
  {
   "cell_type": "code",
   "execution_count": 100,
   "id": "b7816596-2825-4ad6-8f0f-7f4973a6715f",
   "metadata": {},
   "outputs": [
    {
     "name": "stdout",
     "output_type": "stream",
     "text": [
      "ramesh 20\n",
      "suresh 23\n",
      "satish 24\n"
     ]
    }
   ],
   "source": [
    "for i in dict1:\n",
    "    print(i,dict1[i])"
   ]
  },
  {
   "cell_type": "code",
   "execution_count": 93,
   "id": "98b7575c-5d91-4547-b425-8db475497f85",
   "metadata": {},
   "outputs": [
    {
     "data": {
      "text/plain": [
       "True"
      ]
     },
     "execution_count": 93,
     "metadata": {},
     "output_type": "execute_result"
    }
   ],
   "source": [
    "20 in dict1.values()"
   ]
  },
  {
   "cell_type": "code",
   "execution_count": 94,
   "id": "37581817-4a1f-4e02-9ec9-fb2849f888fd",
   "metadata": {},
   "outputs": [
    {
     "data": {
      "text/plain": [
       "True"
      ]
     },
     "execution_count": 94,
     "metadata": {},
     "output_type": "execute_result"
    }
   ],
   "source": [
    "'ramesh' in dict1"
   ]
  },
  {
   "cell_type": "code",
   "execution_count": 95,
   "id": "3b49a452-8372-4794-b42b-16e9766b0395",
   "metadata": {},
   "outputs": [
    {
     "data": {
      "text/plain": [
       "False"
      ]
     },
     "execution_count": 95,
     "metadata": {},
     "output_type": "execute_result"
    }
   ],
   "source": [
    "20 in dict1"
   ]
  },
  {
   "cell_type": "code",
   "execution_count": 96,
   "id": "b0392008-bed2-4a7f-9b03-da0c7064153d",
   "metadata": {},
   "outputs": [],
   "source": [
    "# if you want retrive the values\n",
    "# pthon will never give ramesh:24\n"
   ]
  },
  {
   "cell_type": "code",
   "execution_count": 101,
   "id": "1e066606-a51b-4e39-b6c0-b9a7d49f18fa",
   "metadata": {},
   "outputs": [
    {
     "data": {
      "text/plain": [
       "20"
      ]
     },
     "execution_count": 101,
     "metadata": {},
     "output_type": "execute_result"
    }
   ],
   "source": [
    "dict1['ramesh']"
   ]
  },
  {
   "cell_type": "markdown",
   "id": "757266fc-9a90-4bef-a16b-77333e8fb6ce",
   "metadata": {},
   "source": [
    "- dictionary is a key : value pair\n",
    "- we can not use index number directly\n",
    "- when ever you want to call a value,we wiill use key"
   ]
  },
  {
   "cell_type": "code",
   "execution_count": 1,
   "id": "f195323d-dbf2-4e8b-9e4f-17f98f68bf8b",
   "metadata": {},
   "outputs": [
    {
     "name": "stdout",
     "output_type": "stream",
     "text": [
      "manish has age of 25\n",
      "shubam has age of 20\n",
      "govindh has age of 15\n"
     ]
    }
   ],
   "source": [
    "d1={'manish':25,'shubam':20,'govindh':15}\n",
    "for i in d1:\n",
    "    print(f\"{i} has age of {d1[i]}\")"
   ]
  },
  {
   "cell_type": "code",
   "execution_count": 3,
   "id": "d9280e6f-b184-4d55-bd5e-bf905692998b",
   "metadata": {},
   "outputs": [
    {
     "name": "stdout",
     "output_type": "stream",
     "text": [
      "vignesh has age of 50\n",
      "shubam has age of 23\n",
      "mahesh has age of 30\n"
     ]
    }
   ],
   "source": [
    "names=['vignesh','shubam','mahesh']\n",
    "age=[50,23,30]\n",
    "for i,j in zip(names,age):\n",
    "    print(f\"{i} has age of {j}\")"
   ]
  },
  {
   "cell_type": "markdown",
   "id": "8abc9330-d83b-4ded-963d-a5b91f6e15ba",
   "metadata": {},
   "source": [
    "**dictionary to list**"
   ]
  },
  {
   "cell_type": "code",
   "execution_count": 10,
   "id": "ac251b25-2192-4048-b487-07340a61ee1c",
   "metadata": {},
   "outputs": [
    {
     "data": {
      "text/plain": [
       "(dict_keys(['manish', 'shubam', 'govindh']), dict_values([25, 20, 15]))"
      ]
     },
     "execution_count": 10,
     "metadata": {},
     "output_type": "execute_result"
    }
   ],
   "source": [
    "l1,l2=d1.keys(),d1.values()\n",
    "l1,l2"
   ]
  },
  {
   "cell_type": "code",
   "execution_count": 11,
   "id": "905de5cb-7f49-4040-bee8-57f080065296",
   "metadata": {},
   "outputs": [
    {
     "name": "stdout",
     "output_type": "stream",
     "text": [
      "dict_keys(['manish', 'shubam', 'govindh'])\n"
     ]
    }
   ],
   "source": [
    "print(l1)"
   ]
  },
  {
   "cell_type": "code",
   "execution_count": 12,
   "id": "580cef74-28c3-4b2a-9d36-120cab499f0d",
   "metadata": {},
   "outputs": [
    {
     "data": {
      "text/plain": [
       "(['manish', 'shubam', 'govindh'], [25, 20, 15])"
      ]
     },
     "execution_count": 12,
     "metadata": {},
     "output_type": "execute_result"
    }
   ],
   "source": [
    "d1={'manish':25,'shubam':20,'govindh':15}\n",
    "l3,l4=[],[]\n",
    "for i in d1:\n",
    "    l3.append(i)\n",
    "    l4.append(d1[i])\n",
    "l3,l4"
   ]
  },
  {
   "cell_type": "code",
   "execution_count": 13,
   "id": "4e948945-833c-4a65-932a-628e5f5e04f7",
   "metadata": {},
   "outputs": [
    {
     "data": {
      "text/plain": [
       "(['manish', 'shubam', 'govindh'], [25, 20, 15])"
      ]
     },
     "execution_count": 13,
     "metadata": {},
     "output_type": "execute_result"
    }
   ],
   "source": [
    "ke=[i for i in d1]\n",
    "va=[d1[i] for i in d1]\n",
    "ke,va"
   ]
  },
  {
   "cell_type": "markdown",
   "id": "73d227c0-0e28-460f-a378-7f513913b916",
   "metadata": {},
   "source": [
    "- empty list"
   ]
  },
  {
   "cell_type": "code",
   "execution_count": 14,
   "id": "6d067ca8-c1fa-423e-9fde-d2855f2af1c5",
   "metadata": {},
   "outputs": [
    {
     "data": {
      "text/plain": [
       "[10]"
      ]
     },
     "execution_count": 14,
     "metadata": {},
     "output_type": "execute_result"
    }
   ],
   "source": [
    "l=[]\n",
    "l.append(10)\n",
    "l"
   ]
  },
  {
   "cell_type": "markdown",
   "id": "8f94d428-63f6-47d5-9ef8-7616dd8ced85",
   "metadata": {},
   "source": [
    "- empty string"
   ]
  },
  {
   "cell_type": "code",
   "execution_count": 15,
   "id": "c83f0cce-98fd-4983-a143-01388f7d1f96",
   "metadata": {},
   "outputs": [
    {
     "data": {
      "text/plain": [
       "'a'"
      ]
     },
     "execution_count": 15,
     "metadata": {},
     "output_type": "execute_result"
    }
   ],
   "source": [
    "s=''\n",
    "s=s+'a'\n",
    "s"
   ]
  },
  {
   "cell_type": "markdown",
   "id": "0e65d83d-22f3-473a-b057-c555ff969295",
   "metadata": {},
   "source": [
    "- empty dict"
   ]
  },
  {
   "cell_type": "code",
   "execution_count": 20,
   "id": "af32a6cf-991e-4ad2-91ad-20c177fb468f",
   "metadata": {},
   "outputs": [
    {
     "data": {
      "text/plain": [
       "{'vignesh': 44}"
      ]
     },
     "execution_count": 20,
     "metadata": {},
     "output_type": "execute_result"
    }
   ],
   "source": [
    "d2={}\n",
    "#d[<key>]=<value>\n",
    "d2['vignesh']=44\n",
    "d2"
   ]
  },
  {
   "cell_type": "code",
   "execution_count": 22,
   "id": "6f4684f6-2cda-44af-a94b-91e4d41614cb",
   "metadata": {},
   "outputs": [
    {
     "data": {
      "text/plain": [
       "{'vignesh': 50, 'shubam': 23, 'mahesh': 30}"
      ]
     },
     "execution_count": 22,
     "metadata": {},
     "output_type": "execute_result"
    }
   ],
   "source": [
    "names=['vignesh','shubam','mahesh']\n",
    "age=[50,23,30]\n",
    "d44={}\n",
    "for i in range(len(age)):\n",
    "    d44[names[i]]=age[i]\n",
    "d44\n",
    "    "
   ]
  },
  {
   "cell_type": "code",
   "execution_count": 23,
   "id": "b1e66e85-e80d-49aa-b20e-e5a090b6e0b8",
   "metadata": {},
   "outputs": [
    {
     "data": {
      "text/plain": [
       "{'vignesh': 50, 'shubam': 23, 'mahesh': 30}"
      ]
     },
     "execution_count": 23,
     "metadata": {},
     "output_type": "execute_result"
    }
   ],
   "source": [
    "d43={}\n",
    "for i,j in zip(names,age):\n",
    "    d43[i]=j\n",
    "d43"
   ]
  },
  {
   "cell_type": "markdown",
   "id": "61c82c90-5c3d-4c64-adc9-18549daa84cf",
   "metadata": {},
   "source": [
    "- string to list"
   ]
  },
  {
   "cell_type": "code",
   "execution_count": 27,
   "id": "cb7bc522-eb64-46d6-bd0e-493f8598bc40",
   "metadata": {},
   "outputs": [
    {
     "data": {
      "text/plain": [
       "['hello', 'hai', 'hai', 'how', 'how', 'are', 'you']"
      ]
     },
     "execution_count": 27,
     "metadata": {},
     "output_type": "execute_result"
    }
   ],
   "source": [
    "s='hello hai hai how how are you'\n",
    "l=s.split()\n",
    "l"
   ]
  },
  {
   "cell_type": "code",
   "execution_count": 2,
   "id": "9714f065-aed9-43d6-aff8-60a448c9c8a4",
   "metadata": {},
   "outputs": [
    {
     "data": {
      "text/plain": [
       "{'hello': 1, 'hai': 2, 'how': 2, 'are': 1, 'you': 1}"
      ]
     },
     "execution_count": 2,
     "metadata": {},
     "output_type": "execute_result"
    }
   ],
   "source": [
    "s='hello hai hai how how are you'\n",
    "l=s.split()\n",
    "l\n",
    "d11={}\n",
    "for i in l:\n",
    "    if i in d11.keys():\n",
    "        d11[i]=d11[i]+1\n",
    "    else:\n",
    "        d11[i]=1\n",
    "d11"
   ]
  },
  {
   "cell_type": "code",
   "execution_count": 3,
   "id": "c792c02f-d1f6-47bb-91ba-d2756abc025b",
   "metadata": {},
   "outputs": [
    {
     "data": {
      "text/plain": [
       "{'hello': 1, 'hai': 2, 'how': 2, 'are': 1, 'you': 1}"
      ]
     },
     "execution_count": 3,
     "metadata": {},
     "output_type": "execute_result"
    }
   ],
   "source": [
    "s='hello hai hai how how are you'\n",
    "w=s.split()\n",
    "d1={}\n",
    "for i in w:\n",
    "    d1[i]=s.count(i)\n",
    "d1"
   ]
  },
  {
   "cell_type": "code",
   "execution_count": 46,
   "id": "659c84d7-976f-48db-9883-d5cf5cd645f7",
   "metadata": {},
   "outputs": [
    {
     "data": {
      "text/plain": [
       "{'hai': 4}"
      ]
     },
     "execution_count": 46,
     "metadata": {},
     "output_type": "execute_result"
    }
   ],
   "source": []
  },
  {
   "cell_type": "code",
   "execution_count": 4,
   "id": "e3bf9e7b-88c3-4bb0-809a-d5f13718da69",
   "metadata": {},
   "outputs": [
    {
     "data": {
      "text/plain": [
       "115"
      ]
     },
     "execution_count": 4,
     "metadata": {},
     "output_type": "execute_result"
    }
   ],
   "source": [
    "ord('s')"
   ]
  },
  {
   "cell_type": "markdown",
   "id": "2d33bace-c412-481d-8b51-af90052aee4c",
   "metadata": {},
   "source": [
    "**mutable and immutable**\n",
    "- change the elements using index\n",
    "- but in dictionary there is no index\n",
    "- in dictionary we will change the value based on key only\n",
    "- instead of using the index ,change the values using key\n",
    "- if it is change it is mutable\n",
    "- if it is not change it is immutable"
   ]
  },
  {
   "cell_type": "code",
   "execution_count": 6,
   "id": "52ad9cd8-4f7a-4cbd-b170-a35345c4cd71",
   "metadata": {},
   "outputs": [
    {
     "data": {
      "text/plain": [
       "{'vignesh': 55, 'shubam': 23, 'mahesh': 30}"
      ]
     },
     "execution_count": 6,
     "metadata": {},
     "output_type": "execute_result"
    }
   ],
   "source": [
    "names=['vignesh','shubam','mahesh']\n",
    "age=[50,23,30]\n",
    "d44={}\n",
    "for i in range(len(age)):\n",
    "    d44[names[i]]=age[i]\n",
    "d44['vignesh']=55\n",
    "d44"
   ]
  },
  {
   "cell_type": "markdown",
   "id": "018de3d1-ebcc-4ddd-988c-5eaf727214ec",
   "metadata": {},
   "source": [
    "- list and dictionary are mutable\n",
    "- tuple and string are immutale\n",
    "- difference between list and tuple"
   ]
  },
  {
   "cell_type": "code",
   "execution_count": 9,
   "id": "012e3449-6b1d-4c07-94a3-697954b844f1",
   "metadata": {},
   "outputs": [
    {
     "data": {
      "text/plain": [
       "'mango'"
      ]
     },
     "execution_count": 9,
     "metadata": {},
     "output_type": "execute_result"
    }
   ],
   "source": [
    "d={'fruits':['mango']}\n",
    "d['fruits'][0]"
   ]
  },
  {
   "cell_type": "code",
   "execution_count": 15,
   "id": "618aa28d-63b7-4197-a0d5-7277d21651e0",
   "metadata": {},
   "outputs": [
    {
     "data": {
      "text/plain": [
       "'kashmir'"
      ]
     },
     "execution_count": 15,
     "metadata": {},
     "output_type": "execute_result"
    }
   ],
   "source": [
    "d={'fruits':[{'apple':['kashmir']}]}\n",
    "d['fruits'][0]['apple'][0]"
   ]
  },
  {
   "cell_type": "code",
   "execution_count": 24,
   "id": "293bff1a-deb7-4847-a8c6-2da6a35bc93f",
   "metadata": {},
   "outputs": [
    {
     "data": {
      "text/plain": [
       "'india'"
      ]
     },
     "execution_count": 24,
     "metadata": {},
     "output_type": "execute_result"
    }
   ],
   "source": [
    "d={'fruits':[{'apple':{'kashmir':['india']}}]}\n",
    "d['fruits'][0]['apple']['kashmir'][0]"
   ]
  },
  {
   "cell_type": "code",
   "execution_count": 33,
   "id": "2a75552b-1cd3-47b6-a324-636009ce2064",
   "metadata": {},
   "outputs": [
    {
     "data": {
      "text/plain": [
       "{'shambaji'}"
      ]
     },
     "execution_count": 33,
     "metadata": {},
     "output_type": "execute_result"
    }
   ],
   "source": [
    "d={'fruits':{'Benganapalli':{'mango':{'nagpur':{'MH':{'shivaji':{'shambaji'}}}}}}}\n",
    "d['fruits']['Benganapalli']['mango']['nagpur']['MH']['shivaji']"
   ]
  },
  {
   "cell_type": "markdown",
   "id": "e4fcef4c-cff6-402a-b1fb-81b32795ecc5",
   "metadata": {},
   "source": [
    "### dictionary methods"
   ]
  },
  {
   "cell_type": "markdown",
   "id": "3dca3982-6bbf-4566-854a-54b4de79dd56",
   "metadata": {},
   "source": [
    "- dir('')string methods\n",
    "- dir([]) list methods\n",
    "- dir(()) tuple methods\n",
    "- dir({}) dict methods"
   ]
  },
  {
   "cell_type": "code",
   "execution_count": 3,
   "id": "99072105-801d-4a32-8b2b-f711353e8642",
   "metadata": {},
   "outputs": [
    {
     "data": {
      "text/plain": [
       "['__class__',\n",
       " '__class_getitem__',\n",
       " '__contains__',\n",
       " '__delattr__',\n",
       " '__delitem__',\n",
       " '__dir__',\n",
       " '__doc__',\n",
       " '__eq__',\n",
       " '__format__',\n",
       " '__ge__',\n",
       " '__getattribute__',\n",
       " '__getitem__',\n",
       " '__getstate__',\n",
       " '__gt__',\n",
       " '__hash__',\n",
       " '__init__',\n",
       " '__init_subclass__',\n",
       " '__ior__',\n",
       " '__iter__',\n",
       " '__le__',\n",
       " '__len__',\n",
       " '__lt__',\n",
       " '__ne__',\n",
       " '__new__',\n",
       " '__or__',\n",
       " '__reduce__',\n",
       " '__reduce_ex__',\n",
       " '__repr__',\n",
       " '__reversed__',\n",
       " '__ror__',\n",
       " '__setattr__',\n",
       " '__setitem__',\n",
       " '__sizeof__',\n",
       " '__str__',\n",
       " '__subclasshook__',\n",
       " 'clear',\n",
       " 'copy',\n",
       " 'fromkeys',\n",
       " 'get',\n",
       " 'items',\n",
       " 'keys',\n",
       " 'pop',\n",
       " 'popitem',\n",
       " 'setdefault',\n",
       " 'update',\n",
       " 'values']"
      ]
     },
     "execution_count": 3,
     "metadata": {},
     "output_type": "execute_result"
    }
   ],
   "source": [
    "dir({})"
   ]
  },
  {
   "cell_type": "markdown",
   "id": "d6ca3051-8adf-41a8-bf30-bf3dc2aca858",
   "metadata": {},
   "source": [
    "**items-keys-values**"
   ]
  },
  {
   "cell_type": "markdown",
   "id": "7938f9be-5625-4207-8a74-22d3d1ab530a",
   "metadata": {},
   "source": [
    "### method 2"
   ]
  },
  {
   "cell_type": "code",
   "execution_count": 4,
   "id": "aff38e23-3b11-4286-bab1-6eea13012ddd",
   "metadata": {},
   "outputs": [
    {
     "data": {
      "text/plain": [
       "{'murali': 20, 'ramesh': 22, 'deva': 33, 'suresh': 34}"
      ]
     },
     "execution_count": 4,
     "metadata": {},
     "output_type": "execute_result"
    }
   ],
   "source": [
    "name1={'murali':20,'ramesh':22,'deva':33,'suresh':34}\n",
    "name1"
   ]
  },
  {
   "cell_type": "code",
   "execution_count": 5,
   "id": "c11f640b-3b73-4cc3-9427-336cd0fa7fc1",
   "metadata": {},
   "outputs": [
    {
     "data": {
      "text/plain": [
       "dict_items([('murali', 20), ('ramesh', 22), ('deva', 33), ('suresh', 34)])"
      ]
     },
     "execution_count": 5,
     "metadata": {},
     "output_type": "execute_result"
    }
   ],
   "source": [
    "name1.items()"
   ]
  },
  {
   "cell_type": "code",
   "execution_count": 6,
   "id": "d75838ae-35c0-4754-ae49-cd131a0a75dd",
   "metadata": {},
   "outputs": [
    {
     "data": {
      "text/plain": [
       "dict_keys(['murali', 'ramesh', 'deva', 'suresh'])"
      ]
     },
     "execution_count": 6,
     "metadata": {},
     "output_type": "execute_result"
    }
   ],
   "source": [
    "name1.keys()"
   ]
  },
  {
   "cell_type": "code",
   "execution_count": 7,
   "id": "c43fc952-694d-45e3-a7f0-b71e779dc438",
   "metadata": {},
   "outputs": [
    {
     "data": {
      "text/plain": [
       "dict_values([20, 22, 33, 34])"
      ]
     },
     "execution_count": 7,
     "metadata": {},
     "output_type": "execute_result"
    }
   ],
   "source": [
    "name1.values()"
   ]
  },
  {
   "cell_type": "code",
   "execution_count": 12,
   "id": "2565cf64-ab67-4bc4-b7a0-98858819fd18",
   "metadata": {},
   "outputs": [],
   "source": [
    "k=name1.keys()"
   ]
  },
  {
   "cell_type": "code",
   "execution_count": 13,
   "id": "cbaef903-0abf-4fae-87b9-67921972772e",
   "metadata": {},
   "outputs": [
    {
     "ename": "AttributeError",
     "evalue": "'dict_keys' object has no attribute 'append'",
     "output_type": "error",
     "traceback": [
      "\u001b[1;31m---------------------------------------------------------------------------\u001b[0m",
      "\u001b[1;31mAttributeError\u001b[0m                            Traceback (most recent call last)",
      "Cell \u001b[1;32mIn[13], line 1\u001b[0m\n\u001b[1;32m----> 1\u001b[0m k\u001b[38;5;241m.\u001b[39mappend(\u001b[38;5;241m10\u001b[39m)\n",
      "\u001b[1;31mAttributeError\u001b[0m: 'dict_keys' object has no attribute 'append'"
     ]
    }
   ],
   "source": [
    "k.append(10)"
   ]
  },
  {
   "cell_type": "code",
   "execution_count": 14,
   "id": "51984084-e235-4636-9886-9f026919f7c0",
   "metadata": {},
   "outputs": [
    {
     "data": {
      "text/plain": [
       "dict_keys"
      ]
     },
     "execution_count": 14,
     "metadata": {},
     "output_type": "execute_result"
    }
   ],
   "source": [
    "type(k)"
   ]
  },
  {
   "cell_type": "code",
   "execution_count": 15,
   "id": "ea478e15-401c-4313-9488-140bc46c7bee",
   "metadata": {},
   "outputs": [],
   "source": [
    "v=name1.values()"
   ]
  },
  {
   "cell_type": "code",
   "execution_count": 16,
   "id": "e54c51bd-60f8-48eb-81e6-2f93612e8a67",
   "metadata": {},
   "outputs": [
    {
     "data": {
      "text/plain": [
       "dict_values([20, 22, 33, 34])"
      ]
     },
     "execution_count": 16,
     "metadata": {},
     "output_type": "execute_result"
    }
   ],
   "source": [
    "v"
   ]
  },
  {
   "cell_type": "code",
   "execution_count": 17,
   "id": "2a910f08-5a3c-46d7-b320-7e6f742019d3",
   "metadata": {},
   "outputs": [
    {
     "ename": "AttributeError",
     "evalue": "'dict_values' object has no attribute 'append'",
     "output_type": "error",
     "traceback": [
      "\u001b[1;31m---------------------------------------------------------------------------\u001b[0m",
      "\u001b[1;31mAttributeError\u001b[0m                            Traceback (most recent call last)",
      "Cell \u001b[1;32mIn[17], line 1\u001b[0m\n\u001b[1;32m----> 1\u001b[0m v\u001b[38;5;241m.\u001b[39mappend(\u001b[38;5;241m10\u001b[39m)\n",
      "\u001b[1;31mAttributeError\u001b[0m: 'dict_values' object has no attribute 'append'"
     ]
    }
   ],
   "source": [
    "v.append(10)"
   ]
  },
  {
   "cell_type": "code",
   "execution_count": 18,
   "id": "b3dfe47b-677a-4b26-be3c-ae0b54e55b54",
   "metadata": {},
   "outputs": [
    {
     "data": {
      "text/plain": [
       "dict_values"
      ]
     },
     "execution_count": 18,
     "metadata": {},
     "output_type": "execute_result"
    }
   ],
   "source": [
    "type(v)"
   ]
  },
  {
   "cell_type": "markdown",
   "id": "446b3a0e-de76-4c22-a09e-0cc2ef7c9a5a",
   "metadata": {},
   "source": [
    "- dictionary keys will give dictionary keys items in a list\n",
    "- it looks like a list,but it is not a list\n",
    "- which means we can not apply list methods\n",
    "- so we need to convert into list type,by using list type casting"
   ]
  },
  {
   "cell_type": "code",
   "execution_count": 26,
   "id": "f21d2d18-2e0d-4c77-98ba-1264caf87d1b",
   "metadata": {},
   "outputs": [],
   "source": [
    "name1.update()"
   ]
  },
  {
   "cell_type": "code",
   "execution_count": 24,
   "id": "3a3c7789-0303-4dad-aac5-1ee1f5c8656e",
   "metadata": {},
   "outputs": [
    {
     "data": {
      "text/plain": [
       "{'murali': 20, 'ramesh': 22, 'deva': 33, 'suresh': 34}"
      ]
     },
     "execution_count": 24,
     "metadata": {},
     "output_type": "execute_result"
    }
   ],
   "source": [
    "name1"
   ]
  },
  {
   "cell_type": "code",
   "execution_count": 27,
   "id": "6e69b16e-4131-4f8b-91f8-0dbe0a29190d",
   "metadata": {},
   "outputs": [
    {
     "data": {
      "text/plain": [
       "list[dict_keys(['murali', 'ramesh', 'deva', 'suresh'])]"
      ]
     },
     "execution_count": 27,
     "metadata": {},
     "output_type": "execute_result"
    }
   ],
   "source": [
    "list[name1.keys()]"
   ]
  },
  {
   "cell_type": "code",
   "execution_count": 28,
   "id": "23ab630e-108b-4ea0-a142-c08ed243a8f8",
   "metadata": {},
   "outputs": [
    {
     "data": {
      "text/plain": [
       "['murali', 'ramesh', 'deva', 'suresh']"
      ]
     },
     "execution_count": 28,
     "metadata": {},
     "output_type": "execute_result"
    }
   ],
   "source": [
    "list(name1.keys())"
   ]
  },
  {
   "cell_type": "code",
   "execution_count": 30,
   "id": "71b8a0cb-5f0a-4b1b-b5fb-fc3c3bdabfdf",
   "metadata": {},
   "outputs": [
    {
     "data": {
      "text/plain": [
       "types.GenericAlias"
      ]
     },
     "execution_count": 30,
     "metadata": {},
     "output_type": "execute_result"
    }
   ],
   "source": [
    "type(list[name1.keys()])"
   ]
  },
  {
   "cell_type": "code",
   "execution_count": 32,
   "id": "0ecb000c-1765-4645-ae4d-a4998c2e9495",
   "metadata": {},
   "outputs": [
    {
     "data": {
      "text/plain": [
       "dict_items([('murali', 20), ('ramesh', 22), ('deva', 33), ('suresh', 34)])"
      ]
     },
     "execution_count": 32,
     "metadata": {},
     "output_type": "execute_result"
    }
   ],
   "source": [
    "name1.items()"
   ]
  },
  {
   "cell_type": "markdown",
   "id": "b706455e-7817-4100-8283-198ba8395216",
   "metadata": {},
   "source": [
    "### method 3"
   ]
  },
  {
   "cell_type": "code",
   "execution_count": 33,
   "id": "3e8eba23-14c8-4b98-92f0-ddfc955541de",
   "metadata": {},
   "outputs": [
    {
     "name": "stdout",
     "output_type": "stream",
     "text": [
      "('murali', 20)\n",
      "('ramesh', 22)\n",
      "('deva', 33)\n",
      "('suresh', 34)\n"
     ]
    }
   ],
   "source": [
    "for i in name1.items():\n",
    "    print(i)"
   ]
  },
  {
   "cell_type": "code",
   "execution_count": 37,
   "id": "5bb5e676-678c-4bd3-9fde-22c33d5cb524",
   "metadata": {},
   "outputs": [
    {
     "data": {
      "text/plain": [
       "(['murali', 'ramesh', 'deva', 'suresh'], [20, 22, 33, 34])"
      ]
     },
     "execution_count": 37,
     "metadata": {},
     "output_type": "execute_result"
    }
   ],
   "source": [
    "k,v=[],[]\n",
    "for i,j in name1.items():\n",
    "    k.append(i)\n",
    "    v.append(j)\n",
    "k,v"
   ]
  },
  {
   "cell_type": "code",
   "execution_count": 1,
   "id": "fdb0b8ca-0504-4622-8cc0-3d1e6215ff6e",
   "metadata": {},
   "outputs": [
    {
     "data": {
      "text/plain": [
       "{'murali': 20, 'ramesh': 22, 'deva': 33, 'suresh': 34}"
      ]
     },
     "execution_count": 1,
     "metadata": {},
     "output_type": "execute_result"
    }
   ],
   "source": [
    "d={'murali':20,'ramesh':22,'deva':33,'suresh':34}\n",
    "d"
   ]
  },
  {
   "cell_type": "code",
   "execution_count": 2,
   "id": "4be384e4-d3aa-49d5-9ec4-8ce6ca4a4ce9",
   "metadata": {},
   "outputs": [],
   "source": [
    "d.clear()"
   ]
  },
  {
   "cell_type": "code",
   "execution_count": 3,
   "id": "3c596ce1-97c3-4b29-bdee-e3ba11fa83b5",
   "metadata": {},
   "outputs": [
    {
     "data": {
      "text/plain": [
       "{}"
      ]
     },
     "execution_count": 3,
     "metadata": {},
     "output_type": "execute_result"
    }
   ],
   "source": [
    "d"
   ]
  },
  {
   "cell_type": "code",
   "execution_count": 4,
   "id": "ec440ad0-02f8-4859-97a9-2f55ba72c767",
   "metadata": {},
   "outputs": [
    {
     "data": {
      "text/plain": [
       "{'murali': 20, 'ramesh': 22, 'deva': 33, 'suresh': 34}"
      ]
     },
     "execution_count": 4,
     "metadata": {},
     "output_type": "execute_result"
    }
   ],
   "source": [
    "d={'murali':20,'ramesh':22,'deva':33,'suresh':34}\n",
    "d"
   ]
  },
  {
   "cell_type": "code",
   "execution_count": 5,
   "id": "492e7445-f19e-4a55-9df8-e1ba7afdadb0",
   "metadata": {},
   "outputs": [
    {
     "data": {
      "text/plain": [
       "{'murali': 20, 'ramesh': 22, 'deva': 33, 'suresh': 34}"
      ]
     },
     "execution_count": 5,
     "metadata": {},
     "output_type": "execute_result"
    }
   ],
   "source": [
    "d1=d.copy()\n",
    "d1"
   ]
  },
  {
   "cell_type": "code",
   "execution_count": 33,
   "id": "23444852-272e-4a60-9ea4-63930593d1f5",
   "metadata": {},
   "outputs": [],
   "source": [
    "d1=d1.fromkeys(l,2)"
   ]
  },
  {
   "cell_type": "code",
   "execution_count": 10,
   "id": "41e34a3c-2aff-4a85-9c91-6a194c3c7122",
   "metadata": {},
   "outputs": [],
   "source": [
    "l=('a','b','c','d')"
   ]
  },
  {
   "cell_type": "code",
   "execution_count": 20,
   "id": "b4710040-046f-42e8-8539-69097f958d39",
   "metadata": {},
   "outputs": [
    {
     "data": {
      "text/plain": [
       "2"
      ]
     },
     "execution_count": 20,
     "metadata": {},
     "output_type": "execute_result"
    }
   ],
   "source": [
    "b=d1.get('a')\n",
    "b"
   ]
  },
  {
   "cell_type": "code",
   "execution_count": 21,
   "id": "f0c03b4c-edb4-4608-9f19-e6441905f939",
   "metadata": {},
   "outputs": [
    {
     "data": {
      "text/plain": [
       "dict_items([('a', 2), ('b', 2), ('c', 2), ('d', 2)])"
      ]
     },
     "execution_count": 21,
     "metadata": {},
     "output_type": "execute_result"
    }
   ],
   "source": [
    "d1.items()"
   ]
  },
  {
   "cell_type": "code",
   "execution_count": 22,
   "id": "e64b4255-912b-4b81-bda9-d0fd5ac2a3b8",
   "metadata": {},
   "outputs": [
    {
     "data": {
      "text/plain": [
       "dict_keys(['a', 'b', 'c', 'd'])"
      ]
     },
     "execution_count": 22,
     "metadata": {},
     "output_type": "execute_result"
    }
   ],
   "source": [
    "d1.keys()"
   ]
  },
  {
   "cell_type": "code",
   "execution_count": 31,
   "id": "3937f39d-15d4-402c-8c0c-6e4a08d80147",
   "metadata": {},
   "outputs": [
    {
     "data": {
      "text/plain": [
       "2"
      ]
     },
     "execution_count": 31,
     "metadata": {},
     "output_type": "execute_result"
    }
   ],
   "source": [
    "d1.pop('a')"
   ]
  },
  {
   "cell_type": "code",
   "execution_count": 34,
   "id": "e477bcf9-5839-4278-ad4c-ef90e95f3198",
   "metadata": {},
   "outputs": [
    {
     "data": {
      "text/plain": [
       "{'a': 2, 'b': 2, 'c': 2, 'd': 2}"
      ]
     },
     "execution_count": 34,
     "metadata": {},
     "output_type": "execute_result"
    }
   ],
   "source": [
    "d1"
   ]
  },
  {
   "cell_type": "code",
   "execution_count": 36,
   "id": "046c6e94-297a-4062-9e23-e2a84dd4ce93",
   "metadata": {},
   "outputs": [
    {
     "data": {
      "text/plain": [
       "('d', 2)"
      ]
     },
     "execution_count": 36,
     "metadata": {},
     "output_type": "execute_result"
    }
   ],
   "source": [
    "d1.popitem()"
   ]
  },
  {
   "cell_type": "code",
   "execution_count": 37,
   "id": "e40c6c61-35f1-4d6c-976c-8bc31b3313be",
   "metadata": {},
   "outputs": [
    {
     "data": {
      "text/plain": [
       "{'a': 2, 'b': 2, 'c': 2}"
      ]
     },
     "execution_count": 37,
     "metadata": {},
     "output_type": "execute_result"
    }
   ],
   "source": [
    "d1"
   ]
  },
  {
   "cell_type": "code",
   "execution_count": 52,
   "id": "1b2e49df-2a64-41a4-85ee-d0c2896f6389",
   "metadata": {},
   "outputs": [
    {
     "data": {
      "text/plain": [
       "22"
      ]
     },
     "execution_count": 52,
     "metadata": {},
     "output_type": "execute_result"
    }
   ],
   "source": [
    "d.setdefault('b',32)"
   ]
  },
  {
   "cell_type": "code",
   "execution_count": 53,
   "id": "e357b130-130d-484c-bc11-99d10b04e71c",
   "metadata": {},
   "outputs": [
    {
     "data": {
      "text/plain": [
       "{'murali': 20,\n",
       " 'ramesh': 22,\n",
       " 'deva': 33,\n",
       " 'suresh': 34,\n",
       " 'a': None,\n",
       " 'b': 22,\n",
       " 'c': 22}"
      ]
     },
     "execution_count": 53,
     "metadata": {},
     "output_type": "execute_result"
    }
   ],
   "source": [
    "d"
   ]
  },
  {
   "cell_type": "code",
   "execution_count": 54,
   "id": "7346f519-fcb1-4da2-8e29-baeb151af09b",
   "metadata": {},
   "outputs": [
    {
     "data": {
      "text/plain": [
       "dict_values([20, 22, 33, 34, None, 22, 22])"
      ]
     },
     "execution_count": 54,
     "metadata": {},
     "output_type": "execute_result"
    }
   ],
   "source": [
    "d.values()"
   ]
  },
  {
   "cell_type": "code",
   "execution_count": 45,
   "id": "924869a3-6f41-4569-9432-b5b10106dd73",
   "metadata": {},
   "outputs": [
    {
     "ename": "TypeError",
     "evalue": "update expected at most 1 argument, got 2",
     "output_type": "error",
     "traceback": [
      "\u001b[1;31m---------------------------------------------------------------------------\u001b[0m",
      "\u001b[1;31mTypeError\u001b[0m                                 Traceback (most recent call last)",
      "Cell \u001b[1;32mIn[45], line 1\u001b[0m\n\u001b[1;32m----> 1\u001b[0m d\u001b[38;5;241m.\u001b[39mupdate(\u001b[38;5;124m'\u001b[39m\u001b[38;5;124ma\u001b[39m\u001b[38;5;124m'\u001b[39m,\u001b[38;5;241m22\u001b[39m)\n",
      "\u001b[1;31mTypeError\u001b[0m: update expected at most 1 argument, got 2"
     ]
    }
   ],
   "source": [
    "d.update('a',22)"
   ]
  },
  {
   "cell_type": "code",
   "execution_count": 47,
   "id": "466de51b-ea74-43ec-9d8b-97bcb380593f",
   "metadata": {},
   "outputs": [],
   "source": [
    "d.update({'c':22})"
   ]
  },
  {
   "cell_type": "code",
   "execution_count": 48,
   "id": "937f0205-968c-4581-a010-47ce0421878d",
   "metadata": {},
   "outputs": [
    {
     "data": {
      "text/plain": [
       "{'murali': 20,\n",
       " 'ramesh': 22,\n",
       " 'deva': 33,\n",
       " 'suresh': 34,\n",
       " 'a': None,\n",
       " 'b': 22,\n",
       " 'c': 22}"
      ]
     },
     "execution_count": 48,
     "metadata": {},
     "output_type": "execute_result"
    }
   ],
   "source": [
    "d"
   ]
  },
  {
   "cell_type": "code",
   "execution_count": 51,
   "id": "e2f40cde-fc33-4dc8-a394-54adb8313745",
   "metadata": {},
   "outputs": [
    {
     "data": {
      "text/plain": [
       "{'murali': 20,\n",
       " 'ramesh': 22,\n",
       " 'deva': 33,\n",
       " 'suresh': 34,\n",
       " 'a': None,\n",
       " 'b': 22,\n",
       " 'c': 22}"
      ]
     },
     "execution_count": 51,
     "metadata": {},
     "output_type": "execute_result"
    }
   ],
   "source": [
    "d"
   ]
  },
  {
   "cell_type": "code",
   "execution_count": null,
   "id": "21f5580b-7eb2-4f40-81b2-ee47a26b8dfc",
   "metadata": {},
   "outputs": [],
   "source": []
  }
 ],
 "metadata": {
  "kernelspec": {
   "display_name": "Python 3 (ipykernel)",
   "language": "python",
   "name": "python3"
  },
  "language_info": {
   "codemirror_mode": {
    "name": "ipython",
    "version": 3
   },
   "file_extension": ".py",
   "mimetype": "text/x-python",
   "name": "python",
   "nbconvert_exporter": "python",
   "pygments_lexer": "ipython3",
   "version": "3.11.7"
  }
 },
 "nbformat": 4,
 "nbformat_minor": 5
}
