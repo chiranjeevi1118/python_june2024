{
 "cells": [
  {
   "cell_type": "code",
   "execution_count": 1,
   "id": "4db57534-3291-458b-82ec-0e530660aec3",
   "metadata": {},
   "outputs": [
    {
     "data": {
      "text/plain": [
       "30"
      ]
     },
     "execution_count": 1,
     "metadata": {},
     "output_type": "execute_result"
    }
   ],
   "source": [
    "a=10\n",
    "b=20\n",
    "c=a+b\n",
    "c"
   ]
  },
  {
   "cell_type": "markdown",
   "id": "3cd0e9a1-cabb-4574-85fc-0f7a92c18e55",
   "metadata": {},
   "source": [
    "## we learn from this course \n",
    "### naresh it\n",
    "- data analysis\n",
    "- machine learning applications\n",
    "- deep learning applications\n",
    "- nlp applications\n",
    "- generative ai applications\n",
    "- visualizations\n",
    "- statistics\n",
    "- maths\n",
    "- time series applications\n",
    "- llm\n",
    "- python\n",
    "- sql\n",
    "- power bi\n",
    "### from omakr sir\n",
    "- cloud applications (azure ml)\n",
    "- flask\n",
    "- postman\n",
    "- pyspark\n",
    "- streamlit apps\n",
    "- data bricks\n",
    "- docker\n",
    "- github\n",
    "- langchain\n",
    "- deployment\n",
    "- mlflow\n",
    "- mlops\n",
    "- azure ai services\n",
    "- bert"
   ]
  },
  {
   "cell_type": "markdown",
   "id": "3704f9c7-499c-49f2-bc37-32426da8832a",
   "metadata": {},
   "source": [
    "# platforms for python\n",
    "- anaconda jupyter notebook\n",
    "- google colab\n",
    "- vs code\n",
    "- pycharm\n",
    "- data bricks\n",
    "- azure workbench\n",
    "- google workbench\n",
    "- notepad++"
   ]
  },
  {
   "cell_type": "markdown",
   "id": "21a5f5eb-54fa-49d0-93a2-cf9c47b82085",
   "metadata": {},
   "source": [
    "- today i learned about how to open jupyter note book\n",
    "- i created a folder for python\n",
    "- i understand kernel if white ready to work,if black it is in work\n",
    "- python kernel will run step by step\n",
    "- when kernel is busy it will not run any other code cell\n",
    "- when kernel get strucked go to kernel drop down will come select (restart kernel and clear all outputs) or u can select pause button after to the run button\n",
    "- to run the code cell(shift + enter)\n",
    "- i also learn how to write story in jupyter notebook this is markdown\n",
    "- code mode to markdown mode (esc+m)\n",
    "- markdown mode to code mode (esc+y)\n",
    "- the file extension for this is .ipynb it means interactive python note book\n",
    "- # to get the images in jupyter note book\n",
    "- go to web browser select image and inspect it u will see an img id there right click and select edit as html then,\n",
    "- ctrl+a,ctrl+c then come to jupyter note book ctrl+v and change to markdown mode(esc+m) then run  (shift +enter)"
   ]
  },
  {
   "cell_type": "code",
   "execution_count": 10,
   "id": "fdbb2f6a-2c81-4add-8c31-465c3b8a60d9",
   "metadata": {},
   "outputs": [
    {
     "data": {
      "text/plain": [
       "30"
      ]
     },
     "execution_count": 10,
     "metadata": {},
     "output_type": "execute_result"
    }
   ],
   "source": [
    "a=10\n",
    "b=20\n",
    "c=a+b\n",
    "c"
   ]
  },
  {
   "cell_type": "code",
   "execution_count": 3,
   "id": "0805ec52-9bea-4610-baa5-a8719aeeffce",
   "metadata": {},
   "outputs": [
    {
     "data": {
      "text/plain": [
       "30"
      ]
     },
     "execution_count": 3,
     "metadata": {},
     "output_type": "execute_result"
    }
   ],
   "source": [
    "c=30\n",
    "c"
   ]
  },
  {
   "cell_type": "markdown",
   "id": "b381edda-896e-4a4a-9ac5-794e1225ba50",
   "metadata": {},
   "source": [
    "<img id=\"dimg_413\" src=\"data:image/jpeg;base64,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\" class=\"YQ4gaf\" height=\"163\" style=\"object-position:47% 55%\" width=\"310\" alt=\"Download free nature stock images ...\" data-csiid=\"26\" data-atf=\"1\">"
   ]
  },
  {
   "cell_type": "markdown",
   "id": "758370d1-6d8e-4506-bc5d-f275c5d0a929",
   "metadata": {},
   "source": [
    "# python\n",
    "## python\n",
    "### python"
   ]
  },
  {
   "cell_type": "code",
   "execution_count": 12,
   "id": "bde14784-d3df-40bb-8bf0-8c63c575c731",
   "metadata": {},
   "outputs": [
    {
     "name": "stdout",
     "output_type": "stream",
     "text": [
      "0\n"
     ]
    }
   ],
   "source": [
    "#when you run this code you just see a black mark at right top of the kernel some black dot at one second due to its execution takes time to see that keep ther 10000 inplace of 1\n",
    "for i in range(1):\n",
    "    print(i)"
   ]
  },
  {
   "cell_type": "markdown",
   "id": "0de6ecb5-822e-4eb0-ab3f-293cf481f7c3",
   "metadata": {},
   "source": [
    "<img id=\"dimg_349\" src=\"data:image/jpeg;base64,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\" class=\"YQ4gaf\" height=\"183\" style=\"object-position:center\" width=\"275\" alt=\"Nature Images – Browse 126,463,422 ...\" data-csiid=\"54\" data-atf=\"4\">"
   ]
  },
  {
   "cell_type": "code",
   "execution_count": null,
   "id": "5793385c-2c26-431b-85d7-81dcd06febcd",
   "metadata": {},
   "outputs": [],
   "source": []
  }
 ],
 "metadata": {
  "kernelspec": {
   "display_name": "Python 3 (ipykernel)",
   "language": "python",
   "name": "python3"
  },
  "language_info": {
   "codemirror_mode": {
    "name": "ipython",
    "version": 3
   },
   "file_extension": ".py",
   "mimetype": "text/x-python",
   "name": "python",
   "nbconvert_exporter": "python",
   "pygments_lexer": "ipython3",
   "version": "3.11.7"
  }
 },
 "nbformat": 4,
 "nbformat_minor": 5
}
