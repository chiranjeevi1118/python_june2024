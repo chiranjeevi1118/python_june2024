{
 "cells": [
  {
   "cell_type": "markdown",
   "id": "ddce42ab-52d3-4136-a9aa-a156d3c734b0",
   "metadata": {},
   "source": [
    "**type casting**\n",
    "- convert one data type to another data type is called as type casting\n",
    "- which means we wants to convert\n",
    "- integer to all other data types(float,str,bool)data types\n",
    "- float data type to all other data types\n",
    "- str type to all other data types\n",
    "- bool to all other data types"
   ]
  },
  {
   "cell_type": "markdown",
   "id": "f05c1c27-be58-493f-87ce-1668658e3e1a",
   "metadata": {},
   "source": [
    "**integer to other data types"
   ]
  },
  {
   "cell_type": "markdown",
   "id": "755a13e2-1b60-41f7-8487-04c0f4ac6b04",
   "metadata": {},
   "source": [
    "$int-float$"
   ]
  },
  {
   "cell_type": "code",
   "execution_count": 1,
   "id": "7b565486-f3db-40a7-8290-6b7c81675ef7",
   "metadata": {},
   "outputs": [
    {
     "data": {
      "text/plain": [
       "int"
      ]
     },
     "execution_count": 1,
     "metadata": {},
     "output_type": "execute_result"
    }
   ],
   "source": [
    "num=100\n",
    "type(num)"
   ]
  },
  {
   "cell_type": "code",
   "execution_count": 2,
   "id": "6579e9dc-7ba9-4ef9-aeba-6a6c10b0f2d2",
   "metadata": {},
   "outputs": [
    {
     "data": {
      "text/plain": [
       "float"
      ]
     },
     "execution_count": 2,
     "metadata": {},
     "output_type": "execute_result"
    }
   ],
   "source": [
    "fnum=float(num)\n",
    "type(fnum)"
   ]
  },
  {
   "cell_type": "markdown",
   "id": "13f5b4f5-816e-4add-b1ee-1d1cbabb7fcc",
   "metadata": {},
   "source": [
    "$int-str$"
   ]
  },
  {
   "cell_type": "code",
   "execution_count": 3,
   "id": "f6f68709-b127-4494-95ec-8249d4d9ab22",
   "metadata": {},
   "outputs": [
    {
     "data": {
      "text/plain": [
       "str"
      ]
     },
     "execution_count": 3,
     "metadata": {},
     "output_type": "execute_result"
    }
   ],
   "source": [
    "str1=str(num)\n",
    "type(str1)"
   ]
  },
  {
   "cell_type": "markdown",
   "id": "01072857-e454-45c7-bf5a-91cab3cb9358",
   "metadata": {},
   "source": [
    "$int-bool$"
   ]
  },
  {
   "cell_type": "code",
   "execution_count": 5,
   "id": "444d6785-849e-4708-81b3-cbceea484b84",
   "metadata": {},
   "outputs": [
    {
     "data": {
      "text/plain": [
       "bool"
      ]
     },
     "execution_count": 5,
     "metadata": {},
     "output_type": "execute_result"
    }
   ],
   "source": [
    "bnum=bool(num)\n",
    "type(bnum)"
   ]
  },
  {
   "cell_type": "code",
   "execution_count": 10,
   "id": "e93002f9-2156-4193-a1ba-69954951bfcc",
   "metadata": {},
   "outputs": [
    {
     "data": {
      "text/plain": [
       "(200.0, '200', True)"
      ]
     },
     "execution_count": 10,
     "metadata": {},
     "output_type": "execute_result"
    }
   ],
   "source": [
    "float(200),str(200),bool(120)"
   ]
  },
  {
   "cell_type": "markdown",
   "id": "51aaf093-8141-4196-9ded-c4faa407986a",
   "metadata": {},
   "source": [
    "**note**\n",
    "- at integer=0 then only boolean becomes false\n",
    "- otherwise for any positive num or negative num it becomes true"
   ]
  },
  {
   "cell_type": "markdown",
   "id": "446cfdf1-4f7e-4dbd-8cfe-cad1d8a4f432",
   "metadata": {},
   "source": [
    "**float to another data type**"
   ]
  },
  {
   "cell_type": "code",
   "execution_count": 12,
   "id": "c22e43b5-a71b-4fdd-a51a-762fc12390af",
   "metadata": {},
   "outputs": [
    {
     "data": {
      "text/plain": [
       "(200, '200.5', False)"
      ]
     },
     "execution_count": 12,
     "metadata": {},
     "output_type": "execute_result"
    }
   ],
   "source": [
    "int(200.5),str(200.5),bool(0.0)"
   ]
  },
  {
   "cell_type": "markdown",
   "id": "171fc97f-d9cf-4204-814b-b501903900ac",
   "metadata": {},
   "source": [
    "**string to another data type**"
   ]
  },
  {
   "cell_type": "code",
   "execution_count": 13,
   "id": "3f8ca97c-722b-4348-9676-13b58063b28a",
   "metadata": {},
   "outputs": [
    {
     "ename": "ValueError",
     "evalue": "invalid literal for int() with base 10: 'apple'",
     "output_type": "error",
     "traceback": [
      "\u001b[1;31m---------------------------------------------------------------------------\u001b[0m",
      "\u001b[1;31mValueError\u001b[0m                                Traceback (most recent call last)",
      "Cell \u001b[1;32mIn[13], line 1\u001b[0m\n\u001b[1;32m----> 1\u001b[0m \u001b[38;5;28mint\u001b[39m(\u001b[38;5;124m'\u001b[39m\u001b[38;5;124mapple\u001b[39m\u001b[38;5;124m'\u001b[39m),\u001b[38;5;28mfloat\u001b[39m(\u001b[38;5;124m'\u001b[39m\u001b[38;5;124mapple\u001b[39m\u001b[38;5;124m'\u001b[39m),\u001b[38;5;28mbool\u001b[39m(\u001b[38;5;124m'\u001b[39m\u001b[38;5;124mapple\u001b[39m\u001b[38;5;124m'\u001b[39m)\n",
      "\u001b[1;31mValueError\u001b[0m: invalid literal for int() with base 10: 'apple'"
     ]
    }
   ],
   "source": [
    "int('apple'),float('apple')"
   ]
  },
  {
   "cell_type": "code",
   "execution_count": 14,
   "id": "6c244dbd-c4dd-4eac-8729-8f2f2dc63648",
   "metadata": {},
   "outputs": [
    {
     "data": {
      "text/plain": [
       "True"
      ]
     },
     "execution_count": 14,
     "metadata": {},
     "output_type": "execute_result"
    }
   ],
   "source": [
    "bool('apple')"
   ]
  },
  {
   "cell_type": "code",
   "execution_count": 15,
   "id": "91a66280-66cf-4bda-828b-8e0eb8375a2b",
   "metadata": {},
   "outputs": [
    {
     "data": {
      "text/plain": [
       "(10, 10.0, True)"
      ]
     },
     "execution_count": 15,
     "metadata": {},
     "output_type": "execute_result"
    }
   ],
   "source": [
    "int('10'),float('10'),bool('10')"
   ]
  },
  {
   "cell_type": "code",
   "execution_count": 16,
   "id": "613b5657-2dee-4433-9f21-2fd612e47630",
   "metadata": {},
   "outputs": [
    {
     "ename": "ValueError",
     "evalue": "invalid literal for int() with base 10: '10.5'",
     "output_type": "error",
     "traceback": [
      "\u001b[1;31m---------------------------------------------------------------------------\u001b[0m",
      "\u001b[1;31mValueError\u001b[0m                                Traceback (most recent call last)",
      "Cell \u001b[1;32mIn[16], line 1\u001b[0m\n\u001b[1;32m----> 1\u001b[0m \u001b[38;5;28mint\u001b[39m(\u001b[38;5;124m'\u001b[39m\u001b[38;5;124m10.5\u001b[39m\u001b[38;5;124m'\u001b[39m)\n",
      "\u001b[1;31mValueError\u001b[0m: invalid literal for int() with base 10: '10.5'"
     ]
    }
   ],
   "source": [
    "int('10.5')"
   ]
  },
  {
   "cell_type": "code",
   "execution_count": 17,
   "id": "c3913fd1-4dc0-43e0-af81-4a2717440c8d",
   "metadata": {},
   "outputs": [
    {
     "data": {
      "text/plain": [
       "10.5"
      ]
     },
     "execution_count": 17,
     "metadata": {},
     "output_type": "execute_result"
    }
   ],
   "source": [
    "float('10.5')"
   ]
  },
  {
   "cell_type": "code",
   "execution_count": 18,
   "id": "2538e709-260a-4e28-9908-3c56e8db8947",
   "metadata": {},
   "outputs": [
    {
     "data": {
      "text/plain": [
       "True"
      ]
     },
     "execution_count": 18,
     "metadata": {},
     "output_type": "execute_result"
    }
   ],
   "source": [
    "bool('10.5')"
   ]
  },
  {
   "cell_type": "markdown",
   "id": "394486e2-9e9a-463f-aece-1849d80e8a55",
   "metadata": {},
   "source": [
    "- float is the boss\n",
    "- float of any value either it is integer in strings format\n",
    "- or float in strings format will works\n",
    "- but integer will works only for integer in strings format\n",
    "- integer type casting will fail for float in strings format"
   ]
  },
  {
   "cell_type": "code",
   "execution_count": 19,
   "id": "db284ba8-63c9-437f-bd1d-f5489e65b162",
   "metadata": {},
   "outputs": [
    {
     "data": {
      "text/plain": [
       "True"
      ]
     },
     "execution_count": 19,
     "metadata": {},
     "output_type": "execute_result"
    }
   ],
   "source": [
    "bool('0')"
   ]
  },
  {
   "cell_type": "code",
   "execution_count": 20,
   "id": "7f923e31-02f9-41a7-ae10-08b82392573b",
   "metadata": {},
   "outputs": [
    {
     "data": {
      "text/plain": [
       "False"
      ]
     },
     "execution_count": 20,
     "metadata": {},
     "output_type": "execute_result"
    }
   ],
   "source": [
    "bool('')"
   ]
  },
  {
   "cell_type": "markdown",
   "id": "c303ed4e-d539-4722-aa66-b0f48f74ef0f",
   "metadata": {},
   "source": [
    "**bool**\n",
    "- something is there then it is true\n",
    "- if nothing is ther in int and float like 0 in string it is empty string then only false"
   ]
  },
  {
   "cell_type": "markdown",
   "id": "3a0b244e-d796-4bb3-8b42-40a6d33f3055",
   "metadata": {},
   "source": [
    "**bool to other data types**"
   ]
  },
  {
   "cell_type": "code",
   "execution_count": 21,
   "id": "0eb9dc72-2c06-4595-a136-c907bfc48f01",
   "metadata": {},
   "outputs": [
    {
     "data": {
      "text/plain": [
       "1"
      ]
     },
     "execution_count": 21,
     "metadata": {},
     "output_type": "execute_result"
    }
   ],
   "source": [
    "int(True)"
   ]
  },
  {
   "cell_type": "code",
   "execution_count": 22,
   "id": "e13e3f64-d942-4b6e-b74a-219529eeef47",
   "metadata": {},
   "outputs": [
    {
     "data": {
      "text/plain": [
       "0"
      ]
     },
     "execution_count": 22,
     "metadata": {},
     "output_type": "execute_result"
    }
   ],
   "source": [
    "int(False)"
   ]
  },
  {
   "cell_type": "code",
   "execution_count": 23,
   "id": "2520cd52-5458-4a1c-a2b4-f75d287d104a",
   "metadata": {},
   "outputs": [
    {
     "data": {
      "text/plain": [
       "1.0"
      ]
     },
     "execution_count": 23,
     "metadata": {},
     "output_type": "execute_result"
    }
   ],
   "source": [
    "float(True)"
   ]
  },
  {
   "cell_type": "code",
   "execution_count": 24,
   "id": "f93c7e10-0f43-46de-a1f2-6e66f9ad51c6",
   "metadata": {},
   "outputs": [
    {
     "data": {
      "text/plain": [
       "0.0"
      ]
     },
     "execution_count": 24,
     "metadata": {},
     "output_type": "execute_result"
    }
   ],
   "source": [
    "float(False)"
   ]
  },
  {
   "cell_type": "code",
   "execution_count": 25,
   "id": "59063d63-fb9b-4462-9aef-2be41ebcb1d4",
   "metadata": {},
   "outputs": [
    {
     "data": {
      "text/plain": [
       "'True'"
      ]
     },
     "execution_count": 25,
     "metadata": {},
     "output_type": "execute_result"
    }
   ],
   "source": [
    "str(True)"
   ]
  },
  {
   "cell_type": "code",
   "execution_count": 26,
   "id": "6d9aaf8b-e5e6-48d8-b4b2-39fd5ad2f247",
   "metadata": {},
   "outputs": [
    {
     "data": {
      "text/plain": [
       "'False'"
      ]
     },
     "execution_count": 26,
     "metadata": {},
     "output_type": "execute_result"
    }
   ],
   "source": [
    "str(False)"
   ]
  },
  {
   "cell_type": "code",
   "execution_count": 27,
   "id": "5b89583d-8a37-4b7b-a411-104ac4c488ec",
   "metadata": {},
   "outputs": [
    {
     "data": {
      "text/plain": [
       "bool"
      ]
     },
     "execution_count": 27,
     "metadata": {},
     "output_type": "execute_result"
    }
   ],
   "source": [
    "b=False\n",
    "type(b)"
   ]
  },
  {
   "cell_type": "code",
   "execution_count": 28,
   "id": "7733774b-9451-49f9-8226-fa0844301ac3",
   "metadata": {},
   "outputs": [
    {
     "data": {
      "text/plain": [
       "'False'"
      ]
     },
     "execution_count": 28,
     "metadata": {},
     "output_type": "execute_result"
    }
   ],
   "source": [
    "str(b)"
   ]
  },
  {
   "cell_type": "code",
   "execution_count": 32,
   "id": "999faf6b-3fe9-4a91-be63-66857bdad8c0",
   "metadata": {},
   "outputs": [
    {
     "name": "stdout",
     "output_type": "stream",
     "text": [
      "10\n",
      "10\n",
      "1\n",
      "0\n",
      "10.0\n",
      "10.0\n",
      "1.0\n",
      "0.0\n",
      "10\n",
      "10.44\n",
      "True\n",
      "False\n",
      "1\n",
      "0\n",
      "1.0\n",
      "0.0\n",
      "True\n",
      "False\n"
     ]
    }
   ],
   "source": [
    "print(int(10.5))\n",
    "print(int('10'))\n",
    "print(int(True))\n",
    "print(int(False))\n",
    "print(float(10))\n",
    "print(float('10'))\n",
    "print(float(True))\n",
    "print(float(False))\n",
    "print(str(10))\n",
    "print(str(10.44))\n",
    "print(str(True))\n",
    "print(str(False))\n",
    "print(int(True))\n",
    "print(int(False))\n",
    "print(float(True))\n",
    "print(float(False))\n",
    "print(str(True))\n",
    "print(str(False))"
   ]
  },
  {
   "cell_type": "code",
   "execution_count": null,
   "id": "8330ba56-978c-43af-9bef-d4200dd3b0ee",
   "metadata": {},
   "outputs": [],
   "source": []
  }
 ],
 "metadata": {
  "kernelspec": {
   "display_name": "Python 3 (ipykernel)",
   "language": "python",
   "name": "python3"
  },
  "language_info": {
   "codemirror_mode": {
    "name": "ipython",
    "version": 3
   },
   "file_extension": ".py",
   "mimetype": "text/x-python",
   "name": "python",
   "nbconvert_exporter": "python",
   "pygments_lexer": "ipython3",
   "version": "3.11.7"
  }
 },
 "nbformat": 4,
 "nbformat_minor": 5
}
