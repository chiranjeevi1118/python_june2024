{
 "cells": [
  {
   "cell_type": "code",
   "execution_count": 4,
   "id": "36f26d56-1cba-4769-b56c-94358c13999d",
   "metadata": {},
   "outputs": [
    {
     "name": "stdout",
     "output_type": "stream",
     "text": [
      "the average of 100 and 200 is : 150.0\n",
      "the average of 100 and 200 is : 150.0\n"
     ]
    }
   ],
   "source": [
    "num1=100\n",
    "num2=200\n",
    "avg=(num1+num2)/2\n",
    "print(f\"the average of {num1} and {num2} is : {avg}\")\n",
    "print(\"the average of {} and {} is : {}\".format(num1,num2,avg))"
   ]
  },
  {
   "cell_type": "markdown",
   "id": "92857c65-3f8b-4e0c-9e7b-956d6e48f9a8",
   "metadata": {},
   "source": [
    "- format spelling\n",
    "- brackets not providing\n",
    "- . you are keeping ,\n",
    "- for getting the quotes also"
   ]
  },
  {
   "cell_type": "code",
   "execution_count": 5,
   "id": "ac045715-0c35-414f-b055-17a2e7906728",
   "metadata": {},
   "outputs": [
    {
     "name": "stdout",
     "output_type": "stream",
     "text": [
      "the given raius of circle is 5 then area of circle is 78.5\n"
     ]
    }
   ],
   "source": [
    "#take radius of circle and take pi value =3.14 find area of the circle pi*r*r\n",
    "r=5\n",
    "pi=3.14\n",
    "a=pi*r*r\n",
    "print(f\"the given raius of circle is {r} then area of circle is {a}\")"
   ]
  },
  {
   "cell_type": "code",
   "execution_count": 7,
   "id": "359acda1-fd8d-41d1-9400-78bbf8c3e23e",
   "metadata": {},
   "outputs": [
    {
     "name": "stdout",
     "output_type": "stream",
     "text": [
      "arear of triangle is :  150.0\n"
     ]
    }
   ],
   "source": [
    "# take the breadth of triangle take the height of triangle are=1/2*b*h\n",
    "b=15\n",
    "h=20\n",
    "a=0.5*b*h\n",
    "print(\"arear of triangle is : \",a)"
   ]
  },
  {
   "cell_type": "code",
   "execution_count": 10,
   "id": "78aff8d0-a21f-4b1f-a127-6629eab33128",
   "metadata": {},
   "outputs": [
    {
     "name": "stdin",
     "output_type": "stream",
     "text": [
      "enter bill amount :  1000\n",
      "enter tip percent :  10\n"
     ]
    },
    {
     "name": "stdout",
     "output_type": "stream",
     "text": [
      "total bill is :  1100.0\n"
     ]
    }
   ],
   "source": [
    "#bill amount and tip percent calculate tip amount calculte tot bill print tot bill\n",
    "amo=int(input(\"enter bill amount : \"))\n",
    "tip=int (input(\"enter tip percent : \"))#0.1\n",
    "tipamo=(amo)*tip/100\n",
    "bilamo=amo+tipamo\n",
    "print(\"total bill is : \",bilamo)"
   ]
  },
  {
   "cell_type": "markdown",
   "id": "de73d092-5e33-41b9-8209-38645241654d",
   "metadata": {},
   "source": [
    "**end operator**\n",
    "- combining multiple print statements in a single lin"
   ]
  },
  {
   "cell_type": "code",
   "execution_count": 16,
   "id": "a1f5563e-7adb-4619-a0cd-5a58200a24ce",
   "metadata": {},
   "outputs": [
    {
     "name": "stdout",
     "output_type": "stream",
     "text": [
      "10 20 30\n"
     ]
    }
   ],
   "source": [
    "print(10,end=\" \")\n",
    "print(20,end=' ')\n",
    "print(30)"
   ]
  },
  {
   "cell_type": "markdown",
   "id": "c3230426-64f9-4ec6-a779-d0636bf2f7c2",
   "metadata": {},
   "source": [
    "**seperator operator**\n",
    "- seperate the multiple values in a single print statement"
   ]
  },
  {
   "cell_type": "code",
   "execution_count": 18,
   "id": "79d62f3d-c2d1-4fa6-ae8f-3dc89188f6e8",
   "metadata": {},
   "outputs": [
    {
     "name": "stdout",
     "output_type": "stream",
     "text": [
      "10-->20-->30\n"
     ]
    }
   ],
   "source": [
    "print(10,20,30,sep='-->')"
   ]
  },
  {
   "cell_type": "code",
   "execution_count": 29,
   "id": "5c0ec86e-6352-4755-a730-6166676660ef",
   "metadata": {},
   "outputs": [
    {
     "name": "stdout",
     "output_type": "stream",
     "text": [
      "the addition of 5 and 3 is 8.\n",
      "the addition of 5 and 3 is 8.\n",
      "the addition of 5 and 3 is 8.\n"
     ]
    }
   ],
   "source": [
    "print(f\"the addition of {5} and {3} is {5+3}.\")\n",
    "print(\"the addition of {} and {} is {}.\".format(5,3,5+3))\n",
    "print(\"the addition of 5 and 3 is 8\",'.',sep='')"
   ]
  },
  {
   "cell_type": "code",
   "execution_count": null,
   "id": "b758384e-ec76-4202-8409-85f50fee930f",
   "metadata": {},
   "outputs": [],
   "source": []
  }
 ],
 "metadata": {
  "kernelspec": {
   "display_name": "Python 3 (ipykernel)",
   "language": "python",
   "name": "python3"
  },
  "language_info": {
   "codemirror_mode": {
    "name": "ipython",
    "version": 3
   },
   "file_extension": ".py",
   "mimetype": "text/x-python",
   "name": "python",
   "nbconvert_exporter": "python",
   "pygments_lexer": "ipython3",
   "version": "3.11.7"
  }
 },
 "nbformat": 4,
 "nbformat_minor": 5
}
