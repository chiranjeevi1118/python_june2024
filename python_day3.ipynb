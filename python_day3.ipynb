{
 "cells": [
  {
   "cell_type": "markdown",
   "id": "d031eede-7157-4630-914f-ef894427a9da",
   "metadata": {},
   "source": [
    "**data type**\n",
    "- in python type declare not required\n",
    "- python will automatically takes the type based on provided\n",
    "- there are many data types available\n",
    "    - integer\n",
    "    - float\n",
    "    - boolean\n",
    "    - string\n",
    "- list\n",
    "- dict\n",
    "- tuple\n",
    "- set\n",
    "- complex "
   ]
  },
  {
   "cell_type": "code",
   "execution_count": 1,
   "id": "7b301b1a-eec8-474d-8dd0-114c521fe13d",
   "metadata": {},
   "outputs": [
    {
     "data": {
      "text/plain": [
       "int"
      ]
     },
     "execution_count": 1,
     "metadata": {},
     "output_type": "execute_result"
    }
   ],
   "source": [
    "n=100\n",
    "type(n)"
   ]
  },
  {
   "cell_type": "markdown",
   "id": "2fe1ec74-c9a0-40e8-9100-2fd2a07c8047",
   "metadata": {},
   "source": [
    "- binary representation\n",
    "\n",
    "- octa rep\n",
    "\n",
    "- hexa rep\n",
    "\n",
    "\n"
   ]
  },
  {
   "cell_type": "markdown",
   "id": "da754a03-41cb-4af5-b801-39898211499d",
   "metadata": {},
   "source": [
    "** binary **\n",
    "- bi means 2\n",
    "- so it requires 2 digits\n",
    "- generally we have 0 1 2 3 4 5 6 7 8 9\n",
    "- so it will represent with only 0 and 1\n",
    "- the crct representation is 0b11,0b101,0b10111,0B111 capital B also fine\n",
    "- 0b means binary\n",
    "- wrong represenation 0b102"
   ]
  },
  {
   "cell_type": "code",
   "execution_count": 2,
   "id": "82978808-2317-4289-8da0-3e3e68be3c70",
   "metadata": {},
   "outputs": [
    {
     "data": {
      "text/plain": [
       "5"
      ]
     },
     "execution_count": 2,
     "metadata": {},
     "output_type": "execute_result"
    }
   ],
   "source": [
    "0b101"
   ]
  },
  {
   "cell_type": "code",
   "execution_count": 3,
   "id": "c8e7c93e-1a71-48f4-995b-9384e715083a",
   "metadata": {},
   "outputs": [
    {
     "data": {
      "text/plain": [
       "9"
      ]
     },
     "execution_count": 3,
     "metadata": {},
     "output_type": "execute_result"
    }
   ],
   "source": [
    "0B1001"
   ]
  },
  {
   "cell_type": "markdown",
   "id": "836596d0-a5b1-46e6-bc68-6f687d037908",
   "metadata": {},
   "source": [
    "**to find file location**"
   ]
  },
  {
   "cell_type": "code",
   "execution_count": 2,
   "id": "3ddd415a-adf0-4676-97ce-3fa917cab7dd",
   "metadata": {},
   "outputs": [
    {
     "data": {
      "text/plain": [
       "'C:\\\\Users\\\\Dell\\\\Documents\\\\nareshds\\\\python'"
      ]
     },
     "execution_count": 2,
     "metadata": {},
     "output_type": "execute_result"
    }
   ],
   "source": [
    "# to get current working directory\n",
    "# it will give the path where our python file is located\n",
    "import os\n",
    "os.getcwd()#cwd means current working directory"
   ]
  },
  {
   "cell_type": "markdown",
   "id": "5d8dde73-804a-41e5-8bc9-adaa04375000",
   "metadata": {},
   "source": [
    "**octa**\n",
    "- octa means 8\n",
    "- so it requires 8 digits\n",
    "- generally we have 0 1 2 3 4 5 6 7 8 9\n",
    "- it will represent only in 0 1 2 3 4 5 6 7\n",
    "- representation is 0o567,0O234\n",
    "- wrong representation is 0o98,0O9897"
   ]
  },
  {
   "cell_type": "code",
   "execution_count": 3,
   "id": "c86055d0-e7af-4f3a-9b50-38c3448ff158",
   "metadata": {},
   "outputs": [
    {
     "data": {
      "text/plain": [
       "10"
      ]
     },
     "execution_count": 3,
     "metadata": {},
     "output_type": "execute_result"
    }
   ],
   "source": [
    "0o12"
   ]
  },
  {
   "cell_type": "code",
   "execution_count": 4,
   "id": "b388de1b-08f6-4db7-b5e2-017a06a86651",
   "metadata": {},
   "outputs": [
    {
     "data": {
      "text/plain": [
       "19"
      ]
     },
     "execution_count": 4,
     "metadata": {},
     "output_type": "execute_result"
    }
   ],
   "source": [
    "0O23"
   ]
  },
  {
   "cell_type": "markdown",
   "id": "3b10cb01-b355-47a3-bf3e-37f3f551b2c8",
   "metadata": {},
   "source": [
    "**hexa**\n",
    "- hexa means 16\n",
    "- so it requires 16 digits\n",
    "- generally we have 0 1 2 3 4 5 6 7 8 9\n",
    "- here we will represent with only 0 1 2 3 4 5 6 7  8 9 A(10) B(11) C(12) D(13) E(14) F(15)\n",
    "- 0-9 and A-F\n",
    "- representation is 0x123,0X2a1\n",
    "- wrong representation is 0xhjy"
   ]
  },
  {
   "cell_type": "code",
   "execution_count": 6,
   "id": "5d6bd9ed-8dd2-4dde-8cb2-7fdd6cb95470",
   "metadata": {},
   "outputs": [
    {
     "data": {
      "text/plain": [
       "673"
      ]
     },
     "execution_count": 6,
     "metadata": {},
     "output_type": "execute_result"
    }
   ],
   "source": [
    "0x2a1"
   ]
  },
  {
   "cell_type": "code",
   "execution_count": 7,
   "id": "fe1f3cdf-dbf8-4c32-81c8-24d75eb74abd",
   "metadata": {},
   "outputs": [
    {
     "data": {
      "text/plain": [
       "42"
      ]
     },
     "execution_count": 7,
     "metadata": {},
     "output_type": "execute_result"
    }
   ],
   "source": [
    "0X2A"
   ]
  },
  {
   "cell_type": "markdown",
   "id": "f5005b4e-17b4-4e0e-94f1-611031dad292",
   "metadata": {},
   "source": [
    "**float**"
   ]
  },
  {
   "cell_type": "code",
   "execution_count": 11,
   "id": "d699bbb8-9bdc-4f90-81fe-69ba558d3ed0",
   "metadata": {},
   "outputs": [
    {
     "data": {
      "text/plain": [
       "float"
      ]
     },
     "execution_count": 11,
     "metadata": {},
     "output_type": "execute_result"
    }
   ],
   "source": [
    "a=10.55\n",
    "a\n",
    "type(a)"
   ]
  },
  {
   "cell_type": "markdown",
   "id": "236125d9-b832-4edd-96f7-fc1961e8fa1a",
   "metadata": {},
   "source": [
    "- here kep=k*10**p"
   ]
  },
  {
   "cell_type": "code",
   "execution_count": 13,
   "id": "f8a3025a-7b51-4a81-9b15-3ff45ab86be5",
   "metadata": {},
   "outputs": [
    {
     "data": {
      "text/plain": [
       "(10.0, 100.0, 1000.0)"
      ]
     },
     "execution_count": 13,
     "metadata": {},
     "output_type": "execute_result"
    }
   ],
   "source": [
    "1e1,1e2,1e3"
   ]
  },
  {
   "cell_type": "code",
   "execution_count": 14,
   "id": "75eed539-433a-44fc-b925-9591c67b6b47",
   "metadata": {},
   "outputs": [
    {
     "data": {
      "text/plain": [
       "24000.0"
      ]
     },
     "execution_count": 14,
     "metadata": {},
     "output_type": "execute_result"
    }
   ],
   "source": [
    "24e3"
   ]
  },
  {
   "cell_type": "code",
   "execution_count": 15,
   "id": "ba548600-aee5-44a8-8503-b6c399358fe5",
   "metadata": {},
   "outputs": [
    {
     "data": {
      "text/plain": [
       "(0.1, 0.01, 0.001)"
      ]
     },
     "execution_count": 15,
     "metadata": {},
     "output_type": "execute_result"
    }
   ],
   "source": [
    "1e-1,1e-2,1e-3"
   ]
  },
  {
   "cell_type": "code",
   "execution_count": 16,
   "id": "610b77cf-edc0-4679-9a79-268729490dc5",
   "metadata": {},
   "outputs": [
    {
     "data": {
      "text/plain": [
       "0.024"
      ]
     },
     "execution_count": 16,
     "metadata": {},
     "output_type": "execute_result"
    }
   ],
   "source": [
    "24e-3"
   ]
  },
  {
   "cell_type": "code",
   "execution_count": 17,
   "id": "d50a507e-0a5f-4d13-a61f-f0fce7c7cd39",
   "metadata": {},
   "outputs": [
    {
     "data": {
      "text/plain": [
       "(10.0, 100.0, 1000.0)"
      ]
     },
     "execution_count": 17,
     "metadata": {},
     "output_type": "execute_result"
    }
   ],
   "source": [
    "1e+1,1e+2,1e+3"
   ]
  },
  {
   "cell_type": "markdown",
   "id": "ab632e19-e3a3-455b-9109-2d4414c67657",
   "metadata": {},
   "source": [
    "**here \"+\" ->means mutplication with 10 and \"-\" -> means divide with 10**"
   ]
  },
  {
   "cell_type": "markdown",
   "id": "b5e720ed-20bb-40c6-944e-598ac42d14fe",
   "metadata": {},
   "source": [
    "**strings**\n",
    "- strings are used to represent the english characters generally\n",
    "- strings will represent in\n",
    "   - single quotes\n",
    "   - double quotes\n",
    "   - triple quotes\n",
    "- red coloue means string\n",
    "- green colour means keywords\n",
    "- black colour means variable"
   ]
  },
  {
   "cell_type": "code",
   "execution_count": 19,
   "id": "5d3f318e-b4b2-4b7f-8c40-118ddf65dcaf",
   "metadata": {},
   "outputs": [
    {
     "data": {
      "text/plain": [
       "'python'"
      ]
     },
     "execution_count": 19,
     "metadata": {},
     "output_type": "execute_result"
    }
   ],
   "source": [
    "name='python'\n",
    "name"
   ]
  },
  {
   "cell_type": "code",
   "execution_count": 21,
   "id": "70c30e6c-b9ab-4962-8fdc-221968d5e80d",
   "metadata": {},
   "outputs": [
    {
     "data": {
      "text/plain": [
       "'deva'"
      ]
     },
     "execution_count": 21,
     "metadata": {},
     "output_type": "execute_result"
    }
   ],
   "source": [
    "name1=\"deva\"\n",
    "name1"
   ]
  },
  {
   "cell_type": "code",
   "execution_count": 22,
   "id": "0e788f22-9cca-4f5c-89e5-33366cf5541f",
   "metadata": {},
   "outputs": [
    {
     "data": {
      "text/plain": [
       "str"
      ]
     },
     "execution_count": 22,
     "metadata": {},
     "output_type": "execute_result"
    }
   ],
   "source": [
    "name2=\"19\"\n",
    "type(name2)"
   ]
  },
  {
   "cell_type": "code",
   "execution_count": 23,
   "id": "f08b58be-ef9a-41e6-98f0-18d1ea62ab96",
   "metadata": {},
   "outputs": [
    {
     "data": {
      "text/plain": [
       "\"i like 'python'\""
      ]
     },
     "execution_count": 23,
     "metadata": {},
     "output_type": "execute_result"
    }
   ],
   "source": [
    "name=\"i like 'python'\"\n",
    "name"
   ]
  },
  {
   "cell_type": "code",
   "execution_count": 24,
   "id": "e72ca29d-fa6d-4533-8436-c01e54ecf086",
   "metadata": {},
   "outputs": [
    {
     "data": {
      "text/plain": [
       "'i like \"python\"'"
      ]
     },
     "execution_count": 24,
     "metadata": {},
     "output_type": "execute_result"
    }
   ],
   "source": [
    "name1='i like \"python\"'\n",
    "name1"
   ]
  },
  {
   "cell_type": "markdown",
   "id": "b68c2aae-f325-4a3d-988a-b238ae555a48",
   "metadata": {},
   "source": [
    "- entire string in double quotes the highlited words in single quotes -- vice versa"
   ]
  },
  {
   "cell_type": "code",
   "execution_count": 27,
   "id": "b6abbdf4-1e7c-4fe4-86c2-8ea3a8ef7eff",
   "metadata": {},
   "outputs": [
    {
     "data": {
      "text/plain": [
       "' hai'"
      ]
     },
     "execution_count": 27,
     "metadata": {},
     "output_type": "execute_result"
    }
   ],
   "source": [
    "a=\"\"\" hai\"\"\"\n",
    "a"
   ]
  },
  {
   "cell_type": "markdown",
   "id": "236b828c-c60f-4488-9086-52deff83fb93",
   "metadata": {},
   "source": [
    "**triple quotes**\n",
    "- triple quotes is used to provide the information to the user\n",
    "- in order to provide the information in jupyter notebook we will use markdown\n",
    "- in vscode or in pycharm there is no markdown thats why the world start used to write the information in triple quotes\n",
    "- this entire process is called \"DOCSTRING\"\n",
    "- when we use triple quotes for variable assign of string for that only it works expect that it willl be a comment"
   ]
  },
  {
   "cell_type": "markdown",
   "id": "ec325b49-1e05-48c1-8efd-897185441d00",
   "metadata": {},
   "source": [
    "**boolean**"
   ]
  },
  {
   "cell_type": "code",
   "execution_count": 29,
   "id": "a2bd5471-5213-4b28-bf73-0185cdba69b0",
   "metadata": {},
   "outputs": [
    {
     "data": {
      "text/plain": [
       "bool"
      ]
     },
     "execution_count": 29,
     "metadata": {},
     "output_type": "execute_result"
    }
   ],
   "source": [
    "val=True\n",
    "type(val)"
   ]
  },
  {
   "cell_type": "code",
   "execution_count": 30,
   "id": "f2010fc8-6ab4-4737-9671-1aa8d4ece27c",
   "metadata": {},
   "outputs": [
    {
     "data": {
      "text/plain": [
       "bool"
      ]
     },
     "execution_count": 30,
     "metadata": {},
     "output_type": "execute_result"
    }
   ],
   "source": [
    "val1=False\n",
    "type(val1)"
   ]
  },
  {
   "cell_type": "code",
   "execution_count": 31,
   "id": "2355d5fc-0aa1-4a0c-83cb-2e5f5e3c9477",
   "metadata": {},
   "outputs": [],
   "source": [
    "true=\"True\"\n",
    "false=False"
   ]
  },
  {
   "cell_type": "code",
   "execution_count": 32,
   "id": "4114cd01-16cb-4018-8995-d9bc47cc79a2",
   "metadata": {},
   "outputs": [
    {
     "data": {
      "text/plain": [
       "str"
      ]
     },
     "execution_count": 32,
     "metadata": {},
     "output_type": "execute_result"
    }
   ],
   "source": [
    "type(true)"
   ]
  },
  {
   "cell_type": "code",
   "execution_count": 33,
   "id": "16c94278-18a3-4fc6-ba2f-3601c532c66f",
   "metadata": {},
   "outputs": [
    {
     "data": {
      "text/plain": [
       "bool"
      ]
     },
     "execution_count": 33,
     "metadata": {},
     "output_type": "execute_result"
    }
   ],
   "source": [
    "type(false)"
   ]
  },
  {
   "cell_type": "code",
   "execution_count": null,
   "id": "00508ec3-cbfc-4d95-aff0-3462ab4d42c8",
   "metadata": {},
   "outputs": [],
   "source": []
  }
 ],
 "metadata": {
  "kernelspec": {
   "display_name": "Python 3 (ipykernel)",
   "language": "python",
   "name": "python3"
  },
  "language_info": {
   "codemirror_mode": {
    "name": "ipython",
    "version": 3
   },
   "file_extension": ".py",
   "mimetype": "text/x-python",
   "name": "python",
   "nbconvert_exporter": "python",
   "pygments_lexer": "ipython3",
   "version": "3.11.7"
  }
 },
 "nbformat": 4,
 "nbformat_minor": 5
}
