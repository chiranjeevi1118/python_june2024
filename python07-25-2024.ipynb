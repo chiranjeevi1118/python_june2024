{
 "cells": [
  {
   "cell_type": "markdown",
   "id": "16261e12-75a0-459d-8ee6-32c283b7ef38",
   "metadata": {},
   "source": [
    "## lambda functions"
   ]
  },
  {
   "cell_type": "markdown",
   "id": "61f823e4-d180-4af1-bf2b-f20c5088a825",
   "metadata": {},
   "source": [
    "- it represents function concept\n",
    "- but we can write in a single line\n",
    "- like list comprehension,lambda functions similar only\n",
    "- it will decrease the time complexity\n",
    "- always remember if we use many for loops or many conditions using multiple lines,the time complexity will increase"
   ]
  },
  {
   "cell_type": "markdown",
   "id": "239dd612-2204-464d-8c19-7532c97d3779",
   "metadata": {},
   "source": [
    "**it will use a keyword called lambda**\n",
    "\n",
    "lambda arguments:expressions"
   ]
  },
  {
   "cell_type": "code",
   "execution_count": 1,
   "id": "d1ecc96d-0d77-4ee7-a9a8-146d466e1f1b",
   "metadata": {},
   "outputs": [
    {
     "data": {
      "text/plain": [
       "20"
      ]
     },
     "execution_count": 1,
     "metadata": {},
     "output_type": "execute_result"
    }
   ],
   "source": [
    "def summ(n):\n",
    "    return(n+10)\n",
    "summ(10)"
   ]
  },
  {
   "cell_type": "markdown",
   "id": "5bd2b64b-0b8c-4ab6-9df2-02d364629700",
   "metadata": {},
   "source": [
    "### pattern 1"
   ]
  },
  {
   "cell_type": "markdown",
   "id": "f262f621-4c1d-4561-956b-18bff47d2e6f",
   "metadata": {},
   "source": [
    "- function with only one argument\n",
    "- function name\n",
    "- argument name\n",
    "- return output"
   ]
  },
  {
   "cell_type": "code",
   "execution_count": 9,
   "id": "b427997a-7839-480e-a656-094bf375e86c",
   "metadata": {},
   "outputs": [
    {
     "data": {
      "text/plain": [
       "40"
      ]
     },
     "execution_count": 9,
     "metadata": {},
     "output_type": "execute_result"
    }
   ],
   "source": [
    "# syntax:<function name>= lambda <argument name>:<return output>\n",
    "an=lambda n:n+10\n",
    "an(30)"
   ]
  },
  {
   "cell_type": "code",
   "execution_count": 3,
   "id": "c6e91ed2-e0d0-4fee-bb86-315322b7423b",
   "metadata": {},
   "outputs": [
    {
     "data": {
      "text/plain": [
       "(8, 27)"
      ]
     },
     "execution_count": 3,
     "metadata": {},
     "output_type": "execute_result"
    }
   ],
   "source": [
    "cub=lambda cu:cu**3\n",
    "a=cub(2)\n",
    "b=cub(3)\n",
    "a,b"
   ]
  },
  {
   "cell_type": "markdown",
   "id": "2828cb10-16db-4672-95c6-e33b67af0b7e",
   "metadata": {},
   "source": [
    "### pattern 2"
   ]
  },
  {
   "cell_type": "markdown",
   "id": "992a4c48-1ad3-4f4e-9a81-ed2ee5808bb5",
   "metadata": {},
   "source": [
    "- two arguments"
   ]
  },
  {
   "cell_type": "code",
   "execution_count": 12,
   "id": "9f9ebf08-df60-419a-92c7-268259d2e73b",
   "metadata": {},
   "outputs": [
    {
     "data": {
      "text/plain": [
       "30"
      ]
     },
     "execution_count": 12,
     "metadata": {},
     "output_type": "execute_result"
    }
   ],
   "source": [
    "#syntax=<function name>=lambda <arg1>,<arg2>:<return output>\n",
    "ad=lambda a,b:a+b\n",
    "ad(10,20)"
   ]
  },
  {
   "cell_type": "code",
   "execution_count": 23,
   "id": "ccd35137-78d8-430b-875c-341261519341",
   "metadata": {},
   "outputs": [
    {
     "data": {
      "text/plain": [
       "21.7"
      ]
     },
     "execution_count": 23,
     "metadata": {},
     "output_type": "execute_result"
    }
   ],
   "source": [
    "av=lambda a,b,c:round((a+b+c)/3,1)\n",
    "av(10,20,35)"
   ]
  },
  {
   "cell_type": "markdown",
   "id": "21731635-d181-4723-b979-c5a59f559854",
   "metadata": {},
   "source": [
    "### patter 3\n",
    "- default arguments"
   ]
  },
  {
   "cell_type": "code",
   "execution_count": 27,
   "id": "6caf8156-29a6-4a12-9057-409c344b68a1",
   "metadata": {},
   "outputs": [
    {
     "data": {
      "text/plain": [
       "25.7"
      ]
     },
     "execution_count": 27,
     "metadata": {},
     "output_type": "execute_result"
    }
   ],
   "source": [
    "av=lambda a,b,c=47:round((a+b+c)/3,1)\n",
    "av(10,20)"
   ]
  },
  {
   "cell_type": "markdown",
   "id": "5b42e099-7080-46bd-b507-bf788b543e3f",
   "metadata": {},
   "source": [
    "### pattern 4\n",
    "- if and else"
   ]
  },
  {
   "cell_type": "code",
   "execution_count": 33,
   "id": "1158a5f6-10ba-451f-9f1f-4c8646095dab",
   "metadata": {},
   "outputs": [
    {
     "data": {
      "text/plain": [
       "100"
      ]
     },
     "execution_count": 33,
     "metadata": {},
     "output_type": "execute_result"
    }
   ],
   "source": [
    "maxi=lambda  a,b:a if a>b else b\n",
    "maxi(100,20)"
   ]
  },
  {
   "cell_type": "markdown",
   "id": "6dcf0a5f-3d26-4265-bdde-0fae11bda5df",
   "metadata": {},
   "source": [
    "### pattern 5"
   ]
  },
  {
   "cell_type": "markdown",
   "id": "36f12e65-a11a-4b8b-96e3-c5ac9f8f03cc",
   "metadata": {},
   "source": [
    "- using list operations"
   ]
  },
  {
   "cell_type": "code",
   "execution_count": 41,
   "id": "73f38191-d30c-40a7-bf2d-f56bb2e657d6",
   "metadata": {},
   "outputs": [
    {
     "data": {
      "text/plain": [
       "(<function __main__.<lambda>(i)>, ['hyd', 'chennai', 'mumbai'])"
      ]
     },
     "execution_count": 41,
     "metadata": {},
     "output_type": "execute_result"
    }
   ],
   "source": [
    "#lambda <variable>:<op>\n",
    "#variable:i\n",
    "#op:i.capitalize()\n",
    "#lambda<variable>:<op>,<iteartor>\n",
    "\n",
    "\n",
    "l=[\"hyd\",\"chennai\",\"mumbai\"]\n",
    "op=lambda i:i.capitalize(),l\n",
    "op"
   ]
  },
  {
   "cell_type": "markdown",
   "id": "ae0c803a-98a4-417f-93e4-73c339f716d9",
   "metadata": {},
   "source": [
    "### map"
   ]
  },
  {
   "cell_type": "markdown",
   "id": "1b065407-4531-47bf-bd25-c489b531d82f",
   "metadata": {},
   "source": [
    "- the function and the iterator are available we need to map both"
   ]
  },
  {
   "cell_type": "code",
   "execution_count": 49,
   "id": "49eb6b82-4b22-4ff5-91e6-0e57384e0fcd",
   "metadata": {},
   "outputs": [
    {
     "data": {
      "text/plain": [
       "['Hyd', 'Chennai', 'Mumbai']"
      ]
     },
     "execution_count": 49,
     "metadata": {},
     "output_type": "execute_result"
    }
   ],
   "source": [
    "l=[\"hyd\",\"chennai\",\"mumbai\"]\n",
    "op=list(map(lambda i:i.capitalize(),l))\n",
    "op"
   ]
  },
  {
   "cell_type": "code",
   "execution_count": 50,
   "id": "fc4c433b-6688-4257-9a7e-743335c91e95",
   "metadata": {},
   "outputs": [
    {
     "data": {
      "text/plain": [
       "['Hyd', 'Chennai', 'Mumbai']"
      ]
     },
     "execution_count": 50,
     "metadata": {},
     "output_type": "execute_result"
    }
   ],
   "source": [
    "l=[\"hyd\",\"chennai\",\"mumbai\"]\n",
    "list(map(lambda i:i.capitalize(),l))"
   ]
  },
  {
   "cell_type": "markdown",
   "id": "9e87d9e2-b5cd-4b98-a3e2-b9a6d72a984f",
   "metadata": {},
   "source": [
    "- s1 : write your normal expression\n",
    "- ex:lambda <var>:<op>-->lambda i:i.title(0\n",
    "- s2 : add the iterator\n",
    "- ex: lambda <var>:<op>,<list>==>lambda i:i.title(),l\n",
    "- s3: map the both\n",
    "- ex:map(lambda <var>:<op>,<list>)==>map(lambda i: i.title(),l)\n",
    "- s4 :save into a list\n",
    "- ex: list(map(lambda <var>:<op>,<list>)==>list(map(lambda i: i.title(),l))\n",
    "- note : those who are getting list object not callable use tuple"
   ]
  },
  {
   "cell_type": "markdown",
   "id": "33c4fea1-c03f-4091-866f-e79bf7fd6234",
   "metadata": {},
   "source": [
    "**lambda types**\n",
    "- one value with return output\n",
    "    - lambda expression : return\n",
    "- two or more arguments\n",
    "     - lambda expressions : return value\n",
    "- default arguments\n",
    "      - lambda expression var1,var2=500:return value\n",
    "\n",
    "- if and else\n",
    "     - lambda expression ifop ifcon else elseop for loop\n",
    "- list\n",
    "   - lambda expresion:output,iterator\n",
    "   - map(lambda expresion:output,iterator)\n",
    "   - list(map(lambda expresion:output,iterator))"
   ]
  },
  {
   "cell_type": "code",
   "execution_count": 5,
   "id": "110c8d34-6482-42e5-a870-700daed1cb23",
   "metadata": {},
   "outputs": [
    {
     "data": {
      "text/plain": [
       "['HYD', 'CHENNAI', 'MUMBAI']"
      ]
     },
     "execution_count": 5,
     "metadata": {},
     "output_type": "execute_result"
    }
   ],
   "source": [
    "l=['hyd','chennai','mumbai']\n",
    "o=list(map(lambda i:i.upper(),l))\n",
    "o"
   ]
  },
  {
   "cell_type": "code",
   "execution_count": 2,
   "id": "26d32646-df1b-47a2-a543-99b62c7a4870",
   "metadata": {},
   "outputs": [
    {
     "data": {
      "text/plain": [
       "[False, True, True, False]"
      ]
     },
     "execution_count": 2,
     "metadata": {},
     "output_type": "execute_result"
    }
   ],
   "source": [
    "l=['hyd','chen#nai','mumb#ai','blr']\n",
    "o=list(map(lambda i:'#' in i ,l))\n",
    "o\n",
    "   "
   ]
  },
  {
   "cell_type": "markdown",
   "id": "87e466dd-408f-4adc-8b82-eb7017cc61f6",
   "metadata": {},
   "source": [
    "### filter"
   ]
  },
  {
   "cell_type": "code",
   "execution_count": 7,
   "id": "19a28bb7-4ee9-478c-98b0-6870eeff73b9",
   "metadata": {},
   "outputs": [
    {
     "data": {
      "text/plain": [
       "['chen#nai', 'mumb#ai']"
      ]
     },
     "execution_count": 7,
     "metadata": {},
     "output_type": "execute_result"
    }
   ],
   "source": [
    "l=['hyd','chen#nai','mumb#ai','blr']\n",
    "o=list(filter(lambda i:'#' in i,l))\n",
    "o"
   ]
  },
  {
   "cell_type": "code",
   "execution_count": 8,
   "id": "e99c587b-7c61-4cc2-bf69-56cf9b0a2d0b",
   "metadata": {},
   "outputs": [
    {
     "data": {
      "text/plain": [
       "[2, 6]"
      ]
     },
     "execution_count": 8,
     "metadata": {},
     "output_type": "execute_result"
    }
   ],
   "source": [
    "num=[1,3,2,5,7,6]\n",
    "op=list(filter(lambda i:i%2==0,num))\n",
    "op"
   ]
  },
  {
   "cell_type": "code",
   "execution_count": 19,
   "id": "6b1141e9-53f5-46f3-9902-804bdec53fae",
   "metadata": {},
   "outputs": [
    {
     "name": "stdout",
     "output_type": "stream",
     "text": [
      "15\n"
     ]
    }
   ],
   "source": [
    "l1=[1,2,3,4,5]\n",
    "sum(l1)\n",
    "s=0\n",
    "for i in l1:\n",
    "    s+=i\n",
    "print(s)\n"
   ]
  },
  {
   "cell_type": "code",
   "execution_count": 29,
   "id": "18edd7b3-e11e-4b25-b937-5c5b37fd8d9c",
   "metadata": {},
   "outputs": [
    {
     "ename": "NameError",
     "evalue": "name 'reduce' is not defined",
     "output_type": "error",
     "traceback": [
      "\u001b[1;31m---------------------------------------------------------------------------\u001b[0m",
      "\u001b[1;31mNameError\u001b[0m                                 Traceback (most recent call last)",
      "Cell \u001b[1;32mIn[29], line 2\u001b[0m\n\u001b[0;32m      1\u001b[0m s\u001b[38;5;241m=\u001b[39m\u001b[38;5;241m0\u001b[39m\n\u001b[1;32m----> 2\u001b[0m op\u001b[38;5;241m=\u001b[39m\u001b[38;5;28mlist\u001b[39m(reduce(\u001b[38;5;28;01mlambda\u001b[39;00m s,i:s\u001b[38;5;241m+\u001b[39mi,l1))\n\u001b[0;32m      3\u001b[0m op\n",
      "\u001b[1;31mNameError\u001b[0m: name 'reduce' is not defined"
     ]
    }
   ],
   "source": [
    "s=0\n",
    "op=list(map(lambda s,i:s+i,l1))\n",
    "op"
   ]
  },
  {
   "cell_type": "markdown",
   "id": "7ef6a961-2e60-440c-b169-125bc37a9e21",
   "metadata": {},
   "source": [
    "### \n",
    "- all inbuilt functions can achieve by reduce\n",
    "- reduce is available from functools package\n",
    "- level-1:reduce(lambda s,i:s+i,l1)\n",
    "- level-2:reduce(lambda s,i:s+i,l1,initial_value)\n",
    "- at level s=0 by default\n",
    "- at level we give our wish value"
   ]
  },
  {
   "cell_type": "code",
   "execution_count": 30,
   "id": "c43874ec-50da-44c6-b71b-153e12d7ca15",
   "metadata": {},
   "outputs": [],
   "source": [
    "import functools"
   ]
  },
  {
   "cell_type": "code",
   "execution_count": 31,
   "id": "5524bb59-3b96-4476-ac60-79ad5459c2dd",
   "metadata": {},
   "outputs": [
    {
     "data": {
      "text/plain": [
       "['GenericAlias',\n",
       " 'RLock',\n",
       " 'WRAPPER_ASSIGNMENTS',\n",
       " 'WRAPPER_UPDATES',\n",
       " '_CacheInfo',\n",
       " '_HashedSeq',\n",
       " '_NOT_FOUND',\n",
       " '__all__',\n",
       " '__builtins__',\n",
       " '__cached__',\n",
       " '__doc__',\n",
       " '__file__',\n",
       " '__loader__',\n",
       " '__name__',\n",
       " '__package__',\n",
       " '__spec__',\n",
       " '_c3_merge',\n",
       " '_c3_mro',\n",
       " '_compose_mro',\n",
       " '_convert',\n",
       " '_find_impl',\n",
       " '_ge_from_gt',\n",
       " '_ge_from_le',\n",
       " '_ge_from_lt',\n",
       " '_gt_from_ge',\n",
       " '_gt_from_le',\n",
       " '_gt_from_lt',\n",
       " '_initial_missing',\n",
       " '_le_from_ge',\n",
       " '_le_from_gt',\n",
       " '_le_from_lt',\n",
       " '_lru_cache_wrapper',\n",
       " '_lt_from_ge',\n",
       " '_lt_from_gt',\n",
       " '_lt_from_le',\n",
       " '_make_key',\n",
       " '_unwrap_partial',\n",
       " 'cache',\n",
       " 'cached_property',\n",
       " 'cmp_to_key',\n",
       " 'get_cache_token',\n",
       " 'lru_cache',\n",
       " 'namedtuple',\n",
       " 'partial',\n",
       " 'partialmethod',\n",
       " 'recursive_repr',\n",
       " 'reduce',\n",
       " 'singledispatch',\n",
       " 'singledispatchmethod',\n",
       " 'total_ordering',\n",
       " 'update_wrapper',\n",
       " 'wraps']"
      ]
     },
     "execution_count": 31,
     "metadata": {},
     "output_type": "execute_result"
    }
   ],
   "source": [
    "dir(functools)"
   ]
  },
  {
   "cell_type": "code",
   "execution_count": 33,
   "id": "53963bb2-fc7b-4d44-8af9-a1f2e6a51d97",
   "metadata": {},
   "outputs": [
    {
     "name": "stdout",
     "output_type": "stream",
     "text": [
      "No Python documentation found for 'reduce'.\n",
      "Use help() to get the interactive help utility.\n",
      "Use help(str) for help on the str class.\n",
      "\n"
     ]
    }
   ],
   "source": [
    "help('reduce)"
   ]
  },
  {
   "cell_type": "code",
   "execution_count": 38,
   "id": "e4ec23d9-0d36-4375-9b93-d4d5c37699d6",
   "metadata": {},
   "outputs": [
    {
     "data": {
      "text/plain": [
       "15"
      ]
     },
     "execution_count": 38,
     "metadata": {},
     "output_type": "execute_result"
    }
   ],
   "source": [
    "s=0\n",
    "op=functools.reduce(lambda s,i:s+i,l1)\n",
    "op"
   ]
  },
  {
   "cell_type": "code",
   "execution_count": 39,
   "id": "d7c1c4e3-2141-4c95-8188-e5f1c7f76b0e",
   "metadata": {},
   "outputs": [
    {
     "data": {
      "text/plain": [
       "15"
      ]
     },
     "execution_count": 39,
     "metadata": {},
     "output_type": "execute_result"
    }
   ],
   "source": [
    "from functools import reduce# or \n",
    "s=0\n",
    "op=reduce(lambda s,i:s+i,l1)\n",
    "op"
   ]
  },
  {
   "cell_type": "code",
   "execution_count": 42,
   "id": "9d35be88-59b1-4ad7-8ccd-ffcd059eedbc",
   "metadata": {},
   "outputs": [
    {
     "data": {
      "text/plain": [
       "15"
      ]
     },
     "execution_count": 42,
     "metadata": {},
     "output_type": "execute_result"
    }
   ],
   "source": [
    "import functools as ft\n",
    "s=0\n",
    "op=ft.reduce(lambda s,i:s+i,l1)\n",
    "op"
   ]
  },
  {
   "cell_type": "markdown",
   "id": "ad954646-3d99-4a1b-8216-b12e35e8b616",
   "metadata": {},
   "source": [
    "**level 2 with an start value**"
   ]
  },
  {
   "cell_type": "code",
   "execution_count": 43,
   "id": "cc343928-1a1e-40bd-87a3-bf21131ed91b",
   "metadata": {},
   "outputs": [
    {
     "data": {
      "text/plain": [
       "20"
      ]
     },
     "execution_count": 43,
     "metadata": {},
     "output_type": "execute_result"
    }
   ],
   "source": [
    "import functools as ft\n",
    "s=0\n",
    "op=ft.reduce(lambda s,i:s+i,l1,5)\n",
    "op"
   ]
  },
  {
   "cell_type": "code",
   "execution_count": 46,
   "id": "b8a0f854-52dc-4ed1-b5f4-e6dbc4844821",
   "metadata": {},
   "outputs": [
    {
     "name": "stdout",
     "output_type": "stream",
     "text": [
      "Help on module functools:\n",
      "\n",
      "NAME\n",
      "    functools - functools.py - Tools for working with functions and callable objects\n",
      "\n",
      "MODULE REFERENCE\n",
      "    https://docs.python.org/3.11/library/functools.html\n",
      "    \n",
      "    The following documentation is automatically generated from the Python\n",
      "    source files.  It may be incomplete, incorrect or include features that\n",
      "    are considered implementation detail and may vary between Python\n",
      "    implementations.  When in doubt, consult the module reference at the\n",
      "    location listed above.\n",
      "\n",
      "CLASSES\n",
      "    builtins.object\n",
      "        cached_property\n",
      "        partial\n",
      "        partialmethod\n",
      "        singledispatchmethod\n",
      "    \n",
      "    class cached_property(builtins.object)\n",
      "     |  cached_property(func)\n",
      "     |  \n",
      "     |  Methods defined here:\n",
      "     |  \n",
      "     |  __get__(self, instance, owner=None)\n",
      "     |  \n",
      "     |  __init__(self, func)\n",
      "     |      Initialize self.  See help(type(self)) for accurate signature.\n",
      "     |  \n",
      "     |  __set_name__(self, owner, name)\n",
      "     |  \n",
      "     |  ----------------------------------------------------------------------\n",
      "     |  Class methods defined here:\n",
      "     |  \n",
      "     |  __class_getitem__ = GenericAlias(...) from builtins.type\n",
      "     |      Represent a PEP 585 generic type\n",
      "     |      \n",
      "     |      E.g. for t = list[int], t.__origin__ is list and t.__args__ is (int,).\n",
      "     |  \n",
      "     |  ----------------------------------------------------------------------\n",
      "     |  Data descriptors defined here:\n",
      "     |  \n",
      "     |  __dict__\n",
      "     |      dictionary for instance variables\n",
      "     |  \n",
      "     |  __weakref__\n",
      "     |      list of weak references to the object\n",
      "    \n",
      "    class partial(builtins.object)\n",
      "     |  partial(func, *args, **keywords) - new function with partial application\n",
      "     |  of the given arguments and keywords.\n",
      "     |  \n",
      "     |  Methods defined here:\n",
      "     |  \n",
      "     |  __call__(self, /, *args, **kwargs)\n",
      "     |      Call self as a function.\n",
      "     |  \n",
      "     |  __delattr__(self, name, /)\n",
      "     |      Implement delattr(self, name).\n",
      "     |  \n",
      "     |  __getattribute__(self, name, /)\n",
      "     |      Return getattr(self, name).\n",
      "     |  \n",
      "     |  __reduce__(...)\n",
      "     |      Helper for pickle.\n",
      "     |  \n",
      "     |  __repr__(self, /)\n",
      "     |      Return repr(self).\n",
      "     |  \n",
      "     |  __setattr__(self, name, value, /)\n",
      "     |      Implement setattr(self, name, value).\n",
      "     |  \n",
      "     |  __setstate__(...)\n",
      "     |  \n",
      "     |  ----------------------------------------------------------------------\n",
      "     |  Class methods defined here:\n",
      "     |  \n",
      "     |  __class_getitem__(...) from builtins.type\n",
      "     |      See PEP 585\n",
      "     |  \n",
      "     |  ----------------------------------------------------------------------\n",
      "     |  Static methods defined here:\n",
      "     |  \n",
      "     |  __new__(*args, **kwargs) from builtins.type\n",
      "     |      Create and return a new object.  See help(type) for accurate signature.\n",
      "     |  \n",
      "     |  ----------------------------------------------------------------------\n",
      "     |  Data descriptors defined here:\n",
      "     |  \n",
      "     |  __dict__\n",
      "     |  \n",
      "     |  __vectorcalloffset__\n",
      "     |  \n",
      "     |  args\n",
      "     |      tuple of arguments to future partial calls\n",
      "     |  \n",
      "     |  func\n",
      "     |      function object to use in future partial calls\n",
      "     |  \n",
      "     |  keywords\n",
      "     |      dictionary of keyword arguments to future partial calls\n",
      "    \n",
      "    class partialmethod(builtins.object)\n",
      "     |  partialmethod(func, /, *args, **keywords)\n",
      "     |  \n",
      "     |  Method descriptor with partial application of the given arguments\n",
      "     |  and keywords.\n",
      "     |  \n",
      "     |  Supports wrapping existing descriptors and handles non-descriptor\n",
      "     |  callables as instance methods.\n",
      "     |  \n",
      "     |  Methods defined here:\n",
      "     |  \n",
      "     |  __get__(self, obj, cls=None)\n",
      "     |  \n",
      "     |  __init__(self, func, /, *args, **keywords)\n",
      "     |      Initialize self.  See help(type(self)) for accurate signature.\n",
      "     |  \n",
      "     |  __repr__(self)\n",
      "     |      Return repr(self).\n",
      "     |  \n",
      "     |  ----------------------------------------------------------------------\n",
      "     |  Class methods defined here:\n",
      "     |  \n",
      "     |  __class_getitem__ = GenericAlias(...) from builtins.type\n",
      "     |      Represent a PEP 585 generic type\n",
      "     |      \n",
      "     |      E.g. for t = list[int], t.__origin__ is list and t.__args__ is (int,).\n",
      "     |  \n",
      "     |  ----------------------------------------------------------------------\n",
      "     |  Readonly properties defined here:\n",
      "     |  \n",
      "     |  __isabstractmethod__\n",
      "     |  \n",
      "     |  ----------------------------------------------------------------------\n",
      "     |  Data descriptors defined here:\n",
      "     |  \n",
      "     |  __dict__\n",
      "     |      dictionary for instance variables\n",
      "     |  \n",
      "     |  __weakref__\n",
      "     |      list of weak references to the object\n",
      "    \n",
      "    class singledispatchmethod(builtins.object)\n",
      "     |  singledispatchmethod(func)\n",
      "     |  \n",
      "     |  Single-dispatch generic method descriptor.\n",
      "     |  \n",
      "     |  Supports wrapping existing descriptors and handles non-descriptor\n",
      "     |  callables as instance methods.\n",
      "     |  \n",
      "     |  Methods defined here:\n",
      "     |  \n",
      "     |  __get__(self, obj, cls=None)\n",
      "     |  \n",
      "     |  __init__(self, func)\n",
      "     |      Initialize self.  See help(type(self)) for accurate signature.\n",
      "     |  \n",
      "     |  register(self, cls, method=None)\n",
      "     |      generic_method.register(cls, func) -> func\n",
      "     |      \n",
      "     |      Registers a new implementation for the given *cls* on a *generic_method*.\n",
      "     |  \n",
      "     |  ----------------------------------------------------------------------\n",
      "     |  Readonly properties defined here:\n",
      "     |  \n",
      "     |  __isabstractmethod__\n",
      "     |  \n",
      "     |  ----------------------------------------------------------------------\n",
      "     |  Data descriptors defined here:\n",
      "     |  \n",
      "     |  __dict__\n",
      "     |      dictionary for instance variables\n",
      "     |  \n",
      "     |  __weakref__\n",
      "     |      list of weak references to the object\n",
      "\n",
      "FUNCTIONS\n",
      "    cache(user_function, /)\n",
      "        Simple lightweight unbounded cache.  Sometimes called \"memoize\".\n",
      "    \n",
      "    cmp_to_key(...)\n",
      "        Convert a cmp= function into a key= function.\n",
      "    \n",
      "    lru_cache(maxsize=128, typed=False)\n",
      "        Least-recently-used cache decorator.\n",
      "        \n",
      "        If *maxsize* is set to None, the LRU features are disabled and the cache\n",
      "        can grow without bound.\n",
      "        \n",
      "        If *typed* is True, arguments of different types will be cached separately.\n",
      "        For example, f(3.0) and f(3) will be treated as distinct calls with\n",
      "        distinct results.\n",
      "        \n",
      "        Arguments to the cached function must be hashable.\n",
      "        \n",
      "        View the cache statistics named tuple (hits, misses, maxsize, currsize)\n",
      "        with f.cache_info().  Clear the cache and statistics with f.cache_clear().\n",
      "        Access the underlying function with f.__wrapped__.\n",
      "        \n",
      "        See:  https://en.wikipedia.org/wiki/Cache_replacement_policies#Least_recently_used_(LRU)\n",
      "    \n",
      "    reduce(...)\n",
      "        reduce(function, iterable[, initial]) -> value\n",
      "        \n",
      "        Apply a function of two arguments cumulatively to the items of a sequence\n",
      "        or iterable, from left to right, so as to reduce the iterable to a single\n",
      "        value.  For example, reduce(lambda x, y: x+y, [1, 2, 3, 4, 5]) calculates\n",
      "        ((((1+2)+3)+4)+5).  If initial is present, it is placed before the items\n",
      "        of the iterable in the calculation, and serves as a default when the\n",
      "        iterable is empty.\n",
      "    \n",
      "    singledispatch(func)\n",
      "        Single-dispatch generic function decorator.\n",
      "        \n",
      "        Transforms a function into a generic function, which can have different\n",
      "        behaviours depending upon the type of its first argument. The decorated\n",
      "        function acts as the default implementation, and additional\n",
      "        implementations can be registered using the register() attribute of the\n",
      "        generic function.\n",
      "    \n",
      "    total_ordering(cls)\n",
      "        Class decorator that fills in missing ordering methods\n",
      "    \n",
      "    update_wrapper(wrapper, wrapped, assigned=('__module__', '__name__', '__qualname__', '__doc__', '__annotations__'), updated=('__dict__',))\n",
      "        Update a wrapper function to look like the wrapped function\n",
      "        \n",
      "        wrapper is the function to be updated\n",
      "        wrapped is the original function\n",
      "        assigned is a tuple naming the attributes assigned directly\n",
      "        from the wrapped function to the wrapper function (defaults to\n",
      "        functools.WRAPPER_ASSIGNMENTS)\n",
      "        updated is a tuple naming the attributes of the wrapper that\n",
      "        are updated with the corresponding attribute from the wrapped\n",
      "        function (defaults to functools.WRAPPER_UPDATES)\n",
      "    \n",
      "    wraps(wrapped, assigned=('__module__', '__name__', '__qualname__', '__doc__', '__annotations__'), updated=('__dict__',))\n",
      "        Decorator factory to apply update_wrapper() to a wrapper function\n",
      "        \n",
      "        Returns a decorator that invokes update_wrapper() with the decorated\n",
      "        function as the wrapper argument and the arguments to wraps() as the\n",
      "        remaining arguments. Default arguments are as for update_wrapper().\n",
      "        This is a convenience function to simplify applying partial() to\n",
      "        update_wrapper().\n",
      "\n",
      "DATA\n",
      "    WRAPPER_ASSIGNMENTS = ('__module__', '__name__', '__qualname__', '__do...\n",
      "    WRAPPER_UPDATES = ('__dict__',)\n",
      "    __all__ = ['update_wrapper', 'wraps', 'WRAPPER_ASSIGNMENTS', 'WRAPPER_...\n",
      "\n",
      "FILE\n",
      "    c:\\users\\dell\\anaconda3\\lib\\functools.py\n",
      "\n",
      "\n"
     ]
    }
   ],
   "source": [
    "help(\"functools\")"
   ]
  },
  {
   "cell_type": "code",
   "execution_count": 52,
   "id": "430ec4ac-6423-4e67-95d0-67da086a4e4a",
   "metadata": {},
   "outputs": [
    {
     "data": {
      "text/plain": [
       "120"
      ]
     },
     "execution_count": 52,
     "metadata": {},
     "output_type": "execute_result"
    }
   ],
   "source": [
    "import functools as ft\n",
    "l1=[1,2,3,4,5]\n",
    "op=ft.reduce(lambda m,i:m*i,l1)\n",
    "op"
   ]
  },
  {
   "cell_type": "code",
   "execution_count": 2,
   "id": "1c1bb031-8157-489a-a87e-622401612812",
   "metadata": {},
   "outputs": [
    {
     "data": {
      "text/plain": [
       "41"
      ]
     },
     "execution_count": 2,
     "metadata": {},
     "output_type": "execute_result"
    }
   ],
   "source": [
    "import functools as ft\n",
    "l1=[1,2,3,41,5,6]\n",
    "op=ft.reduce(lambda s,i:s if s>i else i,l1)\n",
    "op"
   ]
  },
  {
   "cell_type": "code",
   "execution_count": 61,
   "id": "33f550a7-f014-4817-9bc0-c4f280b1d487",
   "metadata": {},
   "outputs": [],
   "source": [
    "import functools"
   ]
  },
  {
   "cell_type": "code",
   "execution_count": 62,
   "id": "9d2a265d-19d6-4c3f-bdf4-9d97ea1c8b1f",
   "metadata": {},
   "outputs": [
    {
     "data": {
      "text/plain": [
       "<module 'functools' from 'C:\\\\Users\\\\Dell\\\\anaconda3\\\\Lib\\\\functools.py'>"
      ]
     },
     "execution_count": 62,
     "metadata": {},
     "output_type": "execute_result"
    }
   ],
   "source": [
    "functools"
   ]
  },
  {
   "cell_type": "code",
   "execution_count": 64,
   "id": "63890181-f063-4d92-a286-c41064f39194",
   "metadata": {},
   "outputs": [],
   "source": [
    "# maximum value using reduce\n",
    "# map : direct attack\n",
    "#reduce : inbuilt functions ans initilazitions\n",
    "#filter : if conditions\n",
    "#i want detailed word document with examples"
   ]
  },
  {
   "cell_type": "code",
   "execution_count": null,
   "id": "0f4ecd45-9c82-417c-8b1f-75304cd36305",
   "metadata": {},
   "outputs": [],
   "source": []
  },
  {
   "cell_type": "code",
   "execution_count": null,
   "id": "d29796ec-1d15-4f24-b7dc-5f963b6ad1b0",
   "metadata": {},
   "outputs": [],
   "source": []
  }
 ],
 "metadata": {
  "kernelspec": {
   "display_name": "Python 3 (ipykernel)",
   "language": "python",
   "name": "python3"
  },
  "language_info": {
   "codemirror_mode": {
    "name": "ipython",
    "version": 3
   },
   "file_extension": ".py",
   "mimetype": "text/x-python",
   "name": "python",
   "nbconvert_exporter": "python",
   "pygments_lexer": "ipython3",
   "version": "3.11.7"
  }
 },
 "nbformat": 4,
 "nbformat_minor": 5
}
