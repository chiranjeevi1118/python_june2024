{
 "cells": [
  {
   "cell_type": "markdown",
   "id": "3b156197-1536-4fb2-92ef-703c48b6b32c",
   "metadata": {},
   "source": [
    "**Functions**\n",
    "\n",
    "- A block of code which we can use many times"
   ]
  },
  {
   "cell_type": "code",
   "execution_count": 12,
   "id": "261f9cae-46d7-4d0a-ac7d-83bcb338d5f0",
   "metadata": {},
   "outputs": [
    {
     "name": "stdout",
     "output_type": "stream",
     "text": [
      "30\n"
     ]
    }
   ],
   "source": [
    "num1=10\n",
    "num2=20\n",
    "add=num1+num2\n",
    "print(add)"
   ]
  },
  {
   "cell_type": "code",
   "execution_count": 13,
   "id": "3b9538c8-0ada-480c-841e-d45732efcab1",
   "metadata": {},
   "outputs": [
    {
     "data": {
      "text/plain": [
       "<bound method Random.randint of <random.Random object at 0x0000025AA46200A0>>"
      ]
     },
     "execution_count": 13,
     "metadata": {},
     "output_type": "execute_result"
    }
   ],
   "source": [
    "import random\n",
    "random.randint"
   ]
  },
  {
   "cell_type": "code",
   "execution_count": null,
   "id": "aba4cfce-c087-4126-b0d7-3424741cb1b0",
   "metadata": {},
   "outputs": [],
   "source": [
    "def <function_name>():\n",
    "    codelines"
   ]
  },
  {
   "cell_type": "markdown",
   "id": "0f28aa22-c2cd-44a7-8d04-9e7fc0629aa4",
   "metadata": {},
   "source": [
    "**Functions with out arguments**"
   ]
  },
  {
   "cell_type": "code",
   "execution_count": 14,
   "id": "cba37cda-65cf-46af-847a-c1206d785df6",
   "metadata": {},
   "outputs": [],
   "source": [
    "def addition():\n",
    "    num1=10\n",
    "    num2=20\n",
    "    add=num1+num2\n",
    "    print(add)"
   ]
  },
  {
   "cell_type": "code",
   "execution_count": null,
   "id": "bf1c9b87-bd2d-4ac6-a24a-a50160fad29b",
   "metadata": {},
   "outputs": [],
   "source": [
    "# function name: addition\n",
    "# in order to execute code lines\n",
    "# we need to call the function"
   ]
  },
  {
   "cell_type": "code",
   "execution_count": 16,
   "id": "3219ad3a-f467-4c22-b065-f6ec79dd3e15",
   "metadata": {},
   "outputs": [
    {
     "name": "stdout",
     "output_type": "stream",
     "text": [
      "30\n"
     ]
    }
   ],
   "source": [
    "addition()"
   ]
  },
  {
   "cell_type": "code",
   "execution_count": 20,
   "id": "91b9ed5d-1ec4-404c-8c6a-dfe993bb1778",
   "metadata": {},
   "outputs": [
    {
     "name": "stdout",
     "output_type": "stream",
     "text": [
      "num1 is: 10\n",
      "num2 is: 20\n",
      "the addition of 10 and 20 is: 30\n"
     ]
    }
   ],
   "source": [
    "def addition():\n",
    "    num1=10\n",
    "    print(\"num1 is:\",num1)\n",
    "    num2=20\n",
    "    print(\"num2 is:\",num2)\n",
    "    add=num1+num2\n",
    "    print(f\"the addition of {num1} and {num2} is: {add}\")\n",
    "\n",
    "addition()"
   ]
  },
  {
   "cell_type": "markdown",
   "id": "4131b1ec-9947-4ef0-9d98-881b67c97e2e",
   "metadata": {},
   "source": [
    "**Note**\n",
    "\n",
    "- function names can be anything\n",
    "\n",
    "- same rules applicable as variable rules\n",
    "\n",
    "- whenever you create the function make sure the indentation correctly\n",
    "\n",
    "- starting with keyword **def** , ending with colon then code lines start with indentation\n",
    "\n",
    "- brackets means functions\n",
    "\n",
    "- Never missed the brackets whenever you call the function\n",
    "\n",
    "- If you want to execute the code we need to call the function\n",
    "\n",
    "- while you are calling the function if you see function or bound method \n",
    "\n",
    "- which means you missed the brackets"
   ]
  },
  {
   "cell_type": "code",
   "execution_count": null,
   "id": "c2e4a3da-c6c3-4279-bcbe-0d002d760b5a",
   "metadata": {},
   "outputs": [],
   "source": [
    "def addition():\n",
    "    num1=10\n",
    "    print(\"num1 is:\",num1)\n",
    "    num2=20\n",
    "    print(\"num2 is:\",num2)\n",
    "    add=num1+num2\n",
    "    print(f\"the addition of {num1} and {num2} is: {add}\")\n",
    "\n",
    "addition()"
   ]
  },
  {
   "cell_type": "code",
   "execution_count": 21,
   "id": "e806965c-dd49-4574-93d7-ae06817651f4",
   "metadata": {},
   "outputs": [
    {
     "ename": "NameError",
     "evalue": "name 'num111' is not defined",
     "output_type": "error",
     "traceback": [
      "\u001b[1;31m---------------------------------------------------------------------------\u001b[0m",
      "\u001b[1;31mNameError\u001b[0m                                 Traceback (most recent call last)",
      "Cell \u001b[1;32mIn[21], line 3\u001b[0m\n\u001b[0;32m      1\u001b[0m num1\u001b[38;5;241m=\u001b[39m\u001b[38;5;241m10\u001b[39m\n\u001b[0;32m      2\u001b[0m num2\u001b[38;5;241m=\u001b[39m\u001b[38;5;241m20\u001b[39m\n\u001b[1;32m----> 3\u001b[0m add\u001b[38;5;241m=\u001b[39mnum111\u001b[38;5;241m+\u001b[39mnum2\n\u001b[0;32m      4\u001b[0m \u001b[38;5;28mprint\u001b[39m(add)\n",
      "\u001b[1;31mNameError\u001b[0m: name 'num111' is not defined"
     ]
    }
   ],
   "source": [
    "num1=10\n",
    "num2=20\n",
    "add=num111+num2\n",
    "print(add)"
   ]
  },
  {
   "cell_type": "code",
   "execution_count": 22,
   "id": "6630f2f1-a267-49fa-945c-dee6a57ca283",
   "metadata": {},
   "outputs": [],
   "source": [
    "def addition1():\n",
    "    num1=10\n",
    "    print(\"num1 is:\",num1)\n",
    "    num2=20\n",
    "    print(\"num2 is:\",num2)\n",
    "    add=num111+num2\n",
    "    print(f\"the addition of {num1} and {num2} is: {add}\")\n"
   ]
  },
  {
   "cell_type": "code",
   "execution_count": 23,
   "id": "10c7bf6e-1ade-4f34-a676-40fe4d1bbd1e",
   "metadata": {},
   "outputs": [
    {
     "name": "stdout",
     "output_type": "stream",
     "text": [
      "num1 is: 10\n",
      "num2 is: 20\n"
     ]
    },
    {
     "ename": "NameError",
     "evalue": "name 'num111' is not defined",
     "output_type": "error",
     "traceback": [
      "\u001b[1;31m---------------------------------------------------------------------------\u001b[0m",
      "\u001b[1;31mNameError\u001b[0m                                 Traceback (most recent call last)",
      "Cell \u001b[1;32mIn[23], line 1\u001b[0m\n\u001b[1;32m----> 1\u001b[0m addition1()\n",
      "Cell \u001b[1;32mIn[22], line 6\u001b[0m, in \u001b[0;36maddition1\u001b[1;34m()\u001b[0m\n\u001b[0;32m      4\u001b[0m num2\u001b[38;5;241m=\u001b[39m\u001b[38;5;241m20\u001b[39m\n\u001b[0;32m      5\u001b[0m \u001b[38;5;28mprint\u001b[39m(\u001b[38;5;124m\"\u001b[39m\u001b[38;5;124mnum2 is:\u001b[39m\u001b[38;5;124m\"\u001b[39m,num2)\n\u001b[1;32m----> 6\u001b[0m add\u001b[38;5;241m=\u001b[39mnum111\u001b[38;5;241m+\u001b[39mnum2\n\u001b[0;32m      7\u001b[0m \u001b[38;5;28mprint\u001b[39m(\u001b[38;5;124mf\u001b[39m\u001b[38;5;124m\"\u001b[39m\u001b[38;5;124mthe addition of \u001b[39m\u001b[38;5;132;01m{\u001b[39;00mnum1\u001b[38;5;132;01m}\u001b[39;00m\u001b[38;5;124m and \u001b[39m\u001b[38;5;132;01m{\u001b[39;00mnum2\u001b[38;5;132;01m}\u001b[39;00m\u001b[38;5;124m is: \u001b[39m\u001b[38;5;132;01m{\u001b[39;00madd\u001b[38;5;132;01m}\u001b[39;00m\u001b[38;5;124m\"\u001b[39m)\n",
      "\u001b[1;31mNameError\u001b[0m: name 'num111' is not defined"
     ]
    }
   ],
   "source": [
    "addition1()"
   ]
  },
  {
   "cell_type": "markdown",
   "id": "c25ad736-0e67-4b35-bb31-d586230f3534",
   "metadata": {},
   "source": [
    "## whenever we defined the function It does not throw any error untill unless we call the function"
   ]
  },
  {
   "cell_type": "code",
   "execution_count": null,
   "id": "b5717f69-9d27-4968-abfe-27061fef4923",
   "metadata": {},
   "outputs": [],
   "source": [
    "\n",
    "# wap ask the user enter 3 numbers calculate average\n",
    "#------------------------------------------------------------------------\n",
    "\n",
    "# wap ask the uer enter radius values find the area of the circle\n",
    "#-------------------------------------------------------------------------\n",
    "\n",
    "# wap ask the user bill amount,\n",
    "#     ask the user how much tip you want pay in percentage\n",
    "#     calculate totalbill\n",
    "#-----------------------------------------------------------------------------\n",
    "\n",
    "#wap ask the user enter base height calculate area of the traingle\n",
    "#-------------------------------------------------------------------------------\n",
    "\n",
    "#wap ask the user enter length and breadth calculate area of the rectangle\n",
    "#------------------------------------------------------------------------------------\n",
    "## wap ask the user enter a number \n",
    "# find it is a even number or odd number\n",
    "#------------------------------------------------------------------------------------------\n",
    "## wap ask the user enter the distance\n",
    "# if distance greater than 25km\n",
    "#      then enter the charge\n",
    "#      print the total cost\n",
    "#otherwise\n",
    "#      print free ride"
   ]
  },
  {
   "cell_type": "code",
   "execution_count": 26,
   "id": "11f6c154-2ed8-4ecd-b154-e726c244bbe7",
   "metadata": {},
   "outputs": [
    {
     "name": "stdin",
     "output_type": "stream",
     "text": [
      "enter the num1: 20\n",
      "enter the num3: 30\n",
      "enter the num3: 40\n"
     ]
    },
    {
     "name": "stdout",
     "output_type": "stream",
     "text": [
      "the average of 20 ,30 and 40 is 30.0\n"
     ]
    }
   ],
   "source": [
    "# wap ask the user enter 3 numbers calculate average\n",
    "num1=eval(input(\"enter the num1:\"))\n",
    "num2=eval(input(\"enter the num3:\"))\n",
    "num3=eval(input(\"enter the num3:\"))\n",
    "avg=(num1+num2+num3)/3\n",
    "avg1=round(avg,2)\n",
    "print(f\"the average of {num1} ,{num2} and {num3} is {avg1}\")"
   ]
  },
  {
   "cell_type": "code",
   "execution_count": 28,
   "id": "dde51ee9-4e56-4b89-8aa8-b881292da635",
   "metadata": {},
   "outputs": [
    {
     "name": "stdin",
     "output_type": "stream",
     "text": [
      "enter the num1: 20\n",
      "enter the num3: 30\n",
      "enter the num3: 40\n"
     ]
    },
    {
     "name": "stdout",
     "output_type": "stream",
     "text": [
      "the average of 20 ,30 and 40 is 30.0\n"
     ]
    }
   ],
   "source": [
    "# function name and variable name should not be same\n",
    "def average():\n",
    "    num1=eval(input(\"enter the num1:\"))\n",
    "    num2=eval(input(\"enter the num3:\"))\n",
    "    num3=eval(input(\"enter the num3:\"))\n",
    "    avg=(num1+num2+num3)/3\n",
    "    avg1=round(avg,2)\n",
    "    print(f\"the average of {num1} ,{num2} and {num3} is {avg1}\")\n",
    "\n",
    "average()"
   ]
  },
  {
   "cell_type": "markdown",
   "id": "8a1b1b20-8919-4a95-95d4-34f6e1ef7e75",
   "metadata": {},
   "source": [
    "- while we are defining function if nothing mentioned means\n",
    "\n",
    "- It is called as Functions with out arguments"
   ]
  },
  {
   "cell_type": "code",
   "execution_count": null,
   "id": "1932cb1a-f7c8-4456-9852-d2b98f739aae",
   "metadata": {},
   "outputs": [],
   "source": [
    "def addition()\n",
    "def average()\n",
    "def area_of_traingle()\n",
    "def bill()"
   ]
  },
  {
   "cell_type": "markdown",
   "id": "bea4b69a-877b-4dea-8a26-0b09a5054c99",
   "metadata": {},
   "source": [
    "**Functions with arguments**\n",
    "\n",
    "- First look at how many arguments or variables are there\n",
    "\n",
    "- In that how many input variables are there\n",
    "\n",
    "- How many output variables are there\n",
    "\n",
    "- Input variables means user can defined\n",
    "\n",
    "- output variable means python gives the output\n",
    "\n",
    "- We can use only input variables as arguments inside the function"
   ]
  },
  {
   "cell_type": "code",
   "execution_count": null,
   "id": "966a1979-ae0c-4823-8aad-689711b647ab",
   "metadata": {},
   "outputs": [],
   "source": [
    "def addition():\n",
    "    num1=10\n",
    "    num2=20\n",
    "    add=num1+num2\n",
    "    print(f\"the addition of {num1} and {num2} is: {add}\")\n",
    "\n",
    "addition()"
   ]
  },
  {
   "cell_type": "code",
   "execution_count": 29,
   "id": "35612f2b-a15a-42d9-9b49-1b1e8ca69099",
   "metadata": {},
   "outputs": [
    {
     "name": "stdout",
     "output_type": "stream",
     "text": [
      "the addition of 10 and 20 is: 30\n"
     ]
    }
   ],
   "source": [
    "def addition2(num1,num2):\n",
    "    add=num1+num2\n",
    "    print(f\"the addition of {num1} and {num2} is: {add}\")\n",
    "\n",
    "addition2(10,20)"
   ]
  },
  {
   "cell_type": "code",
   "execution_count": 33,
   "id": "6215eb05-9da2-45e1-877c-530ee81243dc",
   "metadata": {},
   "outputs": [
    {
     "name": "stdout",
     "output_type": "stream",
     "text": [
      "the average of 30 ,40 and 50 is 40.0\n"
     ]
    }
   ],
   "source": [
    "# try for average\n",
    "\n",
    "def average1(num1,num2,num3):\n",
    "    avg=(num1+num2+num3)/3\n",
    "    avg1=round(avg,2)\n",
    "    print(f\"the average of {num1} ,{num2} and {num3} is {avg1}\")\n",
    "\n",
    "average1(30,40,50)"
   ]
  },
  {
   "cell_type": "code",
   "execution_count": null,
   "id": "840e9ac7-68d3-447d-95b5-af4f3be03cc0",
   "metadata": {},
   "outputs": [],
   "source": [
    "average1(num1,num2,num3)  # Mistake-1\n",
    "average1()                # Mistake-2"
   ]
  },
  {
   "cell_type": "code",
   "execution_count": 35,
   "id": "632687f6-bd22-492b-a623-5eea12bdb45e",
   "metadata": {},
   "outputs": [
    {
     "name": "stdout",
     "output_type": "stream",
     "text": [
      "the average of 30 ,40 and 50 is 40.0\n"
     ]
    }
   ],
   "source": [
    "#wap ask the user enter base height calculate area of the traingle\n",
    "def average1(num1,num2,num3):\n",
    "    avg=(num1+num2+num3)/3\n",
    "    avg1=round(avg,2)\n",
    "    print(f\"the average of {num1} ,{num2} and {num3} is {avg1}\")\n",
    "\n",
    "average1(30,40,50)"
   ]
  },
  {
   "cell_type": "code",
   "execution_count": 36,
   "id": "da8c80ed-969c-4943-b077-219c1ca6304b",
   "metadata": {},
   "outputs": [
    {
     "name": "stdout",
     "output_type": "stream",
     "text": [
      "area is 200\n"
     ]
    }
   ],
   "source": [
    "def area(len,bre):    \n",
    "    a=(len*bre)\n",
    "    print(f\"area is {a}\")\n",
    "\n",
    "area(10,20)"
   ]
  },
  {
   "cell_type": "code",
   "execution_count": 3,
   "id": "d63d9774-6f0f-4254-b300-53bfd4635bae",
   "metadata": {},
   "outputs": [
    {
     "name": "stdin",
     "output_type": "stream",
     "text": [
      "enter number1: 12\n",
      "enter number2: 13\n"
     ]
    },
    {
     "name": "stdout",
     "output_type": "stream",
     "text": [
      "-1\n"
     ]
    }
   ],
   "source": [
    "def sub():\n",
    "    n1=eval(input(\"enter number1:\"))\n",
    "    n2=eval(input(\"enter number2:\"))\n",
    "    sub=n1-n2\n",
    "    print(sub)\n",
    "sub()\n",
    "\n",
    "\n",
    "# Do not provide function name and variable name both are same"
   ]
  },
  {
   "cell_type": "code",
   "execution_count": 4,
   "id": "b48bffa0-331d-4e2d-81f4-6b98f26b2abd",
   "metadata": {},
   "outputs": [
    {
     "name": "stdout",
     "output_type": "stream",
     "text": [
      "-10\n"
     ]
    }
   ],
   "source": [
    "def sub(n1,n2):\n",
    "    sub=n1-n2\n",
    "    print(sub)\n",
    "sub(10,20)"
   ]
  },
  {
   "cell_type": "code",
   "execution_count": null,
   "id": "0f741995-a4e7-4aae-ad4f-c34006637f0d",
   "metadata": {},
   "outputs": [],
   "source": [
    "num=eval(input(\"enter the number:\"))\n",
    "if num%2==0:\n",
    "    print(f\"the {num} is even\")\n",
    "else:\n",
    "    print(f\"the {num} is odd\")"
   ]
  },
  {
   "cell_type": "code",
   "execution_count": 5,
   "id": "6928c82d-2ffe-40fd-89cd-f655cccc1a77",
   "metadata": {},
   "outputs": [
    {
     "name": "stdin",
     "output_type": "stream",
     "text": [
      "enter the number: 20\n"
     ]
    },
    {
     "name": "stdout",
     "output_type": "stream",
     "text": [
      "the 20 is even\n"
     ]
    }
   ],
   "source": [
    "def even_odd():\n",
    "    num=eval(input(\"enter the number:\"))\n",
    "    if num%2==0:\n",
    "        print(f\"the {num} is even\")\n",
    "    else:\n",
    "        print(f\"the {num} is odd\")\n",
    "\n",
    "even_odd()"
   ]
  },
  {
   "cell_type": "markdown",
   "id": "6693a068-54e3-44c5-934e-47bb7a9206d0",
   "metadata": {},
   "source": [
    "**Default arguments**"
   ]
  },
  {
   "cell_type": "code",
   "execution_count": 6,
   "id": "05c6f9b9-b02c-4910-afb0-4082dc343739",
   "metadata": {},
   "outputs": [
    {
     "name": "stdin",
     "output_type": "stream",
     "text": [
      "enter the bill: 1000\n",
      "enter the tip_percentage: 10\n"
     ]
    },
    {
     "name": "stdout",
     "output_type": "stream",
     "text": [
      "The total bill is: 1100.0\n"
     ]
    }
   ],
   "source": [
    "# Bill amount problem\n",
    "bill=eval(input(\"enter the bill:\"))\n",
    "tip_per=eval(input(\"enter the tip_percentage:\"))\n",
    "tip_amount=bill*tip_per/100\n",
    "total_bill=bill+tip_amount\n",
    "print(\"The total bill is:\",total_bill)"
   ]
  },
  {
   "cell_type": "code",
   "execution_count": 7,
   "id": "480ad3e4-98a0-4156-b623-88c8ab26e57d",
   "metadata": {},
   "outputs": [
    {
     "name": "stdin",
     "output_type": "stream",
     "text": [
      "enter the bill: 1000\n",
      "enter the tip_percentage: 20\n"
     ]
    },
    {
     "name": "stdout",
     "output_type": "stream",
     "text": [
      "The total bill is: 1200.0\n"
     ]
    }
   ],
   "source": [
    "# with out arguments\n",
    "def bill_pay():\n",
    "    bill=eval(input(\"enter the bill:\"))\n",
    "    tip_per=eval(input(\"enter the tip_percentage:\"))\n",
    "    tip_amount=bill*tip_per/100\n",
    "    total_bill=bill+tip_amount\n",
    "    print(\"The total bill is:\",total_bill)\n",
    "\n",
    "bill_pay()"
   ]
  },
  {
   "cell_type": "code",
   "execution_count": 8,
   "id": "b1010e64-4a61-4d61-a2c7-5493b658c844",
   "metadata": {},
   "outputs": [
    {
     "name": "stdout",
     "output_type": "stream",
     "text": [
      "The total bill is: 2400.0\n"
     ]
    }
   ],
   "source": [
    "# with arguments\n",
    "# whenever you provide the arguments\n",
    "# these provided arguments are we using inside the code or not\n",
    "def bill_pay(bill,tip_per):\n",
    "    tip_amount=bill*tip_per/100\n",
    "    total_bill=bill+tip_amount\n",
    "    print(\"The total bill is:\",total_bill)\n",
    "\n",
    "bill_pay(2000,20)"
   ]
  },
  {
   "cell_type": "code",
   "execution_count": null,
   "id": "a3fd808a-8757-4e8e-8097-1ce0ab80566c",
   "metadata": {},
   "outputs": [],
   "source": [
    "# Bill amount problem\n",
    "bill=eval(input(\"enter the bill:\"))\n",
    "tip_per=eval(input(\"enter the tip_percentage:\"))\n",
    "tip_amount=bill*tip_per/100\n",
    "total_bill=bill+tip_amount\n",
    "print(\"The total bill is:\",total_bill)\n",
    "\n",
    "############################################################################\n",
    "# with out arguments\n",
    "def bill_pay():\n",
    "    bill=eval(input(\"enter the bill:\"))\n",
    "    tip_per=eval(input(\"enter the tip_percentage:\"))\n",
    "    tip_amount=bill*tip_per/100\n",
    "    total_bill=bill+tip_amount\n",
    "    print(\"The total bill is:\",total_bill)\n",
    "\n",
    "bill_pay()\n",
    "######################################################################\n",
    "# with arguments\n",
    "# whenever you provide the arguments\n",
    "# these provided arguments are we using inside the code or not\n",
    "def bill_pay(bill,tip_per):\n",
    "    tip_amount=bill*tip_per/100\n",
    "    total_bill=bill+tip_amount\n",
    "    print(\"The total bill is:\",total_bill)\n",
    "\n",
    "bill_pay(2000,20)"
   ]
  },
  {
   "cell_type": "code",
   "execution_count": 9,
   "id": "5bef814e-01d2-4d10-9648-f199444ee915",
   "metadata": {},
   "outputs": [
    {
     "name": "stdout",
     "output_type": "stream",
     "text": [
      "bill is: 2000\n",
      "tip_per is: 20\n",
      "The total bill is: 2400.0\n"
     ]
    }
   ],
   "source": [
    "def bill_pay(bill,tip_per=20):\n",
    "    print(\"bill is:\",bill)\n",
    "    print(\"tip_per is:\",tip_per)\n",
    "    tip_amount=bill*tip_per/100\n",
    "    total_bill=bill+tip_amount\n",
    "    print(\"The total bill is:\",total_bill)\n",
    "\n",
    "bill_pay(2000)\n",
    "\n",
    "# Here the tip_per=default value\n",
    "# whenever we provided default value to a arguments\n",
    "# Then it is called default argument\n"
   ]
  },
  {
   "cell_type": "code",
   "execution_count": 11,
   "id": "ed479ff1-92ef-4c08-9122-15c8adc3661c",
   "metadata": {},
   "outputs": [
    {
     "name": "stdout",
     "output_type": "stream",
     "text": [
      "num1: 30\n",
      "num2: 40\n",
      "num3: 50\n",
      "the average of 30 ,40 and 50 is 40.0\n"
     ]
    }
   ],
   "source": [
    "def average1(num1,num2,num3=50):\n",
    "    print(\"num1:\",num1)  # 30\n",
    "    print(\"num2:\",num2)  # 40\n",
    "    print(\"num3:\",num3)  # 50\n",
    "    avg=(num1+num2+num3)/3\n",
    "    avg1=round(avg,2)\n",
    "    print(f\"the average of {num1} ,{num2} and {num3} is {avg1}\")\n",
    "\n",
    "average1(30,40)\n",
    "\n",
    "# num1  num2  are postitional arguments\n",
    "# num3 is default argument"
   ]
  },
  {
   "cell_type": "code",
   "execution_count": 4,
   "id": "2f0412c2-1152-4a0d-8b38-f27cc051e31d",
   "metadata": {},
   "outputs": [
    {
     "ename": "SyntaxError",
     "evalue": "non-default argument follows default argument (1104037446.py, line 1)",
     "output_type": "error",
     "traceback": [
      "\u001b[1;36m  Cell \u001b[1;32mIn[4], line 1\u001b[1;36m\u001b[0m\n\u001b[1;33m    def average1(num1,num2=40,num3):\u001b[0m\n\u001b[1;37m                              ^\u001b[0m\n\u001b[1;31mSyntaxError\u001b[0m\u001b[1;31m:\u001b[0m non-default argument follows default argument\n"
     ]
    }
   ],
   "source": [
    "def average1(num1,num2=40,num3):\n",
    "    print(\"num1:\",num1)  # 30\n",
    "    print(\"num2:\",num2)  # 40\n",
    "    print(\"num3:\",num3)  # 50\n",
    "    avg=(num1+num2+num3)/3\n",
    "    avg1=round(avg,2)\n",
    "    print(f\"the average of {num1} ,{num2} and {num3} is {avg1}\")\n",
    "\n",
    "average1(30,50)\n"
   ]
  },
  {
   "cell_type": "code",
   "execution_count": 13,
   "id": "1f9e9ffb-5a7b-4e73-b240-0d2b9a205d72",
   "metadata": {},
   "outputs": [
    {
     "name": "stdout",
     "output_type": "stream",
     "text": [
      "num1: 30\n",
      "num2: 40\n",
      "num3: 50\n",
      "the average of 30 ,40 and 50 is 40.0\n"
     ]
    }
   ],
   "source": [
    "def average1(num1,num3,num2=40):\n",
    "    print(\"num1:\",num1)  # 30\n",
    "    print(\"num2:\",num2)  # 40\n",
    "    print(\"num3:\",num3)  # 50\n",
    "    avg=(num1+num2+num3)/3\n",
    "    avg1=round(avg,2)\n",
    "    print(f\"the average of {num1} ,{num2} and {num3} is {avg1}\")\n",
    "\n",
    "average1(30,50)"
   ]
  },
  {
   "cell_type": "markdown",
   "id": "89d354ea-de61-48c7-b9a0-eb2bd43d6c9b",
   "metadata": {},
   "source": [
    "**Note**\n",
    "\n",
    "- Default argument always at last "
   ]
  },
  {
   "cell_type": "code",
   "execution_count": null,
   "id": "0c07be11-5e0b-420f-a7e0-6dec519e0d8d",
   "metadata": {},
   "outputs": [],
   "source": [
    "average1(num1,num2,num3=40)  # W\n",
    "average1(num1,num2=50,num3)  # F\n",
    "average1(num1=100,num2,num3) # F\n",
    "average1(num1,num2=50,num3=40) # W\n",
    "average1(num1=100,num2,num3=40) # F\n",
    "average1(num1=100,num2=50,num3) # F\n",
    "average1(num1=100,num2=50,num3=40) # W"
   ]
  },
  {
   "cell_type": "code",
   "execution_count": 14,
   "id": "477bb140-08d9-4167-8f48-0f57d421d02c",
   "metadata": {},
   "outputs": [
    {
     "name": "stdout",
     "output_type": "stream",
     "text": [
      "num1: 30\n",
      "num2: 50\n",
      "num3: 40\n",
      "the average of 30 ,50 and 40 is 40.0\n"
     ]
    }
   ],
   "source": [
    "def average1(num1,num2=50,num3=40):\n",
    "    print(\"num1:\",num1)  # 30\n",
    "    print(\"num2:\",num2)  # 40\n",
    "    print(\"num3:\",num3)  # 50\n",
    "    avg=(num1+num2+num3)/3\n",
    "    avg1=round(avg,2)\n",
    "    print(f\"the average of {num1} ,{num2} and {num3} is {avg1}\")\n",
    "\n",
    "average1(30)"
   ]
  },
  {
   "cell_type": "code",
   "execution_count": 15,
   "id": "0730fe4c-53e7-4fc1-b2ed-0b1cac1d2d95",
   "metadata": {},
   "outputs": [
    {
     "name": "stdout",
     "output_type": "stream",
     "text": [
      "1100\n"
     ]
    }
   ],
   "source": [
    "# Case-1:\n",
    "def addition(n1,n2=600):\n",
    "    add=n1+n2\n",
    "    print(add)\n",
    "\n",
    "addition(500)"
   ]
  },
  {
   "cell_type": "code",
   "execution_count": 16,
   "id": "e42cca84-e2d2-45a3-b1ba-b85dc05d5445",
   "metadata": {},
   "outputs": [
    {
     "name": "stdout",
     "output_type": "stream",
     "text": [
      "1500\n"
     ]
    }
   ],
   "source": [
    "# Case-2:\n",
    "def addition(n1,n2=600):\n",
    "    add=n1+n2\n",
    "    print(add)\n",
    "\n",
    "addition(500,1000)\n",
    "\n",
    "# First we are defining function\n",
    "# while define the function we given n2=600\n",
    "# now we are calling the function, \n",
    "# while we are calling n2=1000\n",
    "# So value will be overwrite\n",
    "# Python always takes the latest value"
   ]
  },
  {
   "cell_type": "code",
   "execution_count": 17,
   "id": "353938ff-c37e-4cb2-ac5a-96cb9eb6b9e8",
   "metadata": {},
   "outputs": [
    {
     "name": "stdout",
     "output_type": "stream",
     "text": [
      "2500\n"
     ]
    }
   ],
   "source": [
    "# Case-3:\n",
    "def addition(n1,n2=600):\n",
    "    n2=2000\n",
    "    add=n1+n2\n",
    "    print(add)\n",
    "\n",
    "addition(500,1000)\n",
    "\n",
    "#A) 1100  B) 1500 C) 2500 D) error\n",
    "\n",
    "# Step-1:  Define the function  n2=600\n",
    "# Step-2: Call the fuction n2=1000\n",
    "# Step-3: Running the function n2=2000"
   ]
  },
  {
   "cell_type": "code",
   "execution_count": null,
   "id": "f63ae313-ef92-4294-a295-58eff93d281d",
   "metadata": {},
   "outputs": [],
   "source": [
    "# Case-4:\n",
    "def addition(n1,n2=600):\n",
    "    n2=2000\n",
    "    add=n1+n2\n",
    "    print(add)\n",
    "n2=3000\n",
    "addition(500,1000)\n",
    "# n2=600 ==== > 3000 === >1000m==== > 2500"
   ]
  },
  {
   "cell_type": "markdown",
   "id": "7a141792-35f2-4bce-8c26-40754d8401d9",
   "metadata": {},
   "source": [
    "**Local variable and Global variable**\n",
    "\n",
    "- Local variable means : the variables inside the function call\n",
    "\n",
    "- Global variable means: the variables outside the function call\n",
    "\n",
    "- Once you define the variables outside means , you can use those variables anywhere\n",
    "\n",
    "- You can use global variables inside function also\n",
    "\n",
    "- But you can not use local variables outside the function"
   ]
  },
  {
   "cell_type": "code",
   "execution_count": 18,
   "id": "41bd3b8f-44eb-46dd-aed0-b4f646479068",
   "metadata": {},
   "outputs": [
    {
     "name": "stdout",
     "output_type": "stream",
     "text": [
      "200\n"
     ]
    }
   ],
   "source": [
    "def multiplication():\n",
    "    a=10\n",
    "    b=20\n",
    "    mul=a*b\n",
    "    print(mul)\n",
    "multiplication()\n",
    "\n",
    "# a,b,mul are local variables \n",
    "# these values we can not use outside the function"
   ]
  },
  {
   "cell_type": "code",
   "execution_count": 20,
   "id": "ec186823-755d-4c77-a5a0-2905f809a7f6",
   "metadata": {},
   "outputs": [
    {
     "ename": "NameError",
     "evalue": "name 'mul' is not defined",
     "output_type": "error",
     "traceback": [
      "\u001b[1;31m---------------------------------------------------------------------------\u001b[0m",
      "\u001b[1;31mNameError\u001b[0m                                 Traceback (most recent call last)",
      "Cell \u001b[1;32mIn[20], line 1\u001b[0m\n\u001b[1;32m----> 1\u001b[0m mul\n",
      "\u001b[1;31mNameError\u001b[0m: name 'mul' is not defined"
     ]
    }
   ],
   "source": [
    "mul"
   ]
  },
  {
   "cell_type": "code",
   "execution_count": 24,
   "id": "38d56117-a430-4a20-86fb-c1f918e86f8d",
   "metadata": {},
   "outputs": [
    {
     "name": "stdout",
     "output_type": "stream",
     "text": [
      "20000\n"
     ]
    }
   ],
   "source": [
    "a1=100\n",
    "b1=200\n",
    "def multiplication1():\n",
    "    mul1=a1*b1\n",
    "    print(mul1)\n",
    "multiplication1()"
   ]
  },
  {
   "cell_type": "code",
   "execution_count": 22,
   "id": "844245ef-b529-49c0-aef1-06ef0b3c6f64",
   "metadata": {},
   "outputs": [
    {
     "data": {
      "text/plain": [
       "100"
      ]
     },
     "execution_count": 22,
     "metadata": {},
     "output_type": "execute_result"
    }
   ],
   "source": [
    "a1"
   ]
  },
  {
   "cell_type": "code",
   "execution_count": 25,
   "id": "97d6e5bb-e0ee-4955-904b-afecb7880362",
   "metadata": {},
   "outputs": [
    {
     "ename": "NameError",
     "evalue": "name 'mul1' is not defined",
     "output_type": "error",
     "traceback": [
      "\u001b[1;31m---------------------------------------------------------------------------\u001b[0m",
      "\u001b[1;31mNameError\u001b[0m                                 Traceback (most recent call last)",
      "Cell \u001b[1;32mIn[25], line 1\u001b[0m\n\u001b[1;32m----> 1\u001b[0m mul1\n",
      "\u001b[1;31mNameError\u001b[0m: name 'mul1' is not defined"
     ]
    }
   ],
   "source": [
    "mul1"
   ]
  },
  {
   "cell_type": "code",
   "execution_count": 26,
   "id": "d7338379-8761-47b2-b978-ed0479fbaf7a",
   "metadata": {},
   "outputs": [
    {
     "name": "stdout",
     "output_type": "stream",
     "text": [
      "1200\n"
     ]
    }
   ],
   "source": [
    "# Case-5:\n",
    "a1=100\n",
    "b1=200\n",
    "def add11(a1=1000):\n",
    "    add1=a1+b1\n",
    "    print(add1)\n",
    "add11()\n",
    "\n",
    "# a1=100 === > a1=1000  === > 1000+200\n",
    "\n",
    "#Step-1: Global variable intialization  a1=100\n",
    "# Step-2: Define the function  a1=1000\n",
    "# Step-3: Call the function    a1=1000\n",
    "# Step-4: Running the function a1=1000"
   ]
  },
  {
   "cell_type": "code",
   "execution_count": 27,
   "id": "9e3b991d-503f-422b-9224-d248bf45ea4a",
   "metadata": {},
   "outputs": [
    {
     "ename": "TypeError",
     "evalue": "add11() got an unexpected keyword argument 'b1'",
     "output_type": "error",
     "traceback": [
      "\u001b[1;31m---------------------------------------------------------------------------\u001b[0m",
      "\u001b[1;31mTypeError\u001b[0m                                 Traceback (most recent call last)",
      "Cell \u001b[1;32mIn[27], line 7\u001b[0m\n\u001b[0;32m      5\u001b[0m     add1\u001b[38;5;241m=\u001b[39ma1\u001b[38;5;241m+\u001b[39mb1\n\u001b[0;32m      6\u001b[0m     \u001b[38;5;28mprint\u001b[39m(add1)\n\u001b[1;32m----> 7\u001b[0m add11(a1\u001b[38;5;241m=\u001b[39m\u001b[38;5;241m2000\u001b[39m,b1\u001b[38;5;241m=\u001b[39m\u001b[38;5;241m3000\u001b[39m)\n",
      "\u001b[1;31mTypeError\u001b[0m: add11() got an unexpected keyword argument 'b1'"
     ]
    }
   ],
   "source": [
    "# Case-6:\n",
    "a1=100\n",
    "b1=200\n",
    "def add11(a1=1000):\n",
    "    add1=a1+b1\n",
    "    print(add1)\n",
    "add11(a1=2000,b1=3000)\n",
    "\n",
    "# while defiening function only one argument is there\n",
    "# while calling we are providing two arguments\n",
    "# It is not possibile"
   ]
  },
  {
   "cell_type": "code",
   "execution_count": 28,
   "id": "cd3fd156-ae66-46ae-a800-d6248d42dc28",
   "metadata": {},
   "outputs": [
    {
     "name": "stdout",
     "output_type": "stream",
     "text": [
      "2200\n"
     ]
    }
   ],
   "source": [
    "# Case-7:\n",
    "a1=100\n",
    "b1=200\n",
    "def add11(a1=1000):\n",
    "    add1=a1+b1\n",
    "    print(add1)\n",
    "add11(a1=2000)\n"
   ]
  },
  {
   "cell_type": "code",
   "execution_count": 31,
   "id": "50a1cd80-a3a2-4218-ba40-cbfda0e8bf68",
   "metadata": {},
   "outputs": [
    {
     "name": "stdout",
     "output_type": "stream",
     "text": [
      "5200\n"
     ]
    }
   ],
   "source": [
    "# Case-8:\n",
    "a1=100\n",
    "b1=200\n",
    "def add11(a1=1000):\n",
    "    a1=5000\n",
    "    add1=a1+b1\n",
    "    print(add1)\n",
    "add11(a1=2000)"
   ]
  },
  {
   "cell_type": "code",
   "execution_count": 32,
   "id": "c7edf953-92e3-4514-8409-921d7c09f9b4",
   "metadata": {},
   "outputs": [
    {
     "data": {
      "text/plain": [
       "100"
      ]
     },
     "execution_count": 32,
     "metadata": {},
     "output_type": "execute_result"
    }
   ],
   "source": [
    "a1"
   ]
  },
  {
   "cell_type": "code",
   "execution_count": 33,
   "id": "b8f7221e-214a-4f8e-972c-18f61739796d",
   "metadata": {},
   "outputs": [
    {
     "name": "stdout",
     "output_type": "stream",
     "text": [
      "5200\n"
     ]
    }
   ],
   "source": [
    "# Case-9:\n",
    "a1=100\n",
    "b1=200\n",
    "def add11(a1=1000):\n",
    "    a1=5000\n",
    "    add1=a1+b1\n",
    "    print(add1)\n",
    "a1=6000\n",
    "add11(a1=2000)\n",
    "# a1=100,b1=200\n",
    "# define the function a1=1000\n",
    "# a1=6000\n",
    "# calling the  a1=2000\n",
    "# running  a1=5000"
   ]
  },
  {
   "cell_type": "code",
   "execution_count": 34,
   "id": "e44801b2-481f-42d6-9160-694f9ff33eee",
   "metadata": {},
   "outputs": [
    {
     "data": {
      "text/plain": [
       "6000"
      ]
     },
     "execution_count": 34,
     "metadata": {},
     "output_type": "execute_result"
    }
   ],
   "source": [
    "a1"
   ]
  },
  {
   "cell_type": "code",
   "execution_count": 35,
   "id": "627dc5a6-1bda-4b07-a1ea-78464573ae82",
   "metadata": {},
   "outputs": [
    {
     "name": "stdout",
     "output_type": "stream",
     "text": [
      "6200\n"
     ]
    }
   ],
   "source": [
    "# Case-10:\n",
    "b1=200\n",
    "def add11():\n",
    "    add1=a1+b1\n",
    "    print(add1)\n",
    "a1=6000\n",
    "add11()\n",
    "\n",
    "# b1=200\n",
    "# define the function\n",
    "# a1=6000\n",
    "# calling the function\n",
    "# running the function"
   ]
  },
  {
   "cell_type": "code",
   "execution_count": null,
   "id": "a8829411-15b0-4659-9f3f-6d8527a26a0f",
   "metadata": {},
   "outputs": [],
   "source": [
    "# Case-11:\n",
    "b1=200\n",
    "def add11():\n",
    "    add1=a1+b1\n",
    "    print(add1)\n",
    "a1=6000\n",
    "add11()\n"
   ]
  },
  {
   "cell_type": "code",
   "execution_count": null,
   "id": "1564c64c-ab57-4283-9973-e84d5077768b",
   "metadata": {},
   "outputs": [],
   "source": [
    "even through we use same variable name a1 in local and global.. both are different"
   ]
  },
  {
   "cell_type": "code",
   "execution_count": 36,
   "id": "ae8fbb1b-0286-4a31-a73d-108636ecf81e",
   "metadata": {},
   "outputs": [
    {
     "name": "stdout",
     "output_type": "stream",
     "text": [
      "hello\n"
     ]
    }
   ],
   "source": [
    "a=100\n",
    "def greet():\n",
    "    a=200\n",
    "    print('hello')\n",
    "greet()"
   ]
  },
  {
   "cell_type": "code",
   "execution_count": null,
   "id": "17a14e18-f1a3-41cd-a819-55c0cbb4815b",
   "metadata": {},
   "outputs": [],
   "source": [
    "# step-1: Variables intilised\n",
    "# Step-2:  Define the function\n",
    "# Step-3: Calling the function\n",
    "# Step-4: Running the function"
   ]
  },
  {
   "cell_type": "code",
   "execution_count": 38,
   "id": "2471a0d0-92c3-44b5-81ae-97e0f11456ab",
   "metadata": {},
   "outputs": [
    {
     "ename": "NameError",
     "evalue": "name 'a21' is not defined",
     "output_type": "error",
     "traceback": [
      "\u001b[1;31m---------------------------------------------------------------------------\u001b[0m",
      "\u001b[1;31mNameError\u001b[0m                                 Traceback (most recent call last)",
      "Cell \u001b[1;32mIn[38], line 6\u001b[0m\n\u001b[0;32m      4\u001b[0m     add1\u001b[38;5;241m=\u001b[39ma21\u001b[38;5;241m+\u001b[39mb21\n\u001b[0;32m      5\u001b[0m     \u001b[38;5;28mprint\u001b[39m(add1)\n\u001b[1;32m----> 6\u001b[0m add21()\n\u001b[0;32m      7\u001b[0m a\u001b[38;5;241m=\u001b[39m\u001b[38;5;241m6000\u001b[39m\n",
      "Cell \u001b[1;32mIn[38], line 4\u001b[0m, in \u001b[0;36madd21\u001b[1;34m()\u001b[0m\n\u001b[0;32m      3\u001b[0m \u001b[38;5;28;01mdef\u001b[39;00m \u001b[38;5;21madd21\u001b[39m():\n\u001b[1;32m----> 4\u001b[0m     add1\u001b[38;5;241m=\u001b[39ma21\u001b[38;5;241m+\u001b[39mb21\n\u001b[0;32m      5\u001b[0m     \u001b[38;5;28mprint\u001b[39m(add1)\n",
      "\u001b[1;31mNameError\u001b[0m: name 'a21' is not defined"
     ]
    }
   ],
   "source": [
    "# Case-12:\n",
    "b21=200\n",
    "def add21():\n",
    "    add1=a21+b21\n",
    "    print(add1)\n",
    "add21()\n",
    "a=6000"
   ]
  },
  {
   "cell_type": "markdown",
   "id": "c0cefd85-1f63-4c03-baa1-67f7ebbe64fe",
   "metadata": {},
   "source": [
    "**unbound local error**"
   ]
  },
  {
   "cell_type": "code",
   "execution_count": 2,
   "id": "a0bf7b57-b9f0-417b-b754-22fb9af0b969",
   "metadata": {},
   "outputs": [
    {
     "name": "stdout",
     "output_type": "stream",
     "text": [
      "100\n"
     ]
    }
   ],
   "source": [
    "num1=10\n",
    "def fun1():\n",
    "    num1=100\n",
    "    print(num1)\n",
    "fun1()"
   ]
  },
  {
   "cell_type": "code",
   "execution_count": 5,
   "id": "d940af23-8ae2-44a4-856f-e5bdd996bf35",
   "metadata": {},
   "outputs": [
    {
     "ename": "UnboundLocalError",
     "evalue": "cannot access local variable 'num2' where it is not associated with a value",
     "output_type": "error",
     "traceback": [
      "\u001b[1;31m---------------------------------------------------------------------------\u001b[0m",
      "\u001b[1;31mUnboundLocalError\u001b[0m                         Traceback (most recent call last)",
      "Cell \u001b[1;32mIn[5], line 5\u001b[0m\n\u001b[0;32m      3\u001b[0m     \u001b[38;5;28mprint\u001b[39m(num2)\n\u001b[0;32m      4\u001b[0m     num2\u001b[38;5;241m=\u001b[39m\u001b[38;5;241m100\u001b[39m \u001b[38;5;66;03m#local variable\u001b[39;00m\n\u001b[1;32m----> 5\u001b[0m fun2()\n",
      "Cell \u001b[1;32mIn[5], line 3\u001b[0m, in \u001b[0;36mfun2\u001b[1;34m()\u001b[0m\n\u001b[0;32m      2\u001b[0m \u001b[38;5;28;01mdef\u001b[39;00m \u001b[38;5;21mfun2\u001b[39m():\n\u001b[1;32m----> 3\u001b[0m     \u001b[38;5;28mprint\u001b[39m(num2)\n\u001b[0;32m      4\u001b[0m     num2\u001b[38;5;241m=\u001b[39m\u001b[38;5;241m100\u001b[39m\n",
      "\u001b[1;31mUnboundLocalError\u001b[0m: cannot access local variable 'num2' where it is not associated with a value"
     ]
    }
   ],
   "source": [
    "num2=10 #global variable\n",
    "def fun2():\n",
    "    print(num2)\n",
    "    num2=100 #local variable\n",
    "fun2()\n",
    "#if num2 not there in gv then name error will come\n",
    "#local variable and global variable both names are same\n",
    "#you are try to access local variable before assign"
   ]
  },
  {
   "cell_type": "code",
   "execution_count": 4,
   "id": "b43ce245-d831-4615-a26a-a4fd20cd3123",
   "metadata": {},
   "outputs": [
    {
     "ename": "UnboundLocalError",
     "evalue": "cannot access local variable 'num2' where it is not associated with a value",
     "output_type": "error",
     "traceback": [
      "\u001b[1;31m---------------------------------------------------------------------------\u001b[0m",
      "\u001b[1;31mUnboundLocalError\u001b[0m                         Traceback (most recent call last)",
      "Cell \u001b[1;32mIn[4], line 4\u001b[0m\n\u001b[0;32m      2\u001b[0m     \u001b[38;5;28mprint\u001b[39m(num2)\n\u001b[0;32m      3\u001b[0m     num2\u001b[38;5;241m=\u001b[39m\u001b[38;5;241m100\u001b[39m \u001b[38;5;66;03m#local variable\u001b[39;00m\n\u001b[1;32m----> 4\u001b[0m fun2()\n",
      "Cell \u001b[1;32mIn[4], line 2\u001b[0m, in \u001b[0;36mfun2\u001b[1;34m()\u001b[0m\n\u001b[0;32m      1\u001b[0m \u001b[38;5;28;01mdef\u001b[39;00m \u001b[38;5;21mfun2\u001b[39m():\n\u001b[1;32m----> 2\u001b[0m     \u001b[38;5;28mprint\u001b[39m(num2)\n\u001b[0;32m      3\u001b[0m     num2\u001b[38;5;241m=\u001b[39m\u001b[38;5;241m100\u001b[39m\n",
      "\u001b[1;31mUnboundLocalError\u001b[0m: cannot access local variable 'num2' where it is not associated with a value"
     ]
    }
   ],
   "source": [
    "def fun2():\n",
    "    print(num2)\n",
    "    num2=100 #local variable\n",
    "fun2()"
   ]
  },
  {
   "cell_type": "code",
   "execution_count": 15,
   "id": "fdcc1c4d-0904-4d50-a135-7ea83a0fa3f5",
   "metadata": {},
   "outputs": [
    {
     "name": "stdout",
     "output_type": "stream",
     "text": [
      "300\n"
     ]
    }
   ],
   "source": [
    "#case-1\n",
    "#here no local variables as same name as global variables\n",
    "a1=100\n",
    "b1=200\n",
    "def add11():\n",
    "    add1=a1+b1\n",
    "    print(add1)\n",
    "add1()"
   ]
  },
  {
   "cell_type": "code",
   "execution_count": 14,
   "id": "7597ca25-4609-4b51-8341-528475e1442e",
   "metadata": {},
   "outputs": [
    {
     "name": "stdout",
     "output_type": "stream",
     "text": [
      "500\n"
     ]
    }
   ],
   "source": [
    "#case-2\n",
    "#here we are initializing lv names as gv \n",
    "#we are using lv after initilization\n",
    "a1=300\n",
    "b1=500\n",
    "def add12():\n",
    "    a1=200\n",
    "    b1=300\n",
    "    add2=a1+b1\n",
    "    print(add2)\n",
    "add12()"
   ]
  },
  {
   "cell_type": "code",
   "execution_count": 13,
   "id": "ef696493-d5d2-45a2-85fb-c8ca95f4afae",
   "metadata": {},
   "outputs": [
    {
     "ename": "UnboundLocalError",
     "evalue": "cannot access local variable 'a1' where it is not associated with a value",
     "output_type": "error",
     "traceback": [
      "\u001b[1;31m---------------------------------------------------------------------------\u001b[0m",
      "\u001b[1;31mUnboundLocalError\u001b[0m                         Traceback (most recent call last)",
      "Cell \u001b[1;32mIn[13], line 11\u001b[0m\n\u001b[0;32m      9\u001b[0m     b1\u001b[38;5;241m=\u001b[39m\u001b[38;5;241m50\u001b[39m\n\u001b[0;32m     10\u001b[0m     \u001b[38;5;28mprint\u001b[39m(add1)\n\u001b[1;32m---> 11\u001b[0m add13()\n",
      "Cell \u001b[1;32mIn[13], line 7\u001b[0m, in \u001b[0;36madd13\u001b[1;34m()\u001b[0m\n\u001b[0;32m      6\u001b[0m \u001b[38;5;28;01mdef\u001b[39;00m \u001b[38;5;21madd13\u001b[39m():\n\u001b[1;32m----> 7\u001b[0m     add1\u001b[38;5;241m=\u001b[39ma1\u001b[38;5;241m+\u001b[39mb1\n\u001b[0;32m      8\u001b[0m     a1\u001b[38;5;241m=\u001b[39m\u001b[38;5;241m90\u001b[39m\n\u001b[0;32m      9\u001b[0m     b1\u001b[38;5;241m=\u001b[39m\u001b[38;5;241m50\u001b[39m\n",
      "\u001b[1;31mUnboundLocalError\u001b[0m: cannot access local variable 'a1' where it is not associated with a value"
     ]
    }
   ],
   "source": [
    "#case-3\n",
    "#here we are initializing lv names as gv \n",
    "#we are using lv after initilization **due to this error\n",
    "a1=200\n",
    "b1=900\n",
    "def add13():\n",
    "    add1=a1+b1\n",
    "    a1=90\n",
    "    b1=50\n",
    "    print(add1)\n",
    "add13()"
   ]
  },
  {
   "cell_type": "markdown",
   "id": "5eb5d9a7-a6ba-4643-9a0a-385973180ca2",
   "metadata": {},
   "source": [
    "**functions in functions**"
   ]
  },
  {
   "cell_type": "code",
   "execution_count": 25,
   "id": "8ad6eb8c-24f5-4bd0-a01c-2762328e974a",
   "metadata": {},
   "outputs": [
    {
     "name": "stdout",
     "output_type": "stream",
     "text": [
      "hello gud mrng\n",
      "gud nyt!\n"
     ]
    }
   ],
   "source": [
    "def greet1():\n",
    "    print(\"hello gud mrng\")\n",
    "    greet2()\n",
    "def greet2():\n",
    "    print(\"gud nyt!\")\n",
    "greet1()"
   ]
  },
  {
   "cell_type": "code",
   "execution_count": 23,
   "id": "fa38c7b0-3bf5-4d0c-9335-cc38408eecbd",
   "metadata": {},
   "outputs": [
    {
     "name": "stdout",
     "output_type": "stream",
     "text": [
      "hello gud mrng\n",
      "gud nyt!\n"
     ]
    }
   ],
   "source": [
    "def greet2():\n",
    "    print(\"gud nyt!\")\n",
    "def greet1():\n",
    "    print(\"hello gud mrng\")\n",
    "    greet2()\n",
    "\n",
    "greet1()"
   ]
  },
  {
   "cell_type": "code",
   "execution_count": 38,
   "id": "9cc1d208-7756-45e4-9f24-ecc6b22dd7a1",
   "metadata": {},
   "outputs": [
    {
     "name": "stdout",
     "output_type": "stream",
     "text": [
      "gud nyt!\n",
      "hello gud mrng\n"
     ]
    }
   ],
   "source": [
    "def greet1():\n",
    "    print(\"hello gud mrng\")\n",
    "    #greet2()\n",
    "    def greet2():\n",
    "        print(\"gud nyt!\")\n",
    "\n",
    "greet2()\n",
    "greet1()"
   ]
  },
  {
   "cell_type": "markdown",
   "id": "b65f76c7-a8a0-4a33-bd5a-455d3a042e53",
   "metadata": {},
   "source": [
    "**function without arguments**"
   ]
  },
  {
   "cell_type": "code",
   "execution_count": 41,
   "id": "9e603519-9c80-4b2a-ad14-6082f6fa4863",
   "metadata": {},
   "outputs": [
    {
     "name": "stdin",
     "output_type": "stream",
     "text": [
      "enter the distance in km:  50\n",
      "enter the cut off distance :  25\n"
     ]
    },
    {
     "name": "stdout",
     "output_type": "stream",
     "text": [
      "the chargable distance is :  25\n"
     ]
    },
    {
     "name": "stdin",
     "output_type": "stream",
     "text": [
      "enter charge per km :  2\n"
     ]
    },
    {
     "name": "stdout",
     "output_type": "stream",
     "text": [
      "the total price :  50\n"
     ]
    }
   ],
   "source": [
    "def price():\n",
    "    dist=eval(input(\"enter the distance in km: \"))\n",
    "    cutoff=eval(input(\"enter the cut off distance : \"))\n",
    "    if dist>cutoff:\n",
    "        cdist=dist-cutoff\n",
    "        print(\"the chargable distance is : \",cdist)\n",
    "        charg=eval(input(\"enter charge per km : \"))\n",
    "        cost=charg*cdist\n",
    "        print(\"the total price : \",cost)\n",
    "    else:\n",
    "        print(\"enjoy free ride\")\n",
    "price()"
   ]
  },
  {
   "cell_type": "markdown",
   "id": "a9982440-4770-4c3f-a5e9-c3ef7c2140c4",
   "metadata": {},
   "source": [
    "**function with arguments**"
   ]
  },
  {
   "cell_type": "code",
   "execution_count": 45,
   "id": "7c21b270-be62-40b2-a01f-47b98d3cc469",
   "metadata": {},
   "outputs": [
    {
     "name": "stdin",
     "output_type": "stream",
     "text": [
      "enter the distance in km:  40\n",
      "enter the cut off distance :  25\n",
      "enter charge per km :  6\n"
     ]
    },
    {
     "name": "stdout",
     "output_type": "stream",
     "text": [
      "the chargable distance is :  15\n",
      "the total price :  90\n"
     ]
    }
   ],
   "source": [
    "def price(dist,cutoff,charg):\n",
    "    if dist>cutoff:\n",
    "        cdist=dist-cutoff\n",
    "        print(\"the chargable distance is : \",cdist)\n",
    "        cost=charg*cdist\n",
    "        print(\"the total price : \",cost)\n",
    "    else:\n",
    "        print(\"enjoy free ride\")\n",
    "dist=eval(input(\"enter the distance in km: \"))\n",
    "cutoff=eval(input(\"enter the cut off distance : \"))\n",
    "charg=eval(input(\"enter charge per km : \"))\n",
    "price(dist,cutoff,charg)"
   ]
  },
  {
   "cell_type": "markdown",
   "id": "f0a8764f-2c38-4d07-92a9-313c0858da0f",
   "metadata": {},
   "source": [
    "**default arguments**"
   ]
  },
  {
   "cell_type": "code",
   "execution_count": 46,
   "id": "2d85bb2e-d3e9-4688-b3a7-0583495bc806",
   "metadata": {},
   "outputs": [
    {
     "name": "stdin",
     "output_type": "stream",
     "text": [
      "enter the distance in km:  50\n"
     ]
    },
    {
     "name": "stdout",
     "output_type": "stream",
     "text": [
      "the chargable distance is :  25\n",
      "the total price :  125\n"
     ]
    }
   ],
   "source": [
    "def price(dist,cutoff=25,charg=5):\n",
    "    if dist>cutoff:\n",
    "        cdist=dist-cutoff\n",
    "        print(\"the chargable distance is : \",cdist)\n",
    "        cost=charg*cdist\n",
    "        print(\"the total price : \",cost)\n",
    "    else:\n",
    "        print(\"enjoy free ride\")\n",
    "dist=eval(input(\"enter the distance in km: \"))\n",
    "price(dist)"
   ]
  },
  {
   "cell_type": "markdown",
   "id": "42f8762f-8006-49ca-86e4-7b1c2ed1572d",
   "metadata": {},
   "source": [
    "**using local and global**"
   ]
  },
  {
   "cell_type": "code",
   "execution_count": 47,
   "id": "e2ea3cdb-a66c-4394-95eb-eb093e5e5774",
   "metadata": {},
   "outputs": [
    {
     "name": "stdin",
     "output_type": "stream",
     "text": [
      "enter the distance in km:  50\n",
      "enter the cut off distance :  30\n",
      "enter charge per km :  6\n"
     ]
    },
    {
     "name": "stdout",
     "output_type": "stream",
     "text": [
      "the chargable distance is :  20\n",
      "the total price :  120\n"
     ]
    }
   ],
   "source": [
    "dist=eval(input(\"enter the distance in km: \"))\n",
    "cutoff=eval(input(\"enter the cut off distance : \"))\n",
    "charg=eval(input(\"enter charge per km : \"))\n",
    "def price():\n",
    "    if dist>cutoff:\n",
    "        cdist=dist-cutoff\n",
    "        print(\"the chargable distance is : \",cdist)\n",
    "        cost=charg*cdist\n",
    "        print(\"the total price : \",cost)\n",
    "    else:\n",
    "        print(\"enjoy free ride\")\n",
    "price()"
   ]
  },
  {
   "cell_type": "markdown",
   "id": "076fa4c9-f825-4b9e-8d7f-178eb32a657f",
   "metadata": {},
   "source": [
    "**local variable making as local variable**"
   ]
  },
  {
   "cell_type": "code",
   "execution_count": 50,
   "id": "c999924e-f22b-4fc9-8812-ff66725a149e",
   "metadata": {},
   "outputs": [
    {
     "name": "stdin",
     "output_type": "stream",
     "text": [
      "enter the distance in km:  50\n",
      "enter the cut off distance :  30\n",
      "enter charge per km :  6\n"
     ]
    },
    {
     "name": "stdout",
     "output_type": "stream",
     "text": [
      "the chargable distance is :  20\n",
      "120\n"
     ]
    }
   ],
   "source": [
    "dist=eval(input(\"enter the distance in km: \"))\n",
    "cutoff=eval(input(\"enter the cut off distance : \"))\n",
    "charg=eval(input(\"enter charge per km : \"))\n",
    "def price():\n",
    "    global cost\n",
    "    if dist>cutoff:\n",
    "        cdist=dist-cutoff\n",
    "        print(\"the chargable distance is : \",cdist)\n",
    "        cost=charg*cdist\n",
    "    else:\n",
    "        print(\"enjoy free ride\")\n",
    "price()\n",
    "print(cost)"
   ]
  },
  {
   "cell_type": "markdown",
   "id": "5580effb-e97d-4f47-a2a7-39d5199355b1",
   "metadata": {},
   "source": [
    "**return**"
   ]
  },
  {
   "cell_type": "code",
   "execution_count": 58,
   "id": "f87fa6a1-b823-4e4d-9c66-897e0aa8d0ff",
   "metadata": {},
   "outputs": [
    {
     "name": "stdin",
     "output_type": "stream",
     "text": [
      "enter the distance in km:  20\n",
      "enter the cut off distance :  60\n"
     ]
    },
    {
     "name": "stdout",
     "output_type": "stream",
     "text": [
      "120\n"
     ]
    }
   ],
   "source": [
    "def price12(dist,cutoff):\n",
    "    if dist>cutoff:\n",
    "        charg=eval(input(\"enter charge per km : \"))\n",
    "        cdist=dist-cutoff\n",
    "        print(\"the chargable distance is : \",cdist)\n",
    "        cost1=charg*cdist\n",
    "    else:\n",
    "        cost1=100\n",
    "    return cost1\n",
    "dist=eval(input(\"enter the distance in km: \"))\n",
    "cutoff=eval(input(\"enter the cut off distance : \"))\n",
    "c1=price12(dist,cutoff)\n",
    "print(cost)"
   ]
  },
  {
   "cell_type": "code",
   "execution_count": 63,
   "id": "ce2b3f12-1ceb-4d73-b6fe-3846019f1c97",
   "metadata": {},
   "outputs": [
    {
     "name": "stdin",
     "output_type": "stream",
     "text": [
      "enter the distance in km:  20\n",
      "enter the cut off distance :  20\n"
     ]
    },
    {
     "name": "stdout",
     "output_type": "stream",
     "text": [
      "120\n"
     ]
    }
   ],
   "source": [
    "def price12(dist1,cutoff1):\n",
    "    if dist1>cutoff1:\n",
    "        charg=eval(input(\"enter charge per km : \"))\n",
    "        cdist=dist1-cutoff1\n",
    "        print(\"the chargable distance is : \",cdist)\n",
    "        cost12=charg*cdist\n",
    "    else:\n",
    "        cost12=100\n",
    "    return cost12\n",
    "dist1=eval(input(\"enter the distance in km: \"))\n",
    "cutoff1=eval(input(\"enter the cut off distance : \"))\n",
    "c1=price12(dist1,cutoff1)\n",
    "print(cost)"
   ]
  },
  {
   "cell_type": "code",
   "execution_count": 70,
   "id": "ebe34ae1-4607-43b3-b1b1-7868e9174b51",
   "metadata": {},
   "outputs": [
    {
     "name": "stdin",
     "output_type": "stream",
     "text": [
      "enter number 1 :  10\n",
      "enter number 2:  20\n",
      "enter 1 for addition 2 for subtraction 3 for multplication 4 for division :  1\n"
     ]
    },
    {
     "name": "stdout",
     "output_type": "stream",
     "text": [
      "30\n"
     ]
    }
   ],
   "source": [
    "# create 4 individual functions\n",
    "#fun1 add\n",
    "#fun2 sub\n",
    "#fun3 mul\n",
    "#fun4 div\n",
    "#create main function name calculator\n",
    "#print some statements\n",
    "#op1 add op2 sub op3 mul op4 div\n",
    "def add(a,b):\n",
    "    print(a+b)\n",
    "def sub(a,b):\n",
    "    print(a-b)\n",
    "def mul(a,b):\n",
    "    print(a*b)\n",
    "def div(a,b):\n",
    "    print(a/b)\n",
    "def calc():\n",
    "    a=eval(input(\"enter number 1 : \"))\n",
    "    b=eval(input(\"enter number 2: \"))\n",
    "    op=eval(input(\"enter 1 for addition 2 for subtraction 3 for multplication 4 for division : \"))\n",
    "    if op==1:\n",
    "        add(a,b)\n",
    "    elif op==2:\n",
    "        sub(a,b)\n",
    "    elif op==3:\n",
    "        mul(a,b)\n",
    "    elif op==4:\n",
    "        div(a,b)\n",
    "    else:\n",
    "        print(\"invalid output\")\n",
    "calc()"
   ]
  },
  {
   "cell_type": "code",
   "execution_count": null,
   "id": "e7225199-d6bb-4574-aa39-631aa7bbb9b0",
   "metadata": {},
   "outputs": [],
   "source": []
  }
 ],
 "metadata": {
  "kernelspec": {
   "display_name": "Python 3 (ipykernel)",
   "language": "python",
   "name": "python3"
  },
  "language_info": {
   "codemirror_mode": {
    "name": "ipython",
    "version": 3
   },
   "file_extension": ".py",
   "mimetype": "text/x-python",
   "name": "python",
   "nbconvert_exporter": "python",
   "pygments_lexer": "ipython3",
   "version": "3.11.7"
  }
 },
 "nbformat": 4,
 "nbformat_minor": 5
}
