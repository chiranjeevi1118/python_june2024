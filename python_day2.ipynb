{
 "cells": [
  {
   "cell_type": "markdown",
   "id": "d5652765-9e53-4b05-8606-53fd5a3fb5b7",
   "metadata": {},
   "source": [
    "# 19-06-2024"
   ]
  },
  {
   "cell_type": "code",
   "execution_count": null,
   "id": "8e9e92a1-2c3b-4ad5-9ebc-6af41f1ce050",
   "metadata": {},
   "outputs": [],
   "source": []
  },
  {
   "cell_type": "markdown",
   "id": "64245ce7-3685-4fc9-8158-06088ccf37a4",
   "metadata": {},
   "source": [
    "## variables\n",
    "- variables are used to store the value and the values can be changed\n",
    "- only underscore as variable name also works"
   ]
  },
  {
   "cell_type": "code",
   "execution_count": 2,
   "id": "9af773a9-25ef-4d11-9251-1c91626e8679",
   "metadata": {},
   "outputs": [
    {
     "data": {
      "text/plain": [
       "100"
      ]
     },
     "execution_count": 2,
     "metadata": {},
     "output_type": "execute_result"
    }
   ],
   "source": [
    "num=100 # value 100 stored in a variable name called \"num\"\n",
    "num"
   ]
  },
  {
   "cell_type": "code",
   "execution_count": 3,
   "id": "fa51ee7a-b039-4d98-a8f8-5c44d2ee516a",
   "metadata": {},
   "outputs": [
    {
     "data": {
      "text/plain": [
       "200"
      ]
     },
     "execution_count": 3,
     "metadata": {},
     "output_type": "execute_result"
    }
   ],
   "source": [
    "num=200 # value 200 updated in a variable name called \"num\"\n",
    "num"
   ]
  },
  {
   "cell_type": "markdown",
   "id": "eedbd0e8-43ec-439e-9ddf-0632f33c6db3",
   "metadata": {},
   "source": [
    "**note**\n",
    "- python is step step by process\n",
    "- python will take last output as the latest value\n",
    "- in above code we are using same variable:num\n",
    "- but num value changed two times\n",
    "- first time 100\n",
    "- second time 200\n",
    "- latest value 200\n"
   ]
  },
  {
   "cell_type": "code",
   "execution_count": 4,
   "id": "1833499a-68da-4c6c-ad58-07425802731e",
   "metadata": {},
   "outputs": [
    {
     "data": {
      "text/plain": [
       "300"
      ]
     },
     "execution_count": 4,
     "metadata": {},
     "output_type": "execute_result"
    }
   ],
   "source": [
    "NUM=300\n",
    "NUM"
   ]
  },
  {
   "cell_type": "code",
   "execution_count": 5,
   "id": "918f639f-101d-4e54-88b0-83fe763b83d4",
   "metadata": {},
   "outputs": [
    {
     "data": {
      "text/plain": [
       "(200, 300)"
      ]
     },
     "execution_count": 5,
     "metadata": {},
     "output_type": "execute_result"
    }
   ],
   "source": [
    "num,NUM"
   ]
  },
  {
   "cell_type": "code",
   "execution_count": 7,
   "id": "bfebff2a-84b4-4e7d-9812-ca083c42c74e",
   "metadata": {},
   "outputs": [
    {
     "data": {
      "text/plain": [
       "400"
      ]
     },
     "execution_count": 7,
     "metadata": {},
     "output_type": "execute_result"
    }
   ],
   "source": [
    "NUm=400\n",
    "NUm"
   ]
  },
  {
   "cell_type": "code",
   "execution_count": 12,
   "id": "5c316a2b-213c-4d08-b979-9c8d042e155b",
   "metadata": {},
   "outputs": [
    {
     "data": {
      "text/plain": [
       "234"
      ]
     },
     "execution_count": 12,
     "metadata": {},
     "output_type": "execute_result"
    }
   ],
   "source": [
    "num123=500\n",
    "num123\n",
    "num_1=455\n",
    "num_1\n",
    "_=234\n",
    "_"
   ]
  },
  {
   "cell_type": "markdown",
   "id": "498c4b32-58c5-42fe-9905-93bbc877d8cd",
   "metadata": {},
   "source": [
    "# like this do not keep variable name\n",
    "- 123num=600\n",
    "- num%er=700\n",
    "- number one=877\n",
    "- \n",
    "\n"
   ]
  },
  {
   "cell_type": "code",
   "execution_count": 15,
   "id": "b7dac352-a7a3-4151-96ed-81c6d5f3ad11",
   "metadata": {},
   "outputs": [
    {
     "data": {
      "text/plain": [
       "(100, 200)"
      ]
     },
     "execution_count": 15,
     "metadata": {},
     "output_type": "execute_result"
    }
   ],
   "source": [
    "n1=100,200\n",
    "n1"
   ]
  },
  {
   "cell_type": "code",
   "execution_count": 16,
   "id": "409b7929-9cdb-4aa1-adf9-325054eea05b",
   "metadata": {},
   "outputs": [
    {
     "ename": "TypeError",
     "evalue": "cannot unpack non-iterable int object",
     "output_type": "error",
     "traceback": [
      "\u001b[1;31m---------------------------------------------------------------------------\u001b[0m",
      "\u001b[1;31mTypeError\u001b[0m                                 Traceback (most recent call last)",
      "Cell \u001b[1;32mIn[16], line 1\u001b[0m\n\u001b[1;32m----> 1\u001b[0m n2,n3\u001b[38;5;241m=\u001b[39m\u001b[38;5;241m200\u001b[39m\n",
      "\u001b[1;31mTypeError\u001b[0m: cannot unpack non-iterable int object"
     ]
    }
   ],
   "source": [
    "n2,n3=200"
   ]
  },
  {
   "cell_type": "code",
   "execution_count": 18,
   "id": "eae54b8a-967f-42cf-8ffb-b3cefc609624",
   "metadata": {},
   "outputs": [
    {
     "data": {
      "text/plain": [
       "(100, 234)"
      ]
     },
     "execution_count": 18,
     "metadata": {},
     "output_type": "execute_result"
    }
   ],
   "source": [
    "n4,n5=100,234\n",
    "n4,n5"
   ]
  },
  {
   "cell_type": "code",
   "execution_count": 19,
   "id": "cec5c461-ebfe-41aa-b722-45c33b8d3628",
   "metadata": {},
   "outputs": [
    {
     "ename": "SyntaxError",
     "evalue": "invalid syntax (217241598.py, line 4)",
     "output_type": "error",
     "traceback": [
      "\u001b[1;36m  Cell \u001b[1;32mIn[19], line 4\u001b[1;36m\u001b[0m\n\u001b[1;33m    num one=234#f\u001b[0m\n\u001b[1;37m        ^\u001b[0m\n\u001b[1;31mSyntaxError\u001b[0m\u001b[1;31m:\u001b[0m invalid syntax\n"
     ]
    }
   ],
   "source": [
    "num=100 #w\n",
    "num=233 #w\n",
    "num123=366 #w\n",
    "num one=234#f\n",
    "num_one=123#w\n",
    "_=2344#f\n",
    "n1=100,200#w\n",
    "n2,n3=100#f\n",
    "n1,n2=100,234#w\n",
    "\n"
   ]
  },
  {
   "cell_type": "markdown",
   "id": "113b29b3-3828-44d9-b2b2-a267179d0110",
   "metadata": {},
   "source": [
    "- python variables are case sensitive\n",
    "- variables can be declare as small letters and small letters\n",
    "- variables can not start with numbers (prefix mundhalaaa)\n",
    "- numbers can be suffix of the variables\n",
    "- numbers can not have special characters expect **underscore _ **\n",
    "- variables does not have space between them\n",
    "- key words name should not take as variable name\n",
    "- only underscore is possible in special characters\n",
    "- two values can be assign to a single variable and one value cannot assign to two variables"
   ]
  },
  {
   "cell_type": "code",
   "execution_count": null,
   "id": "36779fd9-34de-4069-a361-59339839e174",
   "metadata": {},
   "outputs": [],
   "source": [
    "# keywords\n",
    "if else\n",
    "for \n",
    "while\n"
   ]
  },
  {
   "cell_type": "code",
   "execution_count": null,
   "id": "fe4cab12-df39-4549-8f82-fc777c3d75e4",
   "metadata": {},
   "outputs": [],
   "source": []
  }
 ],
 "metadata": {
  "kernelspec": {
   "display_name": "Python 3 (ipykernel)",
   "language": "python",
   "name": "python3"
  },
  "language_info": {
   "codemirror_mode": {
    "name": "ipython",
    "version": 3
   },
   "file_extension": ".py",
   "mimetype": "text/x-python",
   "name": "python",
   "nbconvert_exporter": "python",
   "pygments_lexer": "ipython3",
   "version": "3.11.7"
  }
 },
 "nbformat": 4,
 "nbformat_minor": 5
}
