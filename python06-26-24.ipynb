{
 "cells": [
  {
   "cell_type": "markdown",
   "id": "d985c1f0-a8b1-4604-a6db-28861037e6b0",
   "metadata": {},
   "source": [
    "# conditional statements"
   ]
  },
  {
   "cell_type": "markdown",
   "id": "b2281ca1-c2df-41bc-8979-64dfb1c9f34c",
   "metadata": {},
   "source": [
    "- conditional statements means we want to run the code lines based on condition\n",
    "- if rain comes i will not go to school otherwise i will go to movie\n",
    "- rain is there will effect one process\n",
    "- rain is not there will effect another process\n",
    "- if\n",
    "- elif\n",
    "- else"
   ]
  },
  {
   "cell_type": "markdown",
   "id": "21901f87-d56e-4d46-8b24-0d605a3294fc",
   "metadata": {},
   "source": [
    "**if**"
   ]
  },
  {
   "cell_type": "markdown",
   "id": "2a690b19-5a72-4c38-9d80-5cb122768b17",
   "metadata": {},
   "source": [
    "**syntax**\n",
    "- if condition:\n",
    "-    codeline1\n",
    "-    codelin2"
   ]
  },
  {
   "cell_type": "markdown",
   "id": "1b1fd09a-30bd-45b0-80cf-6683815fb3c1",
   "metadata": {},
   "source": [
    "- whenever any line start with keyword (green) at the end of the line we have **colon(:)**\n",
    "- whenever we have a **colon (:)** the next lines starts with some **gap**\n",
    "- and this gap is calles as**indentation**\n",
    "- how many lines we are maintaining gap (inddentation) that all are under one area\n",
    "- if is a condition statement,it will check the conditions is true or false\n",
    "- if that condition will true then only it will enter inside the if area\n",
    "- and execute those code lines\n",
    "- if that condition will false,then it will not enter inside the if area\n",
    "- and it will not execute those code lines"
   ]
  },
  {
   "cell_type": "code",
   "execution_count": 3,
   "id": "722fbc11-1a24-4656-ae56-596d214ae34f",
   "metadata": {},
   "outputs": [
    {
     "name": "stdout",
     "output_type": "stream",
     "text": [
      "hello\n"
     ]
    }
   ],
   "source": [
    "if 100>10:\n",
    "    print(\"hello\")"
   ]
  },
  {
   "cell_type": "markdown",
   "id": "b5cebecc-7e48-44e0-80d4-fc1ce8c50f8a",
   "metadata": {},
   "source": [
    "**mistake __1**\n",
    "- indentation error\n",
    "- one tab or 4 spaces\n",
    "- indentation requires 4 spaces\n",
    "- **mistake__2**\n",
    "-  you miss colon it gives syntax error\n",
    "-  **mistake__3**\n",
    "-  forgetting condition\n",
    "-  **mistake__4**\n",
    "-  print \"hello\" #missing paranthesis\n",
    "-  **mistake__5**\n",
    "-  never assign a variable to a print statment #n=print(\"hlo\")\n",
    "-  **mistake__**\n",
    "-  all the types of syntax errors#spelling mistakes and if100>10"
   ]
  },
  {
   "cell_type": "code",
   "execution_count": 4,
   "id": "bc0f7cf0-755a-4d89-98cb-5ff347d49faa",
   "metadata": {},
   "outputs": [
    {
     "name": "stdout",
     "output_type": "stream",
     "text": [
      "hlo\n",
      "bye\n"
     ]
    }
   ],
   "source": [
    "if 100>10:\n",
    "    print(\"hlo\")\n",
    "print(\"bye\")"
   ]
  },
  {
   "cell_type": "code",
   "execution_count": 5,
   "id": "d1630943-e830-4ab7-b776-bb9d2b6faea8",
   "metadata": {},
   "outputs": [
    {
     "name": "stdout",
     "output_type": "stream",
     "text": [
      "10\n",
      "hi\n",
      "bye\n"
     ]
    }
   ],
   "source": [
    "print(10)\n",
    "if 100>10:\n",
    "    print(\"hi\")\n",
    "print(\"bye\")"
   ]
  },
  {
   "cell_type": "code",
   "execution_count": 1,
   "id": "02d749f8-e344-404e-9526-00d25da4276a",
   "metadata": {},
   "outputs": [
    {
     "ename": "IndentationError",
     "evalue": "unexpected indent (230978927.py, line 4)",
     "output_type": "error",
     "traceback": [
      "\u001b[1;36m  Cell \u001b[1;32mIn[1], line 4\u001b[1;36m\u001b[0m\n\u001b[1;33m    print(\"ok\")\u001b[0m\n\u001b[1;37m    ^\u001b[0m\n\u001b[1;31mIndentationError\u001b[0m\u001b[1;31m:\u001b[0m unexpected indent\n"
     ]
    }
   ],
   "source": [
    "if 100>10:\n",
    "    print(\"hai\")\n",
    "print(\"bye\")\n",
    "    print(\"ok\")"
   ]
  },
  {
   "cell_type": "code",
   "execution_count": 7,
   "id": "8a9943a5-7fb9-48ee-8155-efa9f057c376",
   "metadata": {},
   "outputs": [
    {
     "name": "stdout",
     "output_type": "stream",
     "text": [
      "hai\n",
      "bye\n"
     ]
    }
   ],
   "source": [
    "if \"hi\":\n",
    "    print(\"hai\")\n",
    "print(\"bye\")"
   ]
  },
  {
   "cell_type": "code",
   "execution_count": 8,
   "id": "0fb0f84e-af3a-4866-805e-5c73d8891a57",
   "metadata": {},
   "outputs": [
    {
     "name": "stdout",
     "output_type": "stream",
     "text": [
      "bye\n"
     ]
    }
   ],
   "source": [
    "if '':\n",
    "    print(\"hi\")\n",
    "print(\"bye\")"
   ]
  },
  {
   "cell_type": "code",
   "execution_count": 10,
   "id": "f4d2f16a-c544-4b05-82ee-4b346c8ac142",
   "metadata": {},
   "outputs": [
    {
     "name": "stdout",
     "output_type": "stream",
     "text": [
      "hai\n"
     ]
    }
   ],
   "source": [
    "if 100:\n",
    "    print(\"hai\")"
   ]
  },
  {
   "cell_type": "code",
   "execution_count": 11,
   "id": "2c5bfa7c-612b-4efd-bd36-26f8640740d1",
   "metadata": {},
   "outputs": [
    {
     "name": "stdout",
     "output_type": "stream",
     "text": [
      "bye\n"
     ]
    }
   ],
   "source": [
    "if 0:\n",
    "    print(\"hai\")\n",
    "print(\"bye\")"
   ]
  },
  {
   "cell_type": "code",
   "execution_count": 13,
   "id": "b265f38e-38e8-4e84-93ca-a5d2c0a17a7f",
   "metadata": {},
   "outputs": [
    {
     "name": "stdout",
     "output_type": "stream",
     "text": [
      "nye\n"
     ]
    }
   ],
   "source": [
    "if 0.0:\n",
    "    print(\"hai\")\n",
    "print(\"nye\")"
   ]
  },
  {
   "cell_type": "code",
   "execution_count": 14,
   "id": "5497a47c-2c0e-4314-b9b7-b0a8c5bb22a8",
   "metadata": {},
   "outputs": [
    {
     "name": "stdout",
     "output_type": "stream",
     "text": [
      "hai\n",
      "bye\n"
     ]
    }
   ],
   "source": [
    "if 100.5:\n",
    "    print(\"hai\")\n",
    "print(\"bye\")"
   ]
  },
  {
   "cell_type": "code",
   "execution_count": 16,
   "id": "a7fc9808-33af-43af-bb90-1ae738854f94",
   "metadata": {},
   "outputs": [
    {
     "name": "stdout",
     "output_type": "stream",
     "text": [
      "hai\n"
     ]
    }
   ],
   "source": [
    "if \"_\":\n",
    "    print(\"hai\")"
   ]
  },
  {
   "cell_type": "markdown",
   "id": "65b7dde4-c2a2-48d3-b7ab-4ac7042ccfa1",
   "metadata": {},
   "source": [
    "**if and else**"
   ]
  },
  {
   "cell_type": "markdown",
   "id": "fc7bdcba-7ba9-4785-8112-7730d9367235",
   "metadata": {},
   "source": [
    "- if required condition\n",
    "- if that condition is true ,then it will execute if block\n",
    "- otherwise it can directly go to else block,else block does not required any condition"
   ]
  },
  {
   "cell_type": "code",
   "execution_count": 17,
   "id": "baeadf56-e00f-4e25-bef9-48dd27794e23",
   "metadata": {},
   "outputs": [
    {
     "ename": "SyntaxError",
     "evalue": "invalid syntax (1691119029.py, line 2)",
     "output_type": "error",
     "traceback": [
      "\u001b[1;36m  Cell \u001b[1;32mIn[17], line 2\u001b[1;36m\u001b[0m\n\u001b[1;33m    if <condition>:\u001b[0m\n\u001b[1;37m       ^\u001b[0m\n\u001b[1;31mSyntaxError\u001b[0m\u001b[1;31m:\u001b[0m invalid syntax\n"
     ]
    }
   ],
   "source": [
    "# syntax \n",
    "if <condition>:\n",
    "    <codelin>\n",
    "else:\n",
    "    <codeline>"
   ]
  },
  {
   "cell_type": "code",
   "execution_count": 18,
   "id": "5c0cb744-924d-4a5e-8432-cc6da06817a9",
   "metadata": {},
   "outputs": [
    {
     "name": "stdout",
     "output_type": "stream",
     "text": [
      "bye\n"
     ]
    }
   ],
   "source": [
    "if 100<10:\n",
    "    print(\"hai\")\n",
    "else:\n",
    "    print(\"bye\")"
   ]
  },
  {
   "cell_type": "code",
   "execution_count": 1,
   "id": "13cb4914-df50-45b9-97e7-9b9975d70ac5",
   "metadata": {},
   "outputs": [
    {
     "ename": "SyntaxError",
     "evalue": "invalid syntax (3787781028.py, line 4)",
     "output_type": "error",
     "traceback": [
      "\u001b[1;36m  Cell \u001b[1;32mIn[1], line 4\u001b[1;36m\u001b[0m\n\u001b[1;33m    else:\u001b[0m\n\u001b[1;37m    ^\u001b[0m\n\u001b[1;31mSyntaxError\u001b[0m\u001b[1;31m:\u001b[0m invalid syntax\n"
     ]
    }
   ],
   "source": [
    "if 100>10:\n",
    "    print(\"hai\")\n",
    "print(\"wrong\")\n",
    "else:\n",
    "    print(\"bye\")"
   ]
  },
  {
   "cell_type": "markdown",
   "id": "da5cf3c2-619f-487f-b5db-27120bfdbf1f",
   "metadata": {},
   "source": [
    "- if and else always in one there is no one in middle"
   ]
  },
  {
   "cell_type": "code",
   "execution_count": 22,
   "id": "4f68f0f7-76ac-4306-8831-d770be3012ea",
   "metadata": {},
   "outputs": [
    {
     "name": "stdout",
     "output_type": "stream",
     "text": [
      "0.0\n"
     ]
    },
    {
     "ename": "ZeroDivisionError",
     "evalue": "division by zero",
     "output_type": "error",
     "traceback": [
      "\u001b[1;31m---------------------------------------------------------------------------\u001b[0m",
      "\u001b[1;31mZeroDivisionError\u001b[0m                         Traceback (most recent call last)",
      "Cell \u001b[1;32mIn[22], line 6\u001b[0m\n\u001b[0;32m      4\u001b[0m d\u001b[38;5;241m=\u001b[39mb\u001b[38;5;241m/\u001b[39ma\n\u001b[0;32m      5\u001b[0m \u001b[38;5;28mprint\u001b[39m(d)\n\u001b[1;32m----> 6\u001b[0m e\u001b[38;5;241m=\u001b[39ma\u001b[38;5;241m/\u001b[39mb\n\u001b[0;32m      7\u001b[0m \u001b[38;5;28mprint\u001b[39m(e)\n",
      "\u001b[1;31mZeroDivisionError\u001b[0m: division by zero"
     ]
    }
   ],
   "source": [
    "if True:\n",
    "    a=10\n",
    "    b=0\n",
    "    d=b/a\n",
    "    print(d)\n",
    "    e=a/b\n",
    "    print(e)"
   ]
  },
  {
   "cell_type": "code",
   "execution_count": 24,
   "id": "bda6f85f-8dfa-4f3c-a9d7-e4227725307c",
   "metadata": {},
   "outputs": [
    {
     "data": {
      "text/plain": [
       "1"
      ]
     },
     "execution_count": 24,
     "metadata": {},
     "output_type": "execute_result"
    }
   ],
   "source": [
    "5/4 # normal division\n",
    "5//4 #floor division\n",
    "5%4 #remainder"
   ]
  },
  {
   "cell_type": "code",
   "execution_count": 29,
   "id": "4a23c4f4-f47f-40c7-b065-ca00f1e5305f",
   "metadata": {},
   "outputs": [
    {
     "name": "stdin",
     "output_type": "stream",
     "text": [
      "enter a no:  4\n"
     ]
    },
    {
     "name": "stdout",
     "output_type": "stream",
     "text": [
      "even\n"
     ]
    }
   ],
   "source": [
    "#wap ask user enter a no find it is a even or odd\n",
    "n=eval(input(\"enter a no: \"))\n",
    "if n%2==0:\n",
    "    print(\"even\")\n",
    "else:\n",
    "    print(\"odd\")"
   ]
  },
  {
   "cell_type": "code",
   "execution_count": 4,
   "id": "a01cb2f6-ddd2-45a9-b214-8d22b398b50f",
   "metadata": {},
   "outputs": [
    {
     "name": "stdin",
     "output_type": "stream",
     "text": [
      "enter start no:  50\n",
      "enter end n0 :  600\n"
     ]
    },
    {
     "name": "stdout",
     "output_type": "stream",
     "text": [
      "the given no is even : 554\n"
     ]
    }
   ],
   "source": [
    "import random\n",
    "s=eval(input(\"enter start no: \"))\n",
    "e=eval(input(\"enter end n0 : \"))\n",
    "n=random.randint(s,e)\n",
    "if n%2==0:\n",
    "    print(\"the given no is even :\",n)\n",
    "else:\n",
    "    print(\"the given no is odd :\",n)"
   ]
  },
  {
   "cell_type": "markdown",
   "id": "78b5e676-8e96-40de-8caa-3ab3e55c72a5",
   "metadata": {},
   "source": [
    "- we are providing values means it is hard coded\n",
    "- code should be always generic with out hard codings"
   ]
  },
  {
   "cell_type": "code",
   "execution_count": 8,
   "id": "f16f50fc-e1d5-46b7-809f-b0314f2bbdcf",
   "metadata": {},
   "outputs": [
    {
     "name": "stdin",
     "output_type": "stream",
     "text": [
      "enter distance in km:  50\n",
      "enter charge for 1km:  5\n"
     ]
    },
    {
     "name": "stdout",
     "output_type": "stream",
     "text": [
      "the total cost is :  250\n"
     ]
    }
   ],
   "source": [
    "#wap ask the user enter the distance if distance greater than 25km then enter the charge print the cost otherwise free ride\n",
    "\n",
    "\n",
    "dis=eval(input(\"enter distance in km: \"))\n",
    "if dis>25:\n",
    "    cha=eval(input(\"enter charge for 1km: \"))\n",
    "    print(\"the total cost is : \",dis*cha)\n",
    "else:\n",
    "    print(\"it's a free ride\")"
   ]
  },
  {
   "cell_type": "code",
   "execution_count": 11,
   "id": "74ed9dec-af7c-4af6-bfb3-92cd98aadd65",
   "metadata": {},
   "outputs": [],
   "source": [
    "#wap ask the user enter the distance\n",
    "# cut off distace enter 25\n",
    "#if distance greater than 25"
   ]
  },
  {
   "cell_type": "code",
   "execution_count": 12,
   "id": "e728c24e-b80c-451d-85c9-881e4d38da88",
   "metadata": {},
   "outputs": [
    {
     "name": "stdin",
     "output_type": "stream",
     "text": [
      "enter distance:  50\n",
      "enter cut off distance:  20\n"
     ]
    },
    {
     "name": "stdout",
     "output_type": "stream",
     "text": [
      "good news your charge is applicable for only remaining of 25\n"
     ]
    },
    {
     "name": "stdin",
     "output_type": "stream",
     "text": [
      "enter charge per 1 km:  3\n"
     ]
    },
    {
     "name": "stdout",
     "output_type": "stream",
     "text": [
      "total amount is :  90\n"
     ]
    }
   ],
   "source": [
    "dist=eval(input(\"enter distance: \"))\n",
    "cut=eval(input(\"enter cut off distance: \"))\n",
    "if dis>cut:\n",
    "    dist1=dist-cut\n",
    "    print(\"good news your charge is applicable for only remaining of 25\")\n",
    "    ca=eval(input(\"enter charge per 1 km: \"))\n",
    "    print(\"total amount is : \",ca*dist1)\n",
    "else:\n",
    "    print(\"it's a free ride\")"
   ]
  },
  {
   "cell_type": "code",
   "execution_count": 16,
   "id": "ce0a3d3a-174f-4838-85eb-377eec34c427",
   "metadata": {},
   "outputs": [
    {
     "name": "stdin",
     "output_type": "stream",
     "text": [
      "enter course in lower case:  data science\n",
      "enter institute in lower case:  naresh it\n"
     ]
    },
    {
     "name": "stdout",
     "output_type": "stream",
     "text": [
      "good student\n"
     ]
    }
   ],
   "source": [
    "# wap ask the user enter the course\n",
    "# and ask the user enter the institute \n",
    "# if the course equal to data science and inst equal to naresh it\n",
    "# then you are good\n",
    "# otherwise you are bad\n",
    "co=input(\"enter course in lower case: \")\n",
    "inst=input(\"enter institute in lower case: \")\n",
    "if co==\"data science\" and inst==\"naresh it\":\n",
    "    print(\"good student\")\n",
    "else:\n",
    "    print(\"bad student\")"
   ]
  },
  {
   "cell_type": "code",
   "execution_count": 19,
   "id": "afed23f7-cb24-4d4b-a09a-a8758ec044a9",
   "metadata": {},
   "outputs": [
    {
     "name": "stdin",
     "output_type": "stream",
     "text": [
      "enter course in lower case:  python\n",
      "enter institute in lower case:  jntu\n"
     ]
    },
    {
     "name": "stdout",
     "output_type": "stream",
     "text": [
      "bad student\n"
     ]
    }
   ],
   "source": [
    "co=input(\"enter course in lower case: \")\n",
    "inst=input(\"enter institute in lower case: \")\n",
    "if co==\"data science\" or inst==\"naresh it\":\n",
    "    print(\"good student\")\n",
    "else:\n",
    "    print(\"bad student\")"
   ]
  },
  {
   "cell_type": "markdown",
   "id": "9466afa0-5a1a-478b-baed-5dae91595275",
   "metadata": {},
   "source": [
    "- and meaans two conditions need to satisfy or means any one condition need to satisfy"
   ]
  },
  {
   "cell_type": "code",
   "execution_count": 59,
   "id": "8f8097a7-ac80-40e9-8304-9ca3249700c6",
   "metadata": {},
   "outputs": [
    {
     "name": "stdin",
     "output_type": "stream",
     "text": [
      "enter a no :  7\n"
     ]
    },
    {
     "name": "stdout",
     "output_type": "stream",
     "text": [
      "lose\n"
     ]
    }
   ],
   "source": [
    "# wap ask the user enter random num between 1 to 10\n",
    "# wap ask the user enter another num from keyboard\n",
    "#if num1 equal to num 2 print won\n",
    "#otherwise print you lost\n",
    "n1=random.randint(1,10)\n",
    "n2=eval(input(\"enter a no : \"))\n",
    "if n1==n2:\n",
    "    print(\"won\")\n",
    "else:\n",
    "    print(\"lose\")"
   ]
  },
  {
   "cell_type": "markdown",
   "id": "d57538f7-3e15-4d47-bd08-913b3100db0d",
   "metadata": {},
   "source": [
    "- till now we have seen one condition problem\n",
    "- which means if that conditionn is true will get one answer\n",
    "- if that condition false then we will get another answer\n",
    "- if that condition false then then we get another answer\n",
    "- if - elif - else\n",
    "- two conditions means 3 results\n",
    "- if has one condition\n",
    "- elif has second condition\n",
    "- if both are false then the result in else"
   ]
  },
  {
   "cell_type": "code",
   "execution_count": 65,
   "id": "8b33dfcb-7086-40ee-833e-ea6ce4ac6022",
   "metadata": {},
   "outputs": [
    {
     "name": "stdin",
     "output_type": "stream",
     "text": [
      "enter a number:  2\n"
     ]
    },
    {
     "name": "stdout",
     "output_type": "stream",
     "text": [
      "two\n"
     ]
    }
   ],
   "source": [
    "# wap ask the user enter no if num equal to 1 then print one if num equal to 2 print two\n",
    "# if num equal to 3 print three otherwise print enter a valid num\n",
    "n=eval(input(\"enter a number: \"))\n",
    "if n==1:print(\"one\")\n",
    "elif n==2:print(\"two\")\n",
    "elif n==3:print(\"three\")\n",
    "else:print(\"enter a valid number\")"
   ]
  },
  {
   "cell_type": "code",
   "execution_count": 68,
   "id": "3c13157f-2d40-4e42-8505-2aa18433a602",
   "metadata": {},
   "outputs": [
    {
     "name": "stdin",
     "output_type": "stream",
     "text": [
      "enter a number:  0\n"
     ]
    },
    {
     "name": "stdout",
     "output_type": "stream",
     "text": [
      "zero\n"
     ]
    }
   ],
   "source": [
    "# wap ask the user enter a num if that num greater than print +ve if that num less than zer print -ve otherwise print zero\n",
    "n=eval(input(\"enter a number: \"))\n",
    "if n>0:print(\"positive number\")\n",
    "elif n<0:print(\"negative number\")\n",
    "else:print(\"zero\")\n"
   ]
  },
  {
   "cell_type": "code",
   "execution_count": 80,
   "id": "364b533a-1628-4c60-9f53-39c2aac8c143",
   "metadata": {},
   "outputs": [
    {
     "name": "stdin",
     "output_type": "stream",
     "text": [
      "enter percentage:  35\n"
     ]
    },
    {
     "name": "stdout",
     "output_type": "stream",
     "text": [
      "d grade\n"
     ]
    }
   ],
   "source": [
    "# wap ask the user enter percentage of marks if percentage greter than 90 print a grade\n",
    "# if percentage between 75 to 90 print b grade\n",
    "# if percentage between 50 to 75 print c \n",
    "# if 35 to 50 print d\n",
    "# if per less than 35 print fail\n",
    "per=eval(input(\"enter percentage: \"))\n",
    "if per>=90:\n",
    "    print(\"a grade\")\n",
    "elif per>=75:\n",
    "    print(\"b grade\")\n",
    "elif per>=50:\n",
    "    print(\"c grade\")\n",
    "elif per>=35:\n",
    "    print(\"d grade\")\n",
    "else:\n",
    "    print(\"fail\")"
   ]
  },
  {
   "cell_type": "code",
   "execution_count": 87,
   "id": "be7ce838-fa13-43e5-8bf3-93e97d307039",
   "metadata": {},
   "outputs": [
    {
     "name": "stdin",
     "output_type": "stream",
     "text": [
      "enter age:  35\n"
     ]
    },
    {
     "name": "stdout",
     "output_type": "stream",
     "text": [
      "middle age\n"
     ]
    }
   ],
   "source": [
    "# wap ask the user enter age if the age greter than 75 print old age\n",
    "# if age>50 to 75 senior citizen\n",
    "# if age b/w 30 to 50 middle\n",
    "# if age b/w 15 to 30 young age\n",
    "# if the age b/w less tham 15 kid\n",
    "a=eval(input(\"enter age: \"))\n",
    "if a>=100:\n",
    "    print(\"you are unlucky\")\n",
    "elif a>=75:\n",
    "    print(\"old age\")\n",
    "elif a>=50:\n",
    "    print(\"senior citizen\")\n",
    "elif a>=30:\n",
    "    print(\"middle age\")\n",
    "elif a>=15:\n",
    "    print(\"young\")\n",
    "else:\n",
    "    print(\"kid\")"
   ]
  },
  {
   "cell_type": "code",
   "execution_count": 8,
   "id": "58a9b47d-3f53-4e73-8a15-2064a3219502",
   "metadata": {},
   "outputs": [
    {
     "name": "stdin",
     "output_type": "stream",
     "text": [
      "enter number 1:  10\n",
      "enter number 2 :  2\n"
     ]
    },
    {
     "name": "stdout",
     "output_type": "stream",
     "text": [
      "enter operation 1 for addition\n",
      "enter operation 2 for multiplication\n",
      "enter operation 3 for subtraction\n",
      "enter operation 4 for division\n"
     ]
    },
    {
     "name": "stdin",
     "output_type": "stream",
     "text": [
      "enter operation no:  4\n"
     ]
    },
    {
     "name": "stdout",
     "output_type": "stream",
     "text": [
      "division is :  5.0\n"
     ]
    }
   ],
   "source": [
    "# wap ask the user enter 2 numbers\n",
    "#num1 num2\n",
    "# you need to print\n",
    "# enter op1 for ad\n",
    "#enter op2 for sub\n",
    "# enter op3 for sub\n",
    "#enter op4 for div\n",
    "#enter op b/w 1 to 4\n",
    "# otherwise print enter a valid number\n",
    "n1=eval(input(\"enter number 1: \"))\n",
    "n2=eval(input(\"enter number 2 : \"))\n",
    "print(\"enter operation 1 for addition\")\n",
    "print(\"enter operation 2 for multiplication\")\n",
    "print(\"enter operation 3 for subtraction\")\n",
    "print(\"enter operation 4 for division\")\n",
    "op=eval(input(\"enter operation no: \"))\n",
    "if op==1:\n",
    "    print(\"addition is : \",n1+n2)\n",
    "elif op==2:\n",
    "    print(\"multiplication is : \",n1*n2)\n",
    "elif op==3:\n",
    "    print(\"subtraction is : \",n1-n2)\n",
    "elif op==4:\n",
    "    print(\"division is : \",n1/n2)\n",
    "else:\n",
    "    print(\"enter a valid number\")"
   ]
  },
  {
   "cell_type": "code",
   "execution_count": 16,
   "id": "547842fd-4863-48b0-a0ed-67473810800d",
   "metadata": {},
   "outputs": [
    {
     "name": "stdin",
     "output_type": "stream",
     "text": [
      "enter gender in small characters:  male\n",
      "enter age:  20\n"
     ]
    },
    {
     "name": "stdout",
     "output_type": "stream",
     "text": [
      "young man\n"
     ]
    }
   ],
   "source": [
    "# wap ask the user enter gender if gender equal to male\n",
    "#   ask the user enter age \n",
    "#   if the age gretatee than 60 senior citizen if age b/w 30 to 60 print middle aged man if the age b/w 15 to 30 print young man otherwise print boy\n",
    "# elif gender equal to female\n",
    "gen=input(\"enter gender in small characters: \")\n",
    "if gen=='male':\n",
    "    age=eval(input(\"enter age: \"))\n",
    "    if age>=60:\n",
    "        print(\"senior citizen\")\n",
    "    elif age>=30:\n",
    "        print(\"middle aged man\")\n",
    "    elif age>=15:\n",
    "        print(\"young man\")\n",
    "    else:\n",
    "        print(\"boy\")\n",
    "elif gen=='female':\n",
    "    age=eval(input(\"enter age: \"))\n",
    "    if age>=60:\n",
    "        print(\"senior citizen\")\n",
    "    elif age>=30:\n",
    "        print(\"middle aged women\")\n",
    "    elif age>=15:\n",
    "        print(\"young women\")\n",
    "    else:\n",
    "        print(\"girl\")\n",
    "else:\n",
    "    print(\"input wrong\")\n"
   ]
  },
  {
   "cell_type": "markdown",
   "id": "043950d0-8186-460b-a3bb-1f66fecba89e",
   "metadata": {},
   "source": [
    " "
   ]
  },
  {
   "cell_type": "code",
   "execution_count": 22,
   "id": "30962e05-e7aa-4e62-b14e-5361460bbdca",
   "metadata": {},
   "outputs": [
    {
     "name": "stdin",
     "output_type": "stream",
     "text": [
      "enter number :  -55\n"
     ]
    },
    {
     "name": "stdout",
     "output_type": "stream",
     "text": [
      "negative number\n"
     ]
    }
   ],
   "source": [
    "#wap ask the useer enter a num\n",
    "# if that number greater than or equal to zero\n",
    "# if the number equal to zero then print zero\n",
    "# else then print +ve\n",
    "# else print negative\n",
    "n1=eval(input(\"enter number : \"))\n",
    "if n1>=0:\n",
    "    if n1==0:\n",
    "        print(\"zero\")\n",
    "    else:\n",
    "        print(\"positive number\")\n",
    "else:\n",
    "    print(\"negative number\")"
   ]
  },
  {
   "cell_type": "code",
   "execution_count": null,
   "id": "dfa167d8-4521-4307-8273-5adf9dfb58be",
   "metadata": {},
   "outputs": [],
   "source": [
    "# take three numbers \n",
    "#num1 num2 num3 \n",
    "# find the maximum value\n",
    "n1=eval(input(\"enter number 1: \"))\n",
    "n2="
   ]
  }
 ],
 "metadata": {
  "kernelspec": {
   "display_name": "Python 3 (ipykernel)",
   "language": "python",
   "name": "python3"
  },
  "language_info": {
   "codemirror_mode": {
    "name": "ipython",
    "version": 3
   },
   "file_extension": ".py",
   "mimetype": "text/x-python",
   "name": "python",
   "nbconvert_exporter": "python",
   "pygments_lexer": "ipython3",
   "version": "3.11.7"
  }
 },
 "nbformat": 4,
 "nbformat_minor": 5
}
